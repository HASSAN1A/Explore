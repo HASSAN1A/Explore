{
 "cells": [
  {
   "cell_type": "markdown",
   "metadata": {},
   "source": [
    "# Set Theory in SQL: Classlist Database\n",
    "© Explore Data Science Academy"
   ]
  },
  {
   "cell_type": "markdown",
   "metadata": {},
   "source": [
    "## Instructions to Students\n",
    "\n",
    "This challenge is designed to determine how much you have learned so far and will test your knowledge set theory through the use of SQL queries.\n",
    "\n",
    "The answers for this challenge should be selected on Athena for each corresponding Multiple Choice Question. The questions are included in this notebook and are numbered according to the Athena Questions, the options to choose from for each question has also been included.\n",
    "\n",
    "Do not add or remove cells in this notebook. Do not edit or remove the `%%sql` comment as it is required to run each cell.\n",
    "\n",
    "**_Good Luck!_**"
   ]
  },
  {
   "cell_type": "markdown",
   "metadata": {},
   "source": [
    "## Honour Code\n",
    "\n",
    "I HASSAN, JUMA, confirm - by submitting this document - that the solutions in this notebook are a result of my own work and that I abide by the EDSA honour code (https://drive.google.com/file/d/1QDCjGZJ8-FmJE3bZdIQNwnJyQKPhHZBn/view?usp=sharing).\n",
    "\n",
    "Non-compliance with the honour code constitutes a material breach of contract."
   ]
  },
  {
   "cell_type": "markdown",
   "metadata": {},
   "source": [
    "## The Classlist Database\n",
    "\n",
    "![Hi](https://upload.wikimedia.org/wikipedia/commons/3/39/Student_in_Class_%283618969705%29.jpg)\n",
    "\n",
    "The Classlist database contains the records of multiple students who have undertaken primary and supplementary examinations in multiple subjects. This data is split across two tables: \n",
    "\n",
    " - **Exammarks**; and \n",
    " - **Supplementarymarks**\n",
    "\n",
    "Unlike our previous challenge, we leave it up to you to investigate the contents of these tables and the various attributes they contain.  "
   ]
  },
  {
   "cell_type": "markdown",
   "metadata": {},
   "source": [
    "## Loading the database\n",
    "\n",
    "To begin and start making use of SQL queries you need to prepare your SQL environment. You can do this by loading in the magic command `%load_ext sql`, next you can go ahead and load in your database. To do this you will need to ensure you have downloaded the `classlist.db`sqlite file from Athena and have stored it in a known location. \n",
    "\n",
    "Now that you have all the prerequistes you can go ahead and load it into the notebook. "
   ]
  },
  {
   "cell_type": "code",
   "execution_count": 3,
   "metadata": {},
   "outputs": [
    {
     "name": "stdout",
     "output_type": "stream",
     "text": [
      "The sql extension is already loaded. To reload it, use:\n",
      "  %reload_ext sql\n"
     ]
    }
   ],
   "source": [
    "%load_ext sql"
   ]
  },
  {
   "cell_type": "code",
   "execution_count": 4,
   "metadata": {},
   "outputs": [],
   "source": [
    "%%sql \n",
    "\n",
    "sqlite:///classlist.db"
   ]
  },
  {
   "cell_type": "markdown",
   "metadata": {},
   "source": [
    "## Questions on Set Theory \n",
    "\n",
    "Use the given cell below each question to execute your SQL queries to find the correct input from the options provided for the multiple choice questions on Athena."
   ]
  },
  {
   "cell_type": "markdown",
   "metadata": {},
   "source": [
    "**Question 2**\n",
    "\n",
    "How many students did not write any of their final exams?\n",
    "\n",
    "**Options:** \n",
    " - 5\n",
    " - 95\n",
    " - 70\n",
    " - 25"
   ]
  },
  {
   "cell_type": "markdown",
   "metadata": {},
   "source": [
    "**Solution**"
   ]
  },
  {
   "cell_type": "code",
   "execution_count": 42,
   "metadata": {},
   "outputs": [
    {
     "name": "stdout",
     "output_type": "stream",
     "text": [
      " * sqlite:///classlist.db\n",
      "Done.\n"
     ]
    },
    {
     "data": {
      "text/html": [
       "<table>\n",
       "    <tr>\n",
       "        <th>COUNT(*)</th>\n",
       "    </tr>\n",
       "    <tr>\n",
       "        <td>1</td>\n",
       "    </tr>\n",
       "</table>"
      ],
      "text/plain": [
       "[(1,)]"
      ]
     },
     "execution_count": 42,
     "metadata": {},
     "output_type": "execute_result"
    }
   ],
   "source": [
    "%%sql\n",
    "SELECT COUNT(*)\n",
    "FROM\n",
    "(SELECT *\n",
    "FROM Exammarks\n",
    "WHERE Maths IS NULL\n",
    "AND Science IS NULL\n",
    "AND Accounting IS NULL\n",
    "AND CompSci IS NULL\n",
    "AND Biology IS NULL\n",
    "UNION\n",
    "SELECT *\n",
    "FROM Supplementarymarks\n",
    "WHERE Maths IS NULL\n",
    "AND Science IS NULL\n",
    "AND Accounting IS NULL\n",
    "AND CompSci IS NULL\n",
    "AND Biology IS NULL ) T;"
   ]
  },
  {
   "cell_type": "markdown",
   "metadata": {},
   "source": [
    "**Question 4**\n",
    "\n",
    "What are the names of the students in the grade who scored the highest marks for Science? _(hint: you need to consider the exam AND supplementary exam marks)_\n",
    "\n",
    "**Options:**\n",
    " - Jack and Jane\n",
    " - Joe and Duane\n",
    " - Leroy and Harold\n",
    " - Craig and Danielle"
   ]
  },
  {
   "cell_type": "markdown",
   "metadata": {},
   "source": [
    "**Solution**"
   ]
  },
  {
   "cell_type": "code",
   "execution_count": 56,
   "metadata": {},
   "outputs": [
    {
     "name": "stdout",
     "output_type": "stream",
     "text": [
      " * sqlite:///classlist.db\n",
      "Done.\n"
     ]
    },
    {
     "data": {
      "text/html": [
       "<table>\n",
       "    <tr>\n",
       "        <th>StudentNo</th>\n",
       "        <th>Surname</th>\n",
       "        <th>Name</th>\n",
       "        <th>Gender</th>\n",
       "        <th>DateOfBirth</th>\n",
       "        <th>Maths</th>\n",
       "        <th>Science</th>\n",
       "        <th>Biology</th>\n",
       "        <th>Accounting</th>\n",
       "        <th>CompSci</th>\n",
       "    </tr>\n",
       "    <tr>\n",
       "        <td>SNEDAN006</td>\n",
       "        <td>SNELL</td>\n",
       "        <td>DANIELLE</td>\n",
       "        <td>FEMALE</td>\n",
       "        <td>3051998.0</td>\n",
       "        <td>62</td>\n",
       "        <td>100</td>\n",
       "        <td>45</td>\n",
       "        <td>64</td>\n",
       "        <td>94</td>\n",
       "    </tr>\n",
       "    <tr>\n",
       "        <td>STECRA005</td>\n",
       "        <td>STEVENSON</td>\n",
       "        <td>CRAIG</td>\n",
       "        <td>MALE</td>\n",
       "        <td>23071998.0</td>\n",
       "        <td>None</td>\n",
       "        <td>100</td>\n",
       "        <td>61</td>\n",
       "        <td>None</td>\n",
       "        <td>None</td>\n",
       "    </tr>\n",
       "    <tr>\n",
       "        <td>DOSBIL007</td>\n",
       "        <td>DOSS</td>\n",
       "        <td>BILLIE</td>\n",
       "        <td>FEMALE</td>\n",
       "        <td>25111998.0</td>\n",
       "        <td>67</td>\n",
       "        <td>99</td>\n",
       "        <td>87</td>\n",
       "        <td>45</td>\n",
       "        <td>72</td>\n",
       "    </tr>\n",
       "    <tr>\n",
       "        <td>MATDUA005</td>\n",
       "        <td>MATHEWS</td>\n",
       "        <td>DUANE</td>\n",
       "        <td>MALE</td>\n",
       "        <td>14081998.0</td>\n",
       "        <td>None</td>\n",
       "        <td>99</td>\n",
       "        <td>None</td>\n",
       "        <td>None</td>\n",
       "        <td>None</td>\n",
       "    </tr>\n",
       "    <tr>\n",
       "        <td>WEBJOE004</td>\n",
       "        <td>WEBSTER</td>\n",
       "        <td>JOE</td>\n",
       "        <td>MALE</td>\n",
       "        <td>28061998.0</td>\n",
       "        <td>96</td>\n",
       "        <td>97</td>\n",
       "        <td>59</td>\n",
       "        <td>39</td>\n",
       "        <td>42</td>\n",
       "    </tr>\n",
       "</table>"
      ],
      "text/plain": [
       "[('SNEDAN006', 'SNELL', 'DANIELLE', 'FEMALE', 3051998.0, 62, 100, 45, 64, 94),\n",
       " ('STECRA005', 'STEVENSON', 'CRAIG', 'MALE', 23071998.0, None, 100, 61, None, None),\n",
       " ('DOSBIL007', 'DOSS', 'BILLIE', 'FEMALE', 25111998.0, 67, 99, 87, 45, 72),\n",
       " ('MATDUA005', 'MATHEWS', 'DUANE', 'MALE', 14081998.0, None, 99, None, None, None),\n",
       " ('WEBJOE004', 'WEBSTER', 'JOE', 'MALE', 28061998.0, 96, 97, 59, 39, 42)]"
      ]
     },
     "execution_count": 56,
     "metadata": {},
     "output_type": "execute_result"
    }
   ],
   "source": [
    "%%sql \n",
    "SELECT *\n",
    "FROM Exammarks\n",
    "UNION ALL\n",
    "SELECT *\n",
    "FROM Supplementarymarks\n",
    "order by Science DESC\n",
    "LIMIT 5;"
   ]
  },
  {
   "cell_type": "markdown",
   "metadata": {},
   "source": [
    "**Question 5**\n",
    "\n",
    "How many students had to re-write their Maths and science exam? *(hint: a passing mark is considered to be 50 or greater)*\n",
    "\n",
    "**Options:**\n",
    " - 12\n",
    " - 4\n",
    " - 20\n",
    " - 9"
   ]
  },
  {
   "cell_type": "markdown",
   "metadata": {},
   "source": [
    "**Solution**"
   ]
  },
  {
   "cell_type": "code",
   "execution_count": 37,
   "metadata": {},
   "outputs": [
    {
     "name": "stdout",
     "output_type": "stream",
     "text": [
      " * sqlite:///classlist.db\n",
      "Done.\n"
     ]
    },
    {
     "data": {
      "text/html": [
       "<table>\n",
       "    <tr>\n",
       "        <th>COUNT(*)</th>\n",
       "    </tr>\n",
       "    <tr>\n",
       "        <td>5</td>\n",
       "    </tr>\n",
       "</table>"
      ],
      "text/plain": [
       "[(5,)]"
      ]
     },
     "execution_count": 37,
     "metadata": {},
     "output_type": "execute_result"
    }
   ],
   "source": [
    "%%sql\n",
    "SELECT COUNT(*)\n",
    "FROM\n",
    "(SELECT StudentNo, Maths, Science\n",
    "FROM Exammarks WHERE Maths IS NOT NULL AND Science IS NOT  NULL AND Maths <= 50 AND Science <= 50\n",
    "UNION\n",
    "SELECT StudentNo, Maths, Science\n",
    "FROM Supplementarymarks WHERE Maths IS NOT NULL AND Science IS NOT  NULL AND Maths <= 50 AND Science <= 50) tab;"
   ]
  },
  {
   "cell_type": "markdown",
   "metadata": {},
   "source": [
    "**Question 6**\n",
    "\n",
    "What was the average mark, rounded down, for students who wrote the supplementary accounting exam after missing the first?\n",
    "\n",
    "**Options:**\n",
    " - 73\n",
    " - 79\n",
    " - 76\n",
    " - 82"
   ]
  },
  {
   "cell_type": "markdown",
   "metadata": {},
   "source": [
    "**Solution**"
   ]
  },
  {
   "cell_type": "code",
   "execution_count": 23,
   "metadata": {},
   "outputs": [
    {
     "name": "stdout",
     "output_type": "stream",
     "text": [
      " * sqlite:///classlist.db\n",
      "Done.\n"
     ]
    },
    {
     "data": {
      "text/html": [
       "<table>\n",
       "    <tr>\n",
       "        <th>FLOOR(AVG(Maths+Science+Biology+Accounting+CompSci)/5)</th>\n",
       "    </tr>\n",
       "    <tr>\n",
       "        <td>76.0</td>\n",
       "    </tr>\n",
       "</table>"
      ],
      "text/plain": [
       "[(76.0,)]"
      ]
     },
     "execution_count": 23,
     "metadata": {},
     "output_type": "execute_result"
    }
   ],
   "source": [
    "%%sql \n",
    "SELECT FLOOR(AVG(Maths+Science+Biology+Accounting+CompSci)/5)\n",
    "FROM Supplementarymarks\n",
    "\n",
    "\n",
    "EXCEPT\n",
    "\n",
    "SELECT AVG(Maths+Science+Biology+Accounting+CompSci)/5\n",
    "FROM Exammarks\n"
   ]
  },
  {
   "cell_type": "markdown",
   "metadata": {},
   "source": [
    "**Question 7**\n",
    "\n",
    "What was the average mark, rounded down, for students who wrote the supplementary accounting exam after failing the first?\n",
    "\n",
    "**Options:**\n",
    " - 79\n",
    " - 82\n",
    " - 76\n",
    " - 73"
   ]
  },
  {
   "cell_type": "markdown",
   "metadata": {},
   "source": [
    "**Solution**"
   ]
  },
  {
   "cell_type": "code",
   "execution_count": 24,
   "metadata": {},
   "outputs": [
    {
     "name": "stdout",
     "output_type": "stream",
     "text": [
      " * sqlite:///classlist.db\n",
      "Done.\n"
     ]
    },
    {
     "data": {
      "text/html": [
       "<table>\n",
       "    <tr>\n",
       "        <th>FLOOR(AVG(Accounting))</th>\n",
       "    </tr>\n",
       "    <tr>\n",
       "        <td>73.0</td>\n",
       "    </tr>\n",
       "</table>"
      ],
      "text/plain": [
       "[(73.0,)]"
      ]
     },
     "execution_count": 24,
     "metadata": {},
     "output_type": "execute_result"
    }
   ],
   "source": [
    "%%sql\n",
    "SELECT FLOOR(AVG(Accounting))\n",
    "FROM Supplementarymarks\n",
    "\n",
    "\n",
    "EXCEPT\n",
    "\n",
    "SELECT FLOOR(AVG(Accounting))\n",
    "FROM Exammarks"
   ]
  },
  {
   "cell_type": "markdown",
   "metadata": {},
   "source": [
    "**Question 9**\n",
    "\n",
    "What is the Full name of the student in the grade who scored the highest mark for Biology? *(hint: consider both supplementary and exam marks)*\n",
    " \n",
    " **Options:**\n",
    " - Tracy Grady\n",
    " - Bertha Hoff\n",
    " - Daryl Finn\n",
    " - Lillie Deaton"
   ]
  },
  {
   "cell_type": "markdown",
   "metadata": {},
   "source": [
    "**Solution**"
   ]
  },
  {
   "cell_type": "code",
   "execution_count": 14,
   "metadata": {},
   "outputs": [
    {
     "name": "stdout",
     "output_type": "stream",
     "text": [
      " * sqlite:///classlist.db\n",
      "Done.\n"
     ]
    },
    {
     "data": {
      "text/html": [
       "<table>\n",
       "    <tr>\n",
       "        <th>StudentNo</th>\n",
       "        <th>Surname</th>\n",
       "        <th>Name</th>\n",
       "        <th>Gender</th>\n",
       "        <th>DateOfBirth</th>\n",
       "        <th>Maths</th>\n",
       "        <th>Science</th>\n",
       "        <th>Biology</th>\n",
       "        <th>Accounting</th>\n",
       "        <th>CompSci</th>\n",
       "    </tr>\n",
       "    <tr>\n",
       "        <td>GRATRA008</td>\n",
       "        <td>GRADY</td>\n",
       "        <td>TRACY</td>\n",
       "        <td>MALE</td>\n",
       "        <td>11071998.0</td>\n",
       "        <td>58</td>\n",
       "        <td>93</td>\n",
       "        <td>99</td>\n",
       "        <td>73</td>\n",
       "        <td>87</td>\n",
       "    </tr>\n",
       "    <tr>\n",
       "        <td>DEALIL005</td>\n",
       "        <td>DEATON</td>\n",
       "        <td>LILLIE</td>\n",
       "        <td>FEMALE</td>\n",
       "        <td>3091998.0</td>\n",
       "        <td>36</td>\n",
       "        <td>35</td>\n",
       "        <td>98</td>\n",
       "        <td>66</td>\n",
       "        <td>44</td>\n",
       "    </tr>\n",
       "    <tr>\n",
       "        <td>FINDAR006</td>\n",
       "        <td>FINN</td>\n",
       "        <td>DARYL</td>\n",
       "        <td>MALE</td>\n",
       "        <td>19011998.0</td>\n",
       "        <td>57</td>\n",
       "        <td>96</td>\n",
       "        <td>98</td>\n",
       "        <td>52</td>\n",
       "        <td>53</td>\n",
       "    </tr>\n",
       "    <tr>\n",
       "        <td>HOFBER004</td>\n",
       "        <td>HOFF</td>\n",
       "        <td>BERTHA</td>\n",
       "        <td>FEMALE</td>\n",
       "        <td>19021998.0</td>\n",
       "        <td>63</td>\n",
       "        <td>36</td>\n",
       "        <td>98</td>\n",
       "        <td>43</td>\n",
       "        <td>91</td>\n",
       "    </tr>\n",
       "    <tr>\n",
       "        <td>STEELM002</td>\n",
       "        <td>STEPHENSON</td>\n",
       "        <td>ELMER</td>\n",
       "        <td>MALE</td>\n",
       "        <td>19051998.0</td>\n",
       "        <td>63</td>\n",
       "        <td>37</td>\n",
       "        <td>98</td>\n",
       "        <td>53</td>\n",
       "        <td>64</td>\n",
       "    </tr>\n",
       "</table>"
      ],
      "text/plain": [
       "[('GRATRA008', 'GRADY', 'TRACY', 'MALE', 11071998.0, 58, 93, 99, 73, 87),\n",
       " ('DEALIL005', 'DEATON', 'LILLIE', 'FEMALE', 3091998.0, 36, 35, 98, 66, 44),\n",
       " ('FINDAR006', 'FINN', 'DARYL', 'MALE', 19011998.0, 57, 96, 98, 52, 53),\n",
       " ('HOFBER004', 'HOFF', 'BERTHA', 'FEMALE', 19021998.0, 63, 36, 98, 43, 91),\n",
       " ('STEELM002', 'STEPHENSON', 'ELMER', 'MALE', 19051998.0, 63, 37, 98, 53, 64)]"
      ]
     },
     "execution_count": 14,
     "metadata": {},
     "output_type": "execute_result"
    }
   ],
   "source": [
    "%%sql \n",
    "SELECT *\n",
    "FROM Exammarks\n",
    "UNION ALL\n",
    "SELECT *\n",
    "FROM Supplementarymarks\n",
    "order by Biology DESC\n",
    "LIMIT 5;"
   ]
  },
  {
   "cell_type": "markdown",
   "metadata": {},
   "source": [
    "**Question 10**\n",
    "\n",
    "Assuming all subjects are weighted equally, what was the average total mark, rounded down, for students who didn’t write any supplementary exams?\n",
    " \n",
    "**Options:**\n",
    " - 74\n",
    " - 66\n",
    " - 73\n",
    " - 76"
   ]
  },
  {
   "cell_type": "markdown",
   "metadata": {},
   "source": [
    "**Solution**"
   ]
  },
  {
   "cell_type": "code",
   "execution_count": 56,
   "metadata": {},
   "outputs": [
    {
     "name": "stdout",
     "output_type": "stream",
     "text": [
      " * sqlite:///classlist.db\n",
      "Done.\n"
     ]
    },
    {
     "data": {
      "text/html": [
       "<table>\n",
       "    <tr>\n",
       "        <th>ROUND(AVG(Maths+Science+Biology+Accounting+CompSci)/5)</th>\n",
       "    </tr>\n",
       "    <tr>\n",
       "        <td>67.0</td>\n",
       "    </tr>\n",
       "</table>"
      ],
      "text/plain": [
       "[(67.0,)]"
      ]
     },
     "execution_count": 56,
     "metadata": {},
     "output_type": "execute_result"
    }
   ],
   "source": [
    "%%sql \n",
    "SELECT ROUND(AVG(Maths+Science+Biology+Accounting+CompSci)/5)\n",
    "FROM Exammarks\n",
    "\n",
    "\n",
    "EXCEPT\n",
    "\n",
    "SELECT (AVG(Maths+Science+Biology+Accounting+CompSci)/5)\n",
    "FROM Supplementarymarks\n",
    "\n",
    "\n"
   ]
  },
  {
   "cell_type": "code",
   "execution_count": null,
   "metadata": {},
   "outputs": [],
   "source": []
  }
 ],
 "metadata": {
  "kernelspec": {
   "display_name": "Python 3 (ipykernel)",
   "language": "python",
   "name": "python3"
  },
  "language_info": {
   "codemirror_mode": {
    "name": "ipython",
    "version": 3
   },
   "file_extension": ".py",
   "mimetype": "text/x-python",
   "name": "python",
   "nbconvert_exporter": "python",
   "pygments_lexer": "ipython3",
   "version": "3.8.10"
  }
 },
 "nbformat": 4,
 "nbformat_minor": 2
}
