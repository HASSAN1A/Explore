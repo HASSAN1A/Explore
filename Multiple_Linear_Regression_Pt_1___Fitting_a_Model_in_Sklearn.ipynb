{
  "nbformat": 4,
  "nbformat_minor": 0,
  "metadata": {
    "kernelspec": {
      "display_name": "Python 3",
      "language": "python",
      "name": "python3"
    },
    "language_info": {
      "codemirror_mode": {
        "name": "ipython",
        "version": 3
      },
      "file_extension": ".py",
      "mimetype": "text/x-python",
      "name": "python",
      "nbconvert_exporter": "python",
      "pygments_lexer": "ipython3",
      "version": "3.7.4"
    },
    "colab": {
      "name": "Multiple_Linear_Regression_Pt_1_-_Fitting_a_Model_in_Sklearn.ipynb",
      "provenance": [],
      "toc_visible": true,
      "include_colab_link": true
    }
  },
  "cells": [
    {
      "cell_type": "markdown",
      "metadata": {
        "id": "view-in-github",
        "colab_type": "text"
      },
      "source": [
        "<a href=\"https://colab.research.google.com/github/HASSAN1A/Explore/blob/main/Multiple_Linear_Regression_Pt_1___Fitting_a_Model_in_Sklearn.ipynb\" target=\"_parent\"><img src=\"https://colab.research.google.com/assets/colab-badge.svg\" alt=\"Open In Colab\"/></a>"
      ]
    },
    {
      "cell_type": "markdown",
      "metadata": {
        "id": "waYsnRtGEEk_"
      },
      "source": [
        "# Multiple Linear Regression Part 1: Fitting a Model with `sklearn`\n",
        "\n",
        "© Explore Data Science Academy"
      ]
    },
    {
      "cell_type": "markdown",
      "metadata": {
        "id": "Ht8zwVIXEElE"
      },
      "source": [
        "## Learning Objectives\n",
        "\n",
        "In this train you will learn how to:\n",
        "\n",
        "- Gain basic understanding of multiple linear regression vs. simple linear regression;\n",
        "- Use the classic `mtcars` dataset in a multiple linear regression model;\n",
        "- Fit a multiple linear regression model in `sklearn`."
      ]
    },
    {
      "cell_type": "markdown",
      "metadata": {
        "id": "1Pt24q1sEElF"
      },
      "source": [
        "## Outline\n",
        "\n",
        "We'll be moving through the following sections in order to achieve our objectives:\n",
        "\n",
        "- The `mtcars` dataset;\n",
        "- Modelling the fuel consumption of a car - `mpg`;\n",
        "- Fitting the Multivariate Regression Model;\n",
        "- Assessing Model Accuracy."
      ]
    },
    {
      "cell_type": "markdown",
      "metadata": {
        "id": "IQZHe9TXEElG"
      },
      "source": [
        "## Introduction"
      ]
    },
    {
      "cell_type": "markdown",
      "metadata": {
        "id": "1hxEWWDtEElG"
      },
      "source": [
        "In this train, we will learn how to fit a multiple linear regression model using `sklearn`. Recall that the simple linear regression equation is as follows:\n",
        "\n",
        "$$Y = \\beta_{0} + \\beta_{1}X_1$$\n",
        "\n",
        "where:\n",
        "- $\\beta_{0}$ is the intercept, interpreted as the value of $Y$ when $X_1 = 0$;\n",
        "- $\\beta_{1}$ is the coefficient, interpreted as the effect on $Y$ for a one unit increase in $X_1$; and\n",
        "- $X_1$ is the single predictor variable.\n",
        "\n",
        "Extending that idea to multiple linear regression is as simple as adding an $X_{j}$ and corresponding $\\beta_{j}$ for each of the $p$ predictor variables, where $j$ is an element of the set $[1,p]$.\n",
        "   \n",
        "Hence in multiple linear regression, our regression equation becomes:   \n",
        "\n",
        "$$Y = \\beta_0 + \\beta_1X_1 + \\beta_2X_2 + ... + \\beta_pX_p$$\n",
        "\n",
        "where:\n",
        "\n",
        "- $Y$ is the reponse variable which depends on the $p$ predictor variables;\n",
        "- $\\beta_0$ is the intercept, interpreted as the value of $Y$ when _all_ predictor variables are equal to zero;\n",
        "- $\\beta_j$ is the average effect on $Y$ of a one unit increase in $X_j$, assuming all other predictors are held fixed."
      ]
    },
    {
      "cell_type": "markdown",
      "metadata": {
        "id": "pw-H0RnAEElH"
      },
      "source": [
        "## The `mtcars` dataset\n",
        "\n",
        "As usual, we need to import a few Python libraries."
      ]
    },
    {
      "cell_type": "code",
      "metadata": {
        "id": "7sD6G5VGEElH"
      },
      "source": [
        "%matplotlib notebook\n",
        "import numpy as np\n",
        "import pandas as pd\n",
        "import matplotlib.pyplot as plt\n",
        "import seaborn as sns\n",
        "from mpl_toolkits.mplot3d import Axes3D"
      ],
      "execution_count": 1,
      "outputs": []
    },
    {
      "cell_type": "markdown",
      "metadata": {
        "id": "IR_UdTFhEElJ"
      },
      "source": [
        "Next we will load our data as a Pandas DataFrame. For this train we'll be using the famous `mtcars` dataset, an extract from the 1974 US Motor Trend magazine, which comprises fuel consumption and 10 aspects of automobile design and performance for 32 automobiles."
      ]
    },
    {
      "cell_type": "code",
      "metadata": {
        "id": "CnvJSrv5EElK",
        "outputId": "b3cfb44d-2f81-411d-9b2f-3dee6cbdaf9c",
        "colab": {
          "base_uri": "https://localhost:8080/",
          "height": 235
        }
      },
      "source": [
        "df = pd.read_csv('https://raw.githubusercontent.com/Explore-AI/Public-Data/master/Data/regression_sprint/mtcars.csv', index_col=0)\n",
        "df.head()"
      ],
      "execution_count": 2,
      "outputs": [
        {
          "output_type": "execute_result",
          "data": {
            "text/html": [
              "<div>\n",
              "<style scoped>\n",
              "    .dataframe tbody tr th:only-of-type {\n",
              "        vertical-align: middle;\n",
              "    }\n",
              "\n",
              "    .dataframe tbody tr th {\n",
              "        vertical-align: top;\n",
              "    }\n",
              "\n",
              "    .dataframe thead th {\n",
              "        text-align: right;\n",
              "    }\n",
              "</style>\n",
              "<table border=\"1\" class=\"dataframe\">\n",
              "  <thead>\n",
              "    <tr style=\"text-align: right;\">\n",
              "      <th></th>\n",
              "      <th>mpg</th>\n",
              "      <th>cyl</th>\n",
              "      <th>disp</th>\n",
              "      <th>hp</th>\n",
              "      <th>drat</th>\n",
              "      <th>wt</th>\n",
              "      <th>qsec</th>\n",
              "      <th>vs</th>\n",
              "      <th>am</th>\n",
              "      <th>gear</th>\n",
              "      <th>carb</th>\n",
              "    </tr>\n",
              "    <tr>\n",
              "      <th>model</th>\n",
              "      <th></th>\n",
              "      <th></th>\n",
              "      <th></th>\n",
              "      <th></th>\n",
              "      <th></th>\n",
              "      <th></th>\n",
              "      <th></th>\n",
              "      <th></th>\n",
              "      <th></th>\n",
              "      <th></th>\n",
              "      <th></th>\n",
              "    </tr>\n",
              "  </thead>\n",
              "  <tbody>\n",
              "    <tr>\n",
              "      <th>Mazda RX4</th>\n",
              "      <td>21.0</td>\n",
              "      <td>6</td>\n",
              "      <td>160.0</td>\n",
              "      <td>110</td>\n",
              "      <td>3.90</td>\n",
              "      <td>2.620</td>\n",
              "      <td>16.46</td>\n",
              "      <td>0</td>\n",
              "      <td>1</td>\n",
              "      <td>4</td>\n",
              "      <td>4</td>\n",
              "    </tr>\n",
              "    <tr>\n",
              "      <th>Mazda RX4 Wag</th>\n",
              "      <td>21.0</td>\n",
              "      <td>6</td>\n",
              "      <td>160.0</td>\n",
              "      <td>110</td>\n",
              "      <td>3.90</td>\n",
              "      <td>2.875</td>\n",
              "      <td>17.02</td>\n",
              "      <td>0</td>\n",
              "      <td>1</td>\n",
              "      <td>4</td>\n",
              "      <td>4</td>\n",
              "    </tr>\n",
              "    <tr>\n",
              "      <th>Datsun 710</th>\n",
              "      <td>22.8</td>\n",
              "      <td>4</td>\n",
              "      <td>108.0</td>\n",
              "      <td>93</td>\n",
              "      <td>3.85</td>\n",
              "      <td>2.320</td>\n",
              "      <td>18.61</td>\n",
              "      <td>1</td>\n",
              "      <td>1</td>\n",
              "      <td>4</td>\n",
              "      <td>1</td>\n",
              "    </tr>\n",
              "    <tr>\n",
              "      <th>Hornet 4 Drive</th>\n",
              "      <td>21.4</td>\n",
              "      <td>6</td>\n",
              "      <td>258.0</td>\n",
              "      <td>110</td>\n",
              "      <td>3.08</td>\n",
              "      <td>3.215</td>\n",
              "      <td>19.44</td>\n",
              "      <td>1</td>\n",
              "      <td>0</td>\n",
              "      <td>3</td>\n",
              "      <td>1</td>\n",
              "    </tr>\n",
              "    <tr>\n",
              "      <th>Hornet Sportabout</th>\n",
              "      <td>18.7</td>\n",
              "      <td>8</td>\n",
              "      <td>360.0</td>\n",
              "      <td>175</td>\n",
              "      <td>3.15</td>\n",
              "      <td>3.440</td>\n",
              "      <td>17.02</td>\n",
              "      <td>0</td>\n",
              "      <td>0</td>\n",
              "      <td>3</td>\n",
              "      <td>2</td>\n",
              "    </tr>\n",
              "  </tbody>\n",
              "</table>\n",
              "</div>"
            ],
            "text/plain": [
              "                    mpg  cyl   disp   hp  drat  ...   qsec  vs  am  gear  carb\n",
              "model                                           ...                           \n",
              "Mazda RX4          21.0    6  160.0  110  3.90  ...  16.46   0   1     4     4\n",
              "Mazda RX4 Wag      21.0    6  160.0  110  3.90  ...  17.02   0   1     4     4\n",
              "Datsun 710         22.8    4  108.0   93  3.85  ...  18.61   1   1     4     1\n",
              "Hornet 4 Drive     21.4    6  258.0  110  3.08  ...  19.44   1   0     3     1\n",
              "Hornet Sportabout  18.7    8  360.0  175  3.15  ...  17.02   0   0     3     2\n",
              "\n",
              "[5 rows x 11 columns]"
            ]
          },
          "metadata": {},
          "execution_count": 2
        }
      ]
    },
    {
      "cell_type": "code",
      "metadata": {
        "id": "_qSLXpg2EElL",
        "outputId": "2151eb53-e60b-4fd1-fc44-4b3450fa53ef"
      },
      "source": [
        "df.shape"
      ],
      "execution_count": null,
      "outputs": [
        {
          "data": {
            "text/plain": [
              "(32, 11)"
            ]
          },
          "execution_count": 8,
          "metadata": {},
          "output_type": "execute_result"
        }
      ]
    },
    {
      "cell_type": "markdown",
      "metadata": {
        "id": "B0FKh9KDEElL"
      },
      "source": [
        "We can see that the DataFrame contains multiple columns - 11 in total. Simple linear regression models integrate the use of a single predictor variable when fitting a model. While that seems easy to understand, the world is seldom as simple as that - real problems contain multiple variables and we need to take into account as many as we can."
      ]
    },
    {
      "cell_type": "markdown",
      "metadata": {
        "id": "gi-v0jo-EElM"
      },
      "source": [
        "## Modelling MPG\n",
        "\n",
        "Let's attempt to model the miles per gallon (_mpg_) rating of a car using its other characteristics. _mpg_ is an intuitive response variable and we would expect it to be negatively impacted by things like a heavier car (_wt_), higher horsepower (_hp_), bigger engine displacement (_disp_), among other things.\n",
        "\n",
        "To start with, we'll carry out this multiple linear regression in `sklearn`. In the next train, we'll be doing regression again but using a different module known as `statsmodels`, which will help us to gain deeper insight into the statistical correctness of the model.\n",
        "\n",
        "To get a better idea of what a multi-dimensional dataset looks like, we'll generate a 3D scatter plot showing the `mpg` on the _z_-axis (height), with two predictor variables, `cyl` and `disp` on the _x_- and _y_-axes."
      ]
    },
    {
      "cell_type": "code",
      "metadata": {
        "id": "NooXOID3EElM",
        "outputId": "1da84909-b977-42ce-9a2b-777284678595",
        "colab": {
          "base_uri": "https://localhost:8080/",
          "height": 428
        }
      },
      "source": [
        "# create figure and 3d axes\n",
        "fig = plt.figure(figsize=(8,7))\n",
        "ax = fig.add_subplot(111, projection='3d')\n",
        "\n",
        "# set axis labels\n",
        "ax.set_zlabel('MPG')\n",
        "ax.set_xlabel('No. of Cylinders')\n",
        "ax.set_ylabel('Weight (1000 lbs)')\n",
        "\n",
        "# scatter plot with response variable and 2 predictors\n",
        "ax.scatter(df['cyl'], df['wt'], df['mpg'])"
      ],
      "execution_count": 3,
      "outputs": [
        {
          "output_type": "execute_result",
          "data": {
            "text/plain": [
              "<mpl_toolkits.mplot3d.art3d.Path3DCollection at 0x7fdfbbfcc890>"
            ]
          },
          "metadata": {},
          "execution_count": 3
        },
        {
          "output_type": "display_data",
          "data": {
            "image/png": "[encoded data removed]",
            "text/plain": [
              "<Figure size 576x504 with 1 Axes>"
            ]
          },
          "metadata": {
            "needs_background": "light"
          }
        }
      ]
    },
    {
      "cell_type": "markdown",
      "metadata": {
        "id": "SsnTFKYgEElM"
      },
      "source": [
        "We know that in simple linear regression (2D), any model that we fit to data manifests in the form of a straight line. Extending this idea to 3D, the line becomes a plane - a flat surface which is chosen to minimise the squared vertical distances between each observation (red dots), and the plane, as shown in the figure below from ISLR.\n",
        "\n",
        "<img src=\"https://github.com/Explore-AI/Public-Data/raw/master/3D%20regression%20ISLR.jpg\" alt=\"plane\" style=\"width: 450px\"/>"
      ]
    },
    {
      "cell_type": "markdown",
      "metadata": {
        "id": "aiYqe3UcEElN"
      },
      "source": [
        "The result of a multivariate linear regression in higher dimensionality is known as a _hyperplane_ - similar to the flat surface in the figure above, but in a _p_-dimensional space, where $p>3$. Unfortunately, humans lack the ability to visualise any number of dimensions greater than three - so we have to be content with the idea that a hyperplane in _p_-dimensional space is effectively like a flat surface in 3-dimensional space."
      ]
    },
    {
      "cell_type": "markdown",
      "metadata": {
        "id": "dIM-Yec0EElO"
      },
      "source": [
        "## Fitting the Multivariate Regression Model\n",
        "\n",
        "In `sklearn`, fitting a multiple linear regression model is much the same as fitting a simple linear regression. This time, of course, our $X$ contains multiple columns, where it only contained one before. "
      ]
    },
    {
      "cell_type": "code",
      "metadata": {
        "id": "fN7kqwVtEElO"
      },
      "source": [
        "# import regression module\n",
        "from sklearn.linear_model import LinearRegression\n",
        "\n",
        "# split predictors and response\n",
        "X = df.drop(['mpg'], axis=1)\n",
        "y = df['mpg']"
      ],
      "execution_count": 4,
      "outputs": []
    },
    {
      "cell_type": "code",
      "metadata": {
        "id": "v76qB-LJEElO"
      },
      "source": [
        "# create model object\n",
        "lm = LinearRegression()"
      ],
      "execution_count": 5,
      "outputs": []
    },
    {
      "cell_type": "code",
      "metadata": {
        "id": "l2fyVmw6EElP"
      },
      "source": [
        "# import train/test split module\n",
        "from sklearn.model_selection import train_test_split"
      ],
      "execution_count": 6,
      "outputs": []
    },
    {
      "cell_type": "code",
      "metadata": {
        "id": "jIEd9fJHEElP"
      },
      "source": [
        "# split into train and test\n",
        "X_train, X_test, y_train, y_test = train_test_split(X, \n",
        "                                                    y, \n",
        "                                                    test_size=0.20, \n",
        "                                                    random_state=1)"
      ],
      "execution_count": 7,
      "outputs": []
    },
    {
      "cell_type": "code",
      "metadata": {
        "id": "pBFtvz0xEElP",
        "outputId": "3b7da9ef-71b9-47d8-dea6-9fbc601dcd13",
        "colab": {
          "base_uri": "https://localhost:8080/"
        }
      },
      "source": [
        "# train model\n",
        "lm.fit(X_train, y_train)"
      ],
      "execution_count": 8,
      "outputs": [
        {
          "output_type": "execute_result",
          "data": {
            "text/plain": [
              "LinearRegression(copy_X=True, fit_intercept=True, n_jobs=None, normalize=False)"
            ]
          },
          "metadata": {},
          "execution_count": 8
        }
      ]
    },
    {
      "cell_type": "markdown",
      "metadata": {
        "id": "oYL2UXKIEElQ"
      },
      "source": [
        "Having fit our model to the provided training data, we can now inspect its coefficients to get a better understanding of their influence on the predictions the model will provide:"
      ]
    },
    {
      "cell_type": "code",
      "metadata": {
        "id": "41KYXBiBEElQ"
      },
      "source": [
        "# extract model intercept\n",
        "beta_0 = float(lm.intercept_)"
      ],
      "execution_count": 9,
      "outputs": []
    },
    {
      "cell_type": "code",
      "metadata": {
        "id": "JqIVEmKPEElQ"
      },
      "source": [
        "# extract model coeffs\n",
        "beta_js = pd.DataFrame(lm.coef_, X.columns, columns=['Coefficient'])"
      ],
      "execution_count": 10,
      "outputs": []
    },
    {
      "cell_type": "code",
      "metadata": {
        "id": "NP4nLtzWEElQ",
        "outputId": "48e6b6d1-f87a-4300-9d10-a5a76c389ba1",
        "colab": {
          "base_uri": "https://localhost:8080/"
        }
      },
      "source": [
        "print(\"Intercept:\", beta_0)"
      ],
      "execution_count": 11,
      "outputs": [
        {
          "output_type": "stream",
          "name": "stdout",
          "text": [
            "Intercept: 8.465282572242568\n"
          ]
        }
      ]
    },
    {
      "cell_type": "code",
      "metadata": {
        "id": "pvR-feE8EElQ",
        "outputId": "cb91526c-5eb5-472b-c355-77b52aef816f"
      },
      "source": [
        "beta_js"
      ],
      "execution_count": null,
      "outputs": [
        {
          "data": {
            "text/html": [
              "<div>\n",
              "<style scoped>\n",
              "    .dataframe tbody tr th:only-of-type {\n",
              "        vertical-align: middle;\n",
              "    }\n",
              "\n",
              "    .dataframe tbody tr th {\n",
              "        vertical-align: top;\n",
              "    }\n",
              "\n",
              "    .dataframe thead th {\n",
              "        text-align: right;\n",
              "    }\n",
              "</style>\n",
              "<table border=\"1\" class=\"dataframe\">\n",
              "  <thead>\n",
              "    <tr style=\"text-align: right;\">\n",
              "      <th></th>\n",
              "      <th>Coefficient</th>\n",
              "    </tr>\n",
              "  </thead>\n",
              "  <tbody>\n",
              "    <tr>\n",
              "      <td>cyl</td>\n",
              "      <td>0.190203</td>\n",
              "    </tr>\n",
              "    <tr>\n",
              "      <td>disp</td>\n",
              "      <td>0.008613</td>\n",
              "    </tr>\n",
              "    <tr>\n",
              "      <td>hp</td>\n",
              "      <td>-0.022868</td>\n",
              "    </tr>\n",
              "    <tr>\n",
              "      <td>drat</td>\n",
              "      <td>1.477014</td>\n",
              "    </tr>\n",
              "    <tr>\n",
              "      <td>wt</td>\n",
              "      <td>-3.564785</td>\n",
              "    </tr>\n",
              "    <tr>\n",
              "      <td>qsec</td>\n",
              "      <td>0.924358</td>\n",
              "    </tr>\n",
              "    <tr>\n",
              "      <td>vs</td>\n",
              "      <td>-1.248904</td>\n",
              "    </tr>\n",
              "    <tr>\n",
              "      <td>am</td>\n",
              "      <td>1.340890</td>\n",
              "    </tr>\n",
              "    <tr>\n",
              "      <td>gear</td>\n",
              "      <td>0.482458</td>\n",
              "    </tr>\n",
              "    <tr>\n",
              "      <td>carb</td>\n",
              "      <td>-0.187354</td>\n",
              "    </tr>\n",
              "  </tbody>\n",
              "</table>\n",
              "</div>"
            ],
            "text/plain": [
              "      Coefficient\n",
              "cyl      0.190203\n",
              "disp     0.008613\n",
              "hp      -0.022868\n",
              "drat     1.477014\n",
              "wt      -3.564785\n",
              "qsec     0.924358\n",
              "vs      -1.248904\n",
              "am       1.340890\n",
              "gear     0.482458\n",
              "carb    -0.187354"
            ]
          },
          "execution_count": 19,
          "metadata": {},
          "output_type": "execute_result"
        }
      ]
    },
    {
      "cell_type": "markdown",
      "metadata": {
        "id": "5OiMcoi5EElR"
      },
      "source": [
        "Let's see what our model looks like in a few 2-dimensional plots; plotting `wt`, `disp`, `cyl`, and `hp` vs. `mpg`, respectively (top-left to bottom-right)."
      ]
    },
    {
      "cell_type": "code",
      "metadata": {
        "id": "l4HTqGlHEElR",
        "outputId": "4125957f-1384-4361-8ad5-173322d16890"
      },
      "source": [
        "fig, axs = plt.subplots(2, 2, figsize=(9,7))\n",
        "\n",
        "axs[0,0].scatter(df['wt'], df['mpg'])\n",
        "axs[0,0].plot(df['wt'], lm.intercept_ + lm.coef_[4]*df['wt'], color='red')\n",
        "axs[0,0].title.set_text('Weight (wt) vs. mpg')\n",
        "\n",
        "axs[0,1].scatter(df['disp'], df['mpg'])\n",
        "axs[0,1].plot(df['disp'], lm.intercept_ + lm.coef_[1]*df['disp'], color='red')\n",
        "axs[0,1].title.set_text('Engine displacement (disp) vs. mpg')\n",
        "\n",
        "axs[1,0].scatter(df['cyl'], df['mpg'])\n",
        "axs[1,0].plot(df['cyl'], lm.intercept_ + lm.coef_[0]*df['cyl'], color='red')\n",
        "axs[1,0].title.set_text('Number of cylinders (cyl) vs. mpg')\n",
        "\n",
        "axs[1,1].scatter(df['hp'], df['mpg'])\n",
        "axs[1,1].plot(df['hp'], lm.intercept_ + lm.coef_[2]*df['hp'], color='red')\n",
        "axs[1,1].title.set_text('Horsepower (hp) vs. mpg')\n",
        "\n",
        "fig.tight_layout(pad=3.0)\n",
        "\n",
        "plt.show()"
      ],
      "execution_count": null,
      "outputs": [
        {
          "data": {
            "application/javascript": [
              "/* Put everything inside the global mpl namespace */\n",
              "window.mpl = {};\n",
              "\n",
              "\n",
              "mpl.get_websocket_type = function() {\n",
              "    if (typeof(WebSocket) !== 'undefined') {\n",
              "        return WebSocket;\n",
              "    } else if (typeof(MozWebSocket) !== 'undefined') {\n",
              "        return MozWebSocket;\n",
              "    } else {\n",
              "        alert('Your browser does not have WebSocket support. ' +\n",
              "              'Please try Chrome, Safari or Firefox ≥ 6. ' +\n",
              "              'Firefox 4 and 5 are also supported but you ' +\n",
              "              'have to enable WebSockets in about:config.');\n",
              "    };\n",
              "}\n",
              "\n",
              "mpl.figure = function(figure_id, websocket, ondownload, parent_element) {\n",
              "    this.id = figure_id;\n",
              "\n",
              "    this.ws = websocket;\n",
              "\n",
              "    this.supports_binary = (this.ws.binaryType != undefined);\n",
              "\n",
              "    if (!this.supports_binary) {\n",
              "        var warnings = document.getElementById(\"mpl-warnings\");\n",
              "        if (warnings) {\n",
              "            warnings.style.display = 'block';\n",
              "            warnings.textContent = (\n",
              "                \"This browser does not support binary websocket messages. \" +\n",
              "                    \"Performance may be slow.\");\n",
              "        }\n",
              "    }\n",
              "\n",
              "    this.imageObj = new Image();\n",
              "\n",
              "    this.context = undefined;\n",
              "    this.message = undefined;\n",
              "    this.canvas = undefined;\n",
              "    this.rubberband_canvas = undefined;\n",
              "    this.rubberband_context = undefined;\n",
              "    this.format_dropdown = undefined;\n",
              "\n",
              "    this.image_mode = 'full';\n",
              "\n",
              "    this.root = $('<div/>');\n",
              "    this._root_extra_style(this.root)\n",
              "    this.root.attr('style', 'display: inline-block');\n",
              "\n",
              "    $(parent_element).append(this.root);\n",
              "\n",
              "    this._init_header(this);\n",
              "    this._init_canvas(this);\n",
              "    this._init_toolbar(this);\n",
              "\n",
              "    var fig = this;\n",
              "\n",
              "    this.waiting = false;\n",
              "\n",
              "    this.ws.onopen =  function () {\n",
              "            fig.send_message(\"supports_binary\", {value: fig.supports_binary});\n",
              "            fig.send_message(\"send_image_mode\", {});\n",
              "            if (mpl.ratio != 1) {\n",
              "                fig.send_message(\"set_dpi_ratio\", {'dpi_ratio': mpl.ratio});\n",
              "            }\n",
              "            fig.send_message(\"refresh\", {});\n",
              "        }\n",
              "\n",
              "    this.imageObj.onload = function() {\n",
              "            if (fig.image_mode == 'full') {\n",
              "                // Full images could contain transparency (where diff images\n",
              "                // almost always do), so we need to clear the canvas so that\n",
              "                // there is no ghosting.\n",
              "                fig.context.clearRect(0, 0, fig.canvas.width, fig.canvas.height);\n",
              "            }\n",
              "            fig.context.drawImage(fig.imageObj, 0, 0);\n",
              "        };\n",
              "\n",
              "    this.imageObj.onunload = function() {\n",
              "        fig.ws.close();\n",
              "    }\n",
              "\n",
              "    this.ws.onmessage = this._make_on_message_function(this);\n",
              "\n",
              "    this.ondownload = ondownload;\n",
              "}\n",
              "\n",
              "mpl.figure.prototype._init_header = function() {\n",
              "    var titlebar = $(\n",
              "        '<div class=\"ui-dialog-titlebar ui-widget-header ui-corner-all ' +\n",
              "        'ui-helper-clearfix\"/>');\n",
              "    var titletext = $(\n",
              "        '<div class=\"ui-dialog-title\" style=\"width: 100%; ' +\n",
              "        'text-align: center; padding: 3px;\"/>');\n",
              "    titlebar.append(titletext)\n",
              "    this.root.append(titlebar);\n",
              "    this.header = titletext[0];\n",
              "}\n",
              "\n",
              "\n",
              "\n",
              "mpl.figure.prototype._canvas_extra_style = function(canvas_div) {\n",
              "\n",
              "}\n",
              "\n",
              "\n",
              "mpl.figure.prototype._root_extra_style = function(canvas_div) {\n",
              "\n",
              "}\n",
              "\n",
              "mpl.figure.prototype._init_canvas = function() {\n",
              "    var fig = this;\n",
              "\n",
              "    var canvas_div = $('<div/>');\n",
              "\n",
              "    canvas_div.attr('style', 'position: relative; clear: both; outline: 0');\n",
              "\n",
              "    function canvas_keyboard_event(event) {\n",
              "        return fig.key_event(event, event['data']);\n",
              "    }\n",
              "\n",
              "    canvas_div.keydown('key_press', canvas_keyboard_event);\n",
              "    canvas_div.keyup('key_release', canvas_keyboard_event);\n",
              "    this.canvas_div = canvas_div\n",
              "    this._canvas_extra_style(canvas_div)\n",
              "    this.root.append(canvas_div);\n",
              "\n",
              "    var canvas = $('<canvas/>');\n",
              "    canvas.addClass('mpl-canvas');\n",
              "    canvas.attr('style', \"left: 0; top: 0; z-index: 0; outline: 0\")\n",
              "\n",
              "    this.canvas = canvas[0];\n",
              "    this.context = canvas[0].getContext(\"2d\");\n",
              "\n",
              "    var backingStore = this.context.backingStorePixelRatio ||\n",
              "\tthis.context.webkitBackingStorePixelRatio ||\n",
              "\tthis.context.mozBackingStorePixelRatio ||\n",
              "\tthis.context.msBackingStorePixelRatio ||\n",
              "\tthis.context.oBackingStorePixelRatio ||\n",
              "\tthis.context.backingStorePixelRatio || 1;\n",
              "\n",
              "    mpl.ratio = (window.devicePixelRatio || 1) / backingStore;\n",
              "\n",
              "    var rubberband = $('<canvas/>');\n",
              "    rubberband.attr('style', \"position: absolute; left: 0; top: 0; z-index: 1;\")\n",
              "\n",
              "    var pass_mouse_events = true;\n",
              "\n",
              "    canvas_div.resizable({\n",
              "        start: function(event, ui) {\n",
              "            pass_mouse_events = false;\n",
              "        },\n",
              "        resize: function(event, ui) {\n",
              "            fig.request_resize(ui.size.width, ui.size.height);\n",
              "        },\n",
              "        stop: function(event, ui) {\n",
              "            pass_mouse_events = true;\n",
              "            fig.request_resize(ui.size.width, ui.size.height);\n",
              "        },\n",
              "    });\n",
              "\n",
              "    function mouse_event_fn(event) {\n",
              "        if (pass_mouse_events)\n",
              "            return fig.mouse_event(event, event['data']);\n",
              "    }\n",
              "\n",
              "    rubberband.mousedown('button_press', mouse_event_fn);\n",
              "    rubberband.mouseup('button_release', mouse_event_fn);\n",
              "    // Throttle sequential mouse events to 1 every 20ms.\n",
              "    rubberband.mousemove('motion_notify', mouse_event_fn);\n",
              "\n",
              "    rubberband.mouseenter('figure_enter', mouse_event_fn);\n",
              "    rubberband.mouseleave('figure_leave', mouse_event_fn);\n",
              "\n",
              "    canvas_div.on(\"wheel\", function (event) {\n",
              "        event = event.originalEvent;\n",
              "        event['data'] = 'scroll'\n",
              "        if (event.deltaY < 0) {\n",
              "            event.step = 1;\n",
              "        } else {\n",
              "            event.step = -1;\n",
              "        }\n",
              "        mouse_event_fn(event);\n",
              "    });\n",
              "\n",
              "    canvas_div.append(canvas);\n",
              "    canvas_div.append(rubberband);\n",
              "\n",
              "    this.rubberband = rubberband;\n",
              "    this.rubberband_canvas = rubberband[0];\n",
              "    this.rubberband_context = rubberband[0].getContext(\"2d\");\n",
              "    this.rubberband_context.strokeStyle = \"#000000\";\n",
              "\n",
              "    this._resize_canvas = function(width, height) {\n",
              "        // Keep the size of the canvas, canvas container, and rubber band\n",
              "        // canvas in synch.\n",
              "        canvas_div.css('width', width)\n",
              "        canvas_div.css('height', height)\n",
              "\n",
              "        canvas.attr('width', width * mpl.ratio);\n",
              "        canvas.attr('height', height * mpl.ratio);\n",
              "        canvas.attr('style', 'width: ' + width + 'px; height: ' + height + 'px;');\n",
              "\n",
              "        rubberband.attr('width', width);\n",
              "        rubberband.attr('height', height);\n",
              "    }\n",
              "\n",
              "    // Set the figure to an initial 600x600px, this will subsequently be updated\n",
              "    // upon first draw.\n",
              "    this._resize_canvas(600, 600);\n",
              "\n",
              "    // Disable right mouse context menu.\n",
              "    $(this.rubberband_canvas).bind(\"contextmenu\",function(e){\n",
              "        return false;\n",
              "    });\n",
              "\n",
              "    function set_focus () {\n",
              "        canvas.focus();\n",
              "        canvas_div.focus();\n",
              "    }\n",
              "\n",
              "    window.setTimeout(set_focus, 100);\n",
              "}\n",
              "\n",
              "mpl.figure.prototype._init_toolbar = function() {\n",
              "    var fig = this;\n",
              "\n",
              "    var nav_element = $('<div/>');\n",
              "    nav_element.attr('style', 'width: 100%');\n",
              "    this.root.append(nav_element);\n",
              "\n",
              "    // Define a callback function for later on.\n",
              "    function toolbar_event(event) {\n",
              "        return fig.toolbar_button_onclick(event['data']);\n",
              "    }\n",
              "    function toolbar_mouse_event(event) {\n",
              "        return fig.toolbar_button_onmouseover(event['data']);\n",
              "    }\n",
              "\n",
              "    for(var toolbar_ind in mpl.toolbar_items) {\n",
              "        var name = mpl.toolbar_items[toolbar_ind][0];\n",
              "        var tooltip = mpl.toolbar_items[toolbar_ind][1];\n",
              "        var image = mpl.toolbar_items[toolbar_ind][2];\n",
              "        var method_name = mpl.toolbar_items[toolbar_ind][3];\n",
              "\n",
              "        if (!name) {\n",
              "            // put a spacer in here.\n",
              "            continue;\n",
              "        }\n",
              "        var button = $('<button/>');\n",
              "        button.addClass('ui-button ui-widget ui-state-default ui-corner-all ' +\n",
              "                        'ui-button-icon-only');\n",
              "        button.attr('role', 'button');\n",
              "        button.attr('aria-disabled', 'false');\n",
              "        button.click(method_name, toolbar_event);\n",
              "        button.mouseover(tooltip, toolbar_mouse_event);\n",
              "\n",
              "        var icon_img = $('<span/>');\n",
              "        icon_img.addClass('ui-button-icon-primary ui-icon');\n",
              "        icon_img.addClass(image);\n",
              "        icon_img.addClass('ui-corner-all');\n",
              "\n",
              "        var tooltip_span = $('<span/>');\n",
              "        tooltip_span.addClass('ui-button-text');\n",
              "        tooltip_span.html(tooltip);\n",
              "\n",
              "        button.append(icon_img);\n",
              "        button.append(tooltip_span);\n",
              "\n",
              "        nav_element.append(button);\n",
              "    }\n",
              "\n",
              "    var fmt_picker_span = $('<span/>');\n",
              "\n",
              "    var fmt_picker = $('<select/>');\n",
              "    fmt_picker.addClass('mpl-toolbar-option ui-widget ui-widget-content');\n",
              "    fmt_picker_span.append(fmt_picker);\n",
              "    nav_element.append(fmt_picker_span);\n",
              "    this.format_dropdown = fmt_picker[0];\n",
              "\n",
              "    for (var ind in mpl.extensions) {\n",
              "        var fmt = mpl.extensions[ind];\n",
              "        var option = $(\n",
              "            '<option/>', {selected: fmt === mpl.default_extension}).html(fmt);\n",
              "        fmt_picker.append(option);\n",
              "    }\n",
              "\n",
              "    // Add hover states to the ui-buttons\n",
              "    $( \".ui-button\" ).hover(\n",
              "        function() { $(this).addClass(\"ui-state-hover\");},\n",
              "        function() { $(this).removeClass(\"ui-state-hover\");}\n",
              "    );\n",
              "\n",
              "    var status_bar = $('<span class=\"mpl-message\"/>');\n",
              "    nav_element.append(status_bar);\n",
              "    this.message = status_bar[0];\n",
              "}\n",
              "\n",
              "mpl.figure.prototype.request_resize = function(x_pixels, y_pixels) {\n",
              "    // Request matplotlib to resize the figure. Matplotlib will then trigger a resize in the client,\n",
              "    // which will in turn request a refresh of the image.\n",
              "    this.send_message('resize', {'width': x_pixels, 'height': y_pixels});\n",
              "}\n",
              "\n",
              "mpl.figure.prototype.send_message = function(type, properties) {\n",
              "    properties['type'] = type;\n",
              "    properties['figure_id'] = this.id;\n",
              "    this.ws.send(JSON.stringify(properties));\n",
              "}\n",
              "\n",
              "mpl.figure.prototype.send_draw_message = function() {\n",
              "    if (!this.waiting) {\n",
              "        this.waiting = true;\n",
              "        this.ws.send(JSON.stringify({type: \"draw\", figure_id: this.id}));\n",
              "    }\n",
              "}\n",
              "\n",
              "\n",
              "mpl.figure.prototype.handle_save = function(fig, msg) {\n",
              "    var format_dropdown = fig.format_dropdown;\n",
              "    var format = format_dropdown.options[format_dropdown.selectedIndex].value;\n",
              "    fig.ondownload(fig, format);\n",
              "}\n",
              "\n",
              "\n",
              "mpl.figure.prototype.handle_resize = function(fig, msg) {\n",
              "    var size = msg['size'];\n",
              "    if (size[0] != fig.canvas.width || size[1] != fig.canvas.height) {\n",
              "        fig._resize_canvas(size[0], size[1]);\n",
              "        fig.send_message(\"refresh\", {});\n",
              "    };\n",
              "}\n",
              "\n",
              "mpl.figure.prototype.handle_rubberband = function(fig, msg) {\n",
              "    var x0 = msg['x0'] / mpl.ratio;\n",
              "    var y0 = (fig.canvas.height - msg['y0']) / mpl.ratio;\n",
              "    var x1 = msg['x1'] / mpl.ratio;\n",
              "    var y1 = (fig.canvas.height - msg['y1']) / mpl.ratio;\n",
              "    x0 = Math.floor(x0) + 0.5;\n",
              "    y0 = Math.floor(y0) + 0.5;\n",
              "    x1 = Math.floor(x1) + 0.5;\n",
              "    y1 = Math.floor(y1) + 0.5;\n",
              "    var min_x = Math.min(x0, x1);\n",
              "    var min_y = Math.min(y0, y1);\n",
              "    var width = Math.abs(x1 - x0);\n",
              "    var height = Math.abs(y1 - y0);\n",
              "\n",
              "    fig.rubberband_context.clearRect(\n",
              "        0, 0, fig.canvas.width / mpl.ratio, fig.canvas.height / mpl.ratio);\n",
              "\n",
              "    fig.rubberband_context.strokeRect(min_x, min_y, width, height);\n",
              "}\n",
              "\n",
              "mpl.figure.prototype.handle_figure_label = function(fig, msg) {\n",
              "    // Updates the figure title.\n",
              "    fig.header.textContent = msg['label'];\n",
              "}\n",
              "\n",
              "mpl.figure.prototype.handle_cursor = function(fig, msg) {\n",
              "    var cursor = msg['cursor'];\n",
              "    switch(cursor)\n",
              "    {\n",
              "    case 0:\n",
              "        cursor = 'pointer';\n",
              "        break;\n",
              "    case 1:\n",
              "        cursor = 'default';\n",
              "        break;\n",
              "    case 2:\n",
              "        cursor = 'crosshair';\n",
              "        break;\n",
              "    case 3:\n",
              "        cursor = 'move';\n",
              "        break;\n",
              "    }\n",
              "    fig.rubberband_canvas.style.cursor = cursor;\n",
              "}\n",
              "\n",
              "mpl.figure.prototype.handle_message = function(fig, msg) {\n",
              "    fig.message.textContent = msg['message'];\n",
              "}\n",
              "\n",
              "mpl.figure.prototype.handle_draw = function(fig, msg) {\n",
              "    // Request the server to send over a new figure.\n",
              "    fig.send_draw_message();\n",
              "}\n",
              "\n",
              "mpl.figure.prototype.handle_image_mode = function(fig, msg) {\n",
              "    fig.image_mode = msg['mode'];\n",
              "}\n",
              "\n",
              "mpl.figure.prototype.updated_canvas_event = function() {\n",
              "    // Called whenever the canvas gets updated.\n",
              "    this.send_message(\"ack\", {});\n",
              "}\n",
              "\n",
              "// A function to construct a web socket function for onmessage handling.\n",
              "// Called in the figure constructor.\n",
              "mpl.figure.prototype._make_on_message_function = function(fig) {\n",
              "    return function socket_on_message(evt) {\n",
              "        if (evt.data instanceof Blob) {\n",
              "            /* FIXME: We get \"Resource interpreted as Image but\n",
              "             * transferred with MIME type text/plain:\" errors on\n",
              "             * Chrome.  But how to set the MIME type?  It doesn't seem\n",
              "             * to be part of the websocket stream */\n",
              "            evt.data.type = \"image/png\";\n",
              "\n",
              "            /* Free the memory for the previous frames */\n",
              "            if (fig.imageObj.src) {\n",
              "                (window.URL || window.webkitURL).revokeObjectURL(\n",
              "                    fig.imageObj.src);\n",
              "            }\n",
              "\n",
              "            fig.imageObj.src = (window.URL || window.webkitURL).createObjectURL(\n",
              "                evt.data);\n",
              "            fig.updated_canvas_event();\n",
              "            fig.waiting = false;\n",
              "            return;\n",
              "        }\n",
              "        else if (typeof evt.data === 'string' && evt.data.slice(0, 21) == \"data:image/png;base64\") {\n",
              "            fig.imageObj.src = evt.data;\n",
              "            fig.updated_canvas_event();\n",
              "            fig.waiting = false;\n",
              "            return;\n",
              "        }\n",
              "\n",
              "        var msg = JSON.parse(evt.data);\n",
              "        var msg_type = msg['type'];\n",
              "\n",
              "        // Call the  \"handle_{type}\" callback, which takes\n",
              "        // the figure and JSON message as its only arguments.\n",
              "        try {\n",
              "            var callback = fig[\"handle_\" + msg_type];\n",
              "        } catch (e) {\n",
              "            console.log(\"No handler for the '\" + msg_type + \"' message type: \", msg);\n",
              "            return;\n",
              "        }\n",
              "\n",
              "        if (callback) {\n",
              "            try {\n",
              "                // console.log(\"Handling '\" + msg_type + \"' message: \", msg);\n",
              "                callback(fig, msg);\n",
              "            } catch (e) {\n",
              "                console.log(\"Exception inside the 'handler_\" + msg_type + \"' callback:\", e, e.stack, msg);\n",
              "            }\n",
              "        }\n",
              "    };\n",
              "}\n",
              "\n",
              "// from http://stackoverflow.com/questions/1114465/getting-mouse-location-in-canvas\n",
              "mpl.findpos = function(e) {\n",
              "    //this section is from http://www.quirksmode.org/js/events_properties.html\n",
              "    var targ;\n",
              "    if (!e)\n",
              "        e = window.event;\n",
              "    if (e.target)\n",
              "        targ = e.target;\n",
              "    else if (e.srcElement)\n",
              "        targ = e.srcElement;\n",
              "    if (targ.nodeType == 3) // defeat Safari bug\n",
              "        targ = targ.parentNode;\n",
              "\n",
              "    // jQuery normalizes the pageX and pageY\n",
              "    // pageX,Y are the mouse positions relative to the document\n",
              "    // offset() returns the position of the element relative to the document\n",
              "    var x = e.pageX - $(targ).offset().left;\n",
              "    var y = e.pageY - $(targ).offset().top;\n",
              "\n",
              "    return {\"x\": x, \"y\": y};\n",
              "};\n",
              "\n",
              "/*\n",
              " * return a copy of an object with only non-object keys\n",
              " * we need this to avoid circular references\n",
              " * http://stackoverflow.com/a/24161582/3208463\n",
              " */\n",
              "function simpleKeys (original) {\n",
              "  return Object.keys(original).reduce(function (obj, key) {\n",
              "    if (typeof original[key] !== 'object')\n",
              "        obj[key] = original[key]\n",
              "    return obj;\n",
              "  }, {});\n",
              "}\n",
              "\n",
              "mpl.figure.prototype.mouse_event = function(event, name) {\n",
              "    var canvas_pos = mpl.findpos(event)\n",
              "\n",
              "    if (name === 'button_press')\n",
              "    {\n",
              "        this.canvas.focus();\n",
              "        this.canvas_div.focus();\n",
              "    }\n",
              "\n",
              "    var x = canvas_pos.x * mpl.ratio;\n",
              "    var y = canvas_pos.y * mpl.ratio;\n",
              "\n",
              "    this.send_message(name, {x: x, y: y, button: event.button,\n",
              "                             step: event.step,\n",
              "                             guiEvent: simpleKeys(event)});\n",
              "\n",
              "    /* This prevents the web browser from automatically changing to\n",
              "     * the text insertion cursor when the button is pressed.  We want\n",
              "     * to control all of the cursor setting manually through the\n",
              "     * 'cursor' event from matplotlib */\n",
              "    event.preventDefault();\n",
              "    return false;\n",
              "}\n",
              "\n",
              "mpl.figure.prototype._key_event_extra = function(event, name) {\n",
              "    // Handle any extra behaviour associated with a key event\n",
              "}\n",
              "\n",
              "mpl.figure.prototype.key_event = function(event, name) {\n",
              "\n",
              "    // Prevent repeat events\n",
              "    if (name == 'key_press')\n",
              "    {\n",
              "        if (event.which === this._key)\n",
              "            return;\n",
              "        else\n",
              "            this._key = event.which;\n",
              "    }\n",
              "    if (name == 'key_release')\n",
              "        this._key = null;\n",
              "\n",
              "    var value = '';\n",
              "    if (event.ctrlKey && event.which != 17)\n",
              "        value += \"ctrl+\";\n",
              "    if (event.altKey && event.which != 18)\n",
              "        value += \"alt+\";\n",
              "    if (event.shiftKey && event.which != 16)\n",
              "        value += \"shift+\";\n",
              "\n",
              "    value += 'k';\n",
              "    value += event.which.toString();\n",
              "\n",
              "    this._key_event_extra(event, name);\n",
              "\n",
              "    this.send_message(name, {key: value,\n",
              "                             guiEvent: simpleKeys(event)});\n",
              "    return false;\n",
              "}\n",
              "\n",
              "mpl.figure.prototype.toolbar_button_onclick = function(name) {\n",
              "    if (name == 'download') {\n",
              "        this.handle_save(this, null);\n",
              "    } else {\n",
              "        this.send_message(\"toolbar_button\", {name: name});\n",
              "    }\n",
              "};\n",
              "\n",
              "mpl.figure.prototype.toolbar_button_onmouseover = function(tooltip) {\n",
              "    this.message.textContent = tooltip;\n",
              "};\n",
              "mpl.toolbar_items = [[\"Home\", \"Reset original view\", \"fa fa-home icon-home\", \"home\"], [\"Back\", \"Back to previous view\", \"fa fa-arrow-left icon-arrow-left\", \"back\"], [\"Forward\", \"Forward to next view\", \"fa fa-arrow-right icon-arrow-right\", \"forward\"], [\"\", \"\", \"\", \"\"], [\"Pan\", \"Pan axes with left mouse, zoom with right\", \"fa fa-arrows icon-move\", \"pan\"], [\"Zoom\", \"Zoom to rectangle\", \"fa fa-square-o icon-check-empty\", \"zoom\"], [\"\", \"\", \"\", \"\"], [\"Download\", \"Download plot\", \"fa fa-floppy-o icon-save\", \"download\"]];\n",
              "\n",
              "mpl.extensions = [\"eps\", \"jpeg\", \"pdf\", \"png\", \"ps\", \"raw\", \"svg\", \"tif\"];\n",
              "\n",
              "mpl.default_extension = \"png\";var comm_websocket_adapter = function(comm) {\n",
              "    // Create a \"websocket\"-like object which calls the given IPython comm\n",
              "    // object with the appropriate methods. Currently this is a non binary\n",
              "    // socket, so there is still some room for performance tuning.\n",
              "    var ws = {};\n",
              "\n",
              "    ws.close = function() {\n",
              "        comm.close()\n",
              "    };\n",
              "    ws.send = function(m) {\n",
              "        //console.log('sending', m);\n",
              "        comm.send(m);\n",
              "    };\n",
              "    // Register the callback with on_msg.\n",
              "    comm.on_msg(function(msg) {\n",
              "        //console.log('receiving', msg['content']['data'], msg);\n",
              "        // Pass the mpl event to the overridden (by mpl) onmessage function.\n",
              "        ws.onmessage(msg['content']['data'])\n",
              "    });\n",
              "    return ws;\n",
              "}\n",
              "\n",
              "mpl.mpl_figure_comm = function(comm, msg) {\n",
              "    // This is the function which gets called when the mpl process\n",
              "    // starts-up an IPython Comm through the \"matplotlib\" channel.\n",
              "\n",
              "    var id = msg.content.data.id;\n",
              "    // Get hold of the div created by the display call when the Comm\n",
              "    // socket was opened in Python.\n",
              "    var element = $(\"#\" + id);\n",
              "    var ws_proxy = comm_websocket_adapter(comm)\n",
              "\n",
              "    function ondownload(figure, format) {\n",
              "        window.open(figure.imageObj.src);\n",
              "    }\n",
              "\n",
              "    var fig = new mpl.figure(id, ws_proxy,\n",
              "                           ondownload,\n",
              "                           element.get(0));\n",
              "\n",
              "    // Call onopen now - mpl needs it, as it is assuming we've passed it a real\n",
              "    // web socket which is closed, not our websocket->open comm proxy.\n",
              "    ws_proxy.onopen();\n",
              "\n",
              "    fig.parent_element = element.get(0);\n",
              "    fig.cell_info = mpl.find_output_cell(\"<div id='\" + id + \"'></div>\");\n",
              "    if (!fig.cell_info) {\n",
              "        console.error(\"Failed to find cell for figure\", id, fig);\n",
              "        return;\n",
              "    }\n",
              "\n",
              "    var output_index = fig.cell_info[2]\n",
              "    var cell = fig.cell_info[0];\n",
              "\n",
              "};\n",
              "\n",
              "mpl.figure.prototype.handle_close = function(fig, msg) {\n",
              "    var width = fig.canvas.width/mpl.ratio\n",
              "    fig.root.unbind('remove')\n",
              "\n",
              "    // Update the output cell to use the data from the current canvas.\n",
              "    fig.push_to_output();\n",
              "    var dataURL = fig.canvas.toDataURL();\n",
              "    // Re-enable the keyboard manager in IPython - without this line, in FF,\n",
              "    // the notebook keyboard shortcuts fail.\n",
              "    IPython.keyboard_manager.enable()\n",
              "    $(fig.parent_element).html('<img src=\"' + dataURL + '\" width=\"' + width + '\">');\n",
              "    fig.close_ws(fig, msg);\n",
              "}\n",
              "\n",
              "mpl.figure.prototype.close_ws = function(fig, msg){\n",
              "    fig.send_message('closing', msg);\n",
              "    // fig.ws.close()\n",
              "}\n",
              "\n",
              "mpl.figure.prototype.push_to_output = function(remove_interactive) {\n",
              "    // Turn the data on the canvas into data in the output cell.\n",
              "    var width = this.canvas.width/mpl.ratio\n",
              "    var dataURL = this.canvas.toDataURL();\n",
              "    this.cell_info[1]['text/html'] = '<img src=\"' + dataURL + '\" width=\"' + width + '\">';\n",
              "}\n",
              "\n",
              "mpl.figure.prototype.updated_canvas_event = function() {\n",
              "    // Tell IPython that the notebook contents must change.\n",
              "    IPython.notebook.set_dirty(true);\n",
              "    this.send_message(\"ack\", {});\n",
              "    var fig = this;\n",
              "    // Wait a second, then push the new image to the DOM so\n",
              "    // that it is saved nicely (might be nice to debounce this).\n",
              "    setTimeout(function () { fig.push_to_output() }, 1000);\n",
              "}\n",
              "\n",
              "mpl.figure.prototype._init_toolbar = function() {\n",
              "    var fig = this;\n",
              "\n",
              "    var nav_element = $('<div/>');\n",
              "    nav_element.attr('style', 'width: 100%');\n",
              "    this.root.append(nav_element);\n",
              "\n",
              "    // Define a callback function for later on.\n",
              "    function toolbar_event(event) {\n",
              "        return fig.toolbar_button_onclick(event['data']);\n",
              "    }\n",
              "    function toolbar_mouse_event(event) {\n",
              "        return fig.toolbar_button_onmouseover(event['data']);\n",
              "    }\n",
              "\n",
              "    for(var toolbar_ind in mpl.toolbar_items){\n",
              "        var name = mpl.toolbar_items[toolbar_ind][0];\n",
              "        var tooltip = mpl.toolbar_items[toolbar_ind][1];\n",
              "        var image = mpl.toolbar_items[toolbar_ind][2];\n",
              "        var method_name = mpl.toolbar_items[toolbar_ind][3];\n",
              "\n",
              "        if (!name) { continue; };\n",
              "\n",
              "        var button = $('<button class=\"btn btn-default\" href=\"#\" title=\"' + name + '\"><i class=\"fa ' + image + ' fa-lg\"></i></button>');\n",
              "        button.click(method_name, toolbar_event);\n",
              "        button.mouseover(tooltip, toolbar_mouse_event);\n",
              "        nav_element.append(button);\n",
              "    }\n",
              "\n",
              "    // Add the status bar.\n",
              "    var status_bar = $('<span class=\"mpl-message\" style=\"text-align:right; float: right;\"/>');\n",
              "    nav_element.append(status_bar);\n",
              "    this.message = status_bar[0];\n",
              "\n",
              "    // Add the close button to the window.\n",
              "    var buttongrp = $('<div class=\"btn-group inline pull-right\"></div>');\n",
              "    var button = $('<button class=\"btn btn-mini btn-primary\" href=\"#\" title=\"Stop Interaction\"><i class=\"fa fa-power-off icon-remove icon-large\"></i></button>');\n",
              "    button.click(function (evt) { fig.handle_close(fig, {}); } );\n",
              "    button.mouseover('Stop Interaction', toolbar_mouse_event);\n",
              "    buttongrp.append(button);\n",
              "    var titlebar = this.root.find($('.ui-dialog-titlebar'));\n",
              "    titlebar.prepend(buttongrp);\n",
              "}\n",
              "\n",
              "mpl.figure.prototype._root_extra_style = function(el){\n",
              "    var fig = this\n",
              "    el.on(\"remove\", function(){\n",
              "\tfig.close_ws(fig, {});\n",
              "    });\n",
              "}\n",
              "\n",
              "mpl.figure.prototype._canvas_extra_style = function(el){\n",
              "    // this is important to make the div 'focusable\n",
              "    el.attr('tabindex', 0)\n",
              "    // reach out to IPython and tell the keyboard manager to turn it's self\n",
              "    // off when our div gets focus\n",
              "\n",
              "    // location in version 3\n",
              "    if (IPython.notebook.keyboard_manager) {\n",
              "        IPython.notebook.keyboard_manager.register_events(el);\n",
              "    }\n",
              "    else {\n",
              "        // location in version 2\n",
              "        IPython.keyboard_manager.register_events(el);\n",
              "    }\n",
              "\n",
              "}\n",
              "\n",
              "mpl.figure.prototype._key_event_extra = function(event, name) {\n",
              "    var manager = IPython.notebook.keyboard_manager;\n",
              "    if (!manager)\n",
              "        manager = IPython.keyboard_manager;\n",
              "\n",
              "    // Check for shift+enter\n",
              "    if (event.shiftKey && event.which == 13) {\n",
              "        this.canvas_div.blur();\n",
              "        event.shiftKey = false;\n",
              "        // Send a \"J\" for go to next cell\n",
              "        event.which = 74;\n",
              "        event.keyCode = 74;\n",
              "        manager.command_mode();\n",
              "        manager.handle_keydown(event);\n",
              "    }\n",
              "}\n",
              "\n",
              "mpl.figure.prototype.handle_save = function(fig, msg) {\n",
              "    fig.ondownload(fig, null);\n",
              "}\n",
              "\n",
              "\n",
              "mpl.find_output_cell = function(html_output) {\n",
              "    // Return the cell and output element which can be found *uniquely* in the notebook.\n",
              "    // Note - this is a bit hacky, but it is done because the \"notebook_saving.Notebook\"\n",
              "    // IPython event is triggered only after the cells have been serialised, which for\n",
              "    // our purposes (turning an active figure into a static one), is too late.\n",
              "    var cells = IPython.notebook.get_cells();\n",
              "    var ncells = cells.length;\n",
              "    for (var i=0; i<ncells; i++) {\n",
              "        var cell = cells[i];\n",
              "        if (cell.cell_type === 'code'){\n",
              "            for (var j=0; j<cell.output_area.outputs.length; j++) {\n",
              "                var data = cell.output_area.outputs[j];\n",
              "                if (data.data) {\n",
              "                    // IPython >= 3 moved mimebundle to data attribute of output\n",
              "                    data = data.data;\n",
              "                }\n",
              "                if (data['text/html'] == html_output) {\n",
              "                    return [cell, data, j];\n",
              "                }\n",
              "            }\n",
              "        }\n",
              "    }\n",
              "}\n",
              "\n",
              "// Register the function which deals with the matplotlib target/channel.\n",
              "// The kernel may be null if the page has been refreshed.\n",
              "if (IPython.notebook.kernel != null) {\n",
              "    IPython.notebook.kernel.comm_manager.register_target('matplotlib', mpl.mpl_figure_comm);\n",
              "}\n"
            ],
            "text/plain": [
              "<IPython.core.display.Javascript object>"
            ]
          },
          "metadata": {},
          "output_type": "display_data"
        },
        {
          "data": {
            "text/html": [
              "<img src=\"data:image/png;base64,iVBORw0KGgoAAAANSUhEUgAAA4QAAAK8CAYAAAC3EHFPAAAgAElEQVR4XuydC7xWU/rHn1OoqE4XpSikYlR0cY3RIJFcymUUw5RLTBm3CY38UeOSJrcGKbdKqYwhSckYTVcMUyKSEVK6YLocNVRK/89vn9ln3vOe9z3v2nvtd7/72fu3Pp8+//84a+291vd53mft37oW7dq1a5cwkQAJkAAJkAAJkAAJkAAJkAAJJI5AEQVh4mzOBpMACZAACZAACZAACZAACZCAQ4CCkI5AAiRAAiRAAiRAAiRAAiRAAgklQEGYUMOz2SRAAiRAAiRAAiRAAiRAAiRAQUgfIAESIAESIAESIAESIAESIIGEEqAgTKjh2WwSIAESIAESIAESIAESIAESoCCkD5AACZAACZAACZAACZAACZBAQglQECbU8Gw2CZAACZAACZAACZAACZAACVAQ0gdIgARIgARIgARIgARIgARIIKEEKAgTang2mwRIgARIgARIgARIgARIgAQoCOkDJEACJEACJEACJEACJEACJJBQAhSECTU8m00CJEACJEACJEACJEACJEACFIT0ARIgARIgARIgARIgARIgARJIKAEKwoQans0mARIgARIgARIgARIgARIgAQpC+gAJkAAJkAAJkAAJkAAJkAAJJJQABWFCDc9mkwAJkAAJkAAJkAAJkAAJkAAFIX2ABEiABEiABEiABEiABEiABBJKgIIwoYZns0mABEiABEiABEiABEiABEiAgpA+QAIkQAIkQAIkQAIkQAIkQAIJJUBBmFDDs9kkQAIkQAIkQAIkQAIkQAIkQEFIHyABEiABEiABEiABEiABEiCBhBKgIEyo4dlsEiABEiABEiABEiABEiABEqAgpA+QAAmQAAmQAAmQAAmQAAmQQEIJUBAm1PBsNgmQAAmQAAmQAAmQAAmQAAlQENIHSIAESIAESIAESIAESIAESCChBCgIE2p4NpsESIAESIAESIAESIAESIAEKAjpAyRAAiRAAiRAAiRAAiRAAiSQUAIUhAk1PJtNAiRAAiRAAiRAAiRAAiRAAhSE9AESIAESIAESIAESIAESIAESSCgBCsKEGp7NJgESIAESIAESIAESIAESIAEKQvoACZAACZAACZAACZAACZAACSSUAAVhQg3PZpMACZAACZAACZAACZAACZAABSF9gARIgARIgARIgARIgARIgAQSSoCCMKGGZ7NJgARIgARIgARIgARIgARIgIKQPkACJEACJEACJEACJEACJEACCSVAQZhQw7PZJEACJEACJEACJEACJEACJEBBSB8gARIgARIgARIgARIgARIggYQSoCBMqOHZbBIgARIgARIgARIgARIgARKgIKQPkAAJkAAJkAAJkAAJkAAJkEBCCVAQJtTwbDYJkAAJkAAJkAAJkAAJkAAJUBDSB0iABEiABEiABEiABEiABEggoQQoCBNqeDabBEiABEiABEiABEiABEiABCgI6QPqCPzlL3+RX/7ylzJ58mTp2bNnufq3bdtWPvjgA5k5c6acdtpp5f7WvHlzKS4ulkWLFnlq88UXXyxvv/22LF++3FM5ZP6///s/ufvuu2Xjxo1Sp06dSsvfddddcvjhh8vZZ59t/J5//etfcthhh8n8+fPlqKOOMi6XnnHLli1y3333ycknnyydOnUq9+fRo0c7bfjkk0+kRo0avt/BgiRAAvEnMHbsWLn00kuzNvTvf/+7nHjiiXkDceCBBzrPRz2ikGbPni0nnXSSpLa7T58+gv++YsWKvFRx8ODBMmTIENm1a1denq/5oWvWrJHHH39cevToIe3atTNuyjPPPCMDBgyQzz//XGrVqlVpuaKiIrnjjjsEdkByfxNffPGFwD+DTm+88YZ0797d6aP322+/oB/P5yWEAAVhQgwdp2b++9//loYNG8qVV14po0aNKmvahg0bZO+995Y999xTfvvb38q9995b9revvvpKmjZtKr/73e/k/vvv94Tjs88+k82bN3vqPNwXeBGE1atXF4jPJ5980rh+Z511llStWlVeeukl4zKZMq5bt04aN24sd955pyNiU9OPP/4oP/vZzwQfMbfddpvVe1iYBEgg3gTcj98xY8Y4cSM9tWrVSmrXrp03CO+9957zfAwARiFlEoToU7777jtp3759XqpIQZgd6z//+U9n8BT+iT7NJH3//fdy8MEHy/XXXy833nhjziLpgvDbb78V2Bz2rlatWs7yfjJgMBffOOPGjfNTnGVIQCgI6QQqCWAmbfv27bJs2bKy+k+ZMsWZMezXr58zo/ePf/yj7G/jx4+XX//61zJt2jQ588wzQ2tzPgXhkiVLnBnFv/3tb9K5c2erNlUmCPHgYcOGyR//+EdZvXq1QLgykQAJkEAmAq4gfPfdd+XII49MPKRMgjDfUCgIgxWEjz32mDOYvHbt2pwrffDmdEGYb3vj+S+88ILz/YNZSAhDJhLwSoCC0Csx5o8Egeuuu07+9Kc/CZZ/YGYLCf8No3+33367nHHGGc4yTXdpx+WXX+6MnK1fv95ZNoqE5TSPPvqoPPHEE2XLIU855RRH+DRr1qysnZmWjGI2EstHMDO3Y8cOZ4nSAw884Iwips6yuYJw6dKlzvKRV1991ZnBhChFfoxko/zuu+9egStEHsRettS/f395+eWXZeXKlVKlShUn24gRI5yO65tvvpH69es7/w1i7ve//71ce+21zt+R8E78/Te/+Y307dtXWrZsWeE1YObOVkIINmnSxGEIYZ0tYWYWedBx1qxZs1y28847T958803BbC1mNdE2sIKw/eGHH5xZX4zcTpgwwbPohI1eeeUVeeutt5x24j2wM0Z0b775ZlmwYIHzfxcvXuy0AzOdKOMmtBMcsPQG9cfAwbZt2wT+AGapy3x++uknZwkt/AacsWQXs9FYIgSxXJnNIvHjYSVIII8EvAhCfDhfffXVcswxx8g999wjX375pROL8PtKH7ibOnWq87t1l8Uh3iPGpy+NTF8y6gqyiRMnyocffujMDGGJ/NFHH+3E/0MOOaQcDfx+hw4dKhC0iJOY1fnDH/5gNOiGAUrEnLlz5zpx/vzzz3f6ImwDyLVk9Pnnn3eW7eMZWJXRqFEjp195+umnnfq57cDgJrY9oD0lJSVOOx566KFys42ZBOFzzz0nTz31lBNvN23a5MQ0LDME07322qscAwymYgsD4uh//vMfZxkiVqPgPW769NNPnZgHXqjHQQcd5KzMgT3d5Nb52Weflffff1+w7BKrbbCEFjEXjNCPvvjii04RvOPhhx8u13egn4YgwzJP2B4xFn0j+mm8001ghdVDsC/6wIULFzoMsZIIsR99pFufdPdPXd6Z6aeBgVfMdv/5z38u92fM8rr1R3/x85//3PkugU/lWjKKmWywf+eddxx+6I/ha9iigT4Kyf19oI/Byib8PjDzjW+cXr16lasLBsjRh6L/g79mS7DhDTfcILBfixYtymUbOHCgPPjgg853FVZbmdTRNJS4Pgk/QL//17/+1fkOwCwtbIkZVPym0VeDBb5vYLd0XzLxf5RB/zx8+PAyZvgWwzvzuVTblEVU81EQRtUyrFelBCDEzjnnHKdTvPDCC528CNr4iBg0aJDUrVtX8AHRrVs352/oOBDgEHzddNlllzniAx04OhiIRQRSBHkErQYNGjhZ0wXhzp07ncCPPPgYwT4EBDF0ethnmEkQojNBAD/++OOdcrfeeqsjrNDJIWFG8xe/+IV07dpVbrnlFue/QdAceuihWTmgQ8fz8F43ffTRR9KmTRun48I+S6QuXbo49UN+CFMkdPQoiwCJPYMQQvhwueqqq8qW0aBzSe1wIXbRYeHDIlvCh8oRRxxRYTkO2O67774OawhUBP/WrVs7HwaY0YUwhujE3s+RI0fm3KOR/n7YCCOkaCM+SMAbHQc+QOAP2HcKrqgDOkS8B50d9pwiuYIQI6uwwbnnnusIbdgJH0uwmTuQgE4KHQ3qjQ8q5IPN8RGHNlEQMnglmYArCBHTEAtSEz5w8RHoJvxv/GYRa7AUD4NI+DjEnmh8/LvxB79XxCfEKnw0QqhBPH399dfOPrzUvXLZBKEbLy+66CInxuPjF8v3Pv7447I6oT9AXMbvGv8XA3X4QMdA3muvvVapKERd0AehDMTUPvvs48TmefPmOTGiMkGIgSzEY8zw4L0QPfj4nzVrlhPDkFwxgxjVoUMHueKKKxwhgQ9tDEwhnrm8MglC1Al8EccR0yA8EYvBBe9xE9oJYYa+B8Jq//33dxijr5g0aZKTDf3Icccd5/ztpptucoQXykFMQKxADKXW+YADDnBiPfpAPAu2xuDfbrvt5sTgU0891ak/YjWEAESVmyDo4FMQOujLMBiLfhqDAYjL4IwEQQjBX69ePUekQThh1RD6E3cgE3aH+MQeVwgE+BQSBJgrwtJ/u+52EzwHMd9N8Dl8N6AvRZvRHvSz6Hewz7AyQQiRDSYYeEZ/gjZglQ58BO10+338PmBvDGy7wh31wO8BAwgYcEhN+N6BH0IMZ0sQzRD4sBt8wk34roE9jz32WKcvNa2jaaxzfRJiGf013vP66687v3cMJKDfhO3RdnzXQdijHuiLvfo/vqvwLYNBaNgavxN8q0G0I+Vr764pi6jmoyCMqmVYr0oJoDOAwEOniA4bggMCDh03DpPBiDM+HvDhvmrVKifQIfCiA0TCB8cJJ5zgzP4gALsJnTACFjoUjFIjpQtCzMrhgwEjUHi/mxBcEbQzCULMBmJUzk0IVvhYwEi1m7zsIcQIHoI6PopQ19QE0YMOHVy2bt3qdJBoI9qOzg3l0KFiRB4ccVBMriWjeD46c3DDMypL6OBxgM6cOXPKsmHUF3XAxxfEGkQlnocOHCLKNsFG4IlBAPdQHneUHW3EzCA+1pCwnwMdMDpE1x9cQQgRnToKjJF+CHXMAOIDEp0p+F5wwQXOYIKbXH/KNatr206WJ4GoE6jsUBmIQYg5N+GDF79FzFa4qznwQYvfGOIvVjYgYRYMMQoDbnvssYfz3xA7IWYQ+00EIT6Wp0+fXvZufFDjdwwxho9T7BPDxzeEGWK8m7AiAAIM4jF1G0K6HVBXfNymDjQhD8QOPnwrE4SY/YFIwsydO/CU/nxXEKIuWAkDdkjurGrv3r2dPgkp15JR8IIAgJhBfIOwcuOjO2uE2JxtewAGzTD4iH+p+0GvueYaZ3AN/RMGZd06oz9KZYq+EANzqatWUG8M8iLmwqZIGFTo2LGjMzsGceom9EEQtnifG8MhCNHnwEbwFzehf4FdIaKQvO4hRH8AoY664LvCTXje6aefXuEbAv0qBhIrE4QQbFhOjYFtfEtkS7Ax+mcsA3WFL+yGQV/8jvC7SU0QuZjdhvBNn/VNzQehhMFx+I67ugjfTviNuNtqTOuYtfJpf3B9Mt2WGGRG/wyhDvsjoW2IAfhGgyhEMvV//F7xjQPBDZu5CYMy8G08l4Iws9UoCE29mfkiRwAdI0axMJKMYIKgjY9/jIJC/GHUE8EfI6zoLBHw0JEhofOGWMTIanoHjA4IHx0Y7UNKF4QQYBB4GHVK7Qwx64WAk0kQ4kMm9ZADLFXCqBgEhru004sgdDs1tO2SSy4pZxvUFx85qA9G3SCQ8ZGFDhQjuGABsYyRbMwMIpkIQnTeGJ3E0hS3E8nkFO6SlNQ2w1ZoHz5AkHA6Kjo1zCBg1BWBP3WZrldnQ5tx6iyWnqYuv3U/JNEZpCbMSGATPsoguYIwUweNkWPUFR8A6CwhOFOFp/tcfHRgMIEzhF6tx/xxIuAKQsSm9BUO+MBNnTXE/8bAkDvz5HLANgCcAomlgojxEIuIl6kzR8iL0X+8z0QQ4gAyDMS5Cf0GBqfc06rxu8UMFFYTpH+k40MbYg/LHbN9aEMsQFRiSWZqcnlUJgjdgSeIRyzVhyhNPy3S/SDONAgIMQSR5J6EnUkQYtYK7UC/iH4vlZnLAHEZMQyixl2pku6bGGSEPRC30Q+mJghfiIoZM2Y4YsmtMwYnMdPnJncGB7OKaLObMEMIQQPO6MdRX9QF/RMGNlMT+gx8/LsiHQxgU2xXSE1YQQTBgcFIJK+C0O3PwC+1j8IAIXwitQ/H8yE2kK8yQYhvB+RBP4RVM+iPcdhSesLvA6ue0O+kJte+GOxOndnE7wMz6OnfG+nPxfYKiPRU/hgcwWy2u6XDtI6mscutM2yEbxE3YcYe/offTuoABGag8a0BeyGZ+j/sDJbpwhPPwCw1xDUFYWarURCaejPzRY6AK8yw1NDd8+GOCGEkGB/uWF6CgIvZHFcsoiHuh0S2RiFgIXAhpQtCrHnHDBfER2rCiDU6ykyCMP3aCVeApAZ0L4IQgRudSOrSULcu7gcIOjB0xPgQQaeJUUHs2cCHEUZvsYTC7fRNBKG7VBLtruxgGXdJCvKDBa4BwawhPgKwT89NGM2FKEf90BlAMMNW+PDzmtw9hBhhT01Y2gu74IMgNaETdUdo8d9de6SPAuNvyIeOGXuKUpfDpY4Wu/kwM0pB6NV6zB8nAn72ED7yyCPlEKQu+3SX7GEFBmZeUhMG9jBDZCII05fYuR/u7mmTWGGQuq84k00wsJTtwA4MBuIjH6IoNbkzSbn2EGKQCR/0GIjE0jbMbKG97pYI94MYfdmvfvWrcu+AqMbHPfoZpHRBiBgIoYe4jZiP/g19AfofLMlzGeDdiJmZBhrdF7r7ySvzWbe8W+d09tl8xK03VnFgBRD6i8pO3cYSWQx8Irl7CDGzmZrSr/jwKgjxbQGhmnpeAZ6P1UFYioqVKKkJghmzern2EGLgALPgWIoLu2EQBO2FCHYHNdHv4D3uzK/7HvThEOTo19xtD/ibK7TxbAxiZkuYZYQfY3YYgzHu+yEm3RlXlDWpo2nsSretWw72wSBM6mqpTPY09X93tU623wn6eArCzFajIDT1ZuaLHAF3lAsdOYI2RibdYIbRLYwoYsYHM1sItu7sFBqC5YIY3UTwyHSgCzpON6BmmyFMX96DUTkciBCGIHRHwdJHvdE2d4ksOgf8HSO1+JjC7B7qhoMFsHcCS0bcuwtNBCE6JozkpQfuTI4B8QkBhcAL4Y66YOQ203HzWB6CThrLd/H8THsjcjlfUILQZoYQIhMzDhSEuazFv8eZQNCCsLIZQnxM4qM8CEEIQYUVJFjejiWkmRKWVbpLVtP/bjNDmPosiEF8tKJPQ53Qb2HViukMCZ6VLgjdbQ54BkSAm9xZUVcQmswQYvAOcRwrU1IPkEltA4QxVr7YCkKIV/TpGADNdF0D/hsOXMkkIFIFR+pBIl4FIcQYZjfTtzfYzBCmsoLvYtAUvxvMRsLu7lJprzOE2NoAZuhrsa+zsoT6YwACefENhYFYd0tHernK6mgay4IShLlmyCubIcSgAb5JKAgpCE39lvmUEMA6eYg+zATiQx6zghA/bsLSJHRMWIOOET53TyD+jtkpBIfUTcvZmp1tD2H6jFdlewhNZgixdBXLQ1IPiclWJ4xCYjYKYhfLVtITRoOxbxLLg/APHwFuZ48lOhBrmMlzl36ifmCZzin1uVhiCTGYejBPtvq5Yh02wWwslq26hyNkK4N9IxgVRoeGZUJeUlCCMNseQreTdvcQIl+qnbiH0Iu1mDfOBIIWhGAVxB7CXDOEiG2YNcGMHAbPvCabPYSZ3oV9fTiwDNsLcNiGK67QryF+p+8hxGE07mxauiB0l7q7+yXd9yGOYXYm9U4+zHTi2RBA2e7Mw9JazOKhL8gmkPEOW0HozlhiRQ6WNFaWTGcI3eua0g+JyfZsdzVO+jYBmz2E2d6FlTtg6+5jr2wPIWYm3SXC7vMgXLF9BrZx/SPbu3CoEJZ0gwNOssXAeOqguWkdTX8nQQnCXP7PPYSmFqmYjzOE/tmxZAQI4EMBI34QNlgemjoDhU3oGHHD6BaW8eAKgdSEvRroaDDKieWXWEKD0TJ0ANjo7O55yHXKKPKi48ISBQRoCE8IK6Rs9xBmWjKKpTpY/oIRSYzuoS2pa+3TcUPkoW3Yf5Ke8AGB/TfY7wIubqeNjdZY9oRlQu5mbbcsZrjwTszUoWPCIT3Ij4QlJhCgeG7qkpJsLuAuScEhEljyBVGK9ftuwkcOOEPAQ7hiGSpmLtGZYV8jxCcSlo5htjb1vslM7wxKELqnjGKGExvuYT+8HyO4aD9S6imj2OeEfO4poxitxhIgJhJIKoFcF9Njabh7grN7rH5lS0bBMf2UUcQXLDfHygbEM3wEuinbKaO5BCHKI4ZjjzWEEk5wxB4vfFxDnOH/IqZmS6iLO4OYesoo4jNWbVS2ZBSnVCJO4lAqxGGsPkEcxkATDqnB8tH0U0axvBArYbA0EXvEkc/dp54uCDHYhtUriLXIj49/DGjh4BAcTJIqCN1TRvFOHP6CMmCM/+4OguGUUfRXeCaWLoI59v2h/4P4dE8ttRWEYI19n7CL20+jT0M/DTaIt+7Jn6aCEDOcGHjEvnb35FUcNIJ/mRL2sSH2YztD6kAlfA59GrZjgCm2FpieMooBUwgx9B9Y9op+HH0fVvSkDjRXdsqou+8ztc7wP9gkvW/P5rPYpwe/g3+mD3Cb1hE+iwH21MOiMr0vKEHonrJbmf+nnjKK0+Txe8IWGQyk45sE22mYKhKgIKRXqCbgLttAMMaoaWrCiB4CLsQQZsAg+FITgjBECAQYRkPxv7GRHxv6sZYeQg8p2z2EEJyYmcRIHTpHBDwEWHdEF2W9CEJc2YBlG9gXAIGU68RKBD10ktjTgQ+X1ITOBaIGggsb/N2E4IjOP9PoKEQzltJCfGHZUuo9hBA5mOVLPY0ul+O4tsHHAgJw6oglRiLxQYc242MGBwigM8NJe+5VIXg+Po4gyNJHQtPfHZQgxBIq8EFnCLtCmOLDLPX6DfceQuzPxEciRlmxVAd1x2b29LuqcnHi30kgTgQqO2UU7Uw9ndlUEKIcYi2EE/Z2Y8AMg1PY14Vj/jHo5SYbQYhnQMBh1QVm0yByEFsxU4flqenH/KfbDcvV0HdgsAv9DU5NxAoWHFJTmSDESgr0Gxh4QkyBAEGfhtUS6FuQUu8hRF+HvV9YJYNBURwWlnpYT6ZDZdAeLN9HDIeoQp3AEMIoVRDiXViyipOoEafxEY04jHakHiKDZXcYCINQxCE1qDPECOK3u9czCEGI+qB+iLfopxF/Id7QT2OFjNtuU0GI50FMQSBgABZxPtc9hJh9hXjGqaqpCYIc3wHobyEcUScsOcbWgcr2EMKH8X7MsMKH8Y2CVT2wBwYk3OT+PiDOcUgKhDlEP04zx2Esqck91M5k1ZNbzl0O6540njqgblpH93TX1GXbmeJZUIIQv/dc/u/GGfyOwQwxATP4+CbE/8Z3B1NFAhSE9AoSCIiAe5pp+rHXAT2+wmPcY9IxG5l+9UTQ78QyKnRcqVdJBP2OQj7PnbHFKDs+/rwmdMYQhhhxTr1M1+tzmJ8ESMCMAD7k8VvFIF4SZuWziSszWsxlQ8Ddd5jp0DGb5+Yqm23AJFM5iER8g6Avwv2OcUu2/o9ZQqy4wiSBe/9z3BjZtoeC0JYgyyeSAJbOYIkQDp5B0MboKzY745CW1Et+8w0Ho5HY34YZtPQZ0KDejb2HGKHEqHe2wxaCelehnuNFEGJ0EcvPcNADRlTdC54h0DGC7S6HK1Rb+F4SiCMBrFjA/iocEIbYi+V1GKCCGEzfDhDH9tt+EMeRSZhtwrVWOOAIq0fCSqaCEGIHq1jwPZB+Am1Ydc33e7z4P+IDtu5gSS8ON8K2Dsyio6+GuA/i7uN8t7cQz6cgLAR1vlM9ASw9wJIaCDEIASxhwfIgLKFxL1gOo5FYt49lEVj+k68ghz19uLsHp4zGNXkRhBDI2LeCpVdYMoSlUlg2g/0lWDLFRAIkEDwBHCqCJYxYUok9cFjqiNUR7t2ywb8xWk/08kEcrZrHozbYa4ctJlgiGlYfbyoIsbIF2x2wbSHXYTJareHF/7FFCMt8sbQUy8kxWI7BbCzTTb8uSiuPfNSbgjAfVPlMEiABEiABEiABEiABEiABElBAgIJQgZFYRRIgARIgARIgARIgARIgARLIBwEKwnxQ5TNJgARIgARIIAsBXF+Af+4FyVjujRM03XtU3ZP7UotjDxNOR2QiARIgARIggaAJUBAGTZTPIwESIAESIIFKCOCuNtyHhUvAkcaNG+dcw+LeOQdBiBPxsE/ZTTgavri4mFxJgARIgARIIHACFISWSHEnDo7jxybjuG7mtUTE4iRAAiSQVwK4Awt3xuFwpypVquT1Xfl6eL169RxRiNM0IQhxpcJDDz3k+3Xsm3yjY0ESIAESCISApr6JgtDS5Dh5qmnTppZPYXESIAESIAFbAqtWrXIu0daUdu7c6VxjggupMUPYqlUrRxDiEmx8TOyzzz7OUlJcdF3Z6Ybbtm0T/HPT6tWrnWcxkQAJkAAJFJaAhr6JgtDSR9xj52Fs3EnGRAIkQAIkEC6B7777zhmYw31cWpZVLlmyxLnLcuvWrVKzZk2ZOHGidOvWzQH3xBNPSLNmzaRRo0bO3Za33HKLs7z09ddfzwp28ODBzrHq6Yl9U7i+yLeRAAmQgEtAU99EQWjptzA2PkAgDCkILWGyOAmQAAn4IKAxDm/fvl1WrlzpiNgXXnhBcBcmLlrPNKu3cOFCOfLIIwX/F/fvZUrpM4Tuhwj7Jh8OxSIkQAIkEAABTX0TBaGlwTUZ27KpLE4CJEACkSQQhzh8yimnSPPmzWX06NEVGGPpaLVq1WT8+PGC00ZNUhyYmLSTeUiABEggqgQ0xWEKQksv0mRsy6ayOAmQAAlEkkAc4nDnzp2dZa9jx46twBjLRg877DBnBrFTp05GNogDE6OGMhMJkAAJRJSApjhMQWjpRJqMbdlUFicBEiCBSBLQFocHDRrkHBQDAYjTUXG/4L333iszZ86Ugw46SIi1TmcAACAASURBVJ599llnP+Hee+8tS5culQEDBgiunXj33Xed6ypMkjYmJm1iHhIgARLQREBTHKYgtPQsLcbe+dMueeeLDfLN5q3SsFZ1ObpZPalapciy9SxOAiRAAoUnoCUOu6RwtcQbb7wha9eudfagH3744TJw4EDp0qWL4BCYiy++2DlMZsuWLY5oPOOMM5xTRnE1hWmyYcL+wpQy85EACZBAdgI2cThsrhSElsQ1GHvmh2tlyLSlsrZka1lrGxdXlzvOaiVd2zS2JMDiJEACJFBYAhricNiE/DJhfxG2pfg+EiCBuBLwG4cLwYOC0JJ61I2Nzr3fhEWyK62d7tzgYxd3oCi09AEWJwESKCyBqMfhQtDxw4T9RSEsxXeSAAnElYCfOFwoFhSEluSjbGws+/n5sFnlZgZTmwtR2Ki4uswfeDKXj1r6AYuTAAkUjkCU43ChqHhlwv6iUJbie0mABOJKwGscLiQHCkJL+lE29lufrZcLn3g7Zwsn9T1WOjavnzMfM5AACZBAFAlEOQ4XipdXJuwvCmUpvpcESCCuBLzG4UJyoCC0pB9lY09dvFqum7w4ZwtH9Gon3dvtlzMfM5AACZBAFAlEOQ4XipdXJuwvCmUpvpcESCCuBLzG4UJyoCC0pB9lY3PE19K4LE4CJKCCQJTjcKEAemXC/qJQluJ7SYAE4krAaxwuJAcKQkv6UTa2uydkXcnWCofKoNncQ2hpfBYnARKIBIEox+FCAfLKhP1FoSzF95IACcSVgNc4XEgOFISW9KNubPfUODQz9aTRsE4Z5X1Wlg7G4iRAAjkJRD0O52xAHjL4YVLo/iIPGPhIEiABEigYAT9xuFCVpSC0JK/B2IW6V6pQ77U0KYuTAAkoI6AhDoeN1C8Txu2wLcX3kQAJxJWA3zhcCB4UhJbUtRg77Jk63mdl6VgsTgIkYExASxw2blAAGW2YhN1fBNBcPoIESIAEIkfAJg6H3RgKQkvimoxt2VTj4rzPyhgVM5IACQRAgHG4IkQyCcCx+AgSIAESsCCgKQ5TEFoYGkU1GduyqcbFeVqdMSpmJAESCIAA4zAFYQBuxEeQAAmQQKAENPVNFISWptdkbMumGhfnfVbGqJiRBEggAAKMwxSEAbgRH0ECJEACgRLQ1DdREFqaXpOxLZtqXJwzhMaomJEESCAAAozD4QhC7i0MwFn5CBIggcQQ0NQ3URBauqUmY1s21bg477MyRsWMJEACARBgHM6/IOTpowE4Kh9BAiSQKAKa+iYKQkvX1GRsy6Z6Ks77rDzhYmYSIAELAozD+RWEPDXawjlZlARIILEENPVNFISWbmpr7FxLcHL93bL6eS3OEeW84uXDSYAE/kvANg7HEWRQTHhqdBy9g20iARIIg0BQcTiMulIQWlK2MXYuwZTr75ZVD6W4ZkEbCiC+hARIwJqATRy2fnlEHxAUE+4Jj6iBWS0SIIHIEwgqDofRUApCS8p+jZ1rCc6VnZrJ43O/kF1p9Sv67/9+7OIO0rVNY8vaszgJkAAJ6CfgNw7rb3n2FgTFhKdGx9lL2DYSIIF8EggqDuezju6zYysIH3vsMcG/FStWOG1t3bq13H777XL66ac7/3vbtm1y4403yqRJk+SHH36Qzp07y8iRI6VJkyaeuPsxtskSnKIikZ/S1eB/awZR2Ki4uswfeLJUreJKRE/VZmYSIAESiA0BP3E4No3P0pCgmHCGMO6ewvaRAAnki0BQcThf9Ut9bmwF4bRp06Rq1arSokULp73jxo2T4cOHy3vvveeIw379+gnyjB07VurXry8DBgyQDRs2yMKFC51ypsmPsU072Fx1mNT3WOnYvH6ubPw7CZAACcSagJ84HGsgIhIUE54aHXdPYftIgATyRSCoOJyv+iVCEGaCV69ePUcUnn/++dKgQQMZP3689OzZ08m6Zs0aadq0qcyYMUNOO+00Y/Z+jG26BCdXJUb0aifd2+2XKxv/TgIkQAKxJuAnDscaSICCEJx4anTcvYXtIwESyAcBTX1TbGcIUw27c+dOef7556V3797ODOG6deucJaKYEaxbt25Z1rZt20qPHj1kyJAhWf0CS03xz00wNoRkSUmJ1K5d28ifOENohImZSIAESMCIgKZO16hBAWQKmkkcDjkLACsfQQIkQALGBIKOw8Yv9pEx1oJwyZIl0rFjR9m6davUrFlTJk6cKN26dXP+76WXXlpO2IHdqaeeKs2aNZPRo0dnRTl48OCMgtGLIDRZgsM9hD68mUVIgAQSSUBTpxuWgfLBhKdGh2U9vocESCAOBPIRh/PFJdaCcPv27bJy5UrZtGmTvPDCC/Lkk0/KnDlzZPHixRkFYZcuXaR58+YyatSorLyDmCHEw3MtwXFPGUXe1LNleMpovn4KfC4JkIBWApo63bAYk0lYpPkeEiABEshMQFMcjrUgTDfPKaec4gg+7Bv0u2Q0/Zk2xs61BCfX3/kDJAESIAESCO4AlTixtOmb4sSBbSEBEiCBQhHQFIcTJQghArHfb8SIEc6hMhMmTJALLrjA8ZO1a9c6V06EcahMqmPmWoKT6++FcnK+lwRIgASiQkBTpxsWMzIJizTfQwIkQAKcIYysDwwaNMi5cxACcPPmzTJ58mS59957ZebMmYKlobh24pVXXnGuncDpo7iTcP369aFcOxFZaKwYCZAACSgkQPFT0WhkotCRWWUSIIFYEdAUh2M7Q3j55ZfLG2+84cz8FRcXy+GHHy4DBw50xCASDpq56aabnANmUi+mh4D0kjQZ20u7mJcESIAEtBBgHKYg1OKrrCcJkEByCGjqm2IrCMNyN03GDosJ30MCJEACYRJgHKYgDNPf+C4SIAESMCGgqW+iIDSxaCV5NBnbsqksTgIkQAKRJMA4nF9BaLOX3aZsJJ2NlSIBEiABQwKa+iYKQkOjZsumydiWTWVxEiABEogkAcbh/AlCm9OubcpG0tFYKRIgARLwQEBT30RB6MGwmbJqMnZlTeUorqUjsDgJkEDBCMQlDgcJMAgm7n25qXfhoo4m9+HalA2SA59FAiRAAoUiEEQcDqvuFISWpDUZO1tTOYpr6QQsTgIkUFACcYjDQQO0ZYJBwp8PmyVrS7ZmrBpEYaPi6jJ/4MlStYorEUuz2pQNmgOfRwIkQAKFImAbh8OsNwWhJW1Nxs7UVI7iWjoAi5MACRScgLY4/Nhjjwn+rVixwmHXunVruf32252rkpC2bdvmXIU0adKkcqdg465c02TL5K3P1suFT7yd83WT+h4rHZvXL5fPpmzOFzIDCZAACSghYBuHw2wmBaElbU3GTm8qR3Etjc/iJEACkSCgLQ5PmzZNqlatKi1atHD4jRs3ToYPHy7vvfeeIw5xTy7y4J7c+vXry4ABA2TDhg2e7sm1ZTJ18Wq5bvLinPYd0auddG+3X7l8NmVzvpAZSIAESEAJAds4HGYzKQgtaWsydnpTOYpraXwWJwESiAQBzXHYBVivXj1HFJ5//vnSoEEDGT9+vPTs2dP585o1awR35M6YMUNOO+00I+a2TGz6B5uyRo1jJhIgARJQQMA2DofZRApCS9qajJ3eVI7iWhqfxUmABCJBQHMc3rlzpzz//PPSu3dvZ4Zw3bp10rlzZ2dGsG7dumV827ZtKz169JAhQ4YYMbdl4q4gWVeyVdIPlUEFTPYQ+ilr1DhmIgESIAEFBGzjcJhNpCC0pK3J2OlNDXoUlyeVWjoTi5MACfgioDEOL1myRDp27Chbt26VmjVrysSJE6Vbt27O/7300kudfYSp6dRTT5VmzZrJ6NGjMzJC/tQyYIJZxZKSEqldu7Yvru4ecxROFYVeThn1U9ZXZVmIBEiABCJGQFPfREFo6TyajJ3eVJsR4PRn8aRSS0dicRIgAd8ENMbh7du3y8qVK2XTpk3ywgsvyJNPPilz5syRxYsXZxSEXbp0kebNm8uoUaMycho8eHDG2UMbQYgX2cR2m7K+nYEFSYAESCAiBDT1TRSElk6jydiZmmozAuw+jyeVWjoRi5MACVgR0B6H0fhTTjnFEXzYN+hnyWg+Zghdo9is/rApa+UULEwCJEACBSagqW+iILR0Fk3GztZUm1FcnlRq6UAsTgIkYE0gDnEYIhBLPEeMGOEcKjNhwgS54IILHDZr164VXDkR5qEy1kbhA0iABEgg4QQ09U0UhJbOqsnYlTXV7yhu0PsQLc3B4iRAAgkkoC0ODxo0yLlzEAJw8+bNMnnyZLn33ntl5syZgqWhuHbilVdeca6dwOmjuJNw/fr1oV47kUA3YpNJgARIIFACmvomCkJL02sytmVTMxbnSaX5oMpnkgAJeCGgLQ5ffvnl8sYbbzgzf8XFxXL44YfLwIEDHTGIhINmbrrpJueAmR9++MFZQjpy5EhHQJombUxM28V8JEACJKCFgKY4TEFo6VWajG3Z1IzFOUOYD6p8JgmQgBcCSY/DmViRiRcPYl4SIAESCJ6ApjhMQWhpf03GtmxqxuJBnlSaj/rxmSRAAvEnkPQ4TEEYfx9nC0mABPQR0NQ3URBa+pcmY1s2NWvxIE4qzVfd4vBcv/s749B2toEETAgwDlekRCYmnsM8JEACJJA/ApriMAWhpR9oMrZlUystbnNSaT7rpf3Z5Krdgqx/GAQYhykIw/AzvoMESIAEvBDQ1DdREHqxbIa8moxt2dScxTmTlRORpwy839ETLmZOMAHGYQrCBLs/m04CJBBRApr6JgpCSyfSZGzLprJ4iAR4v2OIsPkq9QQYhykI1TsxG0ACJBA7Apr6JgpCS/fTZGzLprJ4iAR4emuIsPkq9QQYhykI1TsxG0ACJBA7Apr6JgpCS/fTZGzLprJ4iAR4v2OIsPkq9QQYhykI1TsxG0ACJBA7Apr6JgpCS/fTZGzLprJ4iAQ4QxgibL5KPQHGYQpC9U7MBpAACcSOgKa+iYLQ0v00GduyqSweIgHe7xgibL5KPQHGYQpC9U7MBpAACcSOgKa+iYLQ0v00GduyqXktzhNKy+MFj0dmfSoP/u3TCtyL/vtfHru4g3Rt0zivduHDSUADAcZhCkINfso6kgAJJIuApr6JgtDSNzUZ27KpeSvOu/bKo83EIzVH4+LqcsdZrSgG8+aRfLA2AozDFITafJb1JQESiD8BTX0TBaGlP2oytmVT81Kcd+1VFIP9JiySXVlo33DKwfLbk1tI1SruPGFezMKHkoAqAozDFISqHJaVJQESSAQBTX0TBaGlS2oytmVTAy/Ou/bKIyWPwF2MD0wIAcZhCsKEuDqbSQIkoIiApr6JgtDSsTQZ27KpgRfnSZrlkZJH4C7GByaEAONweIKQ+70T8qNiM0mABKwJaOqbKAgtza3J2JZNDbw479orj5Q8AncxPjAhBBiHwxGE3O+dkB8Um0kCJBAIAU19EwWhpck1GduyqYEXt5kRi+MotQ2PwI3DB5KAIgKMw/kXhNzvregHwaqSAAlEgoCmvomC0NJlNBnbsqmBF/d7115Yo9Rhi04THvX22kP+74xDpVFxDTm6WT0eLhO4V/KBGgkwDudXEHJ/s8ZfBetMAiRQaAKa+iYKQktv0WRsy6bmpbg76oyHp56sme2uvbBGqcMSnelQs/HIBJ/XT+TFJflQhQQYh/MrCLl6QeGPglUmARIoOAFNfRMFoaW7aDK2ZVPzVtxUfNmMUnuZ7TMVnV6e6QVernsI3WfxgnovVJk3zgQYh/MrCLm/Oc6/HraNBEggXwQ09U0UhJZeoMnYlk3Na3ETceV3lNpUcKKBpqLztjMOlTunfyxrS7aWcQlyxs7lse67rXLnKx/Jhv/8mJE/RGGj4uoyf+DJXD6aVw/lw6NMgHE4v4LQb+yNss+wbiRAAiSQbwKa+iYKQktv0GRsy6YWvLifUWrT2T63caYfPplg5GPGzrQ+k/oeKx2b1y+4jVgBEigEAcbh/ApCk/3NHJgqhOfznSRAAlEmoKlvoiC09CRNxrZsasGLexVHprN9qbNrpqIzG4ygZ+xM6zOiVzvp3m6/gtuIFSCBQhBgHM6vIMTTve73LoQf8J0kQAIkECUCmvomCkJLz9FkbMumFry411FqrwISDTQtkwtGUDN2pvUJ6n252sW/k0AUCTAO518QuqJwyLSleVsqH0XfYp1IgARIwC8BTX1TbAXh0KFD5cUXX5Rly5ZJjRo15LjjjpNhw4bJIYccUmbXbdu2yY033iiTJk2SH374QTp37iwjR46UJk2aGNtek7GNGxXhjF5Gqf3MruUSnaZogpqxy1WfoGckTdvHfCQQJQKMw+EIQrzFZL93lHyDdSEBEiCBQhHQ1DfFVhB27dpVevXqJUcddZTs2LFDbr31VlmyZIksXbpU9tprL8c3+vXrJ9OmTZOxY8dK/fr1ZcCAAbJhwwZZuHChVK1a1ch/NBnbqEEKMpkeEuN3dq0y0Zl6NUZlqIKcsfMighWYj1UkgcAJMA6HJwgDNx4fSAIkQAIxJaCpb4qtIEz3rW+//VYaNmwoc+bMkU6dOklJSYk0aNBAxo8fLz179nSyr1mzRpo2bSozZsyQ0047zcg9NRnbqEFKMpmMUtvMrg2dsVSemPeF/JSiAKsUiVz+82byygdrZV3J1nL3JrrY8jVjZyqClZiP1SSBQAkwDidLEJrE/0AdjA8jARIgAR8ENPVNiRGEy5cvl5YtWzqzhG3atJFZs2Y5S0QxI1i3bt0yM7dt21Z69OghQ4YMMTK9JmMbNShmmfzMrmU7mRRoIPiu7NRMHp/7hUMqdcYwH6eMppqDH0Exc042JzACjMPJEYQcHAvsZ8MHkQAJ5JmApr4pEYJw165d0r17d9m4caPMmzfPMf/EiRPl0ksvFewjTE2nnnqqNGvWTEaPHp3RTZA/tQyMjVlFzDjWrl07z67Fx/sh4OUDwvRk0nzfQ+innaZloiIso1IPU27MF10CmjrdsCjGkYnXa4TCYs33kAAJkEAmApricCIE4dVXXy3Tp0+X+fPnlx0Yk00QdunSRZo3by6jRo3K6N2DBw/OOHtIQRjtYGAqPrzsOzy6WT1554sN8s3mrdKwVnXB/66KdaURTl7EcT6bEZV65LONfHZ4BDR1umFRiRsT08G61GuEwmLN95AACZAABWHEfeCaa66Rl156SebOnevM/LnJ75JRzhBG3OCW1fNzMqnlK0MrHpXR9ajUIzTwfFHeCcRN/AQBLG5MvAzWdWxePwiEfAYJkAAJWBHQFIdjO0OIZaIQg1OmTJHZs2c7+wdTk3uozIQJE+SCCy5w/rR27VpnBpGHylj5v+rCcf3oyDW6DqM1Lq4u+R5dz1WPfB3Ko9opWfmcBDR1ujkbE1CGuDGJ82BdQCbnY0iABCJGQFMcjq0g7N+/v7NPcOrUqeXuHiwuLnbuJUTCtROvvPKKc+1EvXr1nDsJ169fz2snIvaDCrM6NieThllPr++KitCNSj288mP+aBPQ1OmGRTJuTBg7wvIcvocESCAoApricGwFYVFR5r1cY8aMkT59+ji23rp1q9x0002OcEy9mB6HxJgmTcY2bVPS8/k5mTTqzKa8t1pueG5xzmo+2LOdnNN+v5z5/GbgKL9fcixXGQHG4Yp04sYkroN1/GWTAAnEl4CmOBxbQRiWe2kydlhM4vCeuB168tS8z+XO6R/nNM35HZrIfRe0zZnPbwaO8vslx3IUhN58II59UxwH67xZlblJgAQ0EdAUhykILT1Lk7Etm5q44qYnk2oAM2XRV3LDn983quqoiztI1zaNjfJ6zcRRfq/EmN+EgLY4PHToUHnxxRdl2bJlzhaG4447ToYNG1Zue8OJJ54oc+bMKdf8nj17yuTJk02QiDYmRo0SkbgN1pm2m/lIgAT0EdAUhykILf1Lk7Etm8riigmYzsyhifk+XIaj/IodKaJV1xaHu3btKr169ZKjjjpKduzYIbfeeqssWbJEli5dKnvttZdDGYLw4IMPlj/84Q9l1CEesQ/eJGljYtImN0+cBuu8tJt5SYAEdBHQFIcpCC19S5OxLZvK4ooJ4APqiLtel03f/2jUikl9jxW/R7ebfKxxlN/IDMxkSEB7HP7222+lYcOGzoxgp06dygRhu3bt5KGHHjKkUD6bdia+Gs1CJEACJBAhApriMAWhpeNoMrZlU1lcMQGvgnBEr3bSvZ33w2W8CD0T4agYOaseIgHtcXj58uXO1UiYJWzTpk2ZIPzoo48EVyjts88+cvrpp8sdd9whtWrVykiWd+SG6HB8FQmQAAkYENDUN1EQGhi0siyajG3ZVBZXTMDLklE0088MIS+cV+wgyquuOQ5D8HXv3l02btwo8+bNK7PEE088Ic2aNZNGjRrJhx9+KLfccou0aNFCXn/99YzWGjx4sAwZMqTC33Dnbu3atZVbmNUnARIgAX0ENPVNFISW/qXJ2JZNZXHFBEyve0AT/ewh5IXzip0jBlXXHIevvvpqmT59usyfP1+aNGmS1RoLFy6UI4880rknt0OHDhXycYbQzpG5YsGOH0uTAAlUJKCpb6IgtPRgTca2bCqLKybgZYbQzymjps/3M/OoGDurHhIBrXH4mmuukZdeeknmzp3rzAZWljCTWK1aNRk/frzgtNFcSSuTXO3Kx9+9LHXPx/v5TBIggXgS0BSHKQgtfVCTsS2byuKKCeS67gFNq1Ik8siF7aXb4ft6bqnpDKTfvYmVVYgj+57NFbsC2uIwxB3E4JQpU2T27NnO/sFcCctGDzvssHIHz1RWRhuTXO3P19+51D1fZPlcEiABTXGYgtDSXzUZ27KpLK6cQLbrHtxmjbyog3Q73N/9g4WaIeTIvnKnDKj62uJw//79ZeLEiTJ16tRydw/iSglcLfHZZ5/Js88+K926dZO9997buY5iwIABzt/effddqVq1ak5y2pjkbFAeMnCpex6g8pEkQAJlBDTFYQpCS8fVZGzLprJ4DAjkS0DlmoEsEpFGxdVl/sCTpSqmIgNIHNkPAGJMHqEtDhcVZf4NjBkzRvr06SOrVq2Siy++2DlMZsuWLdK0aVM544wznFNG69WrZ2Q1bUyMGhVwpkINZAXcDD6OBEggogQ0xWEKQksn0mRsy6ayeMgE8rUUMl/PDfPCeY7sh+yMEX8d43BFA5FJbqct5FL33LVjDhIgAe0ENMVhCkJLb9NkbMumsniIBPI1k5erCbZiMax6c2Q/lyWT9XfGYQpCPx7POOKHGsuQAAmYEtDUN1EQmlo1Sz5NxrZsKouHRKBQSyGDEnO2otIEM0f2TSglJw/jMAWhH28vxFJ3P/VkGRIgAZ0ENPVNFISWPqbJ2JZNZfEQCISxFDKTYHt96TrpN2GR7Epro7vT6bGLO0jXNv4OnMmHQOTIfgjOqOgVjMMUhH7dNcyl7n7ryHIkQAI6CWjqmygILX1Mk7Etm8riIRDIt9DJNAvYqHZ12bpjp2z6/sesLaxTY3d59Fcd5NiD6ns6FCaoWcf0inFkPwRnVPQKxmEKQht3zVecsqkTy5IACegnoKlvoiC09DdNxrZsKouHQCCfSyGzLUX10qzGxdXljrNaGc0W5nvpK0f2vViusHnzMUuc2iLGYQpCWw/Pt4/a1o/lSYAE9BHQ1DdREFr6lyZjWzaVxUMgkK8ZwlxLUU2bZrqENNf7grqGgiP7ppYrXL4wbMQ4TEFYOA/nm0mABEggMwFNfRMFoaUXazK2ZVNZPAQC+VoKaSo0TZpoIuZM3zep77HSsXl9k9dmzcORfSt8eS2c71lit/KMwxSEeXVkPpwESIAEfBDQ1DdREPowcGoRTca2bCqLh0QgH0shTZeiemliZWLO9H0jerWT7u328/Ja5lVCIKxZYuBgHKYgVPKzYDVJgAQSREBT30RBaOmYmoxt2VQWD5FA0MvsTGfsvDSxMjFn+r4gZgi91Jl5wyMQpg8wDsdDEIY12x/We8L7tfFNJEACUSSgqW+iILT0IE3Gtmwqi4dMIMiPFpOlqHX23F2q7VZF1n23zailz15xjBzfYu+MeU3e16i4uswfeLKnU0uNKsZMkSAQ5iwx47B+QRj0IFi2H0FY74nEj5CVIAESKCgBTX0TBaGlq2gytmVTWVw5AZOlqF1aNZKn538ud89YlrO1z15+jBzfMrMgRGGT9/m92zBn5Zih4AQ4Q1hYE2jqm8LaaxrWewpreb6dBEggKgQ0xWEKQkuv0WRsy6ayeAwImIyOBzmzk+19t51xqNTdq5p8s3mrNKxVXY5uVo8zhTHwr9QmhDlLzDisd4YwrL2mYb0nZj9jNocESMCCgKa+iYLQwtAoqsnYlk1l8ZgQyLUUNeiZnfT3bfzPdrlz+lJZW7K1jKiX+w1jYoZENCOsWWLGYb2CMOh4k+2HFdZ7EvHDZiNJgASMCGjqmygIjUyaPZMmY1s2lcUTQiCfMztcspUQJ0pppsmstC0VxmG9gjDIFQmV+VFY77H1ZZYnARKIDwFNfRMFoaXfaTK2ZVNZPEEE8jGzwyVbCXKgtKbmmpW2JcM4rFcQhjVzF9Z7bH2Z5UmABOJDQFPfREFo6XeajG3ZVBZPGIGgZ3b4QZYwBwqxuYzDegVhPlckpFIJ6z0huj1fRQIkEHECmvomCkJLZ9JkbMumsngCCQQ5s8MlWwl0oJCazDisVxCi5vlYkZDJ9cJ6T0huz9eQAAlEnICmvomC0NKZNBnbsqksTgJWBDhDaIWPhSshwDisWxC6onDItPwfNhX0ygf+MEmABEggGwFNfRMFoaUfazK2ZVNZnASsCHDJlhU+FqYg9OQDGvumIFckVAYrrPd4MhgzkwAJxI6ApjhMQWjpfpqMbdlUFicBawJcsmWNkA/IQIBxWP8MIR2bBEiABOJGQFPfREFo6X2ajG3ZVBYngUAIcMlWIBj5kBQCjMPJEoSc4ePPnwRIQAMBTX0TBaGlR2kytmVTWZwEAiPAD7rAquijrAAAIABJREFUUPJBIsI4nBxBiAGlwS9/JOu+21bW6Ea1q8ngs1tL1zaN+XuIMAHG/Qgbh1XLCwFNfRMFoaULaDK2ZVNZnARIgAQiSYBxOBmCEGLwNxMWZfXBURd3oCiM5C+09CTZMA4NimjzWa2EEtDUN1EQWjqpJmNbNpXFSYAESCCSBBiH4y8IMbt0xF2vy6bvf8zqg3X23F0W/l8XqVqlKJJ+mtRKuXvHd6UBcK30GIV8Ul0j9u3W1DdREFq6oyZjWzaVxUmABEggkgQYh+MvCBd8+m/51VP/yOl/z15+jBzfcu+c+WwybN/xk4x/a4V8ueF7OaDennJJxwNlj92q2DwytmXd06XXlmzN2EaIwkbF1WX+wJMp5GPrBcltmKa+iYLQ0k81GduyqSxOAiRAAhkJ+N0b5LdceiUYh+MvCO97bZk88vfPcv4Cf3tSc7nxtJ/lzOc3w9AZS+WJeV/ITynTXZiQ7HtCM7mlWyu/j41tOd4/G1vTsmEGBDT1TRSEBgatLIsmY1s2lcVJgARIoAIBv3uD/JbLZALG4SQIwk/kkb8vz/kL/O1JLeTG0w7Jmc9PBojB0XO/yFr0qk4Uhelwpi5eLddNXpwT94he7aR7u/1y5mMGEtBEQFPfREFo6VmajG3ZVBYnARIggXIE/O4N8lsuG37G4fgLwgXL/y2/etJgyegVx8jxLYJfMoploj+77dVyM4Pp1DFTuOzO07l8NAUMZwjZaSSZgKa+KdaCcO7cuTJ8+HBZuHChrF27VqZMmSI9evQo881du3bJkCFD5PHHH5eNGzfKMcccI48++qi0bt3a2H81Gdu4UcxIAiRAAjkI+N0b5LdcZdVhHI6/IDQ5VKbunrvLP/N0qMxT8z6XO6d/nDMu3HbGoXL5CQflzJeUDO7vfV3JVkk/VAYMuIcwKZ6QzHZq6ptiLQhfffVVWbBggXTo0EHOO++8CoJw2LBhcvfdd8vYsWPl4IMPlrvuuksgIj/55BOpVauWkfdqMrZRg5iJBEiABAwI+B3591uOgtDAKClZ4tg3FfLaidunfijPvPVlTiP8uuMB8ofubXLmS1IGd0UA2pwqCnnKaJK8IJlt1RSHYy0IU92vqKionCDE7OC+++4r119/vQwcONDJum3bNtlnn30EQvGqq64y8l5NxjZqEDORAAmQgAEBv3uD/JajIDQwSswFIZpXejH9Uln33f9OrWxcXF3uOKtVXu8g5AyhN/9Lzx3knmG7mrA0CYRHQJNGSKwg/Pzzz6V58+ayaNEiad++fZl3dO/eXerUqSPjxo3L6DEQjfjnJhi7adOmUlJSIrVr1w7Py/gmEiABEiggAb8zfX7LURB6M7amDxFvLRMJ6nRaL+/lHkIvtDLnLYTd7GvNJ5CAfwKa4nBiBeGbb74pxx9/vKxevdqZKXTTlVdeKV9++aW89tprGT1g8ODBzr7D9ERB6P8Hw5IkQAL6CPjdG+S3HAWhNx/R9CHirWWFy81TRgvHnm8mAY0ENMXhxAvCNWvWSOPGjcv8rG/fvrJq1SqZOXNmRt/jDKHGnyTrTAIkkA8CfvcG+S2XrQ2aOt182CHTM8kkP6R5D2F+uPKpJBBHApricGIFod8lo+kOq8nYcfyxsU0kQAKFJeB3b5DfcnEQP0OHDpUXX3xRli1bJjVq1JDjjjvO2bt+yCH/uz8Pg4833nijTJo0SX744Qfp3LmzjBw5Upo0aWJkcPZNRph8ZcLy0fFvrZAvN3wvB9TbUy7peCCvmvBFkoVIIN4ENMXhxApC91CZG264QW6++WbHI7dv3y4NGzbkoTLx/n2ydSRAAgET8Ls3yG857QNzXbt2lV69eslRRx0lO3bskFtvvVWWLFkiS5culb322stpXr9+/WTatGnOKdj169eXAQMGyIYNG5xrlKpWrZrTgpo+RHI2hhlIgARIQCEBTXE41oJwy5Ytsnz5cseFcHDMAw88ICeddJLUq1dP9t9/f0f4YaR2zJgx0rJlS7nnnntk9uzZvHZC4Y+OVSYBEkguAU2dbiYrffvtt85g5Jw5c6RTp07OIWUNGjSQ8ePHS8+ePZ0i2N6AA8xmzJghp512Wk5ja2eSs4EBZghqYCLAKvFRJEACMSCgKQ7HWhBC3EEApqfevXs7o67uxfSjR48udzF9mzbmdwhpMnYMfltsAgmQAAlUIKA9DmPgEoOSmCVE/zNr1ixniShmBOvWrVvW3rZt20qPHj0yHmzG/e3+fhhBLl32VwOWIgESiCsBTX1TrAVhGA6mydhh8OA7SIAESCBsAprjMAYmcd3Rxo0bZd68eQ66iRMnyqWXXlruiiP891NPPVWaNWsmGMRMTzwB27vXuYcbpV6WjqfwwnTvLFmCBEigIgFNfRMFoaUHazK2ZVNZnARIgAQiSUBzHL766qtl+vTpMn/+/LIDY7IJwi5dujj3544aNaqCHThD6M013etP1pb874L71CdAFDYqri7zB54sVau4EtHbO5ibBEgg2QQ09U0UhJa+qsnYlk1lcRIgARKIJAGtcfiaa66Rl156SebOnevM/LnJz5LRdMNoZRKWg7312Xq58Im3c75uUt9jpWPz+jnzIQP3IhphYiblBOjn5gbUFIcpCM3tmjGnJmNbNpXFSYAESCCSBLTFYSwThRicMmWKc5AZ9g+mJvdQmQkTJsgFF1zg/Gnt2rXODCIPlQnGBacuXi3XTV6c82EjerWT7u32y5mPexFzImKGGBCgn3szoqa+iYLQm20r5NZkbMumsjgJkAAJRJKAtjjcv39/Z5/g1KlTy909WFxc7NxLiIRrJ1555RXnADScjI07CdevX89rJwLywCBnCLkXMSCj8DGRJkA/924eTX0TBaF3+5YrocnYlk1lcRIgARKIJAFtcbioKPOeNFyB1KdPH4fx1q1b5aabbnKEY+rF9Lh6wiRpY2LSpiDzuHsI15VslfRDZfAe0z2E3IsYpFX4rKgSoJ/7s4ymOExB6M/GZaU0GduyqSxOAiRAApEkwDhc0SxkkttV3RkP5EwVhV5OGQ1ypjF3jZmDBApDgH7uj7umOExB6M/GFISW3FicBEiABIIioKnTDarNuZ5DJrkIlf7ddk9U0HsRzWrNXEkmUIhDXejn/jxOUxymIPRnYwpCS24sTgIkQAJBEdDU6QbV5lzPIZNchP73d5sPbM6cmHNmTnsCtgMYfmtAP/dHTlMcpiD0Z2MKQktuLE4CJEACQRHQ1OkG1eZczyGTXISC+XtQexGDqQ2fEmcChTzUhX7uz7M0xWEKQn82piC05MbiJEACJBAUAU2dblBtzvUcMslFKLi/B7EXMbja8ElxJBCFQ13o5949S1McpiD0bt9yJTQZ27KpLE4CJEACkSTAOFzRLGQSrqsWailfuK3k2wpFICpLNunn3jxAUxymIPRm2wq5NRnbsqksTgIkQAKRJMA4TEEYBce02YtYyPprrXchmYX97igd6kJ/Mbe+pr6JgtDcrhlzajK2ZVNZnARIgAQiSYBxmIIwko6poFKc8VFgJBGJygyhDlrRqaWmvomC0NJvNBnbsqksTgIkQAKRJMA4TEEYSceMeKUKeUhJxNFErno81CVyJjGqkKa+iYLQyKTZM2kytmVTWZwESIAEIkmAcZiCMAqOqWkpXRQOKYmCzTTVgYe6aLJWaV019U0UhJb+pcnYlk1lcRIgARKIJAHGYQrCQjumtqWXXIJYaI/x935tfuavlfEppalvoiC09DtNxrZsKouTAAmQQCQJMA5TEBbSMTUuvYzSISWFtJ3Gd2uaidbIN8g6a+qbKAgtLa/J2JZNZXESIAESiCQBxmEKwkI5ptall5whLJTH8L1JIqCpb6IgtPRMTca2bCqLkwAJkEAkCTAOUxAWyjG1Citth5RwVqxQHs732hDQ1DdRENpYWtmGUcumsjgJkAAJRJKApk43LIBkEg5pzUsvtRxSwn1z4fgy3xI8AU1xmILQ0v6ajG3ZVBYnARIggUgSYBzmDGGhHFPrDKHLK+piS+P+zEL5It8bPQKa+iYKQkv/0WRsy6ayOAmQAAlEkgDjMAVhoRxT29LLTJyiuhxT6/7MQvki3xs9Apr6JgpCS//RZGzLprI4CZAACUSSAOMwBWEhHVPL0stCMvLzbu2zr37azDLxIqCpb6IgtPQ9Tca2bCqLkwAJkEAkCTAOUxAW2jGjvvSy0Hz8vF/z/kw/7WWZ+BHQ1DdREFr6nyZjWzaVxUmABEggkgQYhykIo+CYUV16GQU2furAGUI/1FgmSgQ09U0UhJaeo8nYlk1lcRIgARKIJAHGYQrCSDomK2VFIA77M60AsLB6Apr6JgpCS3ezNvb69SLXXCOyerXItdeKdO8usttulrVicRIgARJIDgHrOBxDVGQSQ6MmsEncn5lAo8eoyZriMAWhpeNZG/tPfxK57rrMtbjiilKReNhhlrVkcRIgARKILwHrOBxDNGQSQ6MmtElDZyyVJ+Z9IT/t+h+AKkUifU9oJrd0a5VQKmy2BgKa4jAFoaVHWRu7pESkdevSGUKT1KCByNtvixx0kElu5iEBEiCB2BOwjsMxJEQmMTRqApuU7R5CoCgSkccu7iBd2zROIBk2WQMBTXGYgtDSowI19rZtIn/+swhmDf/5T/Oa9e0r8uijIrvvbl6GOUmABEggJgQCjcNkEhMCbIZ2AryHULsFWX9NfRMFoaW/5t3YmDk85xyRd9/1VtMpU0R69PBWhrlJgARIQCGBvMdhMlFIgFXWToCnjGq3IOuvqW+iILT019CNvWuXyL33igwa5K3mzZqJzJkj0rSpt3LMTQIkQAIRJxB6HI44D1SPTBQYiVWslECS7yHkFSbx+HFoisMUhJY+Fwljb9ggcuaZIm+95a01ON30wQdFqlb1Vo65SYAESCBCBCIRhyPEg4IwYsZgdXwRSOoMIfZNDpm2VNaWbC3j1ri4utxxVivul/TlSYUrpKlvoiC09JPIGnvuXJFf/MJ76555RuSSS7yXYwkSIAESKBCByMbhAvGgICwgeL46MAJJvIcw2yE6OEAHiYfoBOZeoTxIU99EQWjpEmqMjaWmt98uctdd3lv86aciLVp4L8cSJEACJBACATVxOAQW7ivIJETYfFXeCETtHsJ8LuXkITp5c6OCPVhTHKYgtHQTTcau0NRvvhHp2lXkvfe8UWjfvvSQGy419caNuUmABPJCQHUczgsR7iHME1Y+tgAEorKEMt/1SOoS2QK4VGiv1NQ3URBauoUmYxs1dfRokd/8xihruUxPPSVy2WXey7EECZAACVgSiF0ctuSB4mQSAEQ+IjIE8jkzZ9LIMJZyJvkQHRMbaMyjKQ5TEFp6mCZj+2rqjh0iRxwh8sEH3op36CDy2msie+/trRxzkwAJkIBHArGPwx55UBD6AMYikSaQL0Fo8tywlnJyhjDSLuircpr6JgpCERk5cqQMHz5c1q5dK61bt5aHHnpITjjhBCPjazK2UYNMMi1bJnLooSY5y+e54w4R/Ctyt0d7fwRLkAAJkEA6gUTG4RxuQCb8ncSFQL6Wapo+NyyhlsRDdOLio9naoSkOJ14QPvfcc3LJJZc4ovD444+X0aNHy5NPPilLly6V/fffP6evajJ2zsbYZLjvPpGbbvL+hAULRI47zns5liABEiCB/xLQFofnzp3rDEIuXLjQGYicMmWK9OjRo8yeffr0kXHjxpWz7zHHHCNvv/22sc21MTFuGDMmikC+lmrO+GCN9J9Y8fyETKd5hrmUM2qH6CTK2fLQWE1xOPGCEJ1shw4d5LHHHitzhUMPPdTpnIcOHZrTPTQZO2djgsyApabXXiuSwtX48WvWiDRubJydGUmABJJNQFscfvXVV2XBggVO33PeeedlFIRff/21jBkzpsywe+yxh9SrV8/Y0NqYGDeMGRNDIF9LNWd8sFZ+O2mR/LQrM0qIwkbF1WX+wJOlapUiCWuG0K2N6cxlYhxBcUM1xeFEC8Lt27fLnnvuKc8//7ycc845ZS533XXXyeLFi2XOnDk53VCTsXM2Jt8ZVqwQwVLcr77y9qazzxZ56SUuNfVGjblJIDEENMfhoqKijIJw06ZN8hLins+kmYnPJrNYzAjkQ4hBbP1mwiIjUpP6Hisdm9eXQizlNNnbaNSImGbSwkdTHE60IFyzZo3st99+zkjtcSnLFu+55x5nuc4nn3xS4ae0bds2wT83wdhNmzaVkpISqV27dkx/enls1p//LNKzp/cXTJ0qAqHIRAIkkHgCmjrddGNlE4QQg5gVrFOnjvziF7+Qu+++Wxo2bGhsa81MjBvJjLEmEPRSzVwzjukwR/RqJ93b7ef8Zy7ljI6raZpB1RSHKQj320/efPNN6dixY5m3o+MdP368LMPhKWlp8ODBMmTIkAr/nYIwoGDx/fely0W/+877A//9b5H69b2XYwkSIAHVBDR1uiaCEHvba9asKQcccIB88cUXctttt8mOHTucPYfVqlXLaCsOVqp2YVY+A4GgZwhNn+dWxZ0hdP+3JiESV4fK157SfPHS1DclWhD6WTLKTjdfP5tKnouDFFIEu3ENLrlE5JlnjLMzIwmQgE4CmjpdE0GYngcHz0AcTp48Wc4999yMRuJgpU7fZa2zEwh6qabpjCNq1DhlD2FqDbUsVYyjX+Wa4U3f+xkFBpr6pkQLQjgLDpU54ogjnFNG3dSqVSvp3r07D5WJwq8pWx1+9zuRBx/0XsMpU0RSTvPz/gCWIAESiBoBTZ2uH0GIMi1btpQrrrhCBg4cmBE/Byuj5pWsTxAEglyq6WWGcNTFHaRrm2gebpdUUWpqv/SZ3SD80O8zNPVNiReE7rUTo0aNcpaNPv744/LEE0/IRx995IzI5kqajJ2rLar/vnmziN89nBs2iNStq7r5rDwJJJmA5jicaQ9hui3Xr1/v7HdH//TrX//ayNSamRg1kJkSQyCopZq5ZhwBtEqRyCMXtpduh+8bSb5BsYhk43JUynSGN3XvZ6HbqSkOJ14QwlkwO/jHP/7RuQ+qTZs28uCDD0qnTp2M/EiTsY0aFKdMf/+7yMkne2/ReeeJ/OUv3suxBAmQQEEIaIvDW7ZskeXLlzus2rdvLw888ICcdNJJzrUS+Ifln7iOonHjxrJixQoZNGiQrFy5Uj7++GOpVauWEWNtTIwaxUyJJRDUrFi2GUcX7MiLOki3w6M5M6ht/1zQzsoZwqCJln8eBaElX3a6lgDDLt6tm8irr3p/61NPiVx2mfdyLEECJJB3Atri8OzZsx0BmJ569+7t3ImLe3Dfe+89wdUTEIXIe+eddzonWpsmbUxM28V8JGBLQOMsm8b9c7Z2Si+fa4aXewjtiFMQ2vETdrqWAAtdHCeTNmjgrxZcauqPG0uRQMAEGIcrAiWTgJ2Mj4sVgaBmHMOConF2LB9sgtxTmo/6pT9TUxymILT0CE3Gtmxqcoo/95xIr17e23vmmSLTpnkvxxIkQAJWBBiHKQitHIiFSSDiBDTun8sXUk0zvJr6JgpCS4/VZGzLpia3+K5dIlWq+Gv/G2/428fo720sRQKJJMA4TEGYSMdnoxNDgDOE5U2tZYZXU99EQWgZTjQZ27KpLJ5KAAdCtGzpj8n334vUqOGvLEuRAAlUIMA4TEHInwUJxJmAxv1zcbaHads09U0UhKZWzZJPk7Etm8riuQiMGCFy/fW5clX8O46RHzfOezmWIAEScAgwDlMQ8qdAAnEnoG3/XNztYdI+TX0TBaGJRSvJo8nYlk1lca8EsNQUR8T/5z9eS4q8+aZIx47ey7EECSSQAOMwBWEC3Z5NjimBypZDato/F1PzeGqWpr6JgtCTadnpWuJi8U8/FTn4YH8ctm0T2WMPf2VZigRiTEBTpxuWGcgkLNJ8DwkER8BE8GnZPxccFb1P0hSHKQgt/UyTsS2byuL5IvCHP4jccYf3p197rQiWqTKRQMIJMA5zsDLhPwE2PwYEkn7xfAxMWKEJmvomCkJLD9RkbMumsnhYBHbuFNltN39vW7xYpG1bf2VZigSUEmAcpiBU6rqsNgk4BHjxfDwdQVPfREFo6YOajG3ZVBYvJIElS0QOP9xfDXbsEKla1V9ZliIBBQQYhykIFbgpq0gCWQnwWol4OoemvomC0NIHNRnbsqksHjUCAwaIPPCA91rddpsIlqkykUBMCDAOUxDGxJXZjIQS4MXz8TS8pr6JgtDSBzUZ27KpLB51Aj/+6P/QmffeE2nXLuotZP1IICMBxmEKQv40SEAzAc4QarZe9rpr6psoCC19UJOxLZvK4hoJvPOOyDHH+Ks59jJWqeKvLEuRQIgEGIcpCEN0N76KBAInwIvnA0caiQdq6psoCC1dRpOxLZvK4nEhcMUVIk895b01CxaIHHec93IsQQJ5JsA4TEGYZxfj40kg7wR48XzeEYf+Ak19EwWhpXtoMrZlU1k8rgS+/15kr728t+6EE0ReflmkTh3vZVmCBAIkwDhMQRigO/FRJFAwAib3EBascnyxZwKa+iYKQs/mLV9Ak7Etm8riSSIwe7bISSd5b/GwYSI33SRSVOS9LEuQgE8CjMMUhD5dh8VIIHIEePF8AU2CU9mXLRPBuQr4h6u8Lr1U5JJLfFVKU99EQejLxP8rpMnYlk1l8aQTeO45kV69vFPALOJZZ3kvxxIkYEiAcZiC0NBVmI0ESCCJBDZsKC/yIPaWLjUnAZF4yCHm+f+bU1PfREHo2bzlC2gytmVTWZwEyhPYtk3kyitFnnnGO5n160Xq1fNejiVIIAMBxmEKQv4wSIAEEkYAB999+un/hJ47q4fviyDTaaeJTJsmsvvunp+qqW+iIPRsXgpCS2QsHmcC//qXyLHHimzc6K2Vjz4q0r+/tzLMTQIKR2HDMpqmD5GwmPA9JEACCgiUlJQu1XQFHv7vkiX5qfgee4i0b1/+X5s2IjVqBPI+TXGYgtDS5JqMbdlUFicBfwSuv15kxAhvZTESt2iRCAIzEwnkIMA4XBEQmfBnQwIkEBkCP/0k8tlnFWfzvvkmP1Vs2rSi0MN/C/l8A01xmILQ0hU1GduyqSxOAsEQ2LxZpHZt78865xyRZ58NbOTOewVYIqoEGIcpCKPqm6wXCcSaAPrz998vL/Qwu5ePVLVqeZHXrp3I4Yf7OyU9H/XL8ExNfRMFoaVTaDK2ZVNZnATyR+Cjj0SOOkrkhx+8vePpp0tPAGNKNAHGYQrCRP8A2HgSCJIAZvNmzRIZM0Zk4sQgn5z5WfvuW1HoNWsW+mxePhqqqW+iILT0AE3Gtmwqi5NAuARGjRLp18/bO4cOFenbV6R+fW/lmFs1AcZhCkLVDszKk0AYBL79VmTCBBEMpH74Yf7fiL15mMVz9+i1bStSq1b+3xuhN2jqmygILR1Hk7Etm8riJFBYAlu2lF57MX26eT1OPFHk2mtLr73YbTfzcsypigDjMAWhKodlZUkgKAK7donMn18q8saODeqpZs8ZMEDkqqtEmjcXqVLFrEzCcmnqmygILZ1Tk7Etm8riJBA9Ajh45ogjvNULV2Vccw0PrPFGLdK5GYcpCCPtoKwcCXgl8PHHIq1aeS1ln/+AA0Quu0ykd28R/P9MVgQ09U0UhFamFtFkbMumsjgJRJ8ARkvfflvkT38SmTzZrL777186i4hOsG5dszLMFSkCjMMUhJFySFaGBDIRQP80aJDIvfeGzwerZNDHdesmgqsWmEIhoKlvoiC0dAlNxrZsKouTgE4CW7eKPPdcqUjEjKJJOuWUUpGIzhMnmzFFmgDjMAVhpB2UlYs3gRUrRA45RGT79vDbeeutpbN5LVuG/26+MScBTX0TBWFOc1aeQZOxLZvK4iQQHwKrVong0BqIROxNNEn9+5cuNf3Zz0xyM0+IBBiHKQhDdDe+KikEbrxR5P77C9PaFi1E3nxTpEGDwryfbw2EgKa+iYLQ0uSajG3ZVBYngfgScDfmQyD+5S9m7cRGeswi9unj715Fs7cwlwEBxmEKQgM3YRYSEMFgILYJFCo9/LDIb39bqLfzvSET0NQ3URBaOocmY1s2lcVJIFkEvv9eZNKk0lnEDz4wa/vpp5eKxFNP5alrZsQCycU4TEEYiCPxIXoJ3HOPCJZPFiJhFu+990T2268Qb+c7I0xAU99EQWjpSJqMbdlUFicBEsBekUcfLRWJJvtFiopErruudEQYM4pMeSHAOExBmBfH4kMLSwD35jVsWLg6IHY/9FDh3s83qyegqW+iILR0N03Gtmwqi5MACaQTwFLTWbNKBeLLL5vxwR5EzCJecolIzZpmZZirUgKMwxSE/IkoIjBypMjVVxeuwriUvXXrwr2fby44gZ0/7ZJ3vtgg32zeKg1rVZejm9WTqlWKytXLJE+uhmjqmygIc1kzx981GduyqSxOAiRgQgCH1IwfXyoSly0zKSFy9tmlIvHkk0Uwq8jkiQDjMAWhJ4dh5uAJlJSU7s377rvgn23yxF/9qjTuMn6a0Ep0npkfrpUh05bK2pKtZRwaF1eXO85qJV3bNHb+m0keE4ia+iYKQhOLVpJHk7Etm8riJEACfgksX/6/paY//ZT7KbgnCgIRo+gHHpg7f8JzMA5TECb8J5C/5mMf9UUX5e/5uZ787rsiRx6ZKxf/TgJGBCD0+k1YJLvScrvDsI9d3MH5S648rnDM9VJNfRMFYS5r5vi7JmNbNpXFSYAEgiIAUfj666WziDNmmD31sMNKRSI+zvbc06xMQnIxDlMQJsTVg2nmtm2lqxL++tdgnuf1KTh8a9o03vHqlRvzWxHAEtCfD5tVbmYw9YEQhY2Kq8uuXbtk3XfbMr7LzTN/4MkVlphmKqCpb6IgtHIvrI74ToqLi6WkpERq165t+TQWJwESSCwBLLUaN65UJGJG0SSdd16pSDzhhEQvldIWh+fOnSvDhw+XhQsXytq1a2XAIMn9AAAgAElEQVTKlCnSo0ePMovjg2TIkCHy+OOPy8aNG+WYY46RRx99VFp72PekjYmJuzNPDgJz54r84heFw4T91CedVLj3880kUAmBtz5bLxc+8XYgjCb1PVY6Nq+f81ma4jAFYU5zVp5Bk7Etm8riJEACYRPAHkScavrII2Zv3muvUoHYv79IkyZmZWKQS1scfvXVV2XBggXSoUMHOe+88yoIwmHDhsndd98tY8eOlYMPPljuuusugYj85JNPpFatWkYW08bEqFFJzLRjhwj2x/35z4Vp/VFHicyfL4Jl7EwkoJjA1MWr5brJiwNpwYhe7aR7u9zXjGiKwxSElq6hydiWTWVxEiCBQhPYuVPk1VdFRowQ+dvfzGrTvn2pSOzVS6R6dbMyynJpjsNFRUXlBCFmB/fdd1+5/vrrZeDAgY4ltm3bJvvss49AKF511VVG1tHMxKiB2jMtXFjYvXGIH507a6fI+pOAMQHOEFaOioLQ2JUyZ2SnawmQxUmABOwIbNwo8vTTpUtNV640exbEIUTiscfGYqmp5jicLgg///xzad68uSxatEjaQ8z/N3Xv3l3q1Kkj47CsOEOCaMQ/N4FJ06ZNuZ3B7BcRTC7sDe7XT+Txx4N5ntennHqqyEsvidSo4bUk85NA7Am4ewjXlWytcKgMGp+6h/Dr77ZVmod7CBW5C5bbTJ8+XRYvXix77LGHbNq0qULtV65cKVdffbXMmjVLatSoIRdddJHcd999Tn7TpPlDxLSNzEcCJKCMAO7Zevhh8w/TOnVKBeJvfiPSuPTYbU1JcxxOF4RvvvmmHH/88bJ69WpnptBNV155pXz55Zfy2muvZTTN4MGDnX2H6Yn72wPw5A8+EGnbNoAH+XzE1Kmlh8AwkQAJWBFwTxnFQ1JPGs10ymhleXjKqJUZwi18xx13OKOpX331lTz11FMVBOHOnTulXbt20qBBA7n//vtl/fr10rt3bzn33HPlYXxIGSbNHyKGTWQ2EiAB7QSwDwmn+mEWcfZss9YcfXSpSPzlLyO/f0hzHM4mCNesWSONU8R53759ZdWqVTJz5syM9uMMoZlbl+XatUvk3ntFBg3yWDCg7Ph94aRhHkYXEFA+hgTMCJjcMWiSx+Rtmvqm2C8ZxaZ87MVInyHEpv4zzzzT6WDdUdjJkydLnz595JtvvjE+MVSTsU2cl3lIgAQSQmD9epEnnywViWvWmDX6kktKRWLE7gXTHIeDWjKabkDNTMycMUuur78uXbY5ZYrVY3wXxuXoF1/suzgLkgAJ5J8Alo++88UG+WbzVmlYq7oc3axehWskTPLkqqmmOJxYQXj77bfL1KlT5f333y+zJ473rlevnrOE9KQsRydzFDaX+/PvJEACagksXly61BR7Ek1SgwalAvHKK0UaNjQpkZc8mjrddADZDpW54YYb5Oabb3ayb9++XRo2bJjsQ2UgtH7967z4T86HFheL/OtfBfXxnHVkBhIggcgR0NQ3JVYQYj/GihUr5K9pF7NWq1bNOer7wgsvzOhY3KcRud8bK0QCJJAvAj/+WDrTglnEBQvM3nL88aUi8ZxzRHbf3ayMZS5NnS6aumXLFln+37smcXDMAw884AxCYkBy//33d4Tf0KFDZcyYMdKyZUu55557ZPbs2fG7dgJ3b955p8h991l6gI/iuKLliSdEsvT1Pp7IIiRAAiRQjoCmvkmVIMwmxlLpv/vuu3JkynKmbEtGs23Qx4EyzzzzjPTCKXwZEmcI+WsnARJINIFvvik9rAYi8dtvzVBcdpnINdeItGtnlt9jLk2dLpoGcZdpFQr2saPPci+mHz16dLmL6du0aWNMpqBMcH8mZpnxD0uTw0y4sw/XstTPfWl0mNXiu0iABJJHoKBx2CNuVYLw3//+t+BfZenAAw+U6il3bWUThH6XjKa/W5OxPfoGs5MACZCAGYF33y0ViBMmmOXH6ZmYRbziikA+3BmHK2IPnAkOJvrkE5FFi0pPo/3+ezNbB5XrqadEMLDARAIkQAJKCAQeh/PYblWC0A+HXIfK4BRS9yS35557zjlplIfK+CHNMiRAAiTwXwLbt4s8/3ypSHznndxYrr5a5JFHcufLkkNTp+u7kR4LWjN5+WWR7t09vtVjdghLXJVRwP2nHmvM7CRAAiRgTMA6Dhu/yT5jbAUh7hjcsGGDvPzyyzJ8+HCZN2+eQ6tFixZSs2ZNca+d2GeffZy/Iy9OGO3RowevnbD3Kz6BBEiABMoTwEmmo0eXisT0e2GrVMHJKSJVq/qipqnT9dVAH4Wsmfz85+b7Rt36Yc8oZvHw76ijRIrc2718NIBFSIAESEA5Aes4HGL7YysIIe7GjRtXAeXf//53OfHEE53/DtHYv3//ChfT42AZ06TJ2KZtYj4SIAESyDsB3AP39tsiiNMQELiXzWdiHK4IzpoJDr255RaRvfcWad++dP/nYYeJ1Kjh00osRgIkQALJImAdh0PEFVtBGBZDTcYOiwnfQwIkQAJhEmAczoMgDNOAfBcJkAAJxJCApr6JgtDSATUZ27KpLE4CJEACkSTAOExBGEnHZKVIgAQSTUBT30RBaOmqmoxt2VQWJwESIIFIEmAcpiCMpGOyUiRAAokmoKlvoiC0dFVNxrZsKouTAAmQQCQJMA5TEEbSMVkpEiCBRBPQ1DdREFq6qiZjWzaVxUmABEggkgQYhykII+mYrBQJkECiCWjqmygILV1Vk7Etm8riJEACJBBJAozDFISRdExWigRIINEENPVNFISWrqrJ2JZNZXESIAESiCQBxmEKwkg6JitFAiSQaAKa+iYKQktX1WRsy6ayOAmQAAlEkgDjMAVhJB2TlSIBEkg0AU19EwWhpauWlJRInTp1ZNWqVVK7dm3Lp7E4CZAACZCAVwLodJs2bSqbNm2S4uJir8VjmZ99UyzNykaRAAkoIqCpb6IgtHSsr776yvkQYSIBEiABEigsAQzMNWnSpLCViMjb2TdFxBCsBgmQQOIJaOibKAgt3fSnn36SNWvWSK1ataSoqMjyadEr7o5ucAbUzjbkaMfPLU2O5JiJwK5du2Tz5s2y7777SpUqVYKBpPwpUe6b+Du2dy4ytGNIfuRnR8CstKa+iYLQzKaJzaVp/XOUjUSOwViHHMkxGAJ8SiEJ8HdsT58M7RiSH/nZEYhfaQrC+Nk00BYxaAaDkxzJMRgCwTyF/hgMRz7FHwH6nz9uqaXI0I4h+ZGfHYH4laYgjJ9NA20Rg2YwOMmRHIMhEMxT6I/BcORT/BGg//njRkFoz819An3QjiX52fGLYmkKwihaJUJ12rZtmwwdOlRuueUWqVatWoRqpqsq5BiMvciRHIMhwKcUkgB/x/b0ydCOIfmRnx2B+JWmIIyfTdkiEiABEiABEiABEiABEiABEjAiQEFohImZSIAESIAESIAESIAESIAESCB+BCgI42dTtogESIAESIAESIAESIAESIAEjAhQEBphYiYSIAESIAESIAESIAESIAESiB8BCsL42ZQtIgESIAESIAESIAESIAESIAEjAhSERpiSlwkni7744ouybNkyqVGjhhx33HEybNgwOeSQQ5IHw6LFjz32mODfihUrnKe0bt1abr/9djn99NMtnsqi8M9BgwbJddddJw899BCBGBIYPHiwDBkypFzuffbZR9atW2f4BGYjgewE5s6dK8OHD5eFCxfK2rVrZcqUKdKjR4+yArt27XL87/HHH5eNGzfKMcccI48++qgTF92E/37ttdfKyy+/7Pyns88+Wx5++GGpU6dO7NGb9Ls4HfPGG2+USZMmyQ8//CCdO3eWkSNHSpMmTcr4rFy5Uq6++mqZNWuW039fdNFFct9998kee+wRa4a5+luy82b+TP0sGXpjqCk3BaEma4VY165du0qvXr3kqKOOkh07dsitt94qS5YskaVLl8pee+0VYk10v2ratGlStWpVadGihdOQcePGOR9M7733XrmPIN2tDLf27777rlxwwQVSu3ZtOemkkygIPeCHIPzLX/4if/vb38pKwT8bNGjg4SnMSgKZCbz66quyYMEC6dChg5x33nkVBCEGFe+++24ZO3asHHzwwXLXXXcJROQnn3witWrVch6KwbKvvvrKEY1IV155pRx44IGCWBr3ZNLv9uvXz2EBhvXr15cBAwbIhg0bHBGO3/LOnTulXbt2zm/6/vvvl/Xr10vv3r3l3HPPdYR1nFOu/pbszK2frZ8lQ3OG2nJSEGqzWIHq++2330rDhg1lzpw50qlTpwLVIh6vrVevniMKL7/88ng0KMRWbNmyxfnYxIg4Pibx4cMZQnMDQBC+9NJLsnjxYvNCzEkCPggUFRWVE4SYHdx3333l+uuvl4EDBzpPxGwDZqghFK+66ir5+OOPpVWrVvL22287s4dI+P87duzorFZJ2gqV9H63pKTEEXrjx4+Xnj17OnzWrFkjTZs2lRkzZshpp50mEOVnnnmmrFq1yuGNNHnyZOnTp4988803zkBakpLb355//vlkZ2j4bP0s/c8QoNJsFIRKDRd2tZcvXy4tW7Z0ZgnbtGkT9utj8T6M3D7//PPOaC1mCPHhw+SNANihg3/wwQflxBNPpCD0hk8gCDEYUVxcLNWqVXM+uu+55x456KCDPD6J2UmgcgLpgvDzzz+X5s2by6JFi6R9+/Zlhbt37+4sB8Xqiaefflp+97vfyaZNm8o9HH/Hb/7SSy9NFPb0fhdLQLFEFDOCdevWLWPRtm1bZ2kuluNiS8LUqVPl/fffL/s7luEibqI8VlUkIaX3t1gWT3Zmls/Wz9L/zPhpzUVBqNVyIdYbI7votNGpzJs3L8Q3x+NVENEY4d66davUrFlTJk6cKN26dYtH40JsBUa5sdwMS1mqV69OQeiDPWYPvv/+e2e53tdff+3MsmLm5aOPPnKWnzGRQFAE0gXhm2++Kccff7ysXr26bOYK78KS0C+//FJee+01Z3ACSyH/9a9/lasG/BVi8JZbbgmqepF/TqZ+F30HOGBmNTWdeuqp0qxZMxk9erTDE3vW//rXv5bLgwEgsL3wwgsj33abCmbrb8nOjGpl/SwZmjHUmouCUKvlQqw3NqdPnz5d5s+fX27jeohVUP2q7du3Czb5Y9T7hRdekCeffNJZessZQnOzYvnTkUce6XzkYDQciTOE5vyy5fzPf/7jzNrcfPPNzswMEwkERSCbIMQSx8aNG5e9pm/fvs7yxpkzZzqCEDOF2FOYmrA6BUvsf//73wdVvcg/J1O/m+2DvEuXLs7veNSoUeUEdmojcaDMM88845wNEOeUrb/FMvlMYprs/ucNufpZ+l+cfzkiFITxtq9166655hpnzxE2/mMEksmewCmnnOJ03hjNZTIjAB8855xznEMT3IQlQfjorFKlijNinvo3s6cyFwjggwiHHuGEPiYSCIoAl4z6J5mt3+WSPe9M3f4Wey65ZLRyfrn6WczigyeXLHv3Qw0lKAg1WKkAdcRyFXRKODZ89uzZzv5BpmAIoFPCIQBYvsNkRmDz5s3OsrLUhNHen/3sZ84BFdzXasYxPReENAYnsMwMe4+YSCAoAtkOlbnhhhucGWkkzObgsLL0Q2X+8Y9/yNFHH+3kwf9/7LHHJuJQmVz9rnuox4QJE5yTlpFwvQeunEg/VAYntbozsc8995yzdz2Jh8q4/e2IESOcQ2XILvsvPFc/i+8WMgwqQkbvORSE0bNJJGrUv39/Z68bNqennuyGwyhwrxGTGQHclYdj1BFIEWyxPv/ee+91lkdhZobJPwEuGfXODveXnXXWWbL//vs7H4fYQ4jly9h3c8ABB3h/IEuQQAoBnE6Ig1CQcHDMAw884BxiggNN4HMQfrjbbMyYMc4gI5aIYsAx/doJLCt1V1BgsAK+mYRrJ0z6XRz7/8orrzgDiuCK3zSulki/dgKnt+IAKczm4IRRHDoT92sncvW3ZOc9XKX3s2TonaGWEhSEWiwVcj3/n70zAbOiOPf3BySCC6CjIgiIiGhUVMQVjUSjKGoSUHOFJK7XLer1GuNC1KAgboTE5Z+riGjQ4IIxEYiiJkajgMvVoOSiiAmCaARcQEZRwSD8n19jj2cOZ+b06epzTleft55nHnSmqrrq/aq/6l+tGt0tFNSRq3MhRCOgfS9PPPFEMIorMb3bbrsFM1qIwWj8mouFICydofYPafn3Bx98EIz0auZl5MiR7GctHSUpChCQuCt0iqVmpyRgwovpJfZyL6bPneGXgMm/mP5//ud/auJi+ij9rg4nu+iii4IB29yL6TXoGAbtWZe4zL+YXgfLZDkU629hV7r18/tZGJbO0JcUCEJfLEU5IQABCEAAAhCAAAQgAAEIJEwAQZgwULKDAAQgAAEIQAACEIAABCDgCwEEoS+WopwQgAAEIAABCEAAAhCAAAQSJoAgTBgo2UEAAhCAAAQgAAEIQAACEPCFAILQF0tRTghAAAIQgAAEIAABCEAAAgkTQBAmDJTsIAABCEAAAhCAAAQgAAEI+EIAQeiLpSgnBCAAAQhAAAIQgAAEIACBhAkgCBMGSnYQgAAEIAABCEAAAhCAAAR8IYAg9MVSlBMCEIAABCAAAQhAAAIQgEDCBBCECQMlOwhAAAIQgAAEIAABCEAAAr4QQBD6YinKCQEIQAACEIAABCAAAQhAIGECCMKEgZIdBCAAAQhAAAIQgAAEIAABXwggCH2xFOWEAAQgAAEIQAACEIAABCCQMAEEYcJAyQ4CEIAABCAAAQhAAAIQgIAvBBCEvliKckIAAhCAAAQgAAEIQAACEEiYAIIwYaBkBwEIQAACEIAABCAAAQhAwBcCCEJfLEU5IQABCEAAAhCAAAQgAAEIJEwAQZgwULKDAAQgAAEIQAACEIAABCDgCwEEoS+WopwQgAAEIAABCEAAAhCAAAQSJoAgTBgo2UEAAhCAAAQgAAEIQAACEPCFAILQF0tRTghAAAIQgAAEIAABCEAAAgkTQBAmDJTsIAABCEAAAhCAAAQgAAEI+EIAQeiLpSgnBCAAAQhAAAIQgAAEIACBhAkgCBMGSnYQgAAEIAABCEAAAhCAAAR8IYAg9MVSlBMCEIAABCAAAQhAAAIQgEDCBBCECQMlOwhAAAIQgAAEIAABCEAAAr4QQBD6YinKCQEIQAACEIAABCAAAQhAIGECCMKEgZIdBCAAAQhAAAIQgAAEIAABXwggCH2xFOWEAAQgAAEIQAACEIAABCCQMAEEYcJAyQ4CEIAABCAAAQhAAAIQgIAvBBCEvliKckIAAhCAAAQgAAEIQAACEEiYAIIwYaBkBwEIQAACEIAABCAAAQhAwBcCCEJfLEU5IQABCEAAAhCAAAQgAAEIJEwAQZgwULKDAAQgAAEIQAACEIAABCDgCwEEoS+WopwQgAAEIAABCEAAAhCAAAQSJoAgTBgo2UEAAhCAAAQgAAEIQAACEPCFAILQF0tRTghAAAIQgAAEIAABCEAAAgkTQBAmDJTsIAABCEAAAhCAAAQgAAEI+EIAQeiLpSgnBCAAAQhAAAIQgAAEIACBhAkgCBMGSnYQgAAEIAABCEAAAhCAAAR8IYAg9MVSlBMCEIAABCAAAQhAAAIQgEDCBBCECQMlOwhAAAIQgAAEIAABCEAAAr4QQBD6YinKCQEIQAACEIAABCAAAQhAIGECCMKEgZIdBCAAAQhAAAIQgAAEIAABXwggCH2xFOWEAAQgAAEIQAACEIAABCCQMAEEYcJA05LdnXfeaaeccoq1bt3aXn/9devWrVujoh100EH2wQcf2CuvvFLxIj/11FN28MEH2wMPPGDf//73K/78Uh/45ptv2jnnnGPPPfecffjhh3beeefZjTfeWGo2JcffdtttTXaSLRVUju7du9v48ePt5JNPLjm/phK0aNHCrrjiChs+fHhiebpm9Nvf/tYuuOACmz9/vrVt29Y1u/XS57P9xz/+Yb169bLnn3/e+vTpk/jzyBACEEgngbCvfPHFF22vvfZar5Df+c53gn5S/pdQXQLTp0+3Qw891OSvw28a+XL57ocffjixwp1wwgn28ccf2+TJkxPLk4wgkHYCCMK0Wyhm+cJOTsmPP/54mzBhAoIwJsujjz7a1BHdfvvt1rFjR+vUqdN6Ajtm1s0myxctq1atspdfftl69OhhW265ZWKPTJsg/PTTT22HHXawn/zkJ3bhhRcmVs/cjPLZ6m8aQJEAffrpp8vyTDKFAATSRwBBmD6bFCrR2rVrA8Het29f+5//+Z+GKOUQhG+88YZ94xvfsD/96U/27W9/2w9AlBICjgQQhI4A05o87OQGDBhgf/7zn+2ll16y3XffvaG4tTBD+Nlnn1mbNm1Mgscl9OzZ0/TzyCOPuGRTctpCoqXkTCIkSFIQ/vvf/w54f+1rX4vw5MJRxowZYz/96U9t8eLFtummm8bOp7mEhdjOnDkz+OB45plnbP/99y/Lc8kUAhBIF4FKC0L1SxtuuGG6IKSgNMX660cffdSOPPJImzt3ru24445lFYTK/Lvf/a5pEFbfTwQI1AIBBGFGrRx2ck8++aQNHjw4WAb32GOPNSkIm1uOmC8YtLRwxIgR9ve//91GjhwZOMxWrVoFyxh/8YtfmEbXtKxSH9abb765nX322XbxxRc3PDtcMqpZSwnVe++91+rr622fffYJlmLusccejazyt7/9za688kqbMWOGafZop512sksuucSOO+64hnhhfTWiN3HiRHvooYeCJbFhJ1PIzG+99ZZdeumlQfn1/O22285OO+00O//8861ly5YWljM/7YIFC0yColBYs2aN3XzzzXbHHXcES3W1ZFcjjXrO9773PTv11FNt0qRJ9q9//cs22mijRlloJPLdd9+1V199Nfh9lCWjoS20pOmqq64KRKtE8FFHHWU33HCDtW/fvuEZH330UbAM88EHHww6um9+85v2//7f/ws61/wlo//85z+D3/3lL39pYPNf//VfwdLZMIR8tLxz1qxZAXeJuDlz5tg222xjl19+uf3hD38Ifqe6iq+e/4Mf/KDZt2633XYLmP3ud79rFK+cbMMH7bzzzoEoVJ2aClpGpFljsTnkkEMaRZOYVXvXu6F6aMZRtp82bZotXbo0ELha3vSrX/3KevfuXZL3Cdv4E088Yffdd19gRwnwQYMGmZ6rJU7//d//HbRnfXD+6Ec/smuvvda+/vWvB88J3/FRo0YF6caOHWvvvfdeUB79Lr8uU6ZMsWHDhgXtuHPnzsE7rSXTevc1Wk+AQBYIxBGEK1euDN4D+bx33nknWLGh9/Dqq69uNIgVzl7953/+Z9BXvvbaa8HKh+uuuy7YMvHLX/4yEDh6H7X6RAO1v/nNbxr5bPV98qPhc/7jP/4jeM7GG2/cEE99tHzzrrvuGviWhQsXBitJ5IOHDBnSyEzqKy677LLAJ6l/lK9Vn3fSSScF8fRuqyzazqG+TOGLL76wLbbYIugL5M+32mqr4PfXX3990Lerrw0H78rVX6v/XLJkib3wwguN6hMyVv8kXyvGWk6qcol7GEI7yz/qm0P+Tf2g+t2bbrop6J9yg/ofsVNfKJZNBX2vbLLJJsEqotwgZuoH991338BXK8hP33rrrcE3kmwmv3rMMcfYNddcU/KrFNb7xz/+ceCn1Y70u9GjR5uWOau+8uv6ztlll13slltuabQkWt9rv//97+1///d/g35D2yXUT+t7Ud9xud8ny5cvD/pufbt8/vnn9q1vfct+/etfB1zStt2kZJAk+MqPrKVnz2RzyO3knn322eBjTh+S4fKH/BnCOIJQQkLLUffbbz97/PHHAycip6wPZX0US7jJ8WrPmzo0OT6FUEh07do1EKoSYepoJG70gaplkaFz/utf/2qa5ZRTVd4SOOqEVb/cvXRhfeVgJYb0wf7JJ58EnbTEan54//33A+Ep56aOWo5UexC0FOWss84KnKcElMSN8pLjU+etoHQSeoXCiSeeaHfffXcg/DTCuMEGGwSiVx2GnO7//d//BTO148aNC+odBj1HTlsdsNgplCIIZQs58gMPPNBmz54dCOYf/vCHDR8Xes31wa+2oI+EvffeOxDsEuUSLblOXWXRDJk6s4suuij4OJDQlsBUWsXNtaOYaxmP6i4hrf9Wx6y8JVLFS7bQh4g+YmTHpoKEstqF+MsOuaGcbMPniL0+1NQOm5pZXr16ddCR9+/fP7B1blA71d8126igjy19GIiZeOrDSTZQh613sJQQtnHtI9W7dPjhhwfvilhrcETCTb9XGfQO6mNAH4eabVUI33Hx1QeTPgIlsvXeStBrqaxsp6DBI71H/fr1C3yH6qT2rwEL5UO3UYrliJtmAuF7pQ/iPffcc72iDhw4MBikC/cQqu0fccQRQX8qPyufK7+ud1xL3bXXPOwf5MPVx2iA5uc//3mwB1w+UO/TAQccEPhs+TUN4knEaQA3HIzS4KfiyCfqHdcAk8ohH6xy6h0PfZT+1Xut/dYSB3qGfKje49y9+vIR8v0dOnQIyqsBW/kwDTDJX4QDtxq0U7+l+AoSDernVQ9tnVDfoqAZOw106e8K5eqvxVCC89xzzw3KmRvEWD62Xbt29rOf/SwQqyqj6i2fJh+mENpZnOS7JazffvvtwC6yl2yYuyJFfYDy0qCpnttU0N/lI7WvUSuJwhDOaP7xj38MvgX03SKuykv/r75y3rx5wTeGBGmpIay3yiyBr28jDVLIbmqXap8ScWobQ4cODb6xNJgdzk5LEMru6t/PPPPMoF2ob1KfrW8uDaorqI+QAJTQ1zeavtnUxtVuwoHjNJ0/UCpH4n9FgBnCjLaGXEGojkTirK6uLhhdk4NIQhDmfmwKoz789WGp0TCJKAV1fFtvvXXQaUoUKoSCUI5FTibs1NQhyqFqpFKCSUHllgNTuXOXIcqh6qNbnaUca5r0JBUAACAASURBVFhfda533XVXUavKYWqUVh2ZZibDIEGgETyNtqlzV4i6R0EjhOp85JzlVJsKYi/nrI/53Ofec889wSiwxGP43GKHyoQzhPqol3gLg0aLNdKsjwrx1YeBPmLU8UiYhkEjkypvriBUZ6APD/2okw2DOjJ1tIsWLbLNNtuswY6qc/6+O41Ub7/99sGIYilBo7L6SNLHmYRNGMrNNnyO6nf66acHo8wSc00FdbQa7dVoeTgLqzSaYdTIqUSvPpQ0qq5Zb30wuIawjcsO+ggJg941zVpqtF4iLwx6H/VuhOI0FIR6HzVCrY9QBc0sqo3rfdTAjoLeCY3G64NFgxoKK1asCOKpXghCV2uSPi0EcvfbN1UmDaCEglCDY/KR+T439F233XZb4ENCH64+Sh/9YX+i36vv1P5ozbzkruLIfb76J/lm9VG5h92oH9XsnVaDyKcryMern9QHfzh7J5Gk2X/1wfpwV5AgkU/W/0sYhUHCTj5cvl3l0QoXDVhqdknxNCMpAaA6SESqb9GspvoB+Tb9XaFc/bX6f/UHElXqH3KDfJIGqiReNeimoBlcDdpJ9Kk/VwjtLH8Zztjp9xJBEt7qs8U7N3Tp0iVYSaPnNhXkD+VTZc+Qg+KqnGIq++vbRX5bDLXKIomgeku0ypaqq4JWpmjlic45kO8OZ/k0G6rB8VCcKq4Eob6Vmvom0IoscVE70+Cg+jvNRoZB7VPfUcwQJmHNdOSBIEyHHRIvRf4yGI0EaVQvdKhJCEI54NxOLsxfIiT82FTFNNukET6JP4VQEGrGQR/WuUHlkgOVM9OPBKLi5X9QSzBKvKmjVScU1leOT0tLigV1LvrADZdnhvHDjifX+UUVhBrF1RI9dapyyE0FdciayQkdrmYi5dB1qEnuh34pM4T5+yq0HFDOWx/1+kDQCKE+YDRDpQ49DKFICJ26OlKNMmt2TgIjN0gs6MMh/BAJ7ZjfoSiNZkglcLU8KpzhjbJvRuJJokazlhpND0O52YbPUYepGYFCy0FzWajd6GNLnM8444zgTxpdl/1kfw2+SDSp/YqpZul0sq5mhyXS4oTcZdGHHXbYemwKvY9aHiWbK4S2lliVaM0N4Wix3t2wDShebntUfLVRlQNBGMeCpEkjgfC90syc+pL8IH+kmaRQEIa+VB/juYd76Z2Q79Tsfygg5MPlCzRrkxu0XFOzLnqP5Sv14R1+1IfxJEQ0WBMO6IS/1/upgToNAIazZRKEem44qxPGDQcMVX6JG/UFEpdTp05tVJ5QzGpWS/5ag7Mqu4Sf3nn1yxpYlj9TP6L8wjpoVlO+rZz9dbhMP3xWbuFVTvW3mrXKDVrtoNkz1UkhtLOWSR577LGN4ioPDWDK7+cGDZJptjV/OWh+G5FA1yCmBLT8u0SfyqTBV/FS0IoZDVhrGap+ZHMNGMYNKrOEqARtGPSdpdlOCX+tzgqDZi+1iigcrNTvQ0HY1DeBVk5p9jRs7xK+asthCNsIgjCuBdOXDkGYPpskUqJ8QRie0KWZKc1kaMlE7rUTcZaMatllrkML16RLaOWGfPEZCgmNlmmfU26Qo9QIrByqljSqU2wuqFPS7GNYXwk6LX0oFuT85VDzO4BwyWLuaGFUQahRYS1jDQ9WaaoMWoKhJajqsOS09dEt4SS75G+WjzpDmG+LkEe431GjvRoNVNlygz4uJNRCp64ZSn04NBf04aRjuUM76mNCI7G5QUtE1RHef//9wcitBgi0xFH7G3KX1eQ/R4Ja4i9fVJebbVgOCSiVUx9W+sBqLmgWTcuR9SGi0XiNpKstqs65nab2AOkDTKPY6lDV5jWSXOp1Gk3tdQo/+oq9j+E7XmgkXEut9HGpGQt9hKouzcVDEBbzMPzdFwKl7iFsypeqvupXNJAVzrSr79BWgHwBprgavJTvVz+nvWyKpxmqcI+1/KREVlNB++M0k6cgQahyhStrwjSaHdPgnlbuaDBKM1Xqp7USIjdocFK+K7dPVl00cKo8NRMoIaXfaRWEBiA14KfBWvXVEiHl7K/DAW2Jn3BZe1j+pvrncEm++imF0M7hQGxu/bUcNjzFO/f3+YPZTdkinEXTShz1H1quq1U6GjgUrzDo+0A89Z2i7wB9q8jP6nus1NBUvcP9pLknsYa+X/1veHK32oFs2NQ3gb5JtE0k6rdDqeUnfvoIIAjTZ5NESlSok5P4keORo9D6+lxBqJkkjWipA9F68jCEy95yR4GifoCGeTQlCIvNEEpIaNmeliWE+w/z4UhA6cO6WKeen67YDGEuh6iCMOoslsqiuiu+Rtk0uqoP8PAjIrejS0oQRp0h1AyRRp8l+HIPkMnlpw8ezTJGvU9SQkijtBIdGrHVx0RTQZ2lZty031AfSGEoN9vwOeE+D4k8fSQ0F8IDZDRLrRlNCchwhL1QOo3SSjzr/VEnGy5livrCJyUIXWYIw1FlBGFUqxEv7QSK9R359xAWmyHUdgYJGIUofYeEiGaXNBimwdBQ9Ej4aGAt95CZXJYajA0PN0tqhjAUNHqOvgMkWiVitOpm2bJlQV+rmUz1yRrM1P+rzArl7K/VN2o2Vfv8tXwxN5QqCEuZIdT3h/LPPZCvUHsOD5CRqFYfIqGnwULZtVCQXTWYre8qLfPMvVcx6vuShCDUIHHcGcL81UVRy0289BJAEKbXNk4la6qTk1OVA5IA0exQeDG9PvC03lyjjuHJYiqAOiMtaSmHINTGeF0GnL+HUMsqwhFMLUnVSGmhEdZcQMU69XyYocDQcpzci8j1sazRPZc9hNrUr1mh5oJmYjQTp1kmbcTXkhgtVczv6JIShKXsIdSggWabNIoZ7h8rVJeogjBMq6VXWhKqzjD/hNUwTrhXMH/pb/j7crENn689lXqGOkmNihezYbgsSIJQIjJcMtRcOu3t08mf+aflFXvhkxKETe0hVLnCGXP2EBazBn/PCoFifUe+IAxXEeTv2ZXQ0EqJ3APDogjCkGO4/ys8WEyrCOSP1EfnLp8vxL25PYSaAQpnGrWtQ1sWtIdYfiAMqqP6oXAPoX6vQWMdVqVvBg0Uhssm1T9rJYkEjcqXu3e9XP11uHKn0PaEUgVhU3sIwyWSIRPtvdR+Sgnj/O0ThWygAU/1bxKv2lefu52gqXcl3Nun7xttxyglJCUIm9pDKHtrhVY4+5l/0Bt7CEuxlh9xEYR+2KnkUjbVyekgEwkxCUDNwISCUA/QsjwtGVFHpOUl+mDVKKDilEMQhqeM6rlayqpnaDYpvHxdZVInpY3z2m+h2QmNTmqkUssrtS9DnZZCsU49H2B4yqhG9iTedGiAnLLW2GuJTa4oLqVTD0/CVJ3UyWopjeojAZR/Upn2QGqWSc+WoMjfW1bKHsJiS0a1PEUzkTqgQJzD+/aaOmVUHYGEuFioHFpGqI8KLaXUPg6F5gShZmBVf+07kbCSvbQcSh8MuXse8u0Snian5Sr5R3GXk21YDo2E62Mnf99OUy+gPrB0mpsEfv6hAjq1TgMM+kgUS4lrsdNMgD4ewgMINOCikVp9pKktNBWSEoThKaPa16h2oaWiaqOyp/a1KOSfMqr3RMuNtJJAolfpCBDIAoFifUe+IAxPGdW7LJ+mdyY8ZVTvef4po9prrJmt3KCTQiVydPKzBgblP/RhruWMehfVN2vgTDNO8u0aTJMv1Xun90+iVPvvw4O3mjtlNPcglvCUUQ1kqQxawq5lg/rJPyRHq4O0R1L11emViq+gLQPhFRXqg3OviSpXf63napuF6pu7N06/L1UQyv9J5IanjMqGGqCTDXP3yKlu+lbKPYilufYe7tOTPcUu98Cx8PtK2zPUXsRfvlR9gbZ16GAYsQ6vCxHfcDlwU89MQhA2dcqoBoXDe5fV5iRwxUPfDmKiNq52oG+C3LaRBX9Qy3VAEGbU+s11ctrDJKeaLwjDe+r00a99gLqiQgJJjqccglBiRDOEckp6tmYltGY9/+hvOWp9POuDVfsVtFxR6/I1ehkuby3WqRcyszpWLX3Rkhc9P7yHUB/KueKsFEEo56l9IXLm6iDUAaismpHM35OmE8g0A6iRNi1Dyg9JCkLlLdGtuumENQkvdUyyr5bF5G8M13IQjZiKjQ5P0FJPfexoFDM8ia05QSiumm2SyNHosoS8ZkCVNvdQm0J2kfCTIMs/8KecbFUOtXkduqB6h1c1FHMP4VImxcs/dlzcZFctG9IhDPpoUxvTIQ0aHAivQwmXYTZ3v6XyT0oQSgBqdYBmMlRG+QG1wdyDavQ8zVrrI1AfkTqaXAMYmkHQe6tBGQIEskCgWN+RLwhVZ70/WvotsaV3Qss3dYqjBrFyry5oqu/Q4KMGHdW3SfApjQbp5Ddz981LFIZ3FoZXBugkzUMPPTTwLeGJouG+Mb3LOsFUfZsElFY7hFdEhLbSAG94N6ruIdRBOhqAkx/KD1o9I4Gq/YHaT6eg+sqfy4+r7PnX85Srv5Yv0nYXCa3ca59KFYQS0/Jh+s7Rcl0NlEqMa39kvmjXgK2Ee1PXTOXzUp+qAU99Y+VfSSQBpbamLQb6jlGbka11cItO5VYIl2FKECpucyEJQahZbYk7HX6jwWJ9r+h0VA3+5d5zqfLm3kOoeqqf1LaKQrO2WfALtVgHBGEtWp06p4JAeHWBxEIxkZSKAleoEDqNVnsw8q+eKOXxcdhKxOs0W9mj2HLRUsqSlriFDhYopWxaeqYjzfUxqI8qAgQgkA4ChQ4SSUfJkiuFhKiWzkpY5V89EeUpxYR/bh5aESGBKDGde5VElOf4EqepQwCjll+TChK+uYMFUdMSL50EEITptAulyjABCR3NJml2Uz/ad0BoTEAdvkbH85daFeMUl632i2gmVyOz+XdRFXumL38vVRBqKauWDoXLm3QIjma1JQY1Q0GAAATSQaAWBKFIa1ZUB3fp1NRSr+8pRRBqCb+2AGgpZ+6MbzqsnUwpShGEWsWlrRSayRR39bOaRdRy4fw7iJMpHblUgwCCsBrUeWZNE1DnrT2FWn6pE9zCi+hrGkpe5bVMRzN2WrpZyvUMcdlqOZaWEekuwdw7NLNkk1IFoZZka/mTloVpj42Wj2mpme4pI0AAAukhUCuCUHvZdcCLDr/TXsBSQimCUP2yVkLkL6Mv5Xlpj1uKINTArJZIa8+gBmo1SKgl0royQ6eSE7JBAEGYDTtSCwhAAAIQgAAEIAABCEAAAiUTQBCWjIwEEIAABCAAAQhAAAIQgAAEskEgs4JQp0PpR8ukFHT6lk6p0hUGCjrdMX/ts/Yt6dQwAgQgAAEIQAACEIAABCAAgVogkFlBqCOFdax7eJSwNglrE2x4x48Eoe5Ey71AXEfu6iJSAgQgAAEIQAACEIAABCAAgVogkFlBWMh4unRUolCn50kQ6gh11xMedTeajkPWwRf59/HUQgOijhCAAASqTUCXZ+vAia233rrk0werUfZKrGChb6qGZXkmBCAAga8I+NQ31YQg1J0yDzzwQHCkvGYIdby8BKEuvpaxdLmrlpLqcu5iJxrqIlP9hEFH8So/AgQgAAEIVJeA7pDs0qVLdQsR4emVWMGik3pLPYkxQtGJAgEIQAACJRLwoW/KtCCcPXu29e3b11auXBkc7a+LNHXUv8K4ceOCS047duxor7zyil1yySXB8tLHH3+8WTPr6N0RI0asF0fG5vjdEt8QokMAAhBIgMBHH30UiJ/ly5d7u+w/6RUs9fX1wR1q9E0JNDCygAAEIBCDgE99U6YF4eeff25vvfVW8JHwhz/8wW6//fbgIJlCM3ozZ860vfbay/Sv7ttqKuTPEIbGVueLIIzxtpAEAhCAgCMB+WHt//bRDye5giUXo89MHJsDySEAAQikgoBPfjjTgjC/NRx66KHWo0cPGzt27HoNRUtHW7duHVxOrdNGowafjB21TsSDAAQg4BMBH/1w0itYGKz0qcVSVghAoBYI+NQ31ZQgPOSQQ4JlRXfeeed67VDLRnfddddgBrFfv36R26lPxo5cKSJCAAIQ8IiAj3446RUsTW1n8HHW1KOmR1EhAAEINEnAp74ps4Lw0ksvDQ6KkQDU6XO6X/C6666zxx57zLbbbju75557gv2EW2yxhc2ZM8cuuOAC07UTL774YnBdRdTgk7Gj1ol4EIAABHwikAU/7LqChRlCn1osZYUABGqBgE99U2YFoa6WeOKJJ2zx4sXB3pLddtvNhg4dav379w822R9//PHBYTIrVqwIRONRRx0VnDKqjf2lBFdjf7Fmrb2wYJm99/FK69C2je3Tvc5atWxRShGICwEIQKCmCbj64TTAS3oFS7WY0KeloTVRBghAIA0EquWH49Q9s4IwDow4aVyM/dgri23EQ3Nscf3Khkd3at/GrvjuzjagV6c4xSENBCAAgZoj4OKHqwGrEitYqsGEPq0arYlnQgACaSVQDT8clwWCMC65L9PFNbY6zrPufsnW5j0/nBscc3wfRKGjbUgOAQjUBoG4frhadCqxgqXSTOjTqtWaeC4EIJBWApX2wy4cEIQu9MwsjrG1pOabo55sNDOYWwyJwo7t29iMod9m+aijfUgOAQhkn0AcP5x1KpVkQp+W9dZE/SAAgTgEKumH45SvkfZYq/sWCLEJxDH2c28stR+Me77oM+87fT/r22PzovGIAAEIQKCWCcTxw1nnVUkm9GlZb03UDwIQiEOgkn44TvkQhK7UctLHMfaUWe/YeRNnFS3FTUN628DenYvGIwIEIACBWiYQxw9nnVclmdCnZb01UT8IQCAOgUr64TjlQxC6UnMUhIymJmgAsoIABGqegE+dbqWMVUkm9GmVsirPgQAEfCJQST/syoU9hI4E4xg73G+xpH7leofKqDjsIXQ0CskhAIGaIhDHD2cdUCWZ0KdlvTVRPwhAIA6BSvrhOOVjhtCVmuMMoZKHJ7Lpv3M3cXLKaILGISsIQKAmCPjU6VbKIJVmQp9WKcvyHAhAwBcClfbDLlyYIXShF/OU0fCR3NnkCJ/kEIAABBz9cFYBVuNDhD4tq62JekEAAnEIVMMPxymn0iAI45L7Mp2rsbXU5oUFy+y9j1dah7ZtbJ/udVw14WgTkkMAArVFwNUPZ5FWtZioT3t+/lLTvkKtf+m73Ra2X4/N6dey2MioEwQg0CyBavnhOGZBEMahlpPGJ2M7VpXkEIAABFJJAD+8vlmqxYRZwlS+IhQKAhCoAoFq+eE4VUUQxqGGIHSkRnIIQAACyRHwqdNNrtbN51QNJuE+wvzLjdkbXymr8xwIQCBNBKrhh+PWH0EYl9yX6XwytmNVSQ4BCEAglQTww9WfIQxPGl1cv7JgG+H07FS+OhQKAhAoIwGf+iYEoWNDcDU2ewgdDUByCECg5gm4+uEsAqw0E+4izGIrok4QgIALgUr7YZeyIghd6DmebsdeC0f4JIcABCDg6IezCrDSHyJTZr1j502cVRTnTUN628DenYvGIwIEIAAB3wlU2g+78EIQutBz+BBhr4UjeJJDAAIQ+JKAT51upYxWaSbMEFbKsjwHAhDwhUCl/bALFwShC72YgpC9Fo7QSQ4BCEAgh4BPnW6lDFdpJmG/tqR+peUfKqM6s4ewUpbnORCAQFoIVNoPu9QbQehCL6YgZCTVETrJIQABCCAIm20D1fgQCVe+qGC5opBTRnldIQCBWiRQDT8clzOCMC65L9PFMTZ7LRyhkxwCEIAAgjB1glAFYm88ryYEIACBdQTiaIRqsUMQOpKPY2xmCB2hkxwCEIAAgjCVglCF4vRsXk8IQAACCMKaagNxBCF7LWqqiVBZCECgzATi+OEyF6nq2cOk6iagABCAQI0T8MkPM0Po2FjjGpu9Fo7gSQ4BCEDgSwJx/XCWAcIky9albhCAgA8EfPLDCELHFuVibPZaOMInOQQgAAHP9mlUymAufVOlyshzIAABCGSZgE9+GEHo2BJdjc1eC0cDkBwCEKh5Aq5+OIsAXZjQLxVuEXDJ4ptCnSBQPgIufrh8pSqcM4LQkbhPxnasKskhAAEIpJIAfnh9s8RlwsqVwk0cLql89SkUBFJNIK4frkalEISO1H0ytmNVSQ4BCEAglQTww8kIwnBve/7F8rV+jyBcUvnaUygIpJ6AT30TgtCxOflkbMeqkhwCEIBAKgn45ofHjBlj+nnzzTcDnrvssotdfvnldsQRRwT/v2rVKrvwwgvtvvvus88++8wOOeQQu+WWW6xLly6R+ZfKJDz9enH9yoLPkCjs2L6NzRj6bWvVMpSIkYvjbUS4eGs6Cg6BqhMo1Q9Xs8AIQkf6PhnbsaokhwAEIJBKAr754YceeshatWpl22+/fcDzrrvustGjR9vLL78ciMOzzjrLFOfOO++0zTff3C644AJbtmyZzZw5M0gXJZTKhPtxC1OFS5TWRhwIQKAQgVL9cDUpIggd6ftkbMeqkhwCEIBAKglkwQ/X1dUFovD73/++bbnlljZhwgQbPHhwwHvRokXWtWtXe+SRR+zwww+PZINSmUyZ9Y6dN3FW0bxvGtLbBvbuXDReViLAJSuWpB4QqDyBUv1w5Uv41RMRhI70fTK2Y1VJDgEIQCCVBHz2w1988YU98MADdtJJJwUzhEuWLAmWiGpGcLPNNmvgvfvuu9ugQYNsxIgRBW2gZab6CYOYSETW19dbu3btitqNmbDCiOBStOkQAQIQaIKAT30TgtCxGftkbMeqkhwCEIBAKgn46Idnz55tffv2tZUrV9omm2xi9957rx155JHBv6ecckojcSfohx12mHXv3t3Gjh1b0AbDhw8vKBajCsJwr9yS+pWWf6iMHljrewjhkspXn0JBINUEfOqbEISOTcnV2J+vXmMTnnvTFi771LrVbWQn9N3WNvhaS8dSkRwCEIBA7RBw9cPVIPX555/bW2+9ZcuXL7c//OEPdvvtt9vTTz9ts2bNKigI+/fvbz169LBbb721LDOEyjQ8TVP/nSsKOWV0sZ1190sBd7hU423hmRDwk4BPfROC0LGNuRj72kfm2LjpC2xNTg+jw9tOP7C7XXLkzo4lIzkEIACB2iDg4ofTQujQQw8NBJ/2DcZZMppfj7hMuG+vcIuAS1reFMoBAX8IxPXD1aghgtCRelxjSwyOnbagyaef2Q9R6GgakkMAAjVCIK4fThMeiUDt+bvpppuCQ2XuvvtuO+6444IiLl68OLhyopyHyuSy0PLRFxYss/c+Xmkd2raxfbrX1dRVE021C7ik6Y2hLBBIPwGf+iYEoWN7imNsLRP9xrBHG80M5hdDM4VzRx7B8lFH+5AcAhDIPoE4friaVC699NLgzkEJwI8//tgmTpxo1113nT322GOmpaG6duLhhx8Orp3Q6aO6k3Dp0qVlvXaimjx4NgQgAIEsEvCpb8qsIKzExb9qvHGMfcf0+TZy6mtF2/6wo3ayUw/crmg8IkAAAhCoZQJx/HA1eZ166qn2xBNPBDN/7du3t912282GDh0aiEEFHTRz0UUXBQfM5F5MLwEZNfjGJGq9iAcBCEDAFwI++eHMCsJKXPwbVxBePuUV++1zC4u25xP7drMrB/YqGo8IEIAABGqZgE+dbqXsBJNKkeY5EIAABAoT8MkPZ1YQFjJN0hf/xhWEzBDiOiAAAQgkR8CnTje5WjefE0wqRZrnQAACEEAQetEGkrr4V5V1vfxXebCH0ItmQyEhAAFPCCB+1jcUTDxpvBQTAhDILAGf/HCmZwiTvvhXLdb18t+w1XPKaGbffyoGAQhUmIBPnW6l0MCkUqR5DgQgAAFmCFPdBpK++DepGcJcUcg9hKluQhQOAhDwgADihxlCD5opRYQABGqMgE99U6ZnCPPbXdIX/yp/V2Nr+eiE5960hcs+tW51G9kJfbflqokacxhUFwIQcCPg6ofdnp7O1DBJp10oFQQgUDsEfPLDNSUIk774NwlBWDuvBTWFAAQgUB4CPnW65SHADGGluPIcCEAAAlEJ+NQ3ZVYQVuLiXwRh1FeCeBCAAATKR8CnTrd8FBrnXE0mX6xZay8sWGbvfbzSOrRtY/t0r7NWLVtUquo8BwIQgEAqCFTTD5cKILOCsBIX/yIIS21uxIcABCCQPAGfOt3ka184x2oxeeyVxTbioTm2uH5lQ8E6tW9jV3x3ZxvQq1Olqs9zIAABCFSdQLX8cJyKZ1YQxoERJ41Pxo5TP9JAAAIQSDsB/PD6FqoGE4nBs+5+ydbmFSecGxxzfB9EYdpfJsoHAQgkRqAafjhu4RGEccl9mc4nYztWleQQgAAEUkkAP1x9Qahlot8c9WSjmcHcUkkUdmzfxmYM/TbLR1P5FlEoCEAgaQI+9U0IQkfr+2Rsx6qSHAIQgEAqCeCHqy8In3tjqf1g3PNF28d9p+9nfXtsXjQeESAAAQj4TsCnvglB6NjafDK2Y1VJDgEIQCCVBPDD1ReEU2a9Y+dNnFW0fdw0pLcN7N25aDwiQAACEPCdgE99E4LQsbX5ZGzHqpIcAhCAQCoJ4IerLwiZIUzlq0GhIACBKhLwqW9CEDo2FJ+M7VhVkkMAAhBIJQH8cPUFYbiHcEn9yvUOlVHp2EOYyleHQkEAAmUk4FPfhCB0bAg+GduxqiSHAAQgkEoC+OHqC0KVIDxlVP+de9Iop4ym8rWhUBCAQJkJ+NQ3IQgdG4NPxnasKskhAAEIpJIAfjgdgjAUhdW4h1AzlC8sWGbvfbzSOrRtY/t0r+M001S+rRQKArVDwKe+CUHo2C59MrZjVUkOAQhAIJUE8MPpEYQqSaXFmWYmqyFCU/kyUCgIQCA1BHzqmxCEjs3GJ2M7VpXkEIAABFJJAD+cLkFYyUYSLlPNXaKq57NMtZJW4FkQgEAhAj71TQhCxzbsk7Edq0pyCEAAAqkkgB+uTUEYHmSzuH5lwXbJQTapfF0pFARqhoBPfROC0LFZ+mRsx6qSHAIQgEAqCeCH56t1cwAAIABJREFUa1MQctVFKl9HCgUBCHxJwKe+CUHo2Gx9MrZjVUkOAQhAIJUE8MO1KQinzHrHzps4q2ibvGlIbxvYu3PReESAAAQgkCQBn/omBKGj5X0ytmNVSQ4BCEAglQTww7UpCJkhTOXrSKEgAAFmCGuvDbh+iFT6NLbasxA1hgAEsk7A1Q9Xms+1115rDz74oM2dO9c23HBD23///W3UqFG24447NhTloIMOsqeffrpR0QYPHmwTJ06MVFzfmESqVF6kcA/hkvqVje49DKOxhzAOVdJAAAJJEfDJDzND6Gh1F2NzVLYjfJJDAAIQMDMXP1wNgAMGDLAhQ4bY3nvvbatXr7bLLrvMZs+ebXPmzLGNN944KJIE4Q477GBXXnllQxElHtu3bx+pyL4xiVSpApHCU0b1p9yTRjllNC5R0kEAAkkR8MkPIwgdrR7X2ByV7Qie5BCAAAS+JBDXD6cF4Pvvv28dOnQIZgT79evXIAh79+5tN954Y6xi+s6klEozuFoKLeJCAAKVIuCTH0YQOraKOMbmqGxH6CSHAAQgkEMgjh9OE8B58+ZZz549g1nCXr16NQjCV1991dauXWtbbbWVHXHEEXbFFVdY27ZtIxXddyaRKpkTie0XpRIjPgQgUG4CPvlhBKFja4hjbDbCO0InOQQgAIGMCEIJvoEDB9qHH35o06dPb6jVuHHjrHv37taxY0d75ZVX7JJLLrHtt9/eHn/88YK2X7VqleknDOqbunbtavX19dauXbuythfEWFnxkjkEIOApgTgaoVpVRRA6ko9jbI7KdoROcghAAAIZEYTnnHOOTZ061WbMmGFdunRp0q4zZ860vfbay/Rvnz591os3fPhwGzFixHq/L7cgZLkmryIEIACBwgTiaIRqsUQQOpKPY2xmCB2hkxwCEIBABgThueeea5MnT7Zp06YFs4HNBc0ktm7d2iZMmGA6bTQ/VGOGkL3wvIYQgAAEmiYQRyNUiyeC0JF8HGNzVLYjdJJDAAIQ8FgQStxJDE6aNMmeeuqpYP9gsaBlo7vuumujg2eaSxOnbypWhty/sxe+FFrEhQAEapFAuf1wkkwRhI404xqbo7IdwZMcAhCAwJcE4vrhagE8++yz7d5777UpU6Y0untQV0roaok33njD7rnnHjvyyCNtiy22CK6juOCCC4K/vfjii9aqVauiRS83E1a6FDUBESAAgRonUG4/nCReBKEjTRdjs/fCET7JIQABCHh4D2GLFuEteY3NN378eDv55JPt7bfftuOPPz44TGbFihXB4TBHHXVUcMpoXV1dJJu79E1RHsBe+CiUiAMBCNQygXL74STZIggdaboam9PZHA1AcghAoOYJuPrhLAIsNxNmCLPYaqgTBCCQJIFy++Eky4ogdKTpamwEoaMBSA4BCNQ8AVc/nEWA5WbCXvgsthrqBAEIJEmg3H44ybIiCB1puhibJaOO8EkOAQhAwMMlo5UwmkvfFLV87IWPSop4EIBALRKohB9OiiuC0JFkXGNzXLcjeJJDAAIQ+JJAXD+cZYCVYsLAZpZbEXWDAARcCFTKD7uUMUyLIHSkGMfYHNftCJ3kEIAABHIIxPHDWQdYSSZsfch6a6J+EIBAHAKV9MNxypebBkHoSDCOsdmM7wid5BCAAAQQhM22gTh9UxYaVShOl9R/Zss++dzqNmltHdu1sX2611mrloVPd81CvakDBCCQPgI++WEEoWP7iWNsjut2hE5yCEAAAghCBGEegULLV8Mondq3sSu+u7MN6NWJdwcCEIBARQjE0QgVKViBhyAIHcnHMTYzhI7QSQ4BCEAAQYggzCHQ1L78XEiaHxxzfB9EId4DAhCoCIE4GqEiBUMQJo85jrE5rjt5O5AjBCBQuwTi+OGs06olJsX25Ye2liDs2L6NzRj6bZaPZv0FoH4QSAEBn/wwM4SODSausTmu2xE8ySEAAQh8SSCuH84ywFpiEnXVTWjv+07fz/r22DzL5qduEIBACgj45IcRhI4NxsXYHNftCJ/kEIAABLiHsGAbcOmbfGtUUfflh/W6aUhvG9i7s2/VpLwQgIBnBHzyw5kVhNdee609+OCDNnfuXNtwww1t//33t1GjRtmOO+7Y0JwOOugge/rppxs1r8GDB9vEiRMjNzlXY3Ncd2TURIQABCBQ8+InahNw7ZuiPicN8ZghTIMVKAMEIJBPwCc/nFlBOGDAABsyZIjtvffetnr1arvsssts9uzZNmfOHNt4440Dm0kQ7rDDDnbllVc22FDisX379pFbtU/GjlwpIkIAAhDwiAB+eH1j1RIT9hB69LJSVAjUEAGf/HBmBWF+e3v//fetQ4cOwYxgv379GgRh79697cYbb4zdPH0yduxKkhACEIBAigngh2tbEKr2UU4ZVbxbfriHHbnb1iluzRQNAhDICgGf+qaaEYTz5s2znj17BrOEvXr1ahCEr776qq1du9a22morO+KII+yKK66wtm3bNtkWV61aZfoJg4zdtWtXq6+vt3bt2mWlDVMPCEAAAt4Q8KnTrRTUWmTS3D2EIfeo9xFq1vH5+UtNy1HN1lrf7baw/XpszumklWrAPAcCGSDgkx+uCUEowTdw4ED78MMPbfr06Q1NbNy4cda9e3fr2LGjvfLKK3bJJZfY9ttvb48//niTzXD48OE2YsSI9f6OIMzAm0sVIAABLwn41OlWCnCtMgn35f/51cU2/tmF6+HW1RMKzd1HKGH5swdn2/JP/90o/aYbfd2uO2ZX7jGsVCPmORDwnIBPfrgmBOE555xjU6dOtRkzZliXLl2abF4zZ860vfbay/Rvnz59CsZLeoaQQ2U8f9spPgQgUHUCPnW6lYJVy0yK7Sls7j5CicEf3/1Ss2a6lcvtK9WMeQ4EvCbgkx/OvCA899xzbfLkyTZt2rRgNrC5oJnE1q1b24QJE0ynjUYJLsbm2okohIkDAQhAoHkCLn44q2xrmUnUU0fz7yOUkDzguidtyUcrm20WHdu1tmd+dgjLR7P68lAvCCREwCc/nFlBKHEnMThp0iR76qmngv2DxYKWje66666NDp4pliausZvaAB9lOUuxMvF3CEAAArVEIK4fzjKjWmYS9V7C/PsIowpJtRsut8/y20PdIJAMAZ/8cGYF4dlnn2333nuvTZkypdHdg7pSQldLvPHGG3bPPffYkUceaVtssUVwHcUFF1wQ/O3FF1+0Vq1aRWoNcYztspwlUqGIBAEIQKCGCMTxw1nHU8tMogq7fFEXVUiq7XC5fdbfIOoHAXcCPvnhzArCFi3CubbGBh0/frydfPLJ9vbbb9vxxx8fHCazYsWK4KTQo446KjhltK6uLnIriGPsuJ1V5EIREQIQgEANEYjjh7OOp5aZhIOuS+pX2toChm5qD2HUvllZTvjPfezAHbbMejOifhCAgAMBn/xwZgWhg/1KShrH2FFHIRmBLMkURIYABGqUQBw/nHVUtc4k3JYhO+eKwua2ZUhI9r7yz/bxytVFm8dlR37DTu/Xo2g8IkAAArVLwCc/jCB0bKdxjB11FJI9Co7GITkEIFATBOL44ayDgcm6y+pHPDTHFtd/dUhMsXsIT/rNC/b0P94v2jxO7NvNrhy47k5jAgQgAIFCBHzywwhCxzYcx9hxl7M4FpXkEIAABDJJII4fziSInErBZB2MUq92umP6fBs59bWizWPYUTvZqQduVzQeESAAgdol4JMfRhA6ttO4xo6znMWxqCSHAAQgkEkCcf1wtWBce+219uCDD9rcuXODg8z2339/GzVqVKMD0HTn7YUXXmj33XefffbZZ3bIIYfYLbfc0uxdurn18Y1JtWyR/9zPV6+xbwx71NYU2nz4ZeSWLczmjjzCNvhay7QUm3JAAAIpJOCTH0YQOjYgF2PHWc7iWFySQwACEMgcARc/XA0YAwYMsCFDhtjee+9tq1evtssuu8xmz54dnHa98cYbB0U666yz7KGHHrI777zTNt988+AU7GXLltnMmTMjnYLtG5Nq2KGpZ177yBwbO21Bk0U6s193u+TIndNU5KqWpdRZ2KoWlodDoIIEfPLDCELHhuFqbBypowFIDgEI1DwBVz9cbYDvv/++dejQoeEO3Pr6ettyyy1twoQJNnjw4KB4ixYtCk7DfuSRR+zwww8vWmTfmRStYJkjSBSOm76g0UyhZgZPPxAxmIuege0yN0Sy95qAT34YQejY1HwytmNVSQ4BCEAglQR898Pz5s2znj17BrOEvXr1sieffDJYIqoZwc0226yB+e67726DBg2yESNGrGcHLTHVTxjERAJS4rJdu3aptFvaC6XloxOee9MWLvvUutVtZCf03ZZlojlGC7e+5K+ube4k17TbnPJBIEkCPvVNCEJHy/tkbMeqkhwCEIBAKgn47IfXrl1rAwcOtA8//NCmT58e8L333nvtlFNOaSTw9PvDDjvMunfvbmPHjl3PDsOHDy8oFBGEqWyy3hcqPBwv9wTX3Eo1ddej9xWnAhAogYBPfROCsATDForqk7Edq0pyCEAAAqkk4LMfPuecc2zq1Kk2Y8aMhgNjmhKE/fv3tx49etitt966nh2YIUxX08z6dhCuz0pXe6M06STgU9+EIHRsQ67GZkmKowFIDgEI1DwBVz9cLYDnnnuuTZ482aZNmxbM/IUhzpLR/Dr4yqRatkjyubWwr27KrHfsvImzimK7aUhvG9i7c9F4RIBAFgn45IcRhI4t0MXYbFp3hE9yCEAAAmbm4oerAVDLRCUGJ02aZE899VSwfzA3hIfK3H333XbccccFf1q8eHEwg8ihMtWwWPRn1sq+OmYIo7cJYtYuAZ/6JgShYzuNa2yOtXYET3IIQAACXxKI64erBfDss88O9glOmTKl0d2D7du3D+4lVNC1Ew8//HBw7URdXV1wJ+HSpUu5dqJaRovw3FraV8d9jREaBFFqnoBPfROC0LG5xjE2jtQROskhAAEI5BCI44erCbBFi/AcxsalGD9+vJ188snBL1euXGkXXXRRIBxzL6bXyaFRgm9MotQp7XFqadasluqa9nZH+dJLwCc/jCB0bEdxjH3H9Pk2cuprRZ887Kid7NQDtysajwgQgAAEaplAHD+cdV4wqbyFa2lfXS3VtfItiSdmhYBPfhhB6Njq4hj78imv2G+fW1j0ySf27WZXDuxVNB4RIAABCNQygTh+OOu8YFJ5C9fSrNkz8z6wH93+v0Uh33PavnbA9lsUjUcECGSRgE9+GEHo2ALjGJsZQkfoJIcABCCQQyCOH846QJhEt3BSV0SEewiX1K+0/MvaVZos3c33zD8/sB/dEUEQnrqvHdATQRi9NRIzSwR88sMIQseWF8fY7CF0hE5yCEAAAgjCZttAnL6pFhtV0ldEhKeMimWuKAx3jY45vo8N6NXJe9QsGfXehFSgAgR88sMIQscGEdfYnDLqCJ7kEIAABL4kENcPZxkgTIpbt1xXRCjf4X981ZZ8tKqhEB3btbbh39slE2JQlaql5bHFWxIxIFCYgE9+GEHo2IpdjM09hI7wSQ4BCEDAw3sIK2E0l76pEuWr9jPKeUXEOkE4x5Z8tDJHELax4d/bOTOCsJaWx1a7rfJ8fwn45IcRhI7tzNXYWj464bk3beGyT61b3UZ2Qt9tbYOvtXQsFckhAAEI1A4BVz+cRVIwad6q5ZrhKtesYxrbaK0sj00je8rkBwGf/DCC0LFN+WRsx6qSHAIQgEAqCeCH1zcLTJpvquXYA1fOWcdUvnhm1twezP47d7QXFiyz9z5eaR3atrF9utdZq5aF7+BMa/0oFwRcCPjkhxGELpZOYKkSM4SOBiC5E4GkTtdzKgSJIeBIwKdO17GqkZPDpPIzhOWadYxs9CpFLNSPPD5niY14aI4trv9q2Wyn9m3siu9mZ9lslXDzWI8I+OSHEYSODcvF2OwhdIRPcicCSZ+u51QYEkPAgYCLH3Z4bKqTwqR585RjD1w5Zh1T3ciaKFwtLZv10T6UuXIEfPLDCELHdhHX2Jwy6gie5E4E6LCd8JE4ZQTi+uGUVSPR4sCkOM6k98DV6gxhLulaXDZbvKURo1YJ+OSHEYSOrTSOsbmH0BE6yZ0I0GE74SNxCgnE8cMprEaiRYJJNJxJrpQox6xjtFqkJxaiOD22oCTVJ+CTH0YQOraXOMa+Y/p8Gzn1taJPHnbUTnbqgdsVjUcECJRCgA67FFrE9YFAHD/sQ71cygiT6PSS3Eud9Kxj9FqkIybLZtNhB0qRDgI++WEEoWObiWPsy6e8Yr99bmHRJ5/Yt5tdObBX0XhEgEApBOiwS6FFXB8IxPHDPtTLpYwwcaHnljbJWUe3klQ+NQOOlWfOE9NLwCc/jCB0bEdxjM0MoSN0kjsRoMN2wkfiFBKI44dTWI1EiwSTRHGWnFmSs44lP7yKCYptSVDRdNrojKHf5gqKKtqJR1eGgE9+GEHo2CbiGJs9hI7QSe5E4LPPv7CdLn+saB6vXTnANtygVdF4RIBAtQnE8cPVLnO5nw+TchMm/6YIcGgebQMC6wj45IcRhI6tNq6xcZiO4EkemwAz1LHRkTClBOL64ZRWJ5FiwSQRjGRSIgFmCEsERvRME/DJDyMIHZuii7G5h9ARPsljEWAPayxsJEoxARc/nOJqORUNJk74SByTAFsSYoJLOFmtLllOGKNzdj75YQSho7ldja3loxOee9MWLvvUutVtZCf03dY2+FpLx1KRHAJNE2CGkNaRNQKufjhrPFQfmGTRqumvE4eWVd9GtXyoUfXpNy6BT34YQejYenwytmNVSZ4RAuxhzYghqUYDAfzw+o0BJrX7glRzdogZwuq2u/Dak7V5xWjx5f+POb6PDejVqbqFrKGn++SHEYSODdMnYztWleQZIsAe1gwZk6owG1agDdA31eaLUe3ZoXAP4ZL6lZYvSmQRCZOOnDJalsZZbP8m7MuCvdlMffLDmRWE1157rT344IM2d+5c23DDDW3//fe3UaNG2Y477thgvFWrVtmFF15o9913n3322Wd2yCGH2C233GJdunSJ3Gp8MnbkShGxJgiwh7UmzFwTlcQPM0NYEw29SCWbmh0KhVilZofSUo5aaxPMzqbP4j71TZkVhAMGDLAhQ4bY3nvvbatXr7bLLrvMZs+ebXPmzLGNN944aDVnnXWWPfTQQ3bnnXfa5ptvbhdccIEtW7bMZs6caa1aRTtu3ydjp+9VoUTVJsAe1mpbgOcnQQA/jCBMoh35nEex2SHVrZL3/zHgWPnWxP7NyjMv9kSf+qbMCsJ8I73//vvWoUMHe/rpp61fv35WX19vW265pU2YMMEGDx4cRF+0aJF17drVHnnkETv88MOL2Tn4u0/GjlQhIkEAAhDwjIBvfnjatGk2evToYPBx8eLFNmnSJBs0aFAD9ZNPPtnuuuuuRlbYd9997fnnn49sGd+YRK4YEQsSSNPsEPvYqtNI09QGqkMg2acmsRfXJz9cM4Jw3rx51rNnz2CWsFevXvbkk08GS0Q1I7jZZps1tKLdd9896JhHjBgRqWX5ZOxIFSJSTRFIwuHVFDAqm0oCvvnhRx991J555hnr06ePHXvssQUF4bvvvmvjx49v4L3BBhtYXV1dZP6+MYlcMSIWJDDppX/Z+b/7e1E6Nxy3ux3dJ/q2mKIZ5kUoNlPJPrZSiUaPz/7N6KyKxUxqL65PfrgmBOHatWtt4MCB9uGHH9r06dODdnDvvffaKaecYtpHmBsOO+ww6969u40dO7Zge1H83DQytmYVNePYrl27Ym2Mv0MgNQSScnipqRAFqVkCPnW6+UZq0aJFQUG4fPlymzx5cmyb+swkdqVrOGFarhOqtVmqtA2qhrOzehVyD/XhlNHoziHJGW6f/HBNCMJzzjnHpk6dajNmzGg4MKYpQdi/f3/r0aOH3XrrrQVbz/DhwwvOHiIIo79sxKw+gSQdXvVrQwlqnYBPnW5UQSgxqFnBTTfd1L71rW/Z1VdfHWx7iBp8ZhK1jsT7isCkl9+x8++fVRTJDYN729F7dC4aL26EWtrHltZB1bSWK26bqmS6pGe4ffLDmReE5557bjDKqj0bmvkLQ9wlo8wQVvLV5FnlIJC0wytHGckTAqUQ8KnTjSII77//fttkk02sW7dutmDBAhs2bFhwOJr2HLZu3bogGvqmUlpM9uKmZWYuLeUot4WTHFQtxyxjOfIsN9M05J90+/Wpb8qsINQyUYlBbdZ/6qmngv2DuSE8VObuu++24447LviTNvfrygkOlUnDa0kZykUgaYdXrnKSb/YJJPXR4lOnG0UQ5sdR3yRxOHHiRDvmmGMKNgxWr2T/fWmuhsUG+pS2EqeM1sI+tmKsS9knyWxeut7bpGe4feqbMisIzz777GCf4JQpUxrdPdi+ffvgXkIFXTvx8MMPB9dOaLO+7iRcunQp106k6/2kNAkTSNrhJVw8sqsRAkl+CPnU6cYRhEqjQc3TTjvNhg4dWrCFMENYIy9OM9VMy/6xtJSjXC0iqUHVJGcZy1XXWss3KduG3HzqmzIrCLVRv1DQqW060lth5cqVdtFFFwXCMfdieh0SEzX4ZOyodSJetgkk7fCyTYvalYNA0h9CPvvhQofK5DPXQGXnzp3ttttusxNPPDGSSXxmEqmCRCpIIMmBFhfEaSmHSx2aSpvEoGqSs4zlqGOt5pn0DLdPfjizgrBSjdknY1eKCc9JNwFdRv+NYY/amtwjyPKK3LKF2dyRR9gGX2uZ7spQOu8IlONDyDc/vGLFCtNVSAp77LGHXX/99XbwwQcHK1X0o+Wfuo6iU6dO9uabb9qll15qb731lr322mvWtm3bSDb3jUmkShEpEoGklmJHelgzkdJSDtd65KdPYlA1iTySrhf5rSOQ5Ay3T34YQej4BvhkbMeqkjwjBOiIMmJIT6tRjvbnmx/WvnYJwPxw0kkn2ZgxY4K7cF9++WXT1RMShYo7cuTI4IqjqME3JlHrRTwIVJtAErNIScwyVptDlp+f1Ay3T34YQejYon0ytmNVSZ4RAnREGTGkp9UoR/vDD6/fGGDi6QtCsb0g4DqLVI6BMS/AeVTIJGa4ffLDCELHxumTsR2rSvKMEKAjyoghPa1GOdoffhhB6OnrQLE9JuAyi5TELKPH6Gqm6D71TQhCx2bpk7Edq0ryjBCgI8qIIT2thtrfnlc9bss//XeTNdhso6/b337e31ppM2uEgB9GEEZoJkSBQOIEXGaRJCh/fPdLTZbp1uP72IBenRIvMxlWjoBPfROC0LFd+GRsx6qSPEMEXJe7ZAgFVakwgSiCcNONvm4zEYROlqFvcsJHYgiUnQCCsOyIq/4An/wwgtCxufhkbMeqkjxjBFyWu2QMBdWpIAGWjFYGNn1TZTjzFAjEIVCO05bjlIM05SXgkx9GEDq2BZ+M7VhVkmeQgK6gmPDcm7Zw2afWrW4jO6Hvtlw1kUE7p6lKHCpTGWvQN1WGM0+BQBwC5RgYi1MO0pSXgE9+GEHo2BZ8MrZjVUmeMQLMEGbMoJ5UpxwfQvjh9Y0PE09eCIpZkwTKMTBWkyBTXmmf/DCC0LEx+WRsx6qSPEMEwj2E+XfTh0d4jGEze4asna6qlONQI/wwgjBdrZzSQKB5AuUYGIN5+gj41DchCB3bj0/GdqwqyTNCgL0LGTGkx9VI+lAj/DCC0OPXgaLXIIFyDIzVIMbUV9mnvglB6NicfDK2Y1VJnhECjExmxJCeVyPJJcv4YQSh568Dxa9BAkkPjNUgwtRX2ae+CUHo2Jx8MrZjVUmeEQLsXciIITNQDZc7vHKrjx9GEGbgdaAKNUggyYGxGsSX+ir71DchCB2bk0/GdqwqyTNC4Jl/fmA/uuN/i9bmnlP3tQN6blE0HhEgUG0C+GEEYbXbIM+HQFwCSQ2MxX0+6cpHwKe+CUHo2A58MrZjVUmeEQLPzPvAfnR7BEF42r52wPYIwoyYPZXVSOpDCD+MIExlA6dQEIBATRPwqW9CEDo2VZ+M7VhVkmeEAEtGM2JIz6uR5FIp/DCC0PPXgeJDAAIZJOBT34QgdGyAPhnbsaokzwgBDpXJiCE9rkbS157ghxGEHr8OFB0CEMgoAZ/6JgShYyP0ydiOVSV5Rghw3HVGDOlpNcpx7Ql+GEHo6etAsSEAgQwT8KlvQhA6NkSfjO1YVZJniADHXWfImJ5VpRwz1PhhBKFnrwHFhQAEaoCAT30TgtCxQfpkbMeqkjxjBJLcw5UxNFSnjATKsYcVP4wgLGOTJWsIQAACsQj41DchCGOZ+KtEPhnbsaokzyCBpE55zCAaqlQmAswQlglsXrb0TZXhzFMgAAEINEXAJz+MIHRsxz4Z27GqJIcABCDgTKAce1jxw8wQOjdMMoAABCCQMAGf+iYEoaPxfTK2Y1VJDgEIQCARAknvYcUPIwgTaZhk4jWBUle8lBrfazgUvioEfOqbEISOTcQnYztWleQQgAAEEiNw7SNzbNz0BbZm7VdZtmxhdvqB3e2SI3cu6Tn4YQRhSQ2GyJkjUOqe+FLjZw4YFaoIAZ/6JgShY5PwydiOVSU5BCAAgUQINHUPoTJvYWZjju9jA3p1ivws/DCCMHJjIWLmCJR6r2mp8TMHjApVjIBPfROC0LFZ+GRsx6qSHAIQgIAzAe4hdEYYKQP6pkiYiOQ5gVL9SanxPcdD8atMwCc/jCB0bCw+GduxqiSHAAQg4EyAU0bNpk2bZqNHj7aZM2fa4sWLbdKkSTZo0KAGtmvXrrURI0bYbbfdZh9++KHtu+++dvPNN9suu+wSmT99U2RURPSYQKn+pNT4HqOh6Ckg4JMfRhA6NhifjO1YVZJDAAIQcCbAPYRmjz76qD3zzDPWp08fO/bYY9cThKNGjbKrr77a7rzzTtthhx3sqquuCkTk66+/bm3bto1kA/qmSJiI5DmBUv1JqfE9x0OIa25gAAAgAElEQVTxq0zAJz+MIHRsLD4Z27GqJIcABCDgTKAcI/Q+++EWLVo0EoSaHdx6663tJz/5iQ0dOjTgvWrVKttqq61MQvHMM8+MZAOfmUSqIJEgYGal+pNS4wMZAi4EfPLDCEIXS5uZT8Z2rCrJIQABCDgTKLaHRw/o1L6NzRj6bWulY0cjBJ/9cL4gnD9/vvXo0cNeeukl22OPPRpqP3DgQNt0003trrvuKkhEolE/YRCTrl27Wn19vbVr1y4CRaJAwD8Cpd5rWmp8/4hQ4jQR8KlvQhA6thyfjO1YVZJDAAIQSISArpwYO21Bk3md2a+0qyd89sP5gvDZZ5+1Aw44wN55551gpjAMZ5xxhi1cuND+9Kc/FeQ2fPjwYN9hfkAQJtJkySTFBEq917TU+CmuOkVLOQGf+iYEoWNj8snYjlUlOQQgAAFnAswQNkbYlCBctGiRder01dUbp59+ur399tv22GOPFbQBM4TOTZMMPCZQ6r2Cpcb3GA1FryIBnzQCgtCxofhkbMeqkhwCEICAM4Fy7OHx2Q8ntWQ03zA+M3FuZGRQkwQ02PTCgmX23scrrUPbNrZP97pml52XGr8moVJpJwI++WEEoZOp2UPoiI/kEIBAjRGY9PI7dv79s4rW+obBve3oPToXjacIPnW6+RVq6lCZ888/3y6++OIg+ueff24dOnTgUJlIrYFIEIAABNJBwKe+CUHo2GZ8MrZjVUkOAQhAwJnAHdPn28iprxXNZ9hRO9mpB25XNJ6PgnDFihU2b968oG46OOb666+3gw8+2Orq6mybbbYJhN+1115r48ePt549e9o111xjTz31FNdORGoNRIIABCCQDgI+aYRMC8Jil/+efPLJ653YpguAn3/++cgtySdjR64UESEAAQiUicCkl/5l5//u70Vzv+G43e3oPl2KxvNREErcSQDmh5NOOim4ezC8mH7s2LGNLqbv1atXJB4+MolcMSJCAAIQ8ISATxoh04Kw2OW/EoTvvvtuMAobhg022CAYpY0afDJ21DoRDwIQgEC5CEz/x/t2wm9eKJr9hP/cxw7cYcui8RA/hRHRN0VqOkSCAAQgUDYCPvnhTAvCXAvn79PQ3yQIly9fbpMnT47dGHwyduxKkhACEIBAQgTGTZtvVz9SfMnoZUfuZKf3y+aS0YRQNpsNfVMlKPMMCEAAAk0T8MkP17wglBjUrKAu/P3Wt75lV199dbB5P2rwydhR60Q8CEAAAuUi8PPJs+3u598qmv3x+21jVw3atWg8RcAPr48JJpGaDpEgAAEIlI2AT364pgXh/fffb5tssol169bNFixYYMOGDbPVq1fbzJkzrXXr1gUbCHc9le29IWMIQKAGCAybPNsmRBCEJ+y3jY1EEMZuET59iMSuJAkhAAEIpJiAT364pgVhfhtavHhxIA4nTpxoxxxzTMEmNnz4cBsxYsR6f6uvr7d27dqluFlSNAhAAALVJ/D7v71tF/7+/4oW5Jff382+v1fXovGYISyMyKcPkUhGJhIEIAABzwj45IcRhHmNS0d8n3baaTZ06NCCzY4ZQs/eRooLAQikigDXTlTGHD59iFSGCE+BAAQgUFkCPvlhBGFO21i6dKl17tzZbrvtNjvxxBMjtRqfjB2pQkSCAAQgUEYCXDtRRrg5WdM3VYYzT4EABCDQFAGf/HCmBWFzl//qagkt/zz22GOtU6dO9uabb9qll15qb731lr322mvWtm3bSC3cJ2NHqhCRIAABCJSRwHNvLLUfjCt+1+t9p+9nfXtsHqkk+OH1McEkUtMhEgQgAIGyEfDJD2daEDZ3+e+YMWNs0KBB9vLLLwdXT0gU6qLgkSNHWteu0fatqAX5ZOyytXgyhgAEIBCRwOer19g3hj1qa9Y2naBlC7O5I4+wDb7WMlKu+GEEYaSGQiQIQAACFSTgU9+UaUFYCZv7ZOxK8OAZEIAABJojwAxhZdoHfVNlOPMUCEAAAk0R8MkPIwgd27FPxnasKskhAAEIOBOYMusdO2/irKL53DSktw3s3bloPEXADzNDGKmhEAkCEIBABQn41DchCB0bhk/GdqwqySEAAQg4E2CG0BlhpAyc+6bf/tbspJPWPWurrcwOPdSsf/91P1tvHakMRIIABCBQywSc/XAF4SEIHWH7ZGzHqpIcAhCAgDOBL9astW+OetKW1K+0QtsIW5hZx/ZtbMbQb1srbSaMEPDD60NyZtKvn9n06RHom9kBB5i1b292yCFmZ59t1qZNtHTEggAEIJBhAs5+uIJsEISOsH0ytmNVSQ4BCEAgEQKPvbLYzrr7pSCvXFEYyr8xx/exAb06RX4WfrgMgvCDD8yOO87sr3+NbIeiEadNMzvwwKLRiAABCEAgCwR86psQhI4tzidjO1aV5BCAAAQSIyBROPyPr9qSj1Y15NmxXWsb/r1dShKDSowfLoMgbMrS77xj9sQTZo8/vu7n3XeTaRPnnGN2ww1mX/96MvmRCwQgAIEqE/Cpb0IQOjYWn4ztWFWSQwACEEiMwDpBOMeWfLQyRxC2seHf2xlBmADlqvRNH31k9qtfmV15ZQI1yMlCy1G1fHXXXZPNl9wgAAEIlJFAVfxwzPogCGOCC5P5ZGzHqpIcAhCAQCIEwiWj+XsIWTKaCN4gk1T2TbfdZnbmmclVMsxJAvSyy8xaRru3MvkCkCMEIACB9Qmk0g83YSgEoWML9snYjlUlOQQgAAFnAuGhMovrv5oZzM2UQ2WcEadXEDZXtYULzQYMMJs7NxkAubnMmWO2007J50uOEIAABJoh4JNGQBA6NmWfjO1YVZJDAAIQcCbAtRPOCCNlkKm+ac0as2uuMRs2LFLdS4p0ySXr8iZAAAIQSJiAT34YQehofJ+M7VhVkkMAAhBwJsDF9M4II2VQU33T7NlmBx1ktmxZJDYlRfrnP822376kJESGAAQgIAI++WEEoWOb9cnYjlUlOQQgAAFnAswQOiOMlAF905eYVq0yO/RQsxkzInErKZL2LV51VUlJiAwBCNQOAZ/8MILQsV36ZGzHqpIcAhCAgDMBLqZ3RhgpA/qmSJjMHnzQ7NhjI0YuMdrSpWZ1dSUmIjoEIJAVAj75YQShY6vzydiOVSU5BCAAgUQIcDF9IhibzYS+KQHGH3xgtuWWCWRUIItx48xOO608eZMrBCCQCgI++WEEoWOT8cnYjlUlOQQgAIHECEgUjnhojuWeNtqpfRu74rvcQyjIw4cPtxEjRjTivdVWW9mSJUsi2YC+KRImt0haMlqOA2k23HDdfsg2bdzKR2oIQKCqBHzywwhCx6bik7Edq0pyCEAAAokS0PLRFxYss/c+Xmkd2raxfbrXWauW4W2E0R+VRT8sQfj73//e/vKXvzSAaNWqlW0ZccYqi0yit4gUxJw/36xHj/IU5OGHzY46qjx5kysEIJAYAZ/8MILQ0ew+GduxqiSHAAQgkEoCWfTDEoSTJ0+2WbNmxWKeRSaxQKQ10eDBZr/7XfKl23VXM7WZli2Tz5scIQCBkgj45IcRhCWZdv3IPhnbsaokhwAEIJBKAln0wxKEo0ePtvbt21vr1q1t3333tWuuuca22267SDbIIpNIFc9CpL/9zWzvvctTE+W9557lyZtcIQCBRgR88sMIQsfG65OxHatKcghAAAKpJJBFP/zoo4/ap59+ajvssIO9++67dtVVV9ncuXPt1Vdftc0333w9O6xatcr0EwYx6dq1q9XX11u7du1SaTcKFYPAmjVme+1l9vLLMRIXSTJkiNl99yWfLzlCoEYJ+NQ3IQgdG6lPxnasKskhAAEIpJJALfjhTz75xHr06GEXX3yx/fSnP13PDoUOoVEkBGEqm2z5CjV1qtl3vlOe/BcsMNt22/LkTa4QyCABn/omBKFjA/TJ2I5VJTkEIACBVBKoFT/cv39/23777W3MmDHr2YEZwlQ2zXQVauXKdddorFiRfLl04upVVyWfLzlCwGMCPvVNCELHhuaTsR2rSnIIQAACqSRQC35Ygk8zhGeccYZdfvnlRe1QC0yKQiBCaQTGjjX78Y9LSxM19tKlZnV1UWMTDwKZIOCTH0YQOjY5n4ztWFWSQwACEEglgSz64QsvvNC++93v2jbbbGPvvfdesIfw6aefttmzZ1u3bt2K2iGLTIpWmgjlIyBBt8UW5clfQvSMM8qTN7lCoIoEfPLDCELHhuKTsR2rSnIIQAACqSSQRT88ZMgQmzZtmn3wwQfB3YP77befjRw50nbeeedINsgik0gVJ1J1CAwdavaLXyT/7NatzZYvN2vTJvm8yRECZSbgkx9GEDo2Bp+M7VhVkkMAAhBIJQH88PpmgUkqm2ptFmr+fLMePcpT94cfNjvqqPLkTa4QcCTgkx9GENaQsR2rSnIIQAACqSTgU6dbKYAwqRRpnuNM4LjjzB54wDmb9TLYdVezWbPMWrZMPm9yhEAEAj75YQRhBIM2F8UnYztWleQQgAAEUkkAP7y+WWCSyqZKoUol8OKLZvvsU2qqaPGVt+50JECgTAR88sMIQsdG4JOxHatKcghAAAKpJIAfRhCmsmFSqPISWLPGbM89180CJh00a3n//UnnSn41RsCnvglB6Ng4fTK2Y1VJDgEIQCCVBPDDCMJUNkwKVV0CU6eafec75SmD9kV2716evMk1MwR86psQhI7NzidjO1aV5BCAAARSSQA/jCBMZcOkUOklsHLlums0Pvkk+TL++tdm//VfyedLjt4R8KlvQhA6Ni+fjO1YVZJDAAIQSCUB/DCCMJUNk0L5S+C228zOPDP58nfsaDZ3rln79snnTY6pI+BT34QgdGw+PhnbsaokhwAEIJAogc9Xr7EJz71pC5d9at3qNrIT+m5rG3yt9BMB8cMIwkQbJplBoDkCS5eum11MOhxwgJmEaMS7RpN+PPklT8CnvglB6Gh/n4ztWFWSQwACEEiMwLWPzLFx0xfYmrVfZdmyhdnpB3a3S46Mdvl6mBI/jCBMrGGSEQRcCdx8c/JLRuvqzH7xC7OTTjL72tdcS0j6ChHwqW9CEDo2Cp+M7VhVkkMAAhBIhIDE4NhpC5rM68x+pYlC/DCCMJGGSSYQKDeBd94x69Il+adIKF55pdk22ySfNznGJuBT34QgjG3mdQl9MrZjVUkOAQhAwJmAlol+Y9ijjWYG8zPVTOHckUdEXj6KH0YQOjdMMoBAGgj85S9mP/uZ2cyZyZXm+uvNDj/cbKedzFq0SC5fcipKwKe+KdOCcNq0aTZ69GibOXOmLV682CZNmmSDBg1qMODatWttxIgRdtttt9mHH35o++67r9188822yy67FDVyGMEnY0euFBEhAAEIlInAHdPn28iprxXNfdhRO9mpB25XNB4Dc4UR0TdFajpEgoA/BN5/3+yaa8xuvDGZMu+6q9mhh5r172/Wr5/Zxhsnky+5NBDwyQ9nWhA++uij9swzz1ifPn3s2GOPXU8Qjho1yq6++mq78847bYcddrCrrrrKJCJff/11a9u2baQm7ZOxI1WISBCAAATKSODyKa/Yb59bWPQJJ/btZlcO7FU0HoIQQRipkRAJAlkmsHat2aRJZkOHms2b517Tdu3WCcXwZ7tog3PuD85WDj5phEwLwtxm1aJFi0aCULODW2+9tf3kJz+xoXqBzGzVqlW21VZbmYTimRGPG/bJ2Nl6zagNBCDgIwFmCCtjNfqmynDmKRDwgsDy5WZPPWWmJamPP272j3+4FXuvvb4Si/vvb9a6tVt+GU3tkx+uWUE4f/5869Gjh7300ku2xx57NDTFgQMH2qabbmp33XVXpObpk7EjVYhIEIAABOIQWLTI7M9/NnvySbMZM8wWNH1oTKHstx36cMOv2UMYxwCN09A3uTMkBwjUBIE1a8z+/vd1QjEUjC4V79BhnVjUclT9lOMQHZfyVTCtT364ZgXhs88+awcccIC98847wUxhGM444wxbuHCh/elPfyrYZDSLqJ8wyNhdu3a1+vp6a6cpdgIEIACBuAQcRVXcx6Yh3RGn/D97rcO6ZUmcMupuEZ8+RNxrSw4QgEDZCGjvogb6JBj189Zbbo/65je/Eoz77JPpazR88sM1LwgXLVpknTp1amjcp59+ur399tv22GOPFWzww4cPDw6iyQ8IQjf/QGoIJEaghkVVYgyrkJFmCLmHMDnwPn2IJFdrcoIABCpKYPVqs7/97SuxOH262+O7dv1qKeohh5htuaVbflVO7ZMfrllBGHfJKDOEVX67eHxlCCCqKsM5S0/p3Nns29/+6ifCfVi6gmLCc2/awmWfWre6jeyEvttGvmoiF51PnW6lTA6TSpHmORCAQJMEdO9iuAxV/777rhssicTwoJvevc1atnTLr8ypffLDNSsIw0Nlzj//fLv44ouDJvH5559bhw4dOFSmzC9IzWS/dKnZiy+avfyy2f/9n9lLL7lv5K4ZeDVa0RiiqkZJNaq2T51upewFk0qR5jkQgEAsAtp+9dxzX80u6nvJJfTs+ZVYPOggs003dcktkbQ++eFMC8IVK1bYvC+P39XBMddff70dfPDBVldXZ9tss00g/K699lobP3689ezZ06655hp76qmnuHYikdcgoUwQVQmBrKFsEFU1ZOx1VfWp062UcWBSKdI8BwIQKAuB+fO/ml3U3sX6+viP2WCDxtdo7LSTWYsW8fOLmNInP5xpQShxJwGYH0466aTg7sHwYvqxY8c2upi+V69od1958yGSL6o0Y/X66xGbM9FqkgCiqibN7mulfep0K8UYJpUizXMgAIGKE/jkEzPtVwyXo2oVlkvYddd1J6JqOWq/fmYbb+ySW0Nan/xwpgVhItYskomzsQcMMGviRNNKlJ9nlImALnHVdSZ9+nz171ZblelhZAuB2ibg7IcziA8mGTQqVYIABIoTWLvWbO7cr5aianYx53aA4hnkxfjpT81Gj461X9EnP4wgLLllNE7gbOwKTFk7VrF6ySWqQkElcaWfjh2rVx6eDAEIpJKAsx9OZa3cCgUTN36khgAEMkpAS0+feuorwfiPfxSv6Jw5ZlpmWmLwyQ8jCEs0bn50Z2NrXfO//+1YimaS54sqCSxmqsrHm5whAIGKE3D2wxUvcbQH3nLLLTZ69GhbvHix7bLLLnbjjTfagQceGClxVplEqjyRIAABCMQhsGaN2d//vk4shstRL73U7KqrYu059MkPIwjjNJicND4Z27GqJIcABCCQSgJZ9MP333+/nXDCCSZReMABB5j2ut9+++02Z86c4FC0YiGLTIrVmb9DAAIQSBMBn/wwgtCx5fhkbMeqkhwCEIBAKglk0Q/vu+++1qdPHxszZkwD85122skGDRoUnI5dLGSRSbE683cIQAACaSLgkx9GEDq2HJ+M7VhVkkMAAhBIJYGs+WHdibvRRhvZAw88YEcffXQD8/POO89mzZplTz/9dFE7ZI1J0QoTAQIQgEDKCPjkhxGEjo3HJ2M7VpXkEIAABFJJIGt+eNGiRda5c2d75plnbP/9929grrty77rrruCu3PywatUq008YxKRr165WX19v7dq1S6XdKBQEIACBLBPwqW9CEDq2RJ+M7VhVkkMAAhBIJYGs+eFQED777LPWt2/fBuZXX321TZgwwebqSPW8MHz4cBsxYsR6v0cQprLJUigIQKAGCPjUNyEIHRukT8Z2rCrJIQABCKSSQNb8cJwlo8wQprJpUigIQKCGCfjUNyEIHRuqT8Z2rCrJIQABCKSSQBb9sA6V2XPPPYNTRsOw884728CBAzlUJpWtkEJBAAIQaEzAp74JQejYen0ytmNVSQ4BCEAglQSy6IfDayduvfXWYNnobbfdZuPGjbNXX33VunXrVtQOWWRStNJEgAAEIJAiAj75YQShY8PxydiOVSU5BCAAgVQSyKof1uzgL37xi+Bi+l69etkNN9xg/fr1i2SDrDKJVHkiQQACEEgBAZ/8MILQscFow/6mm25qb7/9Nie5ObIkOQQgAIE4BMITNZcvX27t27ePk0Xm0tA3Zc6kVAgCEPCMgE99E4LQsXH961//Co72JkAAAhCAQHUJaGCuS5cu1S1ESp5O35QSQ1AMCECg5gn40DchCB2b6Zo1a0xHhLdt29ZatGgRK7dwBIFZxlj4DH7xuIWp4Ac/NwJuqZNof2vXrrWPP/7Ytt56a2vZsqVbgTKSOm7flIQ90o6QOqbdQtHKl3U7Zr1+snLW6+hT34QgjOZ3yhrLpzXGZQURM3P4xQT3ZTL4wc+NgFtq2p8bv6RT14I9qGPSraY6+WXdjlmvXygItcyf+1Kr8w7lPhVBWH0bBCMkvBDxDQG/+OxwyG7s4Ac/dwLpyqEW/Cl1TFebi1uarNsx6/Wj/4zb8suTDkFYHq4l5VoLL31JQEqMDL8SgeVFhx/83Ai4pab9ufFLOnUt2IM6Jt1qqpNf1u2Y9fohCKvz3jT1VARhCuyxatWq4KLhSy65xFq3bp2CEvlVBPi52Qt+8HMj4Jaa9ufGL+nUtWAP6ph0q6lOflm3Y9brp1ZTC3WszttR+lMRhKUzIwUEIAABCEAAAhCAAAQgAIFMEEAQZsKMVAICEIAABCAAAQhAAAIQgEDpBBCEpTMjBQQgAAEIQAACEIAABCAAgUwQQBBmwoxUAgIQgAAEIAABCEAAAhCAQOkEEISlMytLCh0qc+mll9p5551nN954Y1mekaVMhw8fbiNGjGhUpa222sqWLFmSpWqWtS7vvPOODR061B599FH77LPPbIcddrA77rjD9txzz7I+NyuZb7vttrZw4cL1qnP22WfbzTffnJVqlq0eq1evNr3H99xzT/DedurUyU4++WT7+c9/zuXyZaO+LuNi/lOXKcu/3nbbbfbhhx/avvvuG7TpXXbZpcwli5/9tGnTbPTo0TZz5kxbvHixTZo0yQYNGtSQYZQ6qa7//d//bX/84x+DdN/73vfs17/+tW266abxC5ZgymJ11Ptz1113NXqibPf88883/E6HeFx44YV23333BX7/kEMOsVtuucW6dOmSYEnjZaXvoAcffNDmzp1rG264oe2///42atQo23HHHUsq/1tvvWXnnHOOPfnkk0E+P/zhD+2Xv/ylbbDBBvEKlmCqKHU86KCD7Omnn2701MGDB9vEiRMbfpfmtjpmzBjTz5tvvhmUV37j8ssvtyOOOCL4/yhtMM02TLA5pCorBGEKzPHiiy/acccdZ+3atbODDz4YQRjBJvqg+f3vf29/+ctfGmK3atXKttxyywipiaLOZI899gja21lnnWUdOnSwN954wyRyevToAaAIBN5//3374osvGmK+8sor1r9/f/vrX/9q6tAJzRO4+uqr7YYbbgg+YPXB8Le//c1OOeUUu+qqq4KBMUL5CBTzn/oIl33uvPPOYKBINpEYef31161t27blK5hDzhrYeuaZZ6xPnz527LHHricIo9RJH6z/+te/AiGscMYZZwQ+8aGHHnIoWXJJi9VRgvDdd9+18ePHNzxUIqiurq7h/+XvVR/ZdvPNN7cLLrjAli1bFghp9aHVDAMGDLAhQ4bY3nvvbRowuuyyy2z27Nk2Z84c23jjjYOiFSu/fHLv3r2Db4Ff/epXtnTpUjvppJPsmGOOCcR9tUOUOqr/0Ht35ZVXNhRXwlb3VYchzW1V7Uttafvttw+KKx+vwZqXX3458PW+27Dabahcz0cQlotsxHxXrFgRdGAaoVOnK0fGDGFxePqgmTx5ss2aNat4ZGKsR+BnP/tZ8PE0ffp06CRE4Cc/+Yk9/PDD9s9//tNatGiRUK7ZzeY73/mOaVZfs9Jh0If8RhttZBMmTMhuxVNQs+b8p2bStt56a1N71goCBY3oy1YSVWeeeWYKatB8EfT+5c4QRqnTa6+9ZjvvvHMwm6ZZNQX9d9++fYMZq9xZqjQAyK+jyiRBuHz58qBvLBTq6+sDoaT3SzNOCosWLbKuXbvaI488YocffngaqtZQBg26abBSs2X9+vWzKOWXaJZvefvtt4N2rKCZNbF57733goH3NIX8OqpsEoTNfQv61lZVJw1KSBR+//vfL9oGfbNhmtqTS1kQhC70EkirkSu9KBopL+YEEnhcZrLQB42ci0bMdHejOvBrrrnGtttuu8zUsZwV0YePOn+Nhquz7dy5s2mp4+mnn17Ox2Y2788//zz4+PjpT38aLP0mFCdw3XXX2a233mp//vOfg9Hwv//973bYYYcFA2I/+MEPimdAjNgEmvOf8+fPD1YJvPTSS8EqgjAMHDgwWDqZvyQxdiHKmDBfLEWp029+85vg/ZWgyg2qs/pnzV6nKTQlCCUGNSuocn/rW98KZnolqhS0hFJLRDUjuNlmmzVUZ/fddw+W1+Zvw6h2fefNm2c9e/YMZgl79eoVqfxamjhlypTAn4RBK2L0naX6a1VMmkJ+HVU2fQu++uqrpoEMDcRoNvCKK65omJ33qa1qxvaBBx4IZmk1Q6jtAcXaoG82TFN7cikLgtCFnmNajVrJWWvJaJs2bRCEJfDUCNKnn34afEhqiYxmVzWKKyeqZTCE5gmovSnoA+g//uM/7IUXXghmBMaOHWsnnngi+Eok8Lvf/S7Yp6J9D+GodIlZ1Fx0fexIPGvWScuL9OEgf3jJJZfUHItKV7g5/6lloQcccIBpj3FuW9bySe2Z/dOf/lTp4pb8vHyx9OyzzxatkwYUtYzyH//4R6PnqY+RGExbuywkCO+//37bZJNNrFu3brZgwQIbNmxYsPRSy0E1cHrvvfcGddGMb27QQEz37t0D/5+WIP+gQQiJuXAlS5Tyq51q75oGmnKD6i/7pmmwqVAdVeZx48YF9ujYsaNpK4LanpZfPv7440GVfGirEvGaXV+5cmXQJmW7I488MlIb9MmGaXlfkigHgjAJijHy0HKGvfbaK3BaGp1TYIYwBsgvk3zyySfBqGLnvoQAAAhaSURBVPbFF18ciBxC8wQ0gqz2pw+lMOgwBQ1OPPfcc+ArkYBmW8U0LXuNSix+VaJrQOyiiy4KZvq1r0TLvzUocf311wejyYTKEcj1n/vtt18gnrSUUAf9hEGrB9RvPfbYY5UrWMwnNSUIm6uTPrI1+ylBnBs0Q3XqqaealtmnKRQShPnl0+E6Eod617SHrilBpb3P6j81Y5+WoENhpk6dajNmzGg48CZK+ZsauJB//u1vfxvsUUxLKFTHQmWToFd/rX+1xciHtqpVMxog1Yz7H/7wB7v99tuD1Ujy84UGJXLboE82TEtbSqIcCMIkKMbIQ8s6jj766EabuDVCLiffsmXLYASv2hu8Y1SrqknkUDSKptOtCM0T0EeCeMlJh0HcNNOqmQFCdAKaNdFSZZ2OpxFtQjQC2rekj2x9FIVB7e/uu+8OZvsJlSUQ+k+JdJaMfsXepyWjhVqMBO1pp50W7Af1ZcnoueeeG+yD1EFGmikLQ5Ty+7LcsKk6FrKhZhI1wxnu/fRpyWhYn0MPPTTwK9q7ypLRyvr2qE9DEEYllXC8jz/+eL0j6zVq8o1vfCNw3Fov///bu2MbKZYoDKMYhIBNBmCSBCICsMiAGIgAiXSQcMmFGNDT11I/DftgZ5yruft02sLYra0+1fTM3111y3G7QAG6m01PlvpAcDwu0PTGnvZfFpX59OnTsx8/fvz21pDjdYHWYzXVKs/nz59f/wU/cQg0tbsAWMW586gkexUSH07bQzYrcHn/bJphU0W7HzTjoqOn/a1De+pFZR47p7NQR/fAN2/eHOfdv3tj+lSKyjy8Sqqw2frwqqa2FOAsytJDlyqbd/QWsS0nNhSVKfgUlCoI9P3792P94OVxS//PgiStjz/fcDeVtlkHG4rKXDvHP/1Pb9roq1ev/i2u89Su1c6pENhDwC9fvhxFZR67BreP4ezd+H6tC4T3s//PXzZl9PbBaB+ld+/ePXv58uVxk++LZdMRmrfe2y/H4wJNDW2Pp4oI9MWgNYRNCeuLw/v37/HdKPDr16/jCXbrUiqS4rhdoKp/bRtTmG7KaAUHeqDz8ePHI3g45gSu3T/zP8N5X8qbotYX9M3bTlSxuwIdHRXDaepxBUQqJtLnxC3nVPGOppWea+m6Hvs82TIV/LFz7Dx7OFWl3oJQ6+hao9u0vQLEuV1ID2Cqhtx6un6na6HguGHbiQqbNS20ojCXVV0rHte2Cx3X+n9uO1ExlqajV0Cne01FczZsO3HtHNv+qb1ZW2/34sWLY8uNtgbp/PvcPmeObb5Wu+7qXwGwlx9NWe7zsenmzUR46mM4d2e+b8sC4X39f/vrAuHtg9E6gKaT/Pz583ja1FPcz58/H2XDHbcJ9KWgxeptk1Coae2lKqO32Z0/1Rrg1g/2RbniE47bBfqi0Nuo3gb0UKe3UgXr3vBv2ED69jN5ej957f55buJeMLrcmH7zzJUC658qSPZmqPBzyzkVHh5uTP/169c1G9M/do5N+S/09GCldVuFwjz6XOyL+XlU5KNpwQWvy43pL3/mXlf037bradZAoa7jlv4XggteDzemb9rlvY9r59hMkw8fPhzFZHoA0Li8ffv2qDJ6uZ/k5mu1Nbffvn073j4X5l+/fn3MfCsM/h/G8N7X0NTfFwinZLVLgAABAgQIECBAgACB5QIC4fIB0j0CBAgQIECAAAECBAhMCQiEU7LaJUCAAAECBAgQIECAwHIBgXD5AOkeAQIECBAgQIAAAQIEpgQEwilZ7RIgQIAAAQIECBAgQGC5gEC4fIB0jwABAgQIECBAgAABAlMCAuGUrHYJECBAgAABAgQIECCwXEAgXD5AukeAAAECBAgQIECAAIEpAYFwSla7BAgQIECAAAECBAgQWC4gEC4fIN0jQIAAAQIECBAgQIDAlIBAOCWrXQIECBAgQIAAAQIECCwXEAiXD5DuESBAgAABAgQIECBAYEpAIJyS1S4BAgQIECBAgAABAgSWCwiEywdI9wgQIECAAAECBAgQIDAlIBBOyWqXAAECBAgQIECAAAECywUEwuUDpHsECBAgQIAAAQIECBCYEhAIp2S1S4AAAQIECBAgQIAAgeUCAuHyAdI9AgQIECBAgAABAgQITAkIhFOy2iVAgAABAgQIECBAgMByAYFw+QDpHgECBAgQIECAAAECBKYEBMIpWe0SIECAAAECBAgQIEBguYBAuHyAdI8AAQIECBAgQIAAAQJTAgLhlKx2CRAgQIAAAQIECBAgsFxAIFw+QLpHgAABAgQIECBAgACBKQGBcEpWuwQIECBAgAABAgQIEFguIBAuHyDdI0CAAAECBAgQIECAwJSAQDglq10CBAgQIECAAAECBAgsFxAIlw+Q7hEgQIAAAQIECBAgQGBKQCCcktUuAQIECBAgQIAAAQIElgsIhMsHSPcIECBAgAABAgQIECAwJSAQTslqlwABAgQIECBAgAABAssFBMLlA6R7BAgQIECAAAECBAgQmBIQCKdktUuAAAECBAgQIECAAIHlAgLh8gHSPQIECBAgQIAAAQIECEwJCIRTstolQIAAAQIECBAgQIDAcgGBcPkA6R4BAgQIECBAgAABAgSmBATCKVntEiBAgAABAgQIECBAYLmAQLh8gHSPAAECBAgQIECAAAECUwIC4ZSsdgkQIECAAAECBAgQILBcQCBcPkC6R4AAAQIECBAgQIAAgSkBgXBKVrsECBAgQIAAAQIECBBYLiAQLh8g3SNAgAABAgQIECBAgMCUgEA4JatdAgQIECBAgAABAgQILBcQCJcPkO4RIECAAAECBAgQIEBgSkAgnJLVLgECBAgQIECAAAECBJYL/AONIkQ8L7Tm0QAAAABJRU5ErkJggg==\" width=\"900\">"
            ],
            "text/plain": [
              "<IPython.core.display.HTML object>"
            ]
          },
          "metadata": {},
          "output_type": "display_data"
        }
      ]
    },
    {
      "cell_type": "markdown",
      "metadata": {
        "id": "8XT-xby8EElR"
      },
      "source": [
        "It looks as if some of the predictors have been somewhat correctly modelled by the regression. Others, like `disp` in the top-right, is nowhere near."
      ]
    },
    {
      "cell_type": "markdown",
      "metadata": {
        "id": "uPV1SE8NEElR"
      },
      "source": [
        "## Assessing Model Accuracy"
      ]
    },
    {
      "cell_type": "markdown",
      "metadata": {
        "id": "nGmvV7-6EElS"
      },
      "source": [
        "Let's assess the fit of our multivariate model. For the purpose of a rudimentary comparison, let's measure model accuracy aginst a simple linear regression model which uses only `disp` as a predictor variable for `mpg`."
      ]
    },
    {
      "cell_type": "code",
      "metadata": {
        "id": "ess2lL01EElS",
        "outputId": "04951cf3-3bfd-420e-c603-ee93dc596fe7",
        "colab": {
          "base_uri": "https://localhost:8080/"
        }
      },
      "source": [
        "# comparison linear model\n",
        "slr = LinearRegression()\n",
        "\n",
        "slr.fit(X_train[['disp']], y_train)"
      ],
      "execution_count": 15,
      "outputs": [
        {
          "output_type": "execute_result",
          "data": {
            "text/plain": [
              "LinearRegression(copy_X=True, fit_intercept=True, n_jobs=None, normalize=False)"
            ]
          },
          "metadata": {},
          "execution_count": 15
        }
      ]
    },
    {
      "cell_type": "code",
      "metadata": {
        "id": "GgeeaL8pEElS"
      },
      "source": [
        "from sklearn import metrics\n",
        "import math"
      ],
      "execution_count": 16,
      "outputs": []
    },
    {
      "cell_type": "code",
      "metadata": {
        "id": "655Idv2NEElS"
      },
      "source": [
        "# dictionary of results\n",
        "results_dict = {'Training MSE':\n",
        "                    {\n",
        "                        \"SLR\": metrics.mean_squared_error(y_train, slr.predict(X_train[['disp']])),\n",
        "                        \"MLR\": metrics.mean_squared_error(y_train, lm.predict(X_train))\n",
        "                    },\n",
        "                'Test MSE':\n",
        "                    {\n",
        "                        \"SLR\": metrics.mean_squared_error(y_test, slr.predict(X_test[['disp']])),\n",
        "                        \"MLR\": metrics.mean_squared_error(y_test, lm.predict(X_test))\n",
        "                    },\n",
        "                'Test RMSE':\n",
        "                    {\n",
        "                        \"SLR\": math.sqrt(metrics.mean_squared_error(y_test, slr.predict(X_test[['disp']]))),\n",
        "                        \"MLR\": math.sqrt(metrics.mean_squared_error(y_test, lm.predict(X_test)))\n",
        "                    }\n",
        "                }"
      ],
      "execution_count": 17,
      "outputs": []
    },
    {
      "cell_type": "markdown",
      "metadata": {
        "id": "l6F4KMBVEElS"
      },
      "source": [
        "We have included a column *Test RMSE*, which is simply the square root of the *Test MSE*.\n",
        "\n",
        "\n",
        "\\begin{align}\n",
        "RMSE & = \\sqrt{MSE} \\\\\n",
        "     & = \\sqrt{\\frac{1}{N}\\sum^{N} (\\hat{y_i} - y_i)^{2}}\n",
        "\\end{align}\n",
        "\n",
        "Where $y_i$ are the actual target values for a dataset with $N$ datapoints, and $\\hat{y_i}$ represent our corresponding predictions. RMSE is a more intuitive metric to use than MSE because it is in the same units as the underlying variable being predicted.\n",
        "\n",
        "For instance, MSE would be measured in units of $mpg^2$, whereas RMSE is measured in the same units as $mpg$."
      ]
    },
    {
      "cell_type": "code",
      "metadata": {
        "id": "VJxiPyU-EElT"
      },
      "source": [
        "# create dataframe from dictionary\n",
        "results_df = pd.DataFrame(data=results_dict)"
      ],
      "execution_count": 18,
      "outputs": []
    },
    {
      "cell_type": "code",
      "metadata": {
        "id": "vuV_Y62eEElT",
        "outputId": "c97227f6-68a1-4187-9312-0a32e7267947",
        "colab": {
          "base_uri": "https://localhost:8080/",
          "height": 111
        }
      },
      "source": [
        "results_df"
      ],
      "execution_count": 19,
      "outputs": [
        {
          "output_type": "execute_result",
          "data": {
            "text/html": [
              "<div>\n",
              "<style scoped>\n",
              "    .dataframe tbody tr th:only-of-type {\n",
              "        vertical-align: middle;\n",
              "    }\n",
              "\n",
              "    .dataframe tbody tr th {\n",
              "        vertical-align: top;\n",
              "    }\n",
              "\n",
              "    .dataframe thead th {\n",
              "        text-align: right;\n",
              "    }\n",
              "</style>\n",
              "<table border=\"1\" class=\"dataframe\">\n",
              "  <thead>\n",
              "    <tr style=\"text-align: right;\">\n",
              "      <th></th>\n",
              "      <th>Training MSE</th>\n",
              "      <th>Test MSE</th>\n",
              "      <th>Test RMSE</th>\n",
              "    </tr>\n",
              "  </thead>\n",
              "  <tbody>\n",
              "    <tr>\n",
              "      <th>SLR</th>\n",
              "      <td>8.201521</td>\n",
              "      <td>20.500165</td>\n",
              "      <td>4.527711</td>\n",
              "    </tr>\n",
              "    <tr>\n",
              "      <th>MLR</th>\n",
              "      <td>3.737534</td>\n",
              "      <td>11.520901</td>\n",
              "      <td>3.394245</td>\n",
              "    </tr>\n",
              "  </tbody>\n",
              "</table>\n",
              "</div>"
            ],
            "text/plain": [
              "     Training MSE   Test MSE  Test RMSE\n",
              "SLR      8.201521  20.500165   4.527711\n",
              "MLR      3.737534  11.520901   3.394245"
            ]
          },
          "metadata": {},
          "execution_count": 19
        }
      ]
    },
    {
      "cell_type": "markdown",
      "metadata": {
        "id": "f8ZyKUF5EElT"
      },
      "source": [
        "Clearly the multiple linear regression (bottom row) performed a lot better than using just `disp` to try and predict `mpg`."
      ]
    },
    {
      "cell_type": "markdown",
      "metadata": {
        "id": "h0QqS8xlEElT"
      },
      "source": [
        "## Conclusion\n",
        "\n",
        "In this train we have seen or been introduced to:\n",
        "\n",
        "- The `mtcars` dataset;\n",
        "- Using `sklearn` to perform multiple linear regression;\n",
        "- Using mean squared error and root mean squared error to measure model accuracy on unseen data.\n",
        "\n",
        "In future trains, we will look at methods for further evaluating the quality of our model."
      ]
    },
    {
      "cell_type": "markdown",
      "metadata": {
        "id": "9Gz-yFYlEElT"
      },
      "source": [
        "## Appendix\n",
        "\n",
        "Below are additional links that you can follow to learn more about multiple linear regression:\n",
        "\n",
        "- [Video on multiple linear regression by the authors of ISLR](https://www.youtube.com/watch?v=1hbCJyM9ccs)"
      ]
    }
  ]
}