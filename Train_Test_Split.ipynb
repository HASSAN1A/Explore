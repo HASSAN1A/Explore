{
  "nbformat": 4,
  "nbformat_minor": 0,
  "metadata": {
    "kernelspec": {
      "display_name": "Python 3",
      "language": "python",
      "name": "python3"
    },
    "language_info": {
      "codemirror_mode": {
        "name": "ipython",
        "version": 3
      },
      "file_extension": ".py",
      "mimetype": "text/x-python",
      "name": "python",
      "nbconvert_exporter": "python",
      "pygments_lexer": "ipython3",
      "version": "3.7.4"
    },
    "colab": {
      "name": "Train_Test_Split.ipynb",
      "provenance": [],
      "include_colab_link": true
    }
  },
  "cells": [
    {
      "cell_type": "markdown",
      "metadata": {
        "id": "view-in-github",
        "colab_type": "text"
      },
      "source": [
        "<a href=\"https://colab.research.google.com/github/HASSAN1A/Explore/blob/main/Train_Test_Split.ipynb\" target=\"_parent\"><img src=\"https://colab.research.google.com/assets/colab-badge.svg\" alt=\"Open In Colab\"/></a>"
      ]
    },
    {
      "cell_type": "markdown",
      "metadata": {
        "id": "KK-ZEuROBr3H"
      },
      "source": [
        "# Assessing Model Accuracy: The Train/Test Split\n",
        "\n",
        "© Explore Data Science Academy"
      ]
    },
    {
      "cell_type": "markdown",
      "metadata": {
        "id": "wNwTP8eeBr3O"
      },
      "source": [
        "## Learning Objectives\n",
        "In this train you will learn how to:\n",
        "\n",
        "- Split a dataset into two parts for the model training process;\n",
        "- Understand the theory about an additional _validation_ set;\n",
        "- Carry out the train/test split using `sklearn`; and,\n",
        "- Review the performance of the model on both the training and testing sets."
      ]
    },
    {
      "cell_type": "markdown",
      "metadata": {
        "id": "fjo7kyXmBr3P"
      },
      "source": [
        "## Outline\n",
        "\n",
        "Within the various sections of this Train we will:\n",
        "\n",
        "- Bring in the data;\n",
        "- Split it into training and testing sets;\n",
        "- Train a linear regression model using the training set;\n",
        "- Assess the perfomance of the model on both data subsets."
      ]
    },
    {
      "cell_type": "markdown",
      "metadata": {
        "id": "bcnPuxQJBr3P"
      },
      "source": [
        "## Introduction\n",
        "\n",
        "### Two-Way Split"
      ]
    },
    {
      "cell_type": "markdown",
      "metadata": {
        "id": "vLMiSQbeBr3Q"
      },
      "source": [
        "When fitting a machine learning model to some data, we ultimately intend to use that model to make predictions/forecasts on real-world data. Real-world data is unseen - it doesn't exist in the dataset we have at our disposal - so in order to validate our model (check how well it performs), we need to test it on unseen data too.\n",
        "\n",
        "However, gathering unseen data is not as simple as collecting it from outside the window and exposing it to the model: any new data would need to be cleaned, wrangled and annotated just like the data in our dataset. The next best thing, then, is to simulate some unseen data, which we can do using the existing dataset by splitting it into two sets:\n",
        "\n",
        "- One for training the model; and\n",
        "- A second for testing it.\n",
        "   \n",
        "We fit a model using the training data, and then assess its accuracy using the test set.\n",
        "\n",
        "We will use 80% of the data for training and keep 20% aside for testing. In other words, the training set will contain 80% of the rows, or data points, and the remaining 20% of rows will be in the test set. These rows are selected at random, to ensure that the mix of data in the train set is as close as possible to the mix in the test set.\n",
        "\n",
        "### Three-Way Split\n",
        "\n",
        "Many academic works on machine learning talk about splitting the dataset into three distinct parts: `train, validation,` and `test` sets. The idea here is that, as before, the training set is used to fit the model to the observations. Thereafter, during the model tuning process where hyperparameters are tweaked and decisions on the dataset is made, the validation set is used to test the performance of the model.\n",
        "\n",
        "Once the model designer is satisfied with the performance of the model on the validation set, the previously unseen test set is brought out and used to provide an unbiased evaluation of a final model fit on the training dataset.\n",
        "\n",
        "### Caveats for using a validation set\n",
        "\n",
        "On small datasets, it may not be feasible to include a validation set for the following reasons, both of which should be intuitive:\n",
        "\n",
        "- The model may need every possible data point to adequately determine model values;\n",
        "- For small enough test sets, the uncertainty of the test set can be considerably large to the point where different test sets may produce very different results.\n",
        "\n",
        "Clearly, further splitting the training data into training and validation sets would remove precious observations for the training process.\n",
        "\n",
        "### Cross-Validation\n",
        "\n",
        "In the case that the designer does not desire to use a validation set, or there is simply not enough data, a technique known as cross validation may be used. A common version of cross validation is known as K-fold cross validation: during the training process, some proportion of the training data, say 10%, is held back, and effectively used as a validation set while the model parameters are calcuated."
      ]
    },
    {
      "cell_type": "markdown",
      "metadata": {
        "id": "f9oUTMwRBr3S"
      },
      "source": [
        "## Getting started\n",
        "Same as before, we will need to import a few Python libraries"
      ]
    },
    {
      "cell_type": "code",
      "metadata": {
        "id": "uvbWYYsiBr3T"
      },
      "source": [
        "import numpy as np\n",
        "import pandas as pd\n",
        "import matplotlib.pyplot as plt\n",
        "from matplotlib import rc\n",
        "import seaborn as sns"
      ],
      "execution_count": 1,
      "outputs": []
    },
    {
      "cell_type": "markdown",
      "metadata": {
        "id": "LznyQ2-7Br3V"
      },
      "source": [
        "Now we will load some data on the Rand exchange rates over time."
      ]
    },
    {
      "cell_type": "code",
      "metadata": {
        "id": "aISeGFCjBr3W",
        "outputId": "fd12f2be-071b-43be-acf4-59d46f2148a1",
        "colab": {
          "base_uri": "https://localhost:8080/",
          "height": 359
        }
      },
      "source": [
        "df = pd.read_csv('https://raw.githubusercontent.com/Explore-AI/Public-Data/master/Data/regression_sprint/regression_sprint_data_1.csv', index_col=0)\n",
        "df.head(10)"
      ],
      "execution_count": 2,
      "outputs": [
        {
          "output_type": "execute_result",
          "data": {
            "text/html": [
              "<div>\n",
              "<style scoped>\n",
              "    .dataframe tbody tr th:only-of-type {\n",
              "        vertical-align: middle;\n",
              "    }\n",
              "\n",
              "    .dataframe tbody tr th {\n",
              "        vertical-align: top;\n",
              "    }\n",
              "\n",
              "    .dataframe thead th {\n",
              "        text-align: right;\n",
              "    }\n",
              "</style>\n",
              "<table border=\"1\" class=\"dataframe\">\n",
              "  <thead>\n",
              "    <tr style=\"text-align: right;\">\n",
              "      <th></th>\n",
              "      <th>ZAR/USD</th>\n",
              "      <th>Value of Exports (ZAR)</th>\n",
              "    </tr>\n",
              "  </thead>\n",
              "  <tbody>\n",
              "    <tr>\n",
              "      <th>2008M01</th>\n",
              "      <td>7.01</td>\n",
              "      <td>39356.82</td>\n",
              "    </tr>\n",
              "    <tr>\n",
              "      <th>2008M02</th>\n",
              "      <td>7.66</td>\n",
              "      <td>46946.33</td>\n",
              "    </tr>\n",
              "    <tr>\n",
              "      <th>2008M03</th>\n",
              "      <td>7.97</td>\n",
              "      <td>51150.89</td>\n",
              "    </tr>\n",
              "    <tr>\n",
              "      <th>2008M04</th>\n",
              "      <td>7.79</td>\n",
              "      <td>56174.34</td>\n",
              "    </tr>\n",
              "    <tr>\n",
              "      <th>2008M05</th>\n",
              "      <td>7.62</td>\n",
              "      <td>56240.45</td>\n",
              "    </tr>\n",
              "    <tr>\n",
              "      <th>2008M06</th>\n",
              "      <td>7.92</td>\n",
              "      <td>60159.93</td>\n",
              "    </tr>\n",
              "    <tr>\n",
              "      <th>2008M07</th>\n",
              "      <td>7.63</td>\n",
              "      <td>61268.16</td>\n",
              "    </tr>\n",
              "    <tr>\n",
              "      <th>2008M08</th>\n",
              "      <td>7.66</td>\n",
              "      <td>60390.94</td>\n",
              "    </tr>\n",
              "    <tr>\n",
              "      <th>2008M09</th>\n",
              "      <td>8.06</td>\n",
              "      <td>61067.34</td>\n",
              "    </tr>\n",
              "    <tr>\n",
              "      <th>2008M10</th>\n",
              "      <td>9.74</td>\n",
              "      <td>65652.57</td>\n",
              "    </tr>\n",
              "  </tbody>\n",
              "</table>\n",
              "</div>"
            ],
            "text/plain": [
              "         ZAR/USD  Value of Exports (ZAR)\n",
              "2008M01     7.01                39356.82\n",
              "2008M02     7.66                46946.33\n",
              "2008M03     7.97                51150.89\n",
              "2008M04     7.79                56174.34\n",
              "2008M05     7.62                56240.45\n",
              "2008M06     7.92                60159.93\n",
              "2008M07     7.63                61268.16\n",
              "2008M08     7.66                60390.94\n",
              "2008M09     8.06                61067.34\n",
              "2008M10     9.74                65652.57"
            ]
          },
          "metadata": {},
          "execution_count": 2
        }
      ]
    },
    {
      "cell_type": "code",
      "metadata": {
        "id": "TCZ0AD3VBr3X"
      },
      "source": [
        "# Import the split function from sklearn\n",
        "from sklearn.model_selection import train_test_split"
      ],
      "execution_count": 3,
      "outputs": []
    },
    {
      "cell_type": "code",
      "metadata": {
        "id": "IGGScGx1Br3Y"
      },
      "source": [
        "# Split the dataset into the response, y, and features, X\n",
        "y = df['ZAR/USD']\n",
        "X = df.drop('ZAR/USD', axis=1)"
      ],
      "execution_count": 4,
      "outputs": []
    },
    {
      "cell_type": "markdown",
      "metadata": {
        "id": "PXkkV7a0Br3Y"
      },
      "source": [
        "We can then call the `train_test_split` function:"
      ]
    },
    {
      "cell_type": "code",
      "metadata": {
        "id": "rTozJP6KBr3Y"
      },
      "source": [
        "X_train, X_test, y_train, y_test = train_test_split(X, y, test_size=0.2, random_state=50)"
      ],
      "execution_count": 5,
      "outputs": []
    },
    {
      "cell_type": "markdown",
      "metadata": {
        "id": "PiFGy0ifBr3Z"
      },
      "source": [
        "Let's try to understand the four parameters we'll hand to the splitting function.\n",
        "\n",
        "- `X` contains the features on which we will be training the model. In this case: just `exports`;\n",
        "- `y` is the response variable, that which we are trying to predict. In this case: `exchange rate`;\n",
        "- `test_size` is a value between 0 and 1: the proportion of our dataset that we want to be used as test data. Typically 0.2 (20%);\n",
        "- `random_state` is an arbitrary value which, when set, ensures that the _random_ nature in which rows are picked to be in the test set is the same each time the split is carried out. In other words, the rows are picked at random, but we can ensure these random picks are repeatable by using the same value here. This makes it easier to assess model performance across iterations."
      ]
    },
    {
      "cell_type": "markdown",
      "metadata": {
        "id": "-26FJ8rPBr3Z"
      },
      "source": [
        "By plotting the data points in each of the training and testing sets in different colours, we should be able to see that we have a similar _spread_ of data in each (but far fewer data _points_ in the testing set)."
      ]
    },
    {
      "cell_type": "code",
      "metadata": {
        "id": "9O-ZRnRdBr3a",
        "outputId": "c93f5fd3-d6a4-4a17-fe7a-4be163739370",
        "colab": {
          "base_uri": "https://localhost:8080/",
          "height": 265
        }
      },
      "source": [
        "# Plot the results\n",
        "plt.scatter(X_train, y_train, color='green', label='Training')  # plot the training data in green\n",
        "plt.scatter(X_test, y_test, color='darkblue', label='Testing')  # plot the testing data in blue\n",
        "plt.legend()\n",
        "plt.show()"
      ],
      "execution_count": 6,
      "outputs": [
        {
          "output_type": "display_data",
          "data": {
            "image/png": "[encoded data removed]",
            "text/plain": [
              "<Figure size 432x288 with 1 Axes>"
            ]
          },
          "metadata": {
            "needs_background": "light"
          }
        }
      ]
    },
    {
      "cell_type": "markdown",
      "metadata": {
        "id": "_QFrPMCwBr3a"
      },
      "source": [
        "## Training the linear model\n",
        "\n",
        "Some quick revision. Model training is the process of exposing a model to our data such that it can learn the patterns and combinations of variables which result in a particular value of the response variable (for example, financial factors combining to produce an exchange rate).\n",
        "\n",
        "We'll fit our model using the same steps as before, except this time we will expose it only to the training data."
      ]
    },
    {
      "cell_type": "code",
      "metadata": {
        "id": "-SHKtbfMBr3b"
      },
      "source": [
        "# Import the linear regression module\n",
        "from sklearn.linear_model import LinearRegression"
      ],
      "execution_count": 7,
      "outputs": []
    },
    {
      "cell_type": "code",
      "metadata": {
        "id": "5kHkWw0JBr3b"
      },
      "source": [
        "# Declare the model object\n",
        "lm = LinearRegression()"
      ],
      "execution_count": 8,
      "outputs": []
    },
    {
      "cell_type": "markdown",
      "metadata": {
        "id": "V0bBkMqRBr3b"
      },
      "source": [
        "Notice, below, that when we fit the model, we provide it with both the features and the response. This way, it can learn which data points map to which output, a crucial part of the model training process."
      ]
    },
    {
      "cell_type": "code",
      "metadata": {
        "id": "YY1UBFl-Br3b",
        "outputId": "fba0ba32-0aa8-436a-9def-3e850c91a705",
        "colab": {
          "base_uri": "https://localhost:8080/"
        }
      },
      "source": [
        "# Fit the model to the training data (also known as training the model)\n",
        "lm.fit(X_train, y_train)"
      ],
      "execution_count": 9,
      "outputs": [
        {
          "output_type": "execute_result",
          "data": {
            "text/plain": [
              "LinearRegression(copy_X=True, fit_intercept=True, n_jobs=None, normalize=False)"
            ]
          },
          "metadata": {},
          "execution_count": 9
        }
      ]
    },
    {
      "cell_type": "code",
      "metadata": {
        "id": "TaVe-fyTBr3c"
      },
      "source": [
        "# Extract the intercept, or y-cut, of our linear model\n",
        "a = float(lm.intercept_)"
      ],
      "execution_count": 10,
      "outputs": []
    },
    {
      "cell_type": "code",
      "metadata": {
        "id": "_dqh3svYBr3c"
      },
      "source": [
        "# Extract the coefficient, or gradient, of our linear model\n",
        "b = lm.coef_"
      ],
      "execution_count": 11,
      "outputs": []
    },
    {
      "cell_type": "code",
      "metadata": {
        "id": "1dUXcUvjBr3c",
        "outputId": "d0fd10b3-fe8f-4049-d2f0-6a6cd05b1d87",
        "colab": {
          "base_uri": "https://localhost:8080/"
        }
      },
      "source": [
        "print(\"Slope:\\t\\t\", b)\n",
        "print(\"Intercept:\\t\", float(a))"
      ],
      "execution_count": 12,
      "outputs": [
        {
          "output_type": "stream",
          "name": "stdout",
          "text": [
            "Slope:\t\t [0.0001199]\n",
            "Intercept:\t 1.4542630444144802\n"
          ]
        }
      ]
    },
    {
      "cell_type": "markdown",
      "metadata": {
        "id": "o0KJXNypBr3d"
      },
      "source": [
        "We can get an idea of what the regression line looks like by overlaying it on a scatter plot of the training data.\n",
        "\n",
        "In order to draw the line, we need to generate the set of points that belong to it. We can do this by using the `predict` method on the model object and having it predict `y`-values from the `X`-values in the training set."
      ]
    },
    {
      "cell_type": "code",
      "metadata": {
        "id": "uNI35KsEBr3d",
        "outputId": "84fd19c1-1b35-40a1-8f15-e359b55d56ef",
        "colab": {
          "base_uri": "https://localhost:8080/",
          "height": 265
        }
      },
      "source": [
        "# Generate the values that fall along our regression line\n",
        "gen_y = lm.predict(X_train)\n",
        "\n",
        "# Plot the results\n",
        "plt.scatter(X_train, y_train, color='green')  # Plot the training data in green\n",
        "plt.plot(X_train, gen_y, color='red')  # Plot the line connecting the generated y-values\n",
        "plt.show()"
      ],
      "execution_count": 13,
      "outputs": [
        {
          "output_type": "display_data",
          "data": {
            "image/png": "[encoded data removed]",
            "text/plain": [
              "<Figure size 432x288 with 1 Axes>"
            ]
          },
          "metadata": {
            "needs_background": "light"
          }
        }
      ]
    },
    {
      "cell_type": "markdown",
      "metadata": {
        "id": "fbIsekPvBr3d"
      },
      "source": [
        "Now, let's assess the fit of the line to the training data using `sklearn.metrics`"
      ]
    },
    {
      "cell_type": "code",
      "metadata": {
        "id": "6yItUozMBr3d"
      },
      "source": [
        "from sklearn import metrics"
      ],
      "execution_count": 14,
      "outputs": []
    },
    {
      "cell_type": "code",
      "metadata": {
        "id": "zsnKj3-oBr3e",
        "outputId": "80d2ac3f-2477-4e1f-f665-6df6b7fdedd5",
        "colab": {
          "base_uri": "https://localhost:8080/"
        }
      },
      "source": [
        "print(\"Training:\")\n",
        "# Calculate the mean-squared-error\n",
        "print('MSE:', metrics.mean_squared_error(y_train, gen_y))\n",
        "# Calculate the R-squared metric\n",
        "print('R_squared:', metrics.r2_score(y_train, gen_y))"
      ],
      "execution_count": 15,
      "outputs": [
        {
          "output_type": "stream",
          "name": "stdout",
          "text": [
            "Training:\n",
            "MSE: 2.6125475375589073\n",
            "R_squared: 0.6402293095045937\n"
          ]
        }
      ]
    },
    {
      "cell_type": "markdown",
      "metadata": {
        "id": "I8HHWiJiBr3e"
      },
      "source": [
        "## Testing the model on unseen data"
      ]
    },
    {
      "cell_type": "markdown",
      "metadata": {
        "id": "oCAb17qWBr3e"
      },
      "source": [
        "Our model has been trained. Now we need to show it some data it's never seen before, and ask it to generate some predictions from that unseen data. In this instance, we don't provide the model with the `y`-values (response variable), because that is akin to giving it the answers we are asking it to predict.\n",
        "\n",
        "Once it has made the predictions, we compare those predictions to the set of `y`-values corresponding to the test set, but which the model has not seen. Remember, a linear regression model is simply a straight line, and all predictions it makes will lie on that line.\n",
        "\n",
        "To make those predictions, we again use the `predict` method on the model object, but this time give it the _test_ set from which to make predictions."
      ]
    },
    {
      "cell_type": "code",
      "metadata": {
        "id": "nQZ_Reu0Br3e",
        "outputId": "b07d1a51-5215-4f3f-f85b-a3d49cdc072c",
        "colab": {
          "base_uri": "https://localhost:8080/",
          "height": 265
        }
      },
      "source": [
        "# Generate values of y from x, using the linear model\n",
        "gen_y_test = lm.predict(X_test)\n",
        "\n",
        "# Plot the results\n",
        "plt.scatter(X_test, y_test, color='darkblue')  # Plot the testing data in blue\n",
        "plt.plot(X_test, gen_y_test, color='red')  # Plot the line connecting the generated y-values in red\n",
        "plt.show()"
      ],
      "execution_count": 16,
      "outputs": [
        {
          "output_type": "display_data",
          "data": {
            "image/png": "[encoded data removed]",
            "text/plain": [
              "<Figure size 432x288 with 1 Axes>"
            ]
          },
          "metadata": {
            "needs_background": "light"
          }
        }
      ]
    },
    {
      "cell_type": "markdown",
      "metadata": {
        "id": "C0MyaEUPBr3f"
      },
      "source": [
        "Now we'll assess the fit of the line on the unseen testing data by checking MSE and $R^2$ metrics."
      ]
    },
    {
      "cell_type": "code",
      "metadata": {
        "id": "efRFLHggBr3f",
        "outputId": "ce80a5db-d94a-4d8e-a6f4-0627d8b49f01",
        "colab": {
          "base_uri": "https://localhost:8080/"
        }
      },
      "source": [
        "print(\"Testing:\")\n",
        "print('MSE:', metrics.mean_squared_error(y_test, gen_y_test))\n",
        "print('R_squared:', metrics.r2_score(y_test, gen_y_test))"
      ],
      "execution_count": 17,
      "outputs": [
        {
          "output_type": "stream",
          "name": "stdout",
          "text": [
            "Testing:\n",
            "MSE: 3.038981977599916\n",
            "R_squared: 0.30031043412578884\n"
          ]
        }
      ]
    },
    {
      "cell_type": "markdown",
      "metadata": {
        "id": "c4wNmhXmBr3f"
      },
      "source": [
        "Mean squared error is higher on the test set than the train set, indicating poor predictive accuracy, and R-squared is lower on the test set, indicating a worse fit on the test set.\n",
        "\n",
        "These results indicate a concept in machine learning model fitting known as _overfitting_. This is a phenomenon where there is:\n",
        "\n",
        "- A discrepancy between the performance of the model on train and on test sets; and\n",
        "- An inability of the model to _generalise_ to data it has not seen before.\n",
        "\n",
        "The term comes from the fact that the model fits too well, or overfits, the training data, and does not fit well, or underfits, the testing data. \n",
        "\n",
        "In the trains to follow, we'll look at ways to improve model performance as well as prevent or mitigate overfitting."
      ]
    },
    {
      "cell_type": "markdown",
      "metadata": {
        "id": "LIBPYO4ZBr3f"
      },
      "source": [
        "## Conclusion\n",
        "\n",
        "In this train we have seen or been introduced to:\n",
        "- The concept of _unseen_ data, from the perspective of the model;\n",
        "- Splitting a dataset into training and testing subsets;\n",
        "- Calculating or interpreting model parameters (slope, intercept) using the training set;   \n",
        "- Assessing the accuracy and fit of the model on the testing set.\n",
        "\n",
        "In future trains, we will look at methods for improving the predictive accuracy of our model."
      ]
    },
    {
      "cell_type": "markdown",
      "metadata": {
        "id": "W_M1fSLdBr3g"
      },
      "source": [
        "## Appendix\n",
        "\n",
        "Below are links to additional resources to help you with some of concepts presented in the train:\n",
        "\n",
        "- [Video on overfitting](https://www.youtube.com/watch?v=mfzHchd5La8)"
      ]
    }
  ]
}