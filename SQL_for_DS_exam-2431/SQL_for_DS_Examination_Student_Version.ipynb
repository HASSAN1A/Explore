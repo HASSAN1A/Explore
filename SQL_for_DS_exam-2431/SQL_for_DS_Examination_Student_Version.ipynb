{
 "cells": [
  {
   "cell_type": "markdown",
   "metadata": {
    "id": "cBsBb3mO1pyC"
   },
   "source": [
    "# SQL for Data Science Exam: TMDb Database\n",
    "© Explore Data Science Academy"
   ]
  },
  {
   "cell_type": "markdown",
   "metadata": {
    "id": "FdC9DqW71pyD"
   },
   "source": [
    "## Instructions to Students\n",
    "\n",
    "This challenge is designed to determine how much you have learned so far and will test your knowledge on SQL.\n",
    "\n",
    "The answers for this challenge should be selected on Athena for each corresponding Multiple Choice Question. The questions are included in this notebook and are numbered according to the Athena questions. The options for each question have also been included.\n",
    "\n",
    "Do not add or remove cells in this notebook. Do not edit or remove the `%%sql` comment as it is required to run each cell.\n",
    "\n",
    "**_Good Luck!_**"
   ]
  },
  {
   "cell_type": "markdown",
   "metadata": {
    "id": "JCYuOfc81pyD"
   },
   "source": [
    "## Honour Code\n",
    "\n",
    "I HASSAN, JUMA, confirm - by submitting this document - that the solutions in this notebook are a result of my own work and that I abide by the EDSA honour code (https://drive.google.com/file/d/1QDCjGZJ8-FmJE3bZdIQNwnJyQKPhHZBn/view?usp=sharing).\n",
    "\n",
    "Non-compliance with the honour code constitutes a material breach of contract."
   ]
  },
  {
   "cell_type": "markdown",
   "metadata": {
    "id": "LUnf5dWw1pyD"
   },
   "source": [
    "## The TMDb Database\n",
    "\n",
    "In this supplementary exam, you will be exploring the [The Movie Database](https://www.themoviedb.org/) - an online movie and TV show database, which houses some of the most popular movies and TV shows at your finger tips. The TMDb database supports 39 official languages used in over 180 countries daily, and dates all the way back to 2008. \n",
    "\n",
    "\n",
    "<img src=\"https://github.com/Explore-AI/Pictures/blob/master/sql_tmdb.jpg?raw=true\" width=80%/>\n",
    "\n",
    "\n",
    "Below is an Entity Relationship diagram(ERD) of the TMDb database:\n",
    "\n",
    "<img src=\"https://github.com/Explore-AI/Pictures/blob/master/TMDB_ER_diagram.png?raw=true\" width=70%/>\n",
    "\n",
    "As can be seen from the ER diagram, the TMDb database consists of `12 tables` containing information about movies, cast, genre and so much more.  \n",
    "\n",
    "Let's get started!"
   ]
  },
  {
   "cell_type": "markdown",
   "metadata": {
    "id": "YtxNE3iD1pyD"
   },
   "source": [
    "## Loading the database\n",
    "\n",
    "Before you begin, you need to prepare your SQL environment.  You can do this by loading in the magic command `%load_ext sql`.\n",
    "\n",
    "---\n",
    "*Note: Remember that you can run the following commands to install the SQL extension dependency locally:* \n",
    "     \n",
    " - `pip install sqlalchemy`\n",
    " - `pip install ipython-sql`\n",
    " - `pip install pymysql`\n",
    "\n",
    "Or, for running on **Google Colab**\n",
    "  - `pip install pymysql`\n",
    "---"
   ]
  },
  {
   "cell_type": "code",
   "execution_count": 2,
   "metadata": {},
   "outputs": [
    {
     "name": "stdout",
     "output_type": "stream",
     "text": [
      "Defaulting to user installation because normal site-packages is not writeable\n",
      "Requirement already satisfied: sqlalchemy in /usr/local/lib/python3.8/dist-packages (1.3.20)\n",
      "\u001b[33mWARNING: You are using pip version 21.2.3; however, version 21.2.4 is available.\n",
      "You should consider upgrading via the '/usr/bin/python3.8 -m pip install --upgrade pip' command.\u001b[0m\n",
      "Defaulting to user installation because normal site-packages is not writeable\n",
      "Requirement already satisfied: ipython-sql in /home/user/.local/lib/python3.8/site-packages (0.4.0)\n",
      "Requirement already satisfied: ipython-genutils>=0.1.0 in /home/user/.local/lib/python3.8/site-packages (from ipython-sql) (0.2.0)\n",
      "Requirement already satisfied: six in /home/user/.local/lib/python3.8/site-packages (from ipython-sql) (1.15.0)\n",
      "Requirement already satisfied: ipython>=1.0 in /home/user/.local/lib/python3.8/site-packages (from ipython-sql) (7.25.0)\n",
      "Requirement already satisfied: sqlalchemy>=0.6.7 in /usr/local/lib/python3.8/dist-packages (from ipython-sql) (1.3.20)\n",
      "Requirement already satisfied: prettytable<1 in /home/user/.local/lib/python3.8/site-packages (from ipython-sql) (0.7.2)\n",
      "Requirement already satisfied: sqlparse in /home/user/.local/lib/python3.8/site-packages (from ipython-sql) (0.4.1)\n",
      "Requirement already satisfied: prompt-toolkit!=3.0.0,!=3.0.1,<3.1.0,>=2.0.0 in /home/user/.local/lib/python3.8/site-packages (from ipython>=1.0->ipython-sql) (3.0.19)\n",
      "Requirement already satisfied: setuptools>=18.5 in /home/user/.local/lib/python3.8/site-packages (from ipython>=1.0->ipython-sql) (50.3.2)\n",
      "Requirement already satisfied: backcall in /home/user/.local/lib/python3.8/site-packages (from ipython>=1.0->ipython-sql) (0.2.0)\n",
      "Requirement already satisfied: pickleshare in /home/user/.local/lib/python3.8/site-packages (from ipython>=1.0->ipython-sql) (0.7.5)\n",
      "Requirement already satisfied: pexpect>4.3 in /home/user/.local/lib/python3.8/site-packages (from ipython>=1.0->ipython-sql) (4.8.0)\n",
      "Requirement already satisfied: jedi>=0.16 in /home/user/.local/lib/python3.8/site-packages (from ipython>=1.0->ipython-sql) (0.18.0)\n",
      "Requirement already satisfied: matplotlib-inline in /home/user/.local/lib/python3.8/site-packages (from ipython>=1.0->ipython-sql) (0.1.2)\n",
      "Requirement already satisfied: traitlets>=4.2 in /home/user/.local/lib/python3.8/site-packages (from ipython>=1.0->ipython-sql) (5.0.5)\n",
      "Requirement already satisfied: pygments in /home/user/.local/lib/python3.8/site-packages (from ipython>=1.0->ipython-sql) (2.9.0)\n",
      "Requirement already satisfied: decorator in /home/user/.local/lib/python3.8/site-packages (from ipython>=1.0->ipython-sql) (5.0.9)\n",
      "Requirement already satisfied: parso<0.9.0,>=0.8.0 in /home/user/.local/lib/python3.8/site-packages (from jedi>=0.16->ipython>=1.0->ipython-sql) (0.8.2)\n",
      "Requirement already satisfied: ptyprocess>=0.5 in /home/user/.local/lib/python3.8/site-packages (from pexpect>4.3->ipython>=1.0->ipython-sql) (0.6.0)\n",
      "Requirement already satisfied: wcwidth in /home/user/.local/lib/python3.8/site-packages (from prompt-toolkit!=3.0.0,!=3.0.1,<3.1.0,>=2.0.0->ipython>=1.0->ipython-sql) (0.2.5)\n",
      "\u001b[33mWARNING: You are using pip version 21.2.3; however, version 21.2.4 is available.\n",
      "You should consider upgrading via the '/usr/bin/python3.8 -m pip install --upgrade pip' command.\u001b[0m\n",
      "Defaulting to user installation because normal site-packages is not writeable\n",
      "Requirement already satisfied: pymysql in /home/user/.local/lib/python3.8/site-packages (1.0.2)\n",
      "\u001b[33mWARNING: You are using pip version 21.2.3; however, version 21.2.4 is available.\n",
      "You should consider upgrading via the '/usr/bin/python3.8 -m pip install --upgrade pip' command.\u001b[0m\n"
     ]
    }
   ],
   "source": [
    "!pip install sqlalchemy\n",
    "!pip install ipython-sql\n",
    "!pip install pymysql"
   ]
  },
  {
   "cell_type": "code",
   "execution_count": 3,
   "metadata": {
    "id": "LsCAy8Bq1pyD"
   },
   "outputs": [
    {
     "name": "stdout",
     "output_type": "stream",
     "text": [
      "The sql extension is already loaded. To reload it, use:\n",
      "  %reload_ext sql\n"
     ]
    }
   ],
   "source": [
    "%load_ext sql"
   ]
  },
  {
   "cell_type": "markdown",
   "metadata": {},
   "source": [
    "Next, go ahead and load in your database. To do this you will need to ensure you have downloaded the `TMDB.db` sqlite file from Athena and have stored it in a known location."
   ]
  },
  {
   "cell_type": "code",
   "execution_count": 4,
   "metadata": {
    "colab": {
     "base_uri": "https://localhost:8080/",
     "height": 35
    },
    "id": "OttLMbXU1pyD",
    "outputId": "123826cf-5fb7-4d96-abbb-e3a1682602f1"
   },
   "outputs": [],
   "source": [
    "%%sql \n",
    "\n",
    "sqlite:///TMDB.db"
   ]
  },
  {
   "cell_type": "markdown",
   "metadata": {},
   "source": [
    "If the above line didn't throw any errors, then you should be good to go! Good luck for the Exam! "
   ]
  },
  {
   "cell_type": "markdown",
   "metadata": {
    "id": "IvLmOAwH1pyD"
   },
   "source": [
    "## Questions on SQL\n",
    "\n",
    "Use the given cell below each question to execute your SQL queries to find the correct input from the options provided. Your solution should match one of the multiple choice questions on Athena."
   ]
  },
  {
   "cell_type": "markdown",
   "metadata": {
    "id": "e5z0q6wL1pyD"
   },
   "source": [
    "**Question 1**\n",
    "\n",
    "Who won the Oscar for “Actor in a Leading Role” in  2015 ?\n",
    "\n",
    "(Hint winner is indicated as '1.0')\n",
    "\n",
    "**Options:** \n",
    "\n",
    "  - Micheal Fassbender\n",
    "  - Natalie Portman\n",
    "  - Leonardo DiCaprio\n",
    "  - Eddie Redmayne\n"
   ]
  },
  {
   "cell_type": "code",
   "execution_count": 166,
   "metadata": {
    "id": "aXK93xeXxDu_"
   },
   "outputs": [
    {
     "name": "stdout",
     "output_type": "stream",
     "text": [
      " * sqlite:///TMDB.db\n",
      "Done.\n"
     ]
    },
    {
     "data": {
      "text/html": [
       "<table>\n",
       "    <tr>\n",
       "        <th>name</th>\n",
       "    </tr>\n",
       "    <tr>\n",
       "        <td>Leonardo DiCaprio</td>\n",
       "    </tr>\n",
       "</table>"
      ],
      "text/plain": [
       "[('Leonardo DiCaprio',)]"
      ]
     },
     "execution_count": 166,
     "metadata": {},
     "output_type": "execute_result"
    }
   ],
   "source": [
    "%%sql \n",
    "SELECT name \n",
    "FROM oscars\n",
    "where year like '%2015%'\n",
    "and award  = 'Actor in a Leading Role'\n",
    "and winner =1.0\n",
    "limit 10;"
   ]
  },
  {
   "cell_type": "markdown",
   "metadata": {
    "id": "gfJcknj11pyD"
   },
   "source": [
    "**Question 2**\n",
    "\n",
    "What query will produce the ten oldest movies in the database?\n",
    "\n",
    "**Options:**\n",
    "\n",
    " - SELECT TOP(10) * FROM movies WHERE release_date ORDER BY release_date ASC\n",
    "\n",
    " - SELECT  * FROM movies WHERE release_date IS NOT NULL ORDER BY release_date ASC LIMIT 10\n",
    "\n",
    " - SELECT * FROM movies WHERE release_date IS NOT NULL ORDER BY release_date DESC LIMIT 10\n",
    "\n",
    " -  SELECT * FROM movies WHERE release_date IS NULL ORDER BY release_date DESC LIMIT 10"
   ]
  },
  {
   "cell_type": "code",
   "execution_count": 164,
   "metadata": {
    "id": "1Ze6apYbxJrh"
   },
   "outputs": [
    {
     "name": "stdout",
     "output_type": "stream",
     "text": [
      " * sqlite:///TMDB.db\n",
      "Done.\n"
     ]
    },
    {
     "data": {
      "text/html": [
       "<table>\n",
       "    <tr>\n",
       "        <th>movie_id</th>\n",
       "        <th>title</th>\n",
       "        <th>release_date</th>\n",
       "        <th>budget</th>\n",
       "        <th>homepage</th>\n",
       "        <th>original_language</th>\n",
       "        <th>original_title</th>\n",
       "        <th>overview</th>\n",
       "        <th>popularity</th>\n",
       "        <th>revenue</th>\n",
       "        <th>runtime</th>\n",
       "        <th>release_status</th>\n",
       "        <th>tagline</th>\n",
       "        <th>vote_average</th>\n",
       "        <th>vote_count</th>\n",
       "    </tr>\n",
       "    <tr>\n",
       "        <td>3059</td>\n",
       "        <td>Intolerance</td>\n",
       "        <td>1916-09-04 00:00:00.000000</td>\n",
       "        <td>385907</td>\n",
       "        <td>None</td>\n",
       "        <td>en</td>\n",
       "        <td>Intolerance</td>\n",
       "        <td>The story of a poor young woman, separated by prejudice from her husband and baby, is interwoven with tales of intolerance from throughout history.</td>\n",
       "        <td>3.232447</td>\n",
       "        <td>8394751.0</td>\n",
       "        <td>197.0</td>\n",
       "        <td>Released</td>\n",
       "        <td>The Cruel Hand of Intolerance</td>\n",
       "        <td>7.4</td>\n",
       "        <td>60</td>\n",
       "    </tr>\n",
       "    <tr>\n",
       "        <td>3060</td>\n",
       "        <td>The Big Parade</td>\n",
       "        <td>1925-11-05 00:00:00.000000</td>\n",
       "        <td>245000</td>\n",
       "        <td>None</td>\n",
       "        <td>en</td>\n",
       "        <td>The Big Parade</td>\n",
       "        <td>The story of an idle rich boy who joins the US Army&#x27;s Rainbow Division and is sent to France to fight in World War I, becomes friends with two working class men, experiences the horrors of trench warfare, and finds love with a French girl.</td>\n",
       "        <td>0.785744</td>\n",
       "        <td>22000000.0</td>\n",
       "        <td>151.0</td>\n",
       "        <td>Released</td>\n",
       "        <td>None</td>\n",
       "        <td>7.0</td>\n",
       "        <td>21</td>\n",
       "    </tr>\n",
       "    <tr>\n",
       "        <td>19</td>\n",
       "        <td>Metropolis</td>\n",
       "        <td>1927-01-10 00:00:00.000000</td>\n",
       "        <td>92620000</td>\n",
       "        <td>None</td>\n",
       "        <td>de</td>\n",
       "        <td>Metropolis</td>\n",
       "        <td>In a futuristic city sharply divided between the working class and the city planners, the son of the city&#x27;s mastermind falls in love with a working class prophet who predicts the coming of a savior to mediate their differences.</td>\n",
       "        <td>32.351527</td>\n",
       "        <td>650422.0</td>\n",
       "        <td>153.0</td>\n",
       "        <td>Released</td>\n",
       "        <td>There can be no understanding between the hands and the brain unless the heart acts as mediator.</td>\n",
       "        <td>8.0</td>\n",
       "        <td>657</td>\n",
       "    </tr>\n",
       "    <tr>\n",
       "        <td>905</td>\n",
       "        <td>Pandora&#x27;s Box</td>\n",
       "        <td>1929-01-30 00:00:00.000000</td>\n",
       "        <td>0</td>\n",
       "        <td>None</td>\n",
       "        <td>de</td>\n",
       "        <td>Die Bnchse der Pandora</td>\n",
       "        <td>The rise and inevitable fall of an amoral but naive young woman whose insouciant eroticism inspires lust and violence in those around her.</td>\n",
       "        <td>1.824184</td>\n",
       "        <td>0.0</td>\n",
       "        <td>109.0</td>\n",
       "        <td>Released</td>\n",
       "        <td>None</td>\n",
       "        <td>7.6</td>\n",
       "        <td>45</td>\n",
       "    </tr>\n",
       "    <tr>\n",
       "        <td>65203</td>\n",
       "        <td>The Broadway Melody</td>\n",
       "        <td>1929-02-08 00:00:00.000000</td>\n",
       "        <td>379000</td>\n",
       "        <td>None</td>\n",
       "        <td>en</td>\n",
       "        <td>The Broadway Melody</td>\n",
       "        <td>Harriet and Queenie Mahoney, a vaudeville act, come to Broadway, where their friend Eddie Kerns needs them for his number in one of Francis Zanfield&#x27;s shows. Eddie was in love with Harriet, but when he meets Queenie, he falls in love to her, but she is courted by Jock Warriner, a member of the New Yorker high society. It takes a while till Queenie recognizes, that she is for Jock nothing more than a toy, and it also takes a while till Harriet recognizes, that Eddie is in love with Queenie</td>\n",
       "        <td>0.968865</td>\n",
       "        <td>4358000.0</td>\n",
       "        <td>100.0</td>\n",
       "        <td>Released</td>\n",
       "        <td>The pulsating drama of Broadway&#x27;s bared heart speaks and sings with a voice to stir your soul!</td>\n",
       "        <td>5.0</td>\n",
       "        <td>19</td>\n",
       "    </tr>\n",
       "    <tr>\n",
       "        <td>22301</td>\n",
       "        <td>Hell&#x27;s Angels</td>\n",
       "        <td>1930-11-15 00:00:00.000000</td>\n",
       "        <td>3950000</td>\n",
       "        <td>None</td>\n",
       "        <td>en</td>\n",
       "        <td>Hell&#x27;s Angels</td>\n",
       "        <td>Two brothers attending Oxford enlist with the Royal Flying Corps when World War I breaks out. Roy and Monte Rutledge have very different personalities. Monte is a freewheeling womanizer, even with his brother&#x27;s girlfriend Helen. He also proves to have a yellow streak when it comes to his Night Patrol duties. Roy is made of strong moral fiber and attempts to keep his brother in line. Both volunteer for an extremely risky two man bombing mission for different reasons. Monte wants to lose his cowardly reputation and Roy seeks to protect his brother. Roy loves Helen; Helen enjoys an affair with Monte; before they leave on their mission over Germany they find her in still another man&#x27;s arms.  Their assignment to knock out a strategic German munitions facility is a booming success, but with a squadron of fighters bearing down on them afterwards, escape seems unlikely.</td>\n",
       "        <td>8.484123</td>\n",
       "        <td>8000000.0</td>\n",
       "        <td>127.0</td>\n",
       "        <td>Released</td>\n",
       "        <td>Howard Hughes&#x27; Thrilling Multi-Million Dollar Air Spectacle</td>\n",
       "        <td>6.1</td>\n",
       "        <td>19</td>\n",
       "    </tr>\n",
       "    <tr>\n",
       "        <td>22649</td>\n",
       "        <td>A Farewell to Arms</td>\n",
       "        <td>1932-12-08 00:00:00.000000</td>\n",
       "        <td>4</td>\n",
       "        <td>None</td>\n",
       "        <td>en</td>\n",
       "        <td>A Farewell to Arms</td>\n",
       "        <td>British nurse Catherine Barkley (Helen Hayes) and American Lieutenant Frederic Henry (Gary Cooper) fall in love during the First World War in Italy. Eventually separated by Frederic&#x27;s transfer, tremendous challenges and difficult decisions face each, as the war rages on. Academy Awards winner for Best Cinematography and for Best Sound, Recording. Nominated for Best Picture and for Best Art Direction.</td>\n",
       "        <td>1.199451</td>\n",
       "        <td>25.0</td>\n",
       "        <td>89.0</td>\n",
       "        <td>Released</td>\n",
       "        <td>Every woman who has loved will understand</td>\n",
       "        <td>6.2</td>\n",
       "        <td>28</td>\n",
       "    </tr>\n",
       "    <tr>\n",
       "        <td>3062</td>\n",
       "        <td>42nd Street</td>\n",
       "        <td>1933-02-02 00:00:00.000000</td>\n",
       "        <td>439000</td>\n",
       "        <td>None</td>\n",
       "        <td>en</td>\n",
       "        <td>42nd Street</td>\n",
       "        <td>A producer puts on what may be his last Broadway show, and at the last moment a chorus girl has to replace the star.</td>\n",
       "        <td>1.933366</td>\n",
       "        <td>2281000.0</td>\n",
       "        <td>89.0</td>\n",
       "        <td>Released</td>\n",
       "        <td>None</td>\n",
       "        <td>6.1</td>\n",
       "        <td>37</td>\n",
       "    </tr>\n",
       "    <tr>\n",
       "        <td>43595</td>\n",
       "        <td>She Done Him Wrong</td>\n",
       "        <td>1933-02-09 00:00:00.000000</td>\n",
       "        <td>200000</td>\n",
       "        <td>None</td>\n",
       "        <td>en</td>\n",
       "        <td>She Done Him Wrong</td>\n",
       "        <td>&quot;New York singer and nightclub owner Lady Lou has more men friends than you can imagine. Unfortunately one of them is a vicious criminal who&#x27;s escaped and is on the way to see &quot;&quot;his&quot;&quot; girl, not realising she hasn&#x27;t exactly been faithful in his absence. Help is at hand in the form of young Captain Cummings a local temperance league leader though.&quot;</td>\n",
       "        <td>0.622752</td>\n",
       "        <td>2200000.0</td>\n",
       "        <td>66.0</td>\n",
       "        <td>Released</td>\n",
       "        <td>Mae West gives a &#x27;Hot Time&#x27; to the nation!</td>\n",
       "        <td>5.1</td>\n",
       "        <td>27</td>\n",
       "    </tr>\n",
       "    <tr>\n",
       "        <td>3078</td>\n",
       "        <td>It Happened One Night</td>\n",
       "        <td>1934-02-22 00:00:00.000000</td>\n",
       "        <td>325000</td>\n",
       "        <td>None</td>\n",
       "        <td>en</td>\n",
       "        <td>It Happened One Night</td>\n",
       "        <td>Ellie Andrews has just tied the knot with society aviator King Westley when she is whisked away to her father&#x27;s yacht and out of King&#x27;s clutches. Ellie jumps ship and eventually winds up on a bus headed back to her husband. Reluctantly she must accept the help of out-of- work reporter Peter Warne. Actually, Warne doesn&#x27;t give her any choice: either she sticks with him until he gets her back to her husband, or he&#x27;ll blow the whistle on Ellie to her father. Either way, Peter gets what he wants... a really juicy newspaper story!</td>\n",
       "        <td>11.871424</td>\n",
       "        <td>4500000.0</td>\n",
       "        <td>105.0</td>\n",
       "        <td>Released</td>\n",
       "        <td>TOGETHER... for the first time</td>\n",
       "        <td>7.7</td>\n",
       "        <td>275</td>\n",
       "    </tr>\n",
       "</table>"
      ],
      "text/plain": [
       "[(3059, 'Intolerance', '1916-09-04 00:00:00.000000', 385907, None, 'en', 'Intolerance', 'The story of a poor young woman, separated by prejudice from her husband and baby, is interwoven with tales of intolerance from throughout history.', 3.232447, 8394751.0, 197.0, 'Released', 'The Cruel Hand of Intolerance', 7.4, 60),\n",
       " (3060, 'The Big Parade', '1925-11-05 00:00:00.000000', 245000, None, 'en', 'The Big Parade', \"The story of an idle rich boy who joins the US Army's Rainbow Division and is sent to France to fight in World War I, becomes friends with two working class men, experiences the horrors of trench warfare, and finds love with a French girl.\", 0.785744, 22000000.0, 151.0, 'Released', None, 7.0, 21),\n",
       " (19, 'Metropolis', '1927-01-10 00:00:00.000000', 92620000, None, 'de', 'Metropolis', \"In a futuristic city sharply divided between the working class and the city planners, the son of the city's mastermind falls in love with a working class prophet who predicts the coming of a savior to mediate their differences.\", 32.351527, 650422.0, 153.0, 'Released', 'There can be no understanding between the hands and the brain unless the heart acts as mediator.', 8.0, 657),\n",
       " (905, \"Pandora's Box\", '1929-01-30 00:00:00.000000', 0, None, 'de', 'Die Bnchse der Pandora', 'The rise and inevitable fall of an amoral but naive young woman whose insouciant eroticism inspires lust and violence in those around her.', 1.824184, 0.0, 109.0, 'Released', None, 7.6, 45),\n",
       " (65203, 'The Broadway Melody', '1929-02-08 00:00:00.000000', 379000, None, 'en', 'The Broadway Melody', \"Harriet and Queenie Mahoney, a vaudeville act, come to Broadway, where their friend Eddie Kerns needs them for his number in one of Francis Zanfield' ... (195 characters truncated) ... eenie recognizes, that she is for Jock nothing more than a toy, and it also takes a while till Harriet recognizes, that Eddie is in love with Queenie\", 0.968865, 4358000.0, 100.0, 'Released', \"The pulsating drama of Broadway's bared heart speaks and sings with a voice to stir your soul!\", 5.0, 19),\n",
       " (22301, \"Hell's Angels\", '1930-11-15 00:00:00.000000', 3950000, None, 'en', \"Hell's Angels\", \"Two brothers attending Oxford enlist with the Royal Flying Corps when World War I breaks out. Roy and Monte Rutledge have very different personalitie ... (576 characters truncated) ... t a strategic German munitions facility is a booming success, but with a squadron of fighters bearing down on them afterwards, escape seems unlikely.\", 8.484123, 8000000.0, 127.0, 'Released', \"Howard Hughes' Thrilling Multi-Million Dollar Air Spectacle\", 6.1, 19),\n",
       " (22649, 'A Farewell to Arms', '1932-12-08 00:00:00.000000', 4, None, 'en', 'A Farewell to Arms', \"British nurse Catherine Barkley (Helen Hayes) and American Lieutenant Frederic Henry (Gary Cooper) fall in love during the First World War in Italy.  ... (105 characters truncated) ... the war rages on. Academy Awards winner for Best Cinematography and for Best Sound, Recording. Nominated for Best Picture and for Best Art Direction.\", 1.199451, 25.0, 89.0, 'Released', 'Every woman who has loved will understand', 6.2, 28),\n",
       " (3062, '42nd Street', '1933-02-02 00:00:00.000000', 439000, None, 'en', '42nd Street', 'A producer puts on what may be his last Broadway show, and at the last moment a chorus girl has to replace the star.', 1.933366, 2281000.0, 89.0, 'Released', None, 6.1, 37),\n",
       " (43595, 'She Done Him Wrong', '1933-02-09 00:00:00.000000', 200000, None, 'en', 'She Done Him Wrong', '\"New York singer and nightclub owner Lady Lou has more men friends than you can imagine. Unfortunately one of them is a vicious criminal who\\'s escap ... (52 characters truncated) ... ing she hasn\\'t exactly been faithful in his absence. Help is at hand in the form of young Captain Cummings a local temperance league leader though.\"', 0.622752, 2200000.0, 66.0, 'Released', \"Mae West gives a 'Hot Time' to the nation!\", 5.1, 27),\n",
       " (3078, 'It Happened One Night', '1934-02-22 00:00:00.000000', 325000, None, 'en', 'It Happened One Night', \"Ellie Andrews has just tied the knot with society aviator King Westley when she is whisked away to her father's yacht and out of King's clutches. Ell ... (233 characters truncated) ... ts her back to her husband, or he'll blow the whistle on Ellie to her father. Either way, Peter gets what he wants... a really juicy newspaper story!\", 11.871424, 4500000.0, 105.0, 'Released', 'TOGETHER... for the first time', 7.7, 275)]"
      ]
     },
     "execution_count": 164,
     "metadata": {},
     "output_type": "execute_result"
    }
   ],
   "source": [
    "%%sql \n",
    "SELECT * FROM movies WHERE release_date IS NOT NULL ORDER BY release_date ASC LIMIT 10"
   ]
  },
  {
   "cell_type": "markdown",
   "metadata": {
    "id": "wwGJU4iU1pyD"
   },
   "source": [
    "**Question 3**\n",
    "\n",
    "How many unique awards are there in the Oscars table?\n",
    "\n",
    "**Options:**\n",
    " - 141\n",
    " - 53 \n",
    " - 80\n",
    " - 114"
   ]
  },
  {
   "cell_type": "code",
   "execution_count": 26,
   "metadata": {
    "id": "i1apaPSu1pyD"
   },
   "outputs": [
    {
     "name": "stdout",
     "output_type": "stream",
     "text": [
      " * sqlite:///TMDB.db\n",
      "Done.\n"
     ]
    },
    {
     "data": {
      "text/html": [
       "<table>\n",
       "    <tr>\n",
       "        <th>COUNT(DISTINCT award)</th>\n",
       "    </tr>\n",
       "    <tr>\n",
       "        <td>114</td>\n",
       "    </tr>\n",
       "</table>"
      ],
      "text/plain": [
       "[(114,)]"
      ]
     },
     "execution_count": 26,
     "metadata": {},
     "output_type": "execute_result"
    }
   ],
   "source": [
    "%%sql \n",
    "SELECT COUNT(DISTINCT award) \n",
    "FROM oscars;"
   ]
  },
  {
   "cell_type": "markdown",
   "metadata": {
    "id": "uJp6pHmH1pyD"
   },
   "source": [
    "**Question 4**\n",
    "\n",
    "How many movies are there that contain the word “Spider” within their title?\n",
    "\n",
    "**Options:**\n",
    " - 0\n",
    " - 5\n",
    " - 1\n",
    " - 9"
   ]
  },
  {
   "cell_type": "code",
   "execution_count": 29,
   "metadata": {
    "id": "ZT8NPzQL1pyD"
   },
   "outputs": [
    {
     "name": "stdout",
     "output_type": "stream",
     "text": [
      " * sqlite:///TMDB.db\n",
      "Done.\n"
     ]
    },
    {
     "data": {
      "text/html": [
       "<table>\n",
       "    <tr>\n",
       "        <th>COUNT(title)</th>\n",
       "    </tr>\n",
       "    <tr>\n",
       "        <td>9</td>\n",
       "    </tr>\n",
       "</table>"
      ],
      "text/plain": [
       "[(9,)]"
      ]
     },
     "execution_count": 29,
     "metadata": {},
     "output_type": "execute_result"
    }
   ],
   "source": [
    "%%sql \n",
    "SELECT COUNT(title)\n",
    "FROM movies\n",
    "WHERE title LIKE '%Spider%';"
   ]
  },
  {
   "cell_type": "markdown",
   "metadata": {
    "id": "0-JmxrTm1pyD"
   },
   "source": [
    "**Question 5**\n",
    "\n",
    "How many movies are there that are both in the \"Thriller\" Genre and contain the keyword “love”?\n",
    "\n",
    "\n",
    "**Options:**\n",
    " - 55\n",
    " - 38\n",
    " - 14\n",
    " - 1"
   ]
  },
  {
   "cell_type": "code",
   "execution_count": 53,
   "metadata": {
    "id": "fQIDWG1I1pyD"
   },
   "outputs": [
    {
     "name": "stdout",
     "output_type": "stream",
     "text": [
      " * sqlite:///TMDB.db\n",
      "Done.\n"
     ]
    },
    {
     "data": {
      "text/html": [
       "<table>\n",
       "    <tr>\n",
       "        <th>MovieCount</th>\n",
       "    </tr>\n",
       "    <tr>\n",
       "        <td>55</td>\n",
       "    </tr>\n",
       "</table>"
      ],
      "text/plain": [
       "[(55,)]"
      ]
     },
     "execution_count": 53,
     "metadata": {},
     "output_type": "execute_result"
    }
   ],
   "source": [
    "%%sql\n",
    "SELECT COUNT(m.movie_id) AS MovieCount \n",
    "FROM movies m \n",
    "LEFT JOIN genremap gm\n",
    "ON m.movie_id = gm.movie_id\n",
    "LEFT JOIN genres g \n",
    "ON gm.genre_id = g.genre_id\n",
    "LEFT JOIN keywordmap km\n",
    "ON m.movie_id = km.movie_id\n",
    "LEFT JOIN keywords k \n",
    "ON km.keyword_id = k.keyword_id\n",
    "WHERE genre_name = 'Thriller'\n",
    "and keyword_name LIKE '%love%'\n",
    "LIMIT 10;"
   ]
  },
  {
   "cell_type": "markdown",
   "metadata": {
    "id": "KryrsSwa1pyD"
   },
   "source": [
    "**Question 6**\n",
    "\n",
    "How many movies are there that were released between 1 August 2006 ('2006-08-01') and 1 October 2009 ('2009-10-01') that have a popularity score of more than 40 and a budget of less than 50 000 000?\n",
    "\n",
    " \n",
    "**Options:**\n",
    "\n",
    " - 28\n",
    " - 23\n",
    " - 29\n",
    " - 35"
   ]
  },
  {
   "cell_type": "code",
   "execution_count": 68,
   "metadata": {
    "id": "IqA1sZXf1pyD"
   },
   "outputs": [
    {
     "name": "stdout",
     "output_type": "stream",
     "text": [
      " * sqlite:///TMDB.db\n",
      "Done.\n"
     ]
    },
    {
     "data": {
      "text/html": [
       "<table>\n",
       "    <tr>\n",
       "        <th>MovieCount</th>\n",
       "    </tr>\n",
       "    <tr>\n",
       "        <td>29</td>\n",
       "    </tr>\n",
       "</table>"
      ],
      "text/plain": [
       "[(29,)]"
      ]
     },
     "execution_count": 68,
     "metadata": {},
     "output_type": "execute_result"
    }
   ],
   "source": [
    "%%sql \n",
    "SELECT COUNT(DISTINCT movie_id) AS MovieCount\n",
    "FROM movies\n",
    "WHERE release_date BETWEEN '2006-08-01 00:00:00.000000' AND '2009-10-01 00:00:00.000000'\n",
    "AND popularity > 40\n",
    "AND budget < 50000000\n",
    "LIMIT 4;"
   ]
  },
  {
   "cell_type": "markdown",
   "metadata": {
    "id": "XY2usm1w1pyD"
   },
   "source": [
    "**Question 7** \n",
    "\n",
    "How many unique characters has \"Vin Diesel\" played so far in the database?\n",
    "\n",
    "**Options:**\n",
    " - 24\n",
    " - 19\n",
    " - 18\n",
    " - 16"
   ]
  },
  {
   "cell_type": "code",
   "execution_count": 74,
   "metadata": {
    "id": "HfvLs8Ry1pyD"
   },
   "outputs": [
    {
     "name": "stdout",
     "output_type": "stream",
     "text": [
      " * sqlite:///TMDB.db\n",
      "Done.\n"
     ]
    },
    {
     "data": {
      "text/html": [
       "<table>\n",
       "    <tr>\n",
       "        <th>MovieCount</th>\n",
       "    </tr>\n",
       "    <tr>\n",
       "        <td>19</td>\n",
       "    </tr>\n",
       "</table>"
      ],
      "text/plain": [
       "[(19,)]"
      ]
     },
     "execution_count": 74,
     "metadata": {},
     "output_type": "execute_result"
    }
   ],
   "source": [
    "%%sql \n",
    "SELECT COUNT(DISTINCT m.movie_id) AS MovieCount \n",
    "FROM movies m \n",
    "LEFT JOIN casts c\n",
    "ON m.movie_id = c.movie_id\n",
    "LEFT JOIN actors a \n",
    "ON c.actor_id = a.actor_id\n",
    "WHERE actor_name = 'Vin Diesel';"
   ]
  },
  {
   "cell_type": "markdown",
   "metadata": {
    "id": "OW1vBFbt1pyD"
   },
   "source": [
    "**Question 8**\n",
    "\n",
    "What are the Genres of the movie “The Royal Tenenbaums”?\n",
    "\n",
    "\n",
    "**Options:**\n",
    " - Action, Romance\n",
    " - Drama, Comedy\n",
    " - Crime, Thriller\n",
    " - Drama, Romance"
   ]
  },
  {
   "cell_type": "code",
   "execution_count": 167,
   "metadata": {
    "id": "epiFsHGYxqD_",
    "scrolled": true
   },
   "outputs": [
    {
     "name": "stdout",
     "output_type": "stream",
     "text": [
      " * sqlite:///TMDB.db\n",
      "Done.\n"
     ]
    },
    {
     "data": {
      "text/html": [
       "<table>\n",
       "    <tr>\n",
       "        <th>genre_name</th>\n",
       "    </tr>\n",
       "    <tr>\n",
       "        <td>Drama</td>\n",
       "    </tr>\n",
       "    <tr>\n",
       "        <td>Comedy</td>\n",
       "    </tr>\n",
       "</table>"
      ],
      "text/plain": [
       "[('Drama',), ('Comedy',)]"
      ]
     },
     "execution_count": 167,
     "metadata": {},
     "output_type": "execute_result"
    }
   ],
   "source": [
    "%%sql \n",
    "SELECT genre_name \n",
    "FROM movies m \n",
    "LEFT JOIN genremap gm\n",
    "ON m.movie_id = gm.movie_id\n",
    "LEFT JOIN genres g \n",
    "ON gm.genre_id = g.genre_id\n",
    "WHERE title = 'The Royal Tenenbaums';\n"
   ]
  },
  {
   "cell_type": "markdown",
   "metadata": {
    "id": "q89QY7GG1pyD"
   },
   "source": [
    "**Question 9**\n",
    "\n",
    "What are the three production companies that have the highest movie popularity score on average, as recorded within the database?\n",
    "\n",
    "\n",
    "**Options:**\n",
    "\n",
    " - MCL Films S.A., Turner Pictures, George Stevens Productions\n",
    " - The Donners' Company, Bulletproof Cupid and Kinberg Genre\n",
    " - Bulletproof Cupid, The Donners' Company, MCL Films S.A\n",
    " - B.Sting Entertainment, Illumination Pictures, Aztec Musique"
   ]
  },
  {
   "cell_type": "code",
   "execution_count": 162,
   "metadata": {
    "id": "hMjI_ip81pyD"
   },
   "outputs": [
    {
     "name": "stdout",
     "output_type": "stream",
     "text": [
      " * sqlite:///TMDB.db\n",
      "Done.\n"
     ]
    },
    {
     "data": {
      "text/html": [
       "<table>\n",
       "    <tr>\n",
       "        <th>popularity</th>\n",
       "        <th>production_company_name</th>\n",
       "    </tr>\n",
       "    <tr>\n",
       "        <td>514.569956</td>\n",
       "        <td>The Donners&#x27; Company</td>\n",
       "    </tr>\n",
       "    <tr>\n",
       "        <td>481.098624</td>\n",
       "        <td>Bulletproof Cupid</td>\n",
       "    </tr>\n",
       "    <tr>\n",
       "        <td>271.972889</td>\n",
       "        <td>Walt Disney Pictures</td>\n",
       "    </tr>\n",
       "    <tr>\n",
       "        <td>271.972889</td>\n",
       "        <td>Jerry Bruckheimer Films</td>\n",
       "    </tr>\n",
       "    <tr>\n",
       "        <td>202.042635</td>\n",
       "        <td>Skydance Media</td>\n",
       "    </tr>\n",
       "    <tr>\n",
       "        <td>198.372395</td>\n",
       "        <td>Vita-Ray Dutch Productions (III)</td>\n",
       "    </tr>\n",
       "    <tr>\n",
       "        <td>198.372395</td>\n",
       "        <td>Deluxe Digital Studios</td>\n",
       "    </tr>\n",
       "    <tr>\n",
       "        <td>187.322927</td>\n",
       "        <td>Syncopy</td>\n",
       "    </tr>\n",
       "    <tr>\n",
       "        <td>187.322927</td>\n",
       "        <td>Legendary Pictures</td>\n",
       "    </tr>\n",
       "    <tr>\n",
       "        <td>187.322927</td>\n",
       "        <td>DC Entertainment</td>\n",
       "    </tr>\n",
       "</table>"
      ],
      "text/plain": [
       "[(514.569956, \"The Donners' Company\"),\n",
       " (481.098624, 'Bulletproof Cupid'),\n",
       " (271.972889, 'Walt Disney Pictures'),\n",
       " (271.972889, 'Jerry Bruckheimer Films'),\n",
       " (202.042635, 'Skydance Media'),\n",
       " (198.372395, 'Vita-Ray Dutch Productions (III)'),\n",
       " (198.372395, 'Deluxe Digital Studios'),\n",
       " (187.322927, 'Syncopy'),\n",
       " (187.322927, 'Legendary Pictures'),\n",
       " (187.322927, 'DC Entertainment')]"
      ]
     },
     "execution_count": 162,
     "metadata": {},
     "output_type": "execute_result"
    }
   ],
   "source": [
    "%%sql \n",
    "SELECT DISTINCT M.popularity, g.production_company_name \n",
    "FROM movies m \n",
    "LEFT JOIN productioncompanymap gm\n",
    "ON m.movie_id = gm.movie_id\n",
    "LEFT JOIN productioncompanies g \n",
    "\n",
    "ON gm.production_company_id = g.production_company_id\n",
    "GROUP BY g.production_company_name\n",
    "order by M.popularity DESC\n",
    "\n",
    "LIMIT 10;\n"
   ]
  },
  {
   "cell_type": "markdown",
   "metadata": {
    "id": "-4vg-IY4Qd_6"
   },
   "source": [
    "**Question 10**\n",
    "\n",
    "How many female actors (i.e. gender = 1) have a name that starts with the letter \"N\"?\n",
    "\n",
    "\n",
    "**Options:**\n",
    "\n",
    " - 0\n",
    " - 355\n",
    " - 7335\n",
    " - 1949"
   ]
  },
  {
   "cell_type": "code",
   "execution_count": 125,
   "metadata": {
    "id": "Ycekhv15Q3im"
   },
   "outputs": [
    {
     "name": "stdout",
     "output_type": "stream",
     "text": [
      " * sqlite:///TMDB.db\n",
      "Done.\n"
     ]
    },
    {
     "data": {
      "text/html": [
       "<table>\n",
       "    <tr>\n",
       "        <th>FEMALEACTORS</th>\n",
       "    </tr>\n",
       "    <tr>\n",
       "        <td>355</td>\n",
       "    </tr>\n",
       "</table>"
      ],
      "text/plain": [
       "[(355,)]"
      ]
     },
     "execution_count": 125,
     "metadata": {},
     "output_type": "execute_result"
    }
   ],
   "source": [
    "%%sql\n",
    "SELECT COUNT(*) AS FEMALEACTORS\n",
    "FROM actors \n",
    "WHERE actor_name LIKE 'N%'\n",
    "AND gender = 1;"
   ]
  },
  {
   "cell_type": "markdown",
   "metadata": {
    "id": "5L5jXzFRRAan"
   },
   "source": [
    "**Question 11**\n",
    "\n",
    "Which genre has, on average, the lowest movie popularity score? \n",
    "\n",
    "\n",
    "**Options:**\n",
    "\n",
    " - Science Fiction\n",
    " - Animation\n",
    " - Documentary\n",
    " - Foreign"
   ]
  },
  {
   "cell_type": "code",
   "execution_count": 140,
   "metadata": {
    "id": "I-LEhrFWRPxD"
   },
   "outputs": [
    {
     "name": "stdout",
     "output_type": "stream",
     "text": [
      " * sqlite:///TMDB.db\n",
      "Done.\n"
     ]
    },
    {
     "data": {
      "text/html": [
       "<table>\n",
       "    <tr>\n",
       "        <th>movie_id</th>\n",
       "        <th>title</th>\n",
       "        <th>release_date</th>\n",
       "        <th>budget</th>\n",
       "        <th>homepage</th>\n",
       "        <th>original_language</th>\n",
       "        <th>original_title</th>\n",
       "        <th>overview</th>\n",
       "        <th>popularity</th>\n",
       "        <th>revenue</th>\n",
       "        <th>runtime</th>\n",
       "        <th>release_status</th>\n",
       "        <th>tagline</th>\n",
       "        <th>vote_average</th>\n",
       "        <th>vote_count</th>\n",
       "        <th>movie_id_1</th>\n",
       "        <th>genre_id</th>\n",
       "        <th>genre_id_1</th>\n",
       "        <th>genre_name</th>\n",
       "    </tr>\n",
       "    <tr>\n",
       "        <td>291</td>\n",
       "        <td>Riding Giants</td>\n",
       "        <td>2004-07-09 00:00:00.000000</td>\n",
       "        <td>2600000</td>\n",
       "        <td>http://www.sonyclassics.com/ridinggiants/</td>\n",
       "        <td>en</td>\n",
       "        <td>Riding Giants</td>\n",
       "        <td>Riding Giants is story about big wave surfers who have become heroes and legends in their sport. Directed by the skateboard guru Stacy Peralta.</td>\n",
       "        <td>0.895946</td>\n",
       "        <td>3166000.0</td>\n",
       "        <td>105.0</td>\n",
       "        <td>Released</td>\n",
       "        <td>None</td>\n",
       "        <td>7.6</td>\n",
       "        <td>23</td>\n",
       "        <td>291</td>\n",
       "        <td>99</td>\n",
       "        <td>99</td>\n",
       "        <td>Documentary</td>\n",
       "    </tr>\n",
       "</table>"
      ],
      "text/plain": [
       "[(291, 'Riding Giants', '2004-07-09 00:00:00.000000', 2600000, 'http://www.sonyclassics.com/ridinggiants/', 'en', 'Riding Giants', 'Riding Giants is story about big wave surfers who have become heroes and legends in their sport. Directed by the skateboard guru Stacy Peralta.', 0.895946, 3166000.0, 105.0, 'Released', None, 7.6, 23, 291, 99, 99, 'Documentary')]"
      ]
     },
     "execution_count": 140,
     "metadata": {},
     "output_type": "execute_result"
    }
   ],
   "source": [
    "%%sql\n",
    "SELECT * \n",
    "FROM movies m \n",
    "LEFT JOIN genremap gm\n",
    "ON m.movie_id = gm.movie_id\n",
    "LEFT JOIN genres g \n",
    "ON gm.genre_id = g.genre_id\n",
    "WHERE g.genre_name IS NOT NULL\n",
    "GROUP BY g.genre_name \n",
    "\n",
    "ORDER BY m.popularity\n",
    "LIMIT 1;"
   ]
  },
  {
   "cell_type": "markdown",
   "metadata": {
    "id": "1s05NRa3SAcl"
   },
   "source": [
    "**Question 13**\n",
    "\n",
    "For all of the entries in the Oscars table before 1934, the year is stored differently than in all the subsequent years. E.g the year would be saved as “1932/1933” instead of just “1933” (the second indicated year).  Which of the following options would be the appropriate code to update this column to have the format of the year be consistent throughout the entire table (second indicated year only shown)?\n",
    "\n",
    "\n",
    "**Options:**\n",
    "\n",
    "- `UPDATE Oscars SET year = RIGHT(year, -4)`\n",
    "- `UPDATE Oscars SET year = SELECT substr(year, -4)`\n",
    "- `UPDATE Oscars SET year = substr(year, -4)`\n",
    "- `UPDATE Oscars year =  substr(year, 4)`"
   ]
  },
  {
   "cell_type": "code",
   "execution_count": 161,
   "metadata": {
    "id": "inbYYBadSwG-"
   },
   "outputs": [
    {
     "name": "stdout",
     "output_type": "stream",
     "text": [
      " * sqlite:///TMDB.db\n",
      "9964 rows affected.\n",
      "Done.\n"
     ]
    },
    {
     "data": {
      "text/html": [
       "<table>\n",
       "    <tr>\n",
       "        <th>year</th>\n",
       "    </tr>\n",
       "    <tr>\n",
       "        <td>1928</td>\n",
       "    </tr>\n",
       "    <tr>\n",
       "        <td>1928</td>\n",
       "    </tr>\n",
       "    <tr>\n",
       "        <td>1928</td>\n",
       "    </tr>\n",
       "    <tr>\n",
       "        <td>1928</td>\n",
       "    </tr>\n",
       "    <tr>\n",
       "        <td>1928</td>\n",
       "    </tr>\n",
       "    <tr>\n",
       "        <td>1928</td>\n",
       "    </tr>\n",
       "    <tr>\n",
       "        <td>1928</td>\n",
       "    </tr>\n",
       "    <tr>\n",
       "        <td>1928</td>\n",
       "    </tr>\n",
       "    <tr>\n",
       "        <td>1928</td>\n",
       "    </tr>\n",
       "    <tr>\n",
       "        <td>1928</td>\n",
       "    </tr>\n",
       "</table>"
      ],
      "text/plain": [
       "[('1928',),\n",
       " ('1928',),\n",
       " ('1928',),\n",
       " ('1928',),\n",
       " ('1928',),\n",
       " ('1928',),\n",
       " ('1928',),\n",
       " ('1928',),\n",
       " ('1928',),\n",
       " ('1928',)]"
      ]
     },
     "execution_count": 161,
     "metadata": {},
     "output_type": "execute_result"
    }
   ],
   "source": [
    "%%sql\n",
    "UPDATE Oscars SET year = substr(year, -4);\n",
    "select year\n",
    "from oscars\n",
    "limit 10;"
   ]
  },
  {
   "cell_type": "markdown",
   "metadata": {
    "id": "EzAFkKa5S_Dt"
   },
   "source": [
    "**Question 14**\n",
    "\n",
    "DStv will be having a special week dedicated to the actor Alan Rickman. Which of the following queries would create a new _view_ that shows the titles, release dates, taglines, and overviews of all movies that Alan Rickman has played in?\n",
    "\n",
    "\n",
    "\n",
    "**Options:**\n",
    "\n",
    "- SELECT title, release_date, tagline, overview \n",
    "FROM Movies LEFT JOIN Casts ON Casts.movie_id = Movies.movie_id Left JOIN Actors ON Casts.actor_id = Actors.actor_id \n",
    "WHERE Actors.actor_name = 'Alan Rickman'\n",
    "AS VIEW Alan_Rickman_Movies\n",
    "\n",
    "- CREATE VIEW Alan_Rickman_Movies AS  \n",
    "SELECT title, release_date, tagline, overview FROM Movies  \n",
    "LEFT JOIN Casts ON Casts.movie_id = Movies.movie_id Left JOIN Actors\n",
    "ON Casts.actor_id = Actors.actor_id\n",
    "WHERE Actors.actor_name = 'Alan Rickman' \n",
    "\n",
    "\n",
    "- CREATE NEW VIEW  Name  = Alan_Rickman_Movies AS SELECT title, release_date, tagline, overview FROM Movies LEFT JOIN Casts ON Casts.movie_id = Movies.movie_id Left JOIN Actors ON Casts.actor_id = Actors.actor_id WHERE Actors.actor_name = 'Alan Rickman'\n",
    "\n",
    "- VIEW Alan_Rickman_Movies AS SELECT title, release_date, tagline, overview FROM Movies LEFT JOIN Casts ON Casts.movie_id = Movies.movie_id Left JOIN Actors ON Casts.actor_id = Actors.actor_id WHERE Actors.actor_name = 'Alan Rickman'"
   ]
  },
  {
   "cell_type": "code",
   "execution_count": 158,
   "metadata": {
    "id": "DPzO4PZyUEl_"
   },
   "outputs": [
    {
     "name": "stdout",
     "output_type": "stream",
     "text": [
      " * sqlite:///TMDB.db\n",
      "Done.\n"
     ]
    },
    {
     "data": {
      "text/plain": [
       "[]"
      ]
     },
     "execution_count": 158,
     "metadata": {},
     "output_type": "execute_result"
    }
   ],
   "source": [
    "%%sql\n",
    "CREATE VIEW Alan_Rickman_Movies AS\n",
    "SELECT title, release_date, tagline, overview FROM Movies\n",
    "LEFT JOIN Casts ON Casts.movie_id = Movies.movie_id Left JOIN Actors ON Casts.actor_id = Actors.actor_id WHERE Actors.actor_name = 'Alan Rickman'"
   ]
  },
  {
   "cell_type": "markdown",
   "metadata": {
    "id": "SZLd8cjGUdhE"
   },
   "source": [
    "**Question 15**\n",
    "\n",
    "Which of the statements about database normalisation is true?\n",
    "\n",
    "**Statements:**\n",
    " \n",
    "i) Database normalisation improves data redundancy, saves on storage space and fulfills the requirement of records to be uniquely identified.\n",
    "\n",
    "ii) Database normalisation supports up to 3rd normal form and removes all data anomalies.\n",
    "\n",
    "iii) Database normalisation removes inconsistencies which may cause the analysis of our data to be more complicated.\n",
    "\n",
    "iv) Database normalisation causes data redundancy, increases storage space and creates duplicate records.\n",
    "\n",
    "**Options:**\n",
    "\n",
    " - (i), (ii)\n",
    " - (i), (iii)\n",
    " - (ii), (iv)\n",
    " - (iii), (iv)"
   ]
  },
  {
   "cell_type": "code",
   "execution_count": null,
   "metadata": {},
   "outputs": [],
   "source": []
  }
 ],
 "metadata": {
  "colab": {
   "name": "DS4A_Predict_Supplementary_Examination_Student_Version.ipynb",
   "provenance": [],
   "toc_visible": true
  },
  "kernelspec": {
   "display_name": "Python 3 (ipykernel)",
   "language": "python",
   "name": "python3"
  },
  "language_info": {
   "codemirror_mode": {
    "name": "ipython",
    "version": 3
   },
   "file_extension": ".py",
   "mimetype": "text/x-python",
   "name": "python",
   "nbconvert_exporter": "python",
   "pygments_lexer": "ipython3",
   "version": "3.8.10"
  }
 },
 "nbformat": 4,
 "nbformat_minor": 4
}
