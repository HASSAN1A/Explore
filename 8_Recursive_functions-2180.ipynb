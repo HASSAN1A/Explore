{
 "cells": [
  {
   "cell_type": "markdown",
   "metadata": {
    "colab_type": "text",
    "id": "287YJKfJ-wrE"
   },
   "source": [
    "# Recursive Functions\n",
    "\n",
    "© Explore Data Science Academy"
   ]
  },
  {
   "cell_type": "markdown",
   "metadata": {
    "colab_type": "text",
    "id": "NKIyqZ_Y-wrO"
   },
   "source": [
    "## Learning Objectives\n",
    "By the end of this train, you should be able to:\n",
    "\n",
    "* Understand recursion and its uses;\n",
    "* Implement basic recursive functions; and\n",
    "* Understand the difference between iterative and recursive functions.\n",
    "\n",
    "## Outline\n",
    "In this train we will:\n",
    "\n",
    "* Introduce the concept of recursion;\n",
    "* Implement basic recursive functions; and\n",
    "* Compare the iterative and recursive implementations of merge sort."
   ]
  },
  {
   "cell_type": "markdown",
   "metadata": {
    "colab_type": "text",
    "id": "y574G4g0jQAx"
   },
   "source": [
    "## Recursion\n",
    "\n",
    "Recursion can offer some sublime solutions to certain problems, especially those that can be broken up into similar but smaller problems. Please read Beau Carnes' [Recursion primer](https://medium.freecodecamp.org/how-recursion-works-explained-with-flowcharts-and-a-video-de61f40cb7f9) for an introduction that includes a brilliant example involving a set of keys, boxes, and a small child.\n",
    "\n",
    "Recursion, or a recursive function to be precise, is a function which calls itself within the function. This concept can be tricky to grasp, so let's begin with some non-programming examples. Think of it like dream levels in [Inception](http://www.imdb.com/title/tt1375666/), but instead of a dream within a dream within a dream, recursion might be a function call within a function call within a function call.\n",
    "\n",
    "### Recursive Acronyms\n",
    "\n",
    "An acronym is a word formed from an abbreviation of words or phrases. NumPy is an acronym for _Numerical Python_ and Pandas is short for *Python ANd Data AnalysiS*. \n",
    "\n",
    "Computer scientists find great joy in *Recursive Acronyms*: \n",
    "* The popular website scripting language **PHP** is short for _PHP: Hypertext Preprocessor_ \n",
    "* Python's package manager **PIP** is short for _PIP Installs Packages_\n",
    "\n",
    "These are recursive because the definition of the acronym contains the acronym."
   ]
  },
  {
   "cell_type": "markdown",
   "metadata": {
    "colab_type": "text",
    "id": "2oB-PffT-wrY"
   },
   "source": [
    "### Recursive functions\n",
    "\n",
    "Consider the image below. This is a demonstration of recursion."
   ]
  },
  {
   "cell_type": "markdown",
   "metadata": {
    "colab_type": "text",
    "id": "JLWSoPAa-wrb"
   },
   "source": [
    "![Handsy](https://photos.smugmug.com/Art/The-Droste-Effect/i-Nnk5bWT/2/dee5915f/L/x-L.jpg)"
   ]
  },
  {
   "cell_type": "markdown",
   "metadata": {
    "colab_type": "text",
    "id": "zsRuV4kl-wrc"
   },
   "source": [
    "Each arm has a function; it draws a slightly smaller arm that is capable of drawing a slightly smaller arm that is capable of drawing a slightly smaller arm, etc. Note that each arm's form and the function recurs for each new arm. Thankfully, each new arm is slightly smaller than it's creator. There will come an arm so small it no longer functions and cannot create another arm. If this weren't the case, there would be an infinite number of arms; all the way down!\n",
    "\n",
    "Recursive functions need two things to recur: a *recursive case*, for which the function calls itself, and a *base case* or *terminating condition* for which the function does **not** call itself.\n",
    "\n",
    "Consider the screenshot below. It also demonstrates recursion; this time with a predefined base case."
   ]
  },
  {
   "cell_type": "markdown",
   "metadata": {
    "colab_type": "text",
    "id": "faQ9P8YfL3eW"
   },
   "source": [
    "![Droste VLC](http://enacademic.com/pictures/enwiki/83/Screenshot_Recursion_via_vlc.png)"
   ]
  },
  {
   "cell_type": "markdown",
   "metadata": {
    "colab_type": "text",
    "id": "UAV3wMs_-wrg"
   },
   "source": [
    "It shows \n",
    "- an Ubuntu desktop which has a VLC window playing a 33:28.20 video of \n",
    "- an Ubuntu desktop which has a VLC window playing a 33:28.19 video of\n",
    "- an Ubuntu desktop which has a VLC window playing a 33:28.18 video of\n",
    "<br/> ...\n",
    "<br/>...\n",
    "- an Ubuntu desktop which has a VLC window playing a 00:00.02 video of\n",
    "- an Ubuntu desktop which has a VLC window playing a 00:00.01 video.\n",
    "\n",
    "\n",
    "Each window's function is to play a video of itself that is one second shorter than itself. The recursion stops when it tries to play a 00:00.00 video. We say that the _recursive case_ occurs each time the video is longer than 00:00.00. We say that the _base/terminating case_ occurs when the video is exactly 00:00.00.\n",
    "\n",
    "### Base Case Example\n",
    "\n",
    "The following code is taken from  Beau Carnes' [Recursion primer](https://medium.freecodecamp.org/how-recursion-works-explained-with-flowcharts-and-a-video-de61f40cb7f9). If you have not yet done so, please do go through it.\n",
    "\n",
    "This countdown function is similar to the video example above. It demonstrates what may happen without a base case. Run the code, and wait for it to terminate. Read the error message for interest sake."
   ]
  },
  {
   "cell_type": "code",
   "execution_count": 15,
   "metadata": {
    "colab": {},
    "colab_type": "code",
    "id": "08t6NiHnIb3v"
   },
   "outputs": [],
   "source": [
    "def countdown(i):\n",
    "   \n",
    "    if i == -10:\n",
    "        break\n",
    "        \n",
    "         print(i)   \n",
    "         countdown(i - 1)\n",
    "    \n",
    "        \n",
    "        \n",
    "    \n",
    "        \n",
    "    \n",
    "    \n",
    "countdown(5)"
   ]
  },
  {
   "cell_type": "markdown",
   "metadata": {
    "colab_type": "text",
    "id": "rKgj8OhI-wro"
   },
   "source": [
    "We avoid this infinite recursions if we add the base/terminating case when the counter is `0`"
   ]
  },
  {
   "cell_type": "code",
   "execution_count": 2,
   "metadata": {
    "colab": {},
    "colab_type": "code",
    "id": "F5coLNEZIlNr"
   },
   "outputs": [
    {
     "name": "stdout",
     "output_type": "stream",
     "text": [
      "5\n",
      "4\n",
      "3\n",
      "2\n",
      "1\n",
      "\u0007\n"
     ]
    }
   ],
   "source": [
    "def countdown(i):\n",
    "    if i == 0:\n",
    "        print('\\a')\n",
    "    else:\n",
    "        print(i)\n",
    "        countdown(i - 1)\n",
    "\n",
    "countdown(5)"
   ]
  },
  {
   "cell_type": "markdown",
   "metadata": {
    "colab_type": "text",
    "id": "mpIJF02HbbX-"
   },
   "source": [
    "### Factorial\n",
    "\n",
    "$n$ $factorial$   (written as **$n!$**) is the number we get when we multiply every number from $1$ to $n$. For example:\n",
    "\n",
    "$4! = 4 \\times 3 \\times 2 \\times 1 = 24$. <br>\n",
    "\n",
    "$10! = 10 \\times 9 \\times 8 \\times 7 \\times 6 \\times 5 \\times 4 \\times 3 \\times 2 \\times 1 = 3628800$.\n",
    "\n",
    "Factorials are difficult to calculate for larger numbers. To find out why, Let's look at some smaller numbers\n",
    "\n",
    "$1! = 1$\n",
    "<br/>\n",
    "$2! = 2 \\times 1 = 2$\n",
    "<br/>\n",
    "$3! = 3 \\times 2 \\times 1 = 6$\n",
    "<br/>\n",
    "$4! = 4 \\times 3 \\times 2 \\times 1 = 24$\n",
    "<br/>\n",
    "$5!  = 5 \\times 4 \\times 3 \\times 2 \\times 1 = 120$\n",
    "<br/>\n",
    "\n",
    "We're looking for something called the recursive pattern. Let's mirror the equations to help us see the pattern.\n",
    "\n",
    "$1! = 1$\n",
    "<br/>\n",
    "$2! = 1 \\times 2$\n",
    "<br/>\n",
    "$3! = 1 \\times 2 \\times 3$\n",
    "<br/>\n",
    "$4! = 1 \\times 2 \\times 3 \\times 4$\n",
    "<br/>\n",
    "$5! = 1 \\times 2 \\times 3 \\times 4 \\times 5$\n",
    "<br/>\n",
    "\n",
    "We could re-write this as\n",
    "\n",
    "$1! = 1$\n",
    "<br/>\n",
    "$2! = 1! \\times 2$\n",
    "<br/>\n",
    "$3! = 2! \\times 3$\n",
    "<br/>\n",
    "$4! = 3! \\times 4$\n",
    "<br/>\n",
    "$5! = 4! \\times 5$\n",
    "<br/>"
   ]
  },
  {
   "cell_type": "markdown",
   "metadata": {
    "colab_type": "text",
    "id": "FQH3WOII-wrx"
   },
   "source": [
    "**Mathematically**\n",
    "\n",
    "$n! = n \\times (n - 1) \\times (n - 2) \\times \\dots \\times 2 \\times 1$\n",
    "\n",
    "Also notice that:\n",
    "$(n-1)! = (n - 1) \\times (n - 2) \\times (n - 3) \\times \\dots \\times 2 \\times 1$\n",
    "\n",
    "Hence:\n",
    "$n! = n \\times (n - 1)!$\n",
    "\n",
    "\n",
    "\n",
    "The base case is vitally important to a recursive function; without it the process might never end. For `factorial(n)`, the function would continue to call itself with negative numbers and never return a value to the original call. Here, the base base is when $n = 1$ or $n! = n$. The recursive case is $n! = n \\times (n - 1)!$\n",
    "\n",
    "In a recursive Python function, this would look like:"
   ]
  },
  {
   "cell_type": "code",
   "execution_count": 1,
   "metadata": {
    "colab": {},
    "colab_type": "code",
    "collapsed": true,
    "id": "ISiutp6NciW9"
   },
   "outputs": [],
   "source": [
    "def factorial(n):\n",
    "    if n == 1:\n",
    "        return n\n",
    "    else:\n",
    "        return n * factorial(n-1)  # <<-- Notice how the function does factorial(n-1) within factorial(n)!"
   ]
  },
  {
   "cell_type": "code",
   "execution_count": 2,
   "metadata": {
    "colab": {
     "base_uri": "https://localhost:8080/",
     "height": 35
    },
    "colab_type": "code",
    "executionInfo": {
     "elapsed": 3679,
     "status": "ok",
     "timestamp": 1572873491116,
     "user": {
      "displayName": "Jonathan Botha",
      "photoUrl": "",
      "userId": "05591136402895135214"
     },
     "user_tz": -120
    },
    "id": "nibQot8nMwK9",
    "outputId": "825518d5-3f0f-4ba7-b817-8900580f6607"
   },
   "outputs": [
    {
     "data": {
      "text/plain": [
       "True"
      ]
     },
     "execution_count": 2,
     "metadata": {},
     "output_type": "execute_result"
    }
   ],
   "source": [
    "factorial(5) == 120"
   ]
  },
  {
   "cell_type": "markdown",
   "metadata": {
    "colab_type": "text",
    "id": "I_DI1u4fcoc4"
   },
   "source": [
    "Notice what the function is doing. It essentially runs a version of itself `factorial(n-1)` right within itself (`factorial(n)`).\n",
    "\n",
    "For each function call, the `return` statements must resolve entirely before it completes. Let's write a recursive function with print statements to see how Python manages memory."
   ]
  },
  {
   "cell_type": "code",
   "execution_count": 11,
   "metadata": {
    "colab": {},
    "colab_type": "code",
    "collapsed": true,
    "id": "Jgjb7SYAIsYA"
   },
   "outputs": [],
   "source": [
    "def factorial(n):\n",
    "    if n == 1:\n",
    "        return n\n",
    "    else:\n",
    "        print(\"n = \", n, \"; now calling factorial(n-1)\", sep = \"\")\n",
    "        lower_fact = factorial(n-1)\n",
    "        current_fact = n * lower_fact \n",
    "        print(\"n = \",n, \"; factorial(n-1) returned \", lower_fact,\"; multiplied by n to get \", current_fact, sep = \"\") \n",
    "        return  current_fact"
   ]
  },
  {
   "cell_type": "code",
   "execution_count": 12,
   "metadata": {
    "colab": {},
    "colab_type": "code",
    "id": "68XM9ASeIvyK"
   },
   "outputs": [
    {
     "name": "stdout",
     "output_type": "stream",
     "text": [
      "n = 5; now calling factorial(n-1)\n",
      "n = 4; now calling factorial(n-1)\n",
      "n = 3; now calling factorial(n-1)\n",
      "n = 2; now calling factorial(n-1)\n",
      "n = 2; factorial(n-1) returned 1; multiplied by n to get 2\n",
      "n = 3; factorial(n-1) returned 2; multiplied by n to get 6\n",
      "n = 4; factorial(n-1) returned 6; multiplied by n to get 24\n",
      "n = 5; factorial(n-1) returned 24; multiplied by n to get 120\n"
     ]
    },
    {
     "data": {
      "text/plain": [
       "120"
      ]
     },
     "execution_count": 12,
     "metadata": {},
     "output_type": "execute_result"
    }
   ],
   "source": [
    "factorial(5) "
   ]
  },
  {
   "cell_type": "markdown",
   "metadata": {
    "colab_type": "text",
    "id": "mCNO1sF2-wsF"
   },
   "source": [
    "Remember, recursion is not like loops. The interpretor does not move beyond line 6 until after it meets the base case and one of the function calls actually completes. Please review Beau Carnes' description of this call stack in his [Recursion primer](https://medium.freecodecamp.org/how-recursion-works-explained-with-flowcharts-and-a-video-de61f40cb7f9)."
   ]
  },
  {
   "cell_type": "markdown",
   "metadata": {
    "colab_type": "text",
    "id": "ApLa3bUw-wsG"
   },
   "source": [
    "## Why Recursion?\n",
    "\n",
    "It is possible to write an iterative version of any recursive algorithm. For example, we could use a while loop to calculate factorials:"
   ]
  },
  {
   "cell_type": "code",
   "execution_count": 7,
   "metadata": {
    "colab": {},
    "colab_type": "code",
    "id": "0vM1qcBOAGPA"
   },
   "outputs": [],
   "source": [
    "def factorial(n):\n",
    "    result = 1\n",
    "    count = 2\n",
    "  \n",
    "    while count <= n:\n",
    "        result = result * count\n",
    "        count = count + 1\n",
    "    \n",
    "    return result"
   ]
  },
  {
   "cell_type": "code",
   "execution_count": 4,
   "metadata": {
    "colab": {},
    "colab_type": "code",
    "id": "pnhnESGXI-OV"
   },
   "outputs": [
    {
     "data": {
      "text/plain": [
       "24"
      ]
     },
     "execution_count": 4,
     "metadata": {},
     "output_type": "execute_result"
    }
   ],
   "source": [
    "factorial(4)"
   ]
  },
  {
   "cell_type": "markdown",
   "metadata": {},
   "source": [
    "This solution is short and relatively simple. How do they compare?\n",
    "\n",
    "* The iterative solution uses _one_ loop, _three_ variables and _three_ distinct calculations. \n",
    "* The recursive solution uses _zero_ loops, _one_ variable, and _two_ Calculations. \n",
    "\n",
    "As the calculations become more complicated, iterative solutions grow in complexity. Let's look at a common sorting algorithm: _Merge Sort_.\n",
    "\n",
    "## Merge Sort\n",
    "\n",
    "Merge sort works by splitting an array in half to create two smaller arrays. It continues to split the smaller arrays in half to produce even smaller arrays. Once the arrays are of length one, the spitting stops and the merging begins. Each merge will merge two arrays in the correct order to create a larger array. The merging continues until no more merges are possible.\n",
    "\n",
    "We can also think of this recursively, let's refer to the function as `merge_sort`. `merge_sort` starts by splitting an array into a left half and right half. Sort the left half of this array using `merge_sort`. Sort the right half of this array using `merge_sort`. Merge the sorted left half and right half of this array. `merge_sort` returns this merged array. The following image demonstrates the merge sort process."
   ]
  },
  {
   "cell_type": "markdown",
   "metadata": {},
   "source": [
    "<div>\n",
    "    <img src=\"https://user-images.githubusercontent.com/1997137/63670147-7fc19080-c80e-11e9-907f-7c4f341746a2.png\" width=600>\n",
    "</div>"
   ]
  },
  {
   "cell_type": "markdown",
   "metadata": {
    "colab_type": "text",
    "id": "cL4JFYO0-wsW"
   },
   "source": [
    "Let's compare the complexity of the recursive implementation of merge sort with the iterative implementation.\n",
    "\n",
    "### Recursive Merge Sort\n",
    "\n",
    "The following is a typical recursive implementation of merge sort, obtained from [Geeksforgeeks](https://www.geeksforgeeks.org/iterative-merge-sort/), implemented by Mohit Gupta."
   ]
  },
  {
   "cell_type": "code",
   "execution_count": 4,
   "metadata": {
    "colab": {},
    "colab_type": "code",
    "collapsed": true,
    "id": "ZqXn15BiJzQD"
   },
   "outputs": [],
   "source": [
    "def merge_sort(arr):\n",
    "    \"\"\"Execute the merge sort algorithm\"\"\"\n",
    "    if len(arr) > 1:\n",
    "        # recursive case\n",
    "        mid = len(arr) // 2 # find the midpoint of the array\n",
    "        l = arr[:mid] # define the left half of the array\n",
    "        r = arr[mid:] # define the right half of the array\n",
    "        \n",
    "        l = merge_sort(l) # sort the left half by calling this function\n",
    "        r = merge_sort(r) # sort the right half by calling this function\n",
    "        \n",
    "        # now merge the two lists\n",
    "        merged = [] # define an empty merged array\n",
    "        while len(l) > 0 and len(r) > 0:\n",
    "            # compare the heads of the left and right array\n",
    "            if l[0] <= r[0]:\n",
    "                # if the head of the left list is smaller than the head of the right list\n",
    "                # pop the head of the left list and append it to the merged list\n",
    "                merged.append(l.pop(0))\n",
    "            else:\n",
    "                # otherwise, pop the head of the right list and append that\n",
    "                merged.append(r.pop(0))\n",
    "                \n",
    "        # add any elements remaining in the left or right list to the merged list\n",
    "        merged = merged + l + r\n",
    "        \n",
    "        return merged\n",
    "    else:\n",
    "        # base case\n",
    "        return arr"
   ]
  },
  {
   "cell_type": "code",
   "execution_count": 5,
   "metadata": {
    "colab": {
     "base_uri": "https://localhost:8080/",
     "height": 35
    },
    "colab_type": "code",
    "executionInfo": {
     "elapsed": 1033,
     "status": "ok",
     "timestamp": 1574679110385,
     "user": {
      "displayName": "Anga Tinzi",
      "photoUrl": "https://lh3.googleusercontent.com/-XX7pcLif7ls/AAAAAAAAAAI/AAAAAAAAAmc/OvDBL-5WheA/s64/photo.jpg",
      "userId": "01440823023130494280"
     },
     "user_tz": -120
    },
    "id": "FSCgmhE2KLWf",
    "outputId": "e58a4833-022c-41ce-f5e5-c9e05d61dcf4"
   },
   "outputs": [
    {
     "data": {
      "text/plain": [
       "[1, 3, 4, 5, 9, 11, 15, 17]"
      ]
     },
     "execution_count": 5,
     "metadata": {},
     "output_type": "execute_result"
    }
   ],
   "source": [
    "arr = [5,4,9,11,17,1,3,15]\n",
    "merge_sort(arr)"
   ]
  },
  {
   "cell_type": "markdown",
   "metadata": {
    "colab_type": "text",
    "id": "fnXUDj_E-wsZ"
   },
   "source": [
    "### Iterative Merge Sort"
   ]
  },
  {
   "cell_type": "markdown",
   "metadata": {
    "colab_type": "text",
    "id": "SdrNws-AIBJp"
   },
   "source": [
    "The following example is of an iterative implementation of merge sort, created by Madhur Chhangani, obtained from [Geeksforgeeks](https://www.geeksforgeeks.org/iterative-merge-sort/)."
   ]
  },
  {
   "cell_type": "code",
   "execution_count": 6,
   "metadata": {
    "colab": {},
    "colab_type": "code",
    "collapsed": true,
    "id": "uSEnngoTKRKT"
   },
   "outputs": [],
   "source": [
    "def mergeSort(a):  \n",
    "      \n",
    "    current_size = 1\n",
    "      \n",
    "    # Outer loop for traversing Each  \n",
    "    # sub array of current_size  \n",
    "    while current_size < len(a) - 1:  \n",
    "          \n",
    "        left = 0\n",
    "        # Inner loop for merge call  \n",
    "        # in a sub array  \n",
    "        # Each complete Iteration sorts  \n",
    "        # the iterating sub array  \n",
    "        while left < len(a)-1:  \n",
    "              \n",
    "            # mid index = left index of  \n",
    "            # sub array + current sub  \n",
    "            # array size - 1  \n",
    "            mid = min((left + current_size - 1),(len(a)-1)) \n",
    "              \n",
    "            # (False result,True result)  \n",
    "            # [Condition] Can use current_size  \n",
    "            # if 2 * current_size < len(a)-1  \n",
    "            # else len(a)-1  \n",
    "            right = ((2 * current_size + left - 1,  \n",
    "                    len(a) - 1)[2 * current_size  \n",
    "                        + left - 1 > len(a)-1])  \n",
    "                              \n",
    "            # Merge call for each sub array  \n",
    "            merge(a, left, mid, right)  \n",
    "            left = left + current_size*2\n",
    "              \n",
    "        # Increasing sub array size by  \n",
    "        # multiple of 2  \n",
    "        current_size = 2 * current_size  \n",
    "\n",
    "        \n",
    "def merge(a, l, m, r): \n",
    "    n1 = m - l + 1\n",
    "    n2 = r - m \n",
    "    L = [0] * n1 \n",
    "    R = [0] * n2 \n",
    "    for i in range(0, n1): \n",
    "        L[i] = a[l + i] \n",
    "    for i in range(0, n2): \n",
    "        R[i] = a[m + i + 1] \n",
    "  \n",
    "    i, j, k = 0, 0, l \n",
    "    while i < n1 and j < n2: \n",
    "        if L[i] > R[j]: \n",
    "            a[k] = R[j] \n",
    "            j += 1\n",
    "        else: \n",
    "            a[k] = L[i] \n",
    "            i += 1\n",
    "        k += 1\n",
    "  \n",
    "    while i < n1: \n",
    "        a[k] = L[i] \n",
    "        i += 1\n",
    "        k += 1\n",
    "  \n",
    "    while j < n2: \n",
    "        a[k] = R[j] \n",
    "        j += 1\n",
    "        k += 1\n",
    "    return a"
   ]
  },
  {
   "cell_type": "code",
   "execution_count": 8,
   "metadata": {
    "colab": {
     "base_uri": "https://localhost:8080/",
     "height": 35
    },
    "colab_type": "code",
    "executionInfo": {
     "elapsed": 1032,
     "status": "ok",
     "timestamp": 1574679466449,
     "user": {
      "displayName": "Anga Tinzi",
      "photoUrl": "https://lh3.googleusercontent.com/-XX7pcLif7ls/AAAAAAAAAAI/AAAAAAAAAmc/OvDBL-5WheA/s64/photo.jpg",
      "userId": "01440823023130494280"
     },
     "user_tz": -120
    },
    "id": "IcG7wctsMXGw",
    "outputId": "7e5e982d-d0c2-4236-bf4f-92c38edb5cd9"
   },
   "outputs": [
    {
     "data": {
      "text/plain": [
       "[1, 3, 4, 5, 9, 11, 15, 17]"
      ]
     },
     "execution_count": 8,
     "metadata": {},
     "output_type": "execute_result"
    }
   ],
   "source": [
    "arr = [5,4,9,11,17,1,3,15]\n",
    "mergeSort(arr)\n",
    "arr"
   ]
  },
  {
   "cell_type": "markdown",
   "metadata": {
    "colab_type": "text",
    "id": "pKAufybD-wsb"
   },
   "source": [
    "The iterative implementation is significantly more complicated because you have to mess around with sub-lists and a number of different loops to handle the merge for each iteration. The recursive implementation is decidedly lighter. Two things stand out:\n",
    "1. The iterative implementation requires a nested while loop; recursive implementation requires none.\n",
    "2. The recursive's `merge` function uses only one loop, and requires only two parameters.\n",
    "\n",
    "Ultimately, both algorithms are _O(nlogn)_ in Big O Notation; computers do not care much about which one you pick, however, recursive implementations are often easier to write and read. "
   ]
  },
  {
   "cell_type": "markdown",
   "metadata": {
    "colab_type": "text",
    "id": "rXEcAt5PIBJ_"
   },
   "source": [
    "## Exercises"
   ]
  },
  {
   "cell_type": "markdown",
   "metadata": {
    "colab_type": "text",
    "id": "oiOoE0DjQVlz"
   },
   "source": [
    "### Exercise 1\n",
    "Convert the following function into a recursive function: $f(n) = a^n$\n",
    "\n",
    "Tip: $ a^n = a \\times a \\times a \\times \\dots \\times a $   ($n$ times)\n",
    "\n",
    "**IMPORTANT:** Your function MUST BE RECURSIVE."
   ]
  },
  {
   "cell_type": "code",
   "execution_count": 15,
   "metadata": {
    "colab": {},
    "colab_type": "code",
    "collapsed": true,
    "id": "Ja-yvj97coO2"
   },
   "outputs": [],
   "source": [
    "def exponential(a, n):\n",
    "  # YOUR CODE HERE\n",
    "  return "
   ]
  },
  {
   "cell_type": "code",
   "execution_count": null,
   "metadata": {},
   "outputs": [],
   "source": []
  },
  {
   "cell_type": "markdown",
   "metadata": {
    "colab_type": "text",
    "id": "eHV3QZVTLV9a"
   },
   "source": [
    "**Expected Answers**\n",
    "```python\n",
    "exponential(5,0)== 1\n",
    "exponential(2,8)== 256\n",
    "```\n",
    "\n",
    "### Exercise 2\n",
    "Using recursion, generate the $n$th number in the [fibonacci sequence](https://www.mathsisfun.com/numbers/fibonacci-sequence.html).\n",
    "\n",
    "Tip: $fibonacci(7) = 13$"
   ]
  },
  {
   "cell_type": "code",
   "execution_count": 16,
   "metadata": {
    "colab": {},
    "colab_type": "code",
    "collapsed": true,
    "id": "iu00nT01-wsq"
   },
   "outputs": [],
   "source": [
    "def fibonacci(n):\n",
    "  \n",
    "  # YOUR CODE HERE\n",
    "    return "
   ]
  },
  {
   "cell_type": "code",
   "execution_count": null,
   "metadata": {
    "colab": {},
    "colab_type": "code",
    "collapsed": true,
    "id": "eIs7SJ2sIBKw",
    "outputId": "636b39da-83e9-4b21-f78a-0d6c4cd85f20"
   },
   "outputs": [],
   "source": []
  },
  {
   "cell_type": "markdown",
   "metadata": {
    "colab_type": "text",
    "id": "APyuViY4KyCc"
   },
   "source": [
    "**Expected Answers**\n",
    "```python\n",
    "fibonacci(4) == 2\n",
    "fibonacci(9) == 21\n",
    "```\n",
    "\n",
    "### Exercise 3\n",
    "Using recursion, calculate the cumulative sum all positive integers up to $n$.\n",
    "\n",
    "Tip: $cumulate(7) = 1 + 2 + 3 + 4 + 5 + 6 + 7 = 28$\n",
    "\n",
    "$cumulate(3) = 1 + 2 + 3 = 6$\n",
    "\n",
    "$cumulate(1) = 1$\n"
   ]
  },
  {
   "cell_type": "code",
   "execution_count": 17,
   "metadata": {
    "colab": {},
    "colab_type": "code",
    "collapsed": true,
    "id": "S7pPyp1V-wsv"
   },
   "outputs": [],
   "source": [
    "def cumulate(n):\n",
    "    \n",
    "  # YOUR CODE HERE\n",
    "\n",
    "    return"
   ]
  },
  {
   "cell_type": "code",
   "execution_count": null,
   "metadata": {
    "colab": {},
    "colab_type": "code",
    "collapsed": true,
    "id": "6lv7ofCaIBLK"
   },
   "outputs": [],
   "source": []
  },
  {
   "cell_type": "markdown",
   "metadata": {
    "colab_type": "text",
    "id": "L112xvYhLDva"
   },
   "source": [
    "**Expected Answers**\n",
    "```python\n",
    "cumulate(18) == 171\n",
    "cumulate(9) == 45\n",
    "```"
   ]
  },
  {
   "cell_type": "markdown",
   "metadata": {},
   "source": [
    "## Conclusion\n",
    "You should now understand the concept recursion, recursive functions, and their uses. Before moving on from this train, the reader is expected to understand the difference between iterative and recursive functions and be able to implement basic recursive functions."
   ]
  },
  {
   "cell_type": "markdown",
   "metadata": {},
   "source": [
    "## Appendix\n",
    "The following resources can be explored for further insight into the concepts covered within the train: \n",
    " - [Recursion Made Simple](https://medium.com/code-zen/recursion-demystified-24867f045c62)\n",
    "\n",
    " - [Explain Recursion to me Like I Am A Five Year Old](https://www.reddit.com/r/learnprogramming/comments/5w50g5/eli5_what_is_recursion/)"
   ]
  }
 ],
 "metadata": {
  "colab": {
   "collapsed_sections": [],
   "name": "V2_Recursion Functions.ipynb",
   "provenance": []
  },
  "kernelspec": {
   "display_name": "Python 3 (ipykernel)",
   "language": "python",
   "name": "python3"
  },
  "language_info": {
   "codemirror_mode": {
    "name": "ipython",
    "version": 3
   },
   "file_extension": ".py",
   "mimetype": "text/x-python",
   "name": "python",
   "nbconvert_exporter": "python",
   "pygments_lexer": "ipython3",
   "version": "3.8.10"
  },
  "toc": {
   "base_numbering": 1,
   "nav_menu": {},
   "number_sections": true,
   "sideBar": true,
   "skip_h1_title": false,
   "title_cell": "Table of Contents",
   "title_sidebar": "Contents",
   "toc_cell": false,
   "toc_position": {
    "height": "calc(100% - 180px)",
    "left": "10px",
    "top": "150px",
    "width": "384px"
   },
   "toc_section_display": true,
   "toc_window_display": true
  },
  "varInspector": {
   "cols": {
    "lenName": 16,
    "lenType": 16,
    "lenVar": 40
   },
   "kernels_config": {
    "python": {
     "delete_cmd_postfix": "",
     "delete_cmd_prefix": "del ",
     "library": "var_list.py",
     "varRefreshCmd": "print(var_dic_list())"
    },
    "r": {
     "delete_cmd_postfix": ") ",
     "delete_cmd_prefix": "rm(",
     "library": "var_list.r",
     "varRefreshCmd": "cat(var_dic_list()) "
    }
   },
   "types_to_exclude": [
    "module",
    "function",
    "builtin_function_or_method",
    "instance",
    "_Feature"
   ],
   "window_display": false
  }
 },
 "nbformat": 4,
 "nbformat_minor": 1
}
