{
 "cells": [
  {
   "cell_type": "markdown",
   "metadata": {},
   "source": [
    "# Basic SQL Queries: TMDb Database\n",
    "© Explore Data Science Academy"
   ]
  },
  {
   "cell_type": "markdown",
   "metadata": {},
   "source": [
    "## Instructions to Students\n",
    "\n",
    "This challenge is designed to determine how much you have learned so far and will test your knowledge on Basic SQL queries.\n",
    "\n",
    "The answers for this challenge should be selected on Athena for each corresponding Multiple Choice Question. The questions are included in this notebook and are numbered according to the Athena Questions. The options to choose from for each question has also been included.\n",
    "\n",
    "*NOTE:*\n",
    "Do not add or remove cells in this notebook. Do not edit or remove the `%%sql` comment as it is required to run each cell.\n",
    "\n",
    "**_Good Luck!_**"
   ]
  },
  {
   "cell_type": "markdown",
   "metadata": {},
   "source": [
    "## Honour Code\n",
    "\n",
    "I YOUR NAME, YOUR SURNAME, confirm - by submitting this document - that the solutions in this notebook are a result of my own work and that I abide by the EDSA honour code (https://drive.google.com/file/d/1QDCjGZJ8-FmJE3bZdIQNwnJyQKPhHZBn/view?usp=sharing).\n",
    "\n",
    "Non-compliance with the honour code constitutes a material breach of contract."
   ]
  },
  {
   "cell_type": "markdown",
   "metadata": {},
   "source": [
    "## The TMDb Database\n",
    "\n",
    "In this challenge you will be exploring the [The Movie Database](https://www.themoviedb.org/): an online movie and TV show database, which houses some of the most popular movies and TV shows at your finger tips. The TMDb database supports 39 official languages used in over 180 countries daily and dates all the way back to 2008. \n",
    "\n",
    "\n",
    "<img src=\"https://github.com/Explore-AI/Pictures/blob/master/sql_tmdb.jpg?raw=true\" width=80%/>\n",
    "\n",
    "\n",
    "Below is an Entity Relationship Diagram (ERD) of the TMDb database:\n",
    "\n",
    "<img src=\"https://github.com/Explore-AI/Pictures/blob/master/TMDB_ER_diagram.png?raw=true\" width=70%/>\n",
    "\n",
    "As can be seen from the ER diagram, the TMDb database consists of `12 tables` containing information about movies, cast, genre and so much more.  \n",
    "\n",
    "For this challenge we will only be making use of the Movies table from the TMDb database. We will be applying the use of basic SQL queries to gain insightful information from the Movies table. The Movie table consists of: \n",
    "- 15 columns\n",
    "- 4804 rows\n",
    "- Includes information on movie revenue, release date, popularity and so much more ! \n",
    "\n",
    "Let's get started!"
   ]
  },
  {
   "cell_type": "markdown",
   "metadata": {},
   "source": [
    "## Loading the database\n",
    "\n",
    "To begin and start making use of SQL queries you need to prepare your SQL environment you can do this by loading in the magic command `%load_ext sql`, next you can go ahead and load in your database. To do this you will need to ensure you have downloaded the `TMDB.db`sqlite file from Athena and have stored it in a known location. Now that you have all the prerequistes you can go ahead and load it into the notebook. "
   ]
  },
  {
   "cell_type": "code",
   "execution_count": 2,
   "metadata": {},
   "outputs": [
    {
     "name": "stdout",
     "output_type": "stream",
     "text": [
      "The sql extension is already loaded. To reload it, use:\n",
      "  %reload_ext sql\n"
     ]
    }
   ],
   "source": [
    "%load_ext sql"
   ]
  },
  {
   "cell_type": "code",
   "execution_count": 3,
   "metadata": {},
   "outputs": [],
   "source": [
    "%%sql \n",
    "\n",
    "sqlite:///TMDB.db"
   ]
  },
  {
   "cell_type": "markdown",
   "metadata": {},
   "source": [
    "## Questions on Basic SQL Queries \n",
    "\n",
    "Use the given cell below each question to execute your SQL queries to find the correct input from the options provided for the multiple choice questions on Athena.\n",
    "\n",
    "To attempt this you will use what you have learned about the following functions and statements:\n",
    "\n",
    "- SELECT\n",
    "- FROM\n",
    "- WHERE\n",
    "- LIKE\n",
    "- COUNT\n",
    "- OR\n",
    "- AND\n",
    "- BETWEEN"
   ]
  },
  {
   "cell_type": "markdown",
   "metadata": {},
   "source": [
    "**Question 1**\n",
    "\n",
    "What is the SQL code to see the whole movies table?\n",
    "\n",
    "**Options:** \n",
    "- SELECT ALL FROM Movies\n",
    "- SELECT TABLE FROM Movies\n",
    "- SELECT * FROM Movies\n",
    "- SELECT % FROM Movies"
   ]
  },
  {
   "cell_type": "code",
   "execution_count": 6,
   "metadata": {},
   "outputs": [
    {
     "name": "stdout",
     "output_type": "stream",
     "text": [
      " * sqlite:///TMDB.db\n",
      "Done.\n"
     ]
    },
    {
     "data": {
      "text/html": [
       "<table>\n",
       "    <tr>\n",
       "        <th>budget</th>\n",
       "    </tr>\n",
       "    <tr>\n",
       "        <td>160000000</td>\n",
       "    </tr>\n",
       "</table>"
      ],
      "text/plain": [
       "[(160000000,)]"
      ]
     },
     "execution_count": 6,
     "metadata": {},
     "output_type": "execute_result"
    }
   ],
   "source": [
    "%%sql \n",
    "SELECT budget FROM Movies\n",
    "WHERE title =  'Inception'\n",
    ";\n"
   ]
  },
  {
   "cell_type": "markdown",
   "metadata": {},
   "source": [
    "**Question 2**\n",
    "\n",
    "What was the budget for the movie “Inception”?\n",
    "\n",
    "**Options:**\n",
    "- $224 000 000\n",
    "\n",
    "- $160 000 000\n",
    "\n",
    "- $344 000 000\n",
    "\n",
    "- $115 000 000\n"
   ]
  },
  {
   "cell_type": "code",
   "execution_count": 10,
   "metadata": {},
   "outputs": [
    {
     "name": "stdout",
     "output_type": "stream",
     "text": [
      " * sqlite:///TMDB.db\n",
      "Done.\n"
     ]
    },
    {
     "data": {
      "text/html": [
       "<table>\n",
       "    <tr>\n",
       "        <th>runtime</th>\n",
       "    </tr>\n",
       "    <tr>\n",
       "        <td>194.0</td>\n",
       "    </tr>\n",
       "</table>"
      ],
      "text/plain": [
       "[(194.0,)]"
      ]
     },
     "execution_count": 10,
     "metadata": {},
     "output_type": "execute_result"
    }
   ],
   "source": [
    "%%sql \n",
    "SELECT runtime FROM Movies\n",
    "WHERE title =  'Titanic'\n",
    ";\n"
   ]
  },
  {
   "cell_type": "markdown",
   "metadata": {},
   "source": [
    "**Question 3**\n",
    "\n",
    "What is the runtime of the movie \"Titanic\"?\n",
    "\n",
    "**Options:**\n",
    "- 146\n",
    "- 158\n",
    "- 122\n",
    "- 194"
   ]
  },
  {
   "cell_type": "code",
   "execution_count": null,
   "metadata": {},
   "outputs": [],
   "source": [
    "%%sql "
   ]
  },
  {
   "cell_type": "markdown",
   "metadata": {},
   "source": [
    "**Question 4**\n",
    "\n",
    "How many movies do not have English as their original language? (Hint: “en” is the abbreviation for English)\n",
    "\n",
    "**Options:**\n",
    "- 492\n",
    "- 298\n",
    "- 387\n",
    "- 315"
   ]
  },
  {
   "cell_type": "code",
   "execution_count": 13,
   "metadata": {},
   "outputs": [
    {
     "name": "stdout",
     "output_type": "stream",
     "text": [
      " * sqlite:///TMDB.db\n",
      "Done.\n"
     ]
    },
    {
     "data": {
      "text/html": [
       "<table>\n",
       "    <tr>\n",
       "        <th>COUNT(*)</th>\n",
       "    </tr>\n",
       "    <tr>\n",
       "        <td>298</td>\n",
       "    </tr>\n",
       "</table>"
      ],
      "text/plain": [
       "[(298,)]"
      ]
     },
     "execution_count": 13,
     "metadata": {},
     "output_type": "execute_result"
    }
   ],
   "source": [
    "%%sql \n",
    "SELECT COUNT(*) FROM Movies\n",
    "WHERE original_language !=  'en'\n",
    ";\n"
   ]
  },
  {
   "cell_type": "markdown",
   "metadata": {},
   "source": [
    "**Question 5**\n",
    "\n",
    "How many movies are there that have a popularity score of more than 250?\n",
    "\n",
    "**Options:**\n",
    "- 7\n",
    "- 5\n",
    "- 9\n",
    "- 11"
   ]
  },
  {
   "cell_type": "code",
   "execution_count": 14,
   "metadata": {},
   "outputs": [
    {
     "name": "stdout",
     "output_type": "stream",
     "text": [
      " * sqlite:///TMDB.db\n",
      "Done.\n"
     ]
    },
    {
     "data": {
      "text/html": [
       "<table>\n",
       "    <tr>\n",
       "        <th>COUNT(*)</th>\n",
       "    </tr>\n",
       "    <tr>\n",
       "        <td>7</td>\n",
       "    </tr>\n",
       "</table>"
      ],
      "text/plain": [
       "[(7,)]"
      ]
     },
     "execution_count": 14,
     "metadata": {},
     "output_type": "execute_result"
    }
   ],
   "source": [
    "%%sql \n",
    "SELECT COUNT(*) FROM Movies\n",
    "WHERE popularity >  250;"
   ]
  },
  {
   "cell_type": "markdown",
   "metadata": {},
   "source": [
    "**Question 6**\n",
    "\n",
    " How many movies are there where the title is not the same as the original title?\n",
    " \n",
    " **Options:**\n",
    " -  187\n",
    " - 261\n",
    " - 74\n",
    " - 24"
   ]
  },
  {
   "cell_type": "code",
   "execution_count": 15,
   "metadata": {},
   "outputs": [
    {
     "name": "stdout",
     "output_type": "stream",
     "text": [
      " * sqlite:///TMDB.db\n",
      "Done.\n"
     ]
    },
    {
     "data": {
      "text/html": [
       "<table>\n",
       "    <tr>\n",
       "        <th>COUNT(*)</th>\n",
       "    </tr>\n",
       "    <tr>\n",
       "        <td>261</td>\n",
       "    </tr>\n",
       "</table>"
      ],
      "text/plain": [
       "[(261,)]"
      ]
     },
     "execution_count": 15,
     "metadata": {},
     "output_type": "execute_result"
    }
   ],
   "source": [
    "%%sql\n",
    "SELECT COUNT(*) FROM Movies\n",
    "WHERE title !=  original_title;"
   ]
  },
  {
   "cell_type": "markdown",
   "metadata": {},
   "source": [
    "**Question 7**\n",
    "\n",
    " How many movies are there that managed to get a popularity rating of more than 100 with a budget of less than $10 000 000?\n",
    " \n",
    "**Options:**\n",
    " - 11\n",
    " - 18\n",
    " - 5\n",
    " - 15"
   ]
  },
  {
   "cell_type": "code",
   "execution_count": 17,
   "metadata": {},
   "outputs": [
    {
     "name": "stdout",
     "output_type": "stream",
     "text": [
      " * sqlite:///TMDB.db\n",
      "Done.\n"
     ]
    },
    {
     "data": {
      "text/html": [
       "<table>\n",
       "    <tr>\n",
       "        <th>COUNT(*)</th>\n",
       "    </tr>\n",
       "    <tr>\n",
       "        <td>5</td>\n",
       "    </tr>\n",
       "</table>"
      ],
      "text/plain": [
       "[(5,)]"
      ]
     },
     "execution_count": 17,
     "metadata": {},
     "output_type": "execute_result"
    }
   ],
   "source": [
    "%%sql \n",
    "SELECT COUNT(*) FROM Movies\n",
    "WHERE popularity >  100\n",
    "AND budget < 10000000;"
   ]
  },
  {
   "cell_type": "markdown",
   "metadata": {},
   "source": [
    "**Question 8** \n",
    "\n",
    "How many movies are there that have the word ‘love’ anywhere in the title? (Hint: The L in the word love can be upper or lower case and can be included in words such as ‘lovers’.)\n",
    "\n",
    "**Options:**\n",
    "- 67\n",
    "- 58\n",
    "- 71\n",
    "- 49"
   ]
  },
  {
   "cell_type": "code",
   "execution_count": 25,
   "metadata": {},
   "outputs": [
    {
     "name": "stdout",
     "output_type": "stream",
     "text": [
      " * sqlite:///TMDB.db\n",
      "Done.\n"
     ]
    },
    {
     "data": {
      "text/html": [
       "<table>\n",
       "    <tr>\n",
       "        <th>COUNT(*)</th>\n",
       "    </tr>\n",
       "    <tr>\n",
       "        <td>20</td>\n",
       "    </tr>\n",
       "</table>"
      ],
      "text/plain": [
       "[(20,)]"
      ]
     },
     "execution_count": 25,
     "metadata": {},
     "output_type": "execute_result"
    }
   ],
   "source": [
    "%%sql \n",
    "SELECT COUNT(*) FROM Movies\n",
    "WHERE title LIKE 'love%' OR 'Love%' ;"
   ]
  },
  {
   "cell_type": "markdown",
   "metadata": {},
   "source": [
    "**Question 9**\n",
    "\n",
    "How many movies were released between the dates 1 August 2012 and 31 July 2013?  \n",
    "\n",
    "**Options:**\n",
    "- 227 \n",
    "- 295\n",
    "- 3\n",
    "- 208"
   ]
  },
  {
   "cell_type": "code",
   "execution_count": 28,
   "metadata": {},
   "outputs": [
    {
     "name": "stdout",
     "output_type": "stream",
     "text": [
      " * sqlite:///TMDB.db\n",
      "Done.\n"
     ]
    },
    {
     "data": {
      "text/html": [
       "<table>\n",
       "    <tr>\n",
       "        <th>COUNT(*)</th>\n",
       "    </tr>\n",
       "    <tr>\n",
       "        <td>227</td>\n",
       "    </tr>\n",
       "</table>"
      ],
      "text/plain": [
       "[(227,)]"
      ]
     },
     "execution_count": 28,
     "metadata": {},
     "output_type": "execute_result"
    }
   ],
   "source": [
    "%%sql \n",
    "SELECT COUNT(*) FROM Movies\n",
    "WHERE release_date BETWEEN  '2012-08-01' AND '2013-07-31';"
   ]
  },
  {
   "cell_type": "markdown",
   "metadata": {},
   "source": [
    "**Question 10**\n",
    "\n",
    "You have had a long day and want to sit back and enjoy a movie.  Unfortunately, today you are only in the mood for a very specific type of movie. It definitely needs to be in English. It should also be new, something after 1 Jan 2010, but not too new as you might have seen it recently, so it must have been released before 1 Jan 2016. It should also be a romantic movie, so make sure it has the word love somewhere in the title.  You also want it to be a big blockbuster, so the budget of the move must be more than $10 000 000.\n",
    "\n",
    "What is the movie with the highest popularity that meets all of your requirements?\n",
    "\n",
    "**Options:**\n",
    "-  Love & Other Drugs\n",
    "- From Paris with Love\n",
    "-  Crazy, Stupid, Love\n",
    "- Eat Pray Love"
   ]
  },
  {
   "cell_type": "code",
   "execution_count": 35,
   "metadata": {},
   "outputs": [
    {
     "name": "stdout",
     "output_type": "stream",
     "text": [
      " * sqlite:///TMDB.db\n",
      "Done.\n"
     ]
    },
    {
     "data": {
      "text/html": [
       "<table>\n",
       "    <tr>\n",
       "        <th>movie_id</th>\n",
       "        <th>title</th>\n",
       "        <th>release_date</th>\n",
       "        <th>budget</th>\n",
       "        <th>homepage</th>\n",
       "        <th>original_language</th>\n",
       "        <th>original_title</th>\n",
       "        <th>overview</th>\n",
       "        <th>popularity</th>\n",
       "        <th>revenue</th>\n",
       "        <th>runtime</th>\n",
       "        <th>release_status</th>\n",
       "        <th>tagline</th>\n",
       "        <th>vote_average</th>\n",
       "        <th>vote_count</th>\n",
       "    </tr>\n",
       "    <tr>\n",
       "        <td>39845</td>\n",
       "        <td>Love Ranch</td>\n",
       "        <td>2010-06-30 00:00:00.000000</td>\n",
       "        <td>0</td>\n",
       "        <td>None</td>\n",
       "        <td>en</td>\n",
       "        <td>Love Ranch</td>\n",
       "        <td>Story of a couple that starts the first legal brothel in Nevada and a boxer they own a piece of.</td>\n",
       "        <td>5.000126</td>\n",
       "        <td>0.0</td>\n",
       "        <td>117.0</td>\n",
       "        <td>Released</td>\n",
       "        <td>When It Comes To Love... Everyone Pays A Price.</td>\n",
       "        <td>6.0</td>\n",
       "        <td>21</td>\n",
       "    </tr>\n",
       "    <tr>\n",
       "        <td>43347</td>\n",
       "        <td>Love &amp; Other Drugs</td>\n",
       "        <td>2010-11-22 00:00:00.000000</td>\n",
       "        <td>30000000</td>\n",
       "        <td>http://www.loveandotherdrugsthemovie.com/</td>\n",
       "        <td>en</td>\n",
       "        <td>Love &amp; Other Drugs</td>\n",
       "        <td>Maggie, an alluring free spirit who won&#x27;t let anyone - or anything - tie her down. But she meets her match in Jamie, whose relentless and nearly infallible charm serve him well with the ladies and in the cutthroat world of pharmaceutical sales. Maggie and Jamie&#x27;s evolving relationship takes them both by surprise, as they find themselves under the influence of the ultimate drug: love.</td>\n",
       "        <td>20.236951</td>\n",
       "        <td>102820008.0</td>\n",
       "        <td>112.0</td>\n",
       "        <td>Released</td>\n",
       "        <td>Addicted to one-night stands or dependent on one another?</td>\n",
       "        <td>6.6</td>\n",
       "        <td>1233</td>\n",
       "    </tr>\n",
       "    <tr>\n",
       "        <td>189711</td>\n",
       "        <td>Love in the Time of Monsters</td>\n",
       "        <td>2014-03-08 00:00:00.000000</td>\n",
       "        <td>0</td>\n",
       "        <td>None</td>\n",
       "        <td>en</td>\n",
       "        <td>Love in the Time of Monsters</td>\n",
       "        <td>Two sisters travel to a cheesy tourist trap where they battle toxic monsters dressed in bigfoot costumes in order to save the ones they love.</td>\n",
       "        <td>0.133619</td>\n",
       "        <td>0.0</td>\n",
       "        <td>0.0</td>\n",
       "        <td>Released</td>\n",
       "        <td>None</td>\n",
       "        <td>5.0</td>\n",
       "        <td>2</td>\n",
       "    </tr>\n",
       "    <tr>\n",
       "        <td>333348</td>\n",
       "        <td>Love the Coopers</td>\n",
       "        <td>2015-11-12 00:00:00.000000</td>\n",
       "        <td>17000000</td>\n",
       "        <td>http://www.cbsfilms.com/love-the-coopers/</td>\n",
       "        <td>en</td>\n",
       "        <td>Love the Coopers</td>\n",
       "        <td>When four generations of the Cooper clan come together for their annual Christmas Eve celebration, a series of unexpected visitors and unlikely events turn the night upside down, leading them all toward a surprising rediscovery of family bonds and the spirit of the holiday.</td>\n",
       "        <td>9.191187</td>\n",
       "        <td>24000000.0</td>\n",
       "        <td>107.0</td>\n",
       "        <td>Released</td>\n",
       "        <td>Christmas means comfort, joy and chaos.</td>\n",
       "        <td>5.4</td>\n",
       "        <td>167</td>\n",
       "    </tr>\n",
       "</table>"
      ],
      "text/plain": [
       "[(39845, 'Love Ranch', '2010-06-30 00:00:00.000000', 0, None, 'en', 'Love Ranch', 'Story of a couple that starts the first legal brothel in Nevada and a boxer they own a piece of.', 5.000126, 0.0, 117.0, 'Released', 'When It Comes To Love... Everyone Pays A Price.', 6.0, 21),\n",
       " (43347, 'Love & Other Drugs', '2010-11-22 00:00:00.000000', 30000000, 'http://www.loveandotherdrugsthemovie.com/', 'en', 'Love & Other Drugs', \"Maggie, an alluring free spirit who won't let anyone - or anything - tie her down. But she meets her match in Jamie, whose relentless and nearly infa ... (88 characters truncated) ...  sales. Maggie and Jamie's evolving relationship takes them both by surprise, as they find themselves under the influence of the ultimate drug: love.\", 20.236951, 102820008.0, 112.0, 'Released', 'Addicted to one-night stands or dependent on one another?', 6.6, 1233),\n",
       " (189711, 'Love in the Time of Monsters', '2014-03-08 00:00:00.000000', 0, None, 'en', 'Love in the Time of Monsters', 'Two sisters travel to a cheesy tourist trap where they battle toxic monsters dressed in bigfoot costumes in order to save the ones they love.', 0.133619, 0.0, 0.0, 'Released', None, 5.0, 2),\n",
       " (333348, 'Love the Coopers', '2015-11-12 00:00:00.000000', 17000000, 'http://www.cbsfilms.com/love-the-coopers/', 'en', 'Love the Coopers', 'When four generations of the Cooper clan come together for their annual Christmas Eve celebration, a series of unexpected visitors and unlikely events turn the night upside down, leading them all toward a surprising rediscovery of family bonds and the spirit of the holiday.', 9.191187, 24000000.0, 107.0, 'Released', 'Christmas means comfort, joy and chaos.', 5.4, 167)]"
      ]
     },
     "execution_count": 35,
     "metadata": {},
     "output_type": "execute_result"
    }
   ],
   "source": [
    "%%sql \n",
    "SELECT * FROM Movies\n",
    "WHERE release_date BETWEEN  '2010-01-01' AND '2016-01-01'\n",
    "AND title LIKE 'love%' OR 'Love%'\n",
    "AND original_language !=  'en'\n",
    "AND budget > 10000000;"
   ]
  },
  {
   "cell_type": "code",
   "execution_count": null,
   "metadata": {},
   "outputs": [],
   "source": []
  }
 ],
 "metadata": {
  "kernelspec": {
   "display_name": "Python 3 (ipykernel)",
   "language": "python",
   "name": "python3"
  },
  "language_info": {
   "codemirror_mode": {
    "name": "ipython",
    "version": 3
   },
   "file_extension": ".py",
   "mimetype": "text/x-python",
   "name": "python",
   "nbconvert_exporter": "python",
   "pygments_lexer": "ipython3",
   "version": "3.8.10"
  }
 },
 "nbformat": 4,
 "nbformat_minor": 2
}
