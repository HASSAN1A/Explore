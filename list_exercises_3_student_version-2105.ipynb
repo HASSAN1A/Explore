{
 "cells": [
  {
   "cell_type": "markdown",
   "metadata": {},
   "source": [
    "# List Exercises 3\n",
    "\n",
    "## Instructions to Students\n",
    "- **Do not add or remove cells in this notebook. Do not edit or remove the `### START FUNCTION` or `### END FUNCTION` comments. Do not add any code outside of the functions you are required to edit. Doing any of this will lead to a mark of 0%!**\n",
    "- Answer the questions according to the specifications provided.\n",
    "- Use the given cell in each question to to see if your function matches the expected outputs.\n",
    "- Do not hard-code answers to the questions.\n",
    "- The use of stackoverflow, google, and other online tools are permitted. However, copying fellow student's code is not permissible and is considered a breach of the Honour code below. Doing this will result in a mark of 0%.\n",
    "- Good luck, and may the force be with you!\n",
    "\n",
    "## Honour Code\n",
    "\n",
    "I **HASSAN, JUMA**, confirm - by submitting this document - that the solutions in this notebook are a result of my own work and that I abide by the   <a href=\"https://drive.google.com/open?id=1FXCIf425JLRx3JQi-ltSWppj8BCF3Np1\" target=\"_blank\">EDSA Student Manifesto</a>.\n",
    "\n",
    "Non-compliance with the honour code constitutes a material breach of contract.\n",
    "\n",
    "## Challenge\n",
    "\n",
    "**Finding the Sum of a Symmetrical Sub-List**\n",
    "\n",
    "**Task:** Create a function called symmetrical_sum which takes a Python list of integers as input and searches for a 'symmetrical' inner-portion of the list. Here symmetry is said to occur if the value of the  ith  element from the start of the list is equal to the value of the  ith  value from the end of the list. The inner-portion then consists of all elements between and including these equal values. If found, the function returns both the symmetrical part of the list, as well as the sum of its constituent elements as a tuple.\n",
    "\n",
    "Function arguments: lst - a Python list containing elements of type int. Note: len(lst)  ≥0 \n",
    "Returns: A Python tuple of the form ([symmetrical-portion], sum-of-symmetrical-portion)\n",
    "\n",
    "**Example:** symmetrical_sum([10,8,7,5,9,8,15]) == ([8, 7, 5, 9, 8], 37). Here a symmetrical portion of the list is formed by the elements at the second and second-last index, which share a value of 8. The function returns this symmetrical portion, as well as its sum of 37 within a a single tuple."
   ]
  },
  {
   "cell_type": "code",
   "execution_count": 38,
   "metadata": {},
   "outputs": [],
   "source": [
    "### START FUNCTION\n",
    "def symmetrical_sum(a):\n",
    "    #extract duplicate value at any point of the iteration to the last iteration\n",
    "    lista= [x for y, x in enumerate(a) if x in a[:y]] \n",
    "\n",
    "    #if no duplicate values found, do the following:\n",
    "    if lista == []:\n",
    "        \n",
    "        \n",
    "        middle = float(len(a))/2\n",
    "        \n",
    "        if middle % 2 != 0:\n",
    "            sym = a[int(middle - .5):int(middle + .5)]\n",
    "            ans = a[int(middle - .5)]\n",
    "            tup = (sym,ans)\n",
    "        elif middle % 2 == 0:\n",
    "            sym = a[int(middle - 1):int(middle + 1)]\n",
    "            ans = sum(a[int(middle - 1):int(middle + 1)])//2\n",
    "            tup = (sym,ans)\n",
    "        return tup\n",
    "    else:\n",
    "        ints = int(\"\".join(map(str, lista))) #duplicate value to integers\n",
    "        dup1 = a.index(ints) #get index of first duplicate\n",
    "        dup2 = a.index(ints, dup1+1) #get index of second duplicate\n",
    "        sym = a[dup1:dup2+1] #get symmetrical-portion\n",
    "        total = sum(sym) #get the sum of symmetrical-portion\n",
    "        tup1 = (sym, total)\n",
    "\n",
    "    return tup1\n",
    "    \n",
    "\n",
    "\n",
    "### END FUNCTION"
   ]
  },
  {
   "cell_type": "code",
   "execution_count": 40,
   "metadata": {},
   "outputs": [
    {
     "ename": "ValueError",
     "evalue": "1112 is not in list",
     "output_type": "error",
     "traceback": [
      "\u001b[0;31m---------------------------------------------------------------------------\u001b[0m",
      "\u001b[0;31mValueError\u001b[0m                                Traceback (most recent call last)",
      "\u001b[0;32m/tmp/ipykernel_337350/3090786704.py\u001b[0m in \u001b[0;36m<module>\u001b[0;34m\u001b[0m\n\u001b[0;32m----> 1\u001b[0;31m \u001b[0msymmetrical_sum\u001b[0m\u001b[0;34m(\u001b[0m\u001b[0;34m[\u001b[0m\u001b[0;36m10\u001b[0m\u001b[0;34m,\u001b[0m\u001b[0;36m11\u001b[0m\u001b[0;34m,\u001b[0m\u001b[0;36m12\u001b[0m\u001b[0;34m,\u001b[0m\u001b[0;36m11\u001b[0m\u001b[0;34m,\u001b[0m\u001b[0;36m12\u001b[0m\u001b[0;34m]\u001b[0m\u001b[0;34m)\u001b[0m\u001b[0;34m\u001b[0m\u001b[0;34m\u001b[0m\u001b[0m\n\u001b[0m",
      "\u001b[0;32m/tmp/ipykernel_337350/1441579168.py\u001b[0m in \u001b[0;36msymmetrical_sum\u001b[0;34m(a)\u001b[0m\n\u001b[1;32m     21\u001b[0m     \u001b[0;32melse\u001b[0m\u001b[0;34m:\u001b[0m\u001b[0;34m\u001b[0m\u001b[0;34m\u001b[0m\u001b[0m\n\u001b[1;32m     22\u001b[0m         \u001b[0mints\u001b[0m \u001b[0;34m=\u001b[0m \u001b[0mint\u001b[0m\u001b[0;34m(\u001b[0m\u001b[0;34m\"\"\u001b[0m\u001b[0;34m.\u001b[0m\u001b[0mjoin\u001b[0m\u001b[0;34m(\u001b[0m\u001b[0mmap\u001b[0m\u001b[0;34m(\u001b[0m\u001b[0mstr\u001b[0m\u001b[0;34m,\u001b[0m \u001b[0mlista\u001b[0m\u001b[0;34m)\u001b[0m\u001b[0;34m)\u001b[0m\u001b[0;34m)\u001b[0m \u001b[0;31m#duplicate value to integers\u001b[0m\u001b[0;34m\u001b[0m\u001b[0;34m\u001b[0m\u001b[0m\n\u001b[0;32m---> 23\u001b[0;31m         \u001b[0mdup1\u001b[0m \u001b[0;34m=\u001b[0m \u001b[0ma\u001b[0m\u001b[0;34m.\u001b[0m\u001b[0mindex\u001b[0m\u001b[0;34m(\u001b[0m\u001b[0mints\u001b[0m\u001b[0;34m)\u001b[0m \u001b[0;31m#get index of first duplicate\u001b[0m\u001b[0;34m\u001b[0m\u001b[0;34m\u001b[0m\u001b[0m\n\u001b[0m\u001b[1;32m     24\u001b[0m         \u001b[0mdup2\u001b[0m \u001b[0;34m=\u001b[0m \u001b[0ma\u001b[0m\u001b[0;34m.\u001b[0m\u001b[0mindex\u001b[0m\u001b[0;34m(\u001b[0m\u001b[0mints\u001b[0m\u001b[0;34m,\u001b[0m \u001b[0mdup1\u001b[0m\u001b[0;34m+\u001b[0m\u001b[0;36m1\u001b[0m\u001b[0;34m)\u001b[0m \u001b[0;31m#get index of second duplicate\u001b[0m\u001b[0;34m\u001b[0m\u001b[0;34m\u001b[0m\u001b[0m\n\u001b[1;32m     25\u001b[0m         \u001b[0msym\u001b[0m \u001b[0;34m=\u001b[0m \u001b[0ma\u001b[0m\u001b[0;34m[\u001b[0m\u001b[0mdup1\u001b[0m\u001b[0;34m:\u001b[0m\u001b[0mdup2\u001b[0m\u001b[0;34m+\u001b[0m\u001b[0;36m1\u001b[0m\u001b[0;34m]\u001b[0m \u001b[0;31m#get symmetrical-portion\u001b[0m\u001b[0;34m\u001b[0m\u001b[0;34m\u001b[0m\u001b[0m\n",
      "\u001b[0;31mValueError\u001b[0m: 1112 is not in list"
     ]
    }
   ],
   "source": [
    "symmetrical_sum([10,11,12,11,12])"
   ]
  },
  {
   "cell_type": "markdown",
   "metadata": {},
   "source": [
    "_**Expected Output**_ \n",
    "``` python\n",
    "symmetrical_sum([19,13,22,41,5,18,22,15,46]) == ([22, 41, 5, 18, 22], 108) \n",
    "symmetrical_sum([1,2,3,4,5,6,7,8,9]) == ([5], 5)\n",
    "symmetrical_sum([10,11,12,11,12]) == ([11, 12, 11], 34)\n",
    "symmetrical_sum([9,99,88,8,77,7,77,8,88,10,100]) == ([88, 8, 77, 7, 77, 8, 88], 353)\n",
    "```"
   ]
  },
  {
   "cell_type": "markdown",
   "metadata": {},
   "source": [
    "## References\n",
    "\n",
    "Parts of this tutorial was created using the wonderful [Google Python Developers](https://developers.google.com/edu/python/) course, and has been modified under the [Creative Common's licence 2.5](https://creativecommons.org/licenses/by/2.5/) \n",
    "\n",
    "Copyright 2010 Google Inc.\n",
    "Licensed under the Apache License, Version 2.0\n",
    "http://www.apache.org/licenses/LICENSE-2.0\n",
    "\n",
    "Google's Python Class\n",
    "http://code.google.com/edu/languages/google-python-class/"
   ]
  }
 ],
 "metadata": {
  "kernelspec": {
   "display_name": "Python 3 (ipykernel)",
   "language": "python",
   "name": "python3"
  },
  "language_info": {
   "codemirror_mode": {
    "name": "ipython",
    "version": 3
   },
   "file_extension": ".py",
   "mimetype": "text/x-python",
   "name": "python",
   "nbconvert_exporter": "python",
   "pygments_lexer": "ipython3",
   "version": "3.8.10"
  }
 },
 "nbformat": 4,
 "nbformat_minor": 2
}
